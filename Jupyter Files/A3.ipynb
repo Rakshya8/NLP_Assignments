{
  "cells": [
    {
      "cell_type": "markdown",
      "metadata": {
        "id": "2eb6cjlCbaRj"
      },
      "source": [
        "# Machine Translation + Transformer"
      ]
    },
    {
      "cell_type": "code",
      "execution_count": 1,
      "metadata": {
        "colab": {
          "base_uri": "https://localhost:8080/"
        },
        "id": "Ngx6qaZbbaRk",
        "outputId": "8f4dc015-eef3-418e-ebc6-0d39c651c179"
      },
      "outputs": [
        {
          "name": "stdout",
          "output_type": "stream",
          "text": [
            "Collecting datasets\n",
            "  Using cached datasets-2.16.1-py3-none-any.whl.metadata (20 kB)\n",
            "Collecting filelock (from datasets)\n",
            "  Using cached filelock-3.13.1-py3-none-any.whl.metadata (2.8 kB)\n",
            "Requirement already satisfied: numpy>=1.17 in c:\\users\\legion\\appdata\\local\\packages\\pythonsoftwarefoundation.python.3.11_qbz5n2kfra8p0\\localcache\\local-packages\\python311\\site-packages (from datasets) (1.26.4)\n",
            "Collecting pyarrow>=8.0.0 (from datasets)\n",
            "  Downloading pyarrow-15.0.0-cp311-cp311-win_amd64.whl.metadata (3.1 kB)\n",
            "Collecting pyarrow-hotfix (from datasets)\n",
            "  Using cached pyarrow_hotfix-0.6-py3-none-any.whl.metadata (3.6 kB)\n",
            "Collecting dill<0.3.8,>=0.3.0 (from datasets)\n",
            "  Using cached dill-0.3.7-py3-none-any.whl.metadata (9.9 kB)\n",
            "Collecting pandas (from datasets)\n",
            "  Downloading pandas-2.2.0-cp311-cp311-win_amd64.whl.metadata (19 kB)\n",
            "Collecting requests>=2.19.0 (from datasets)\n",
            "  Using cached requests-2.31.0-py3-none-any.whl.metadata (4.6 kB)\n",
            "Collecting tqdm>=4.62.1 (from datasets)\n",
            "  Using cached tqdm-4.66.1-py3-none-any.whl.metadata (57 kB)\n",
            "Collecting xxhash (from datasets)\n",
            "  Using cached xxhash-3.4.1-cp311-cp311-win_amd64.whl.metadata (12 kB)\n",
            "Collecting multiprocess (from datasets)\n",
            "  Downloading multiprocess-0.70.16-py311-none-any.whl.metadata (7.2 kB)\n",
            "Collecting fsspec<=2023.10.0,>=2023.1.0 (from fsspec[http]<=2023.10.0,>=2023.1.0->datasets)\n",
            "  Using cached fsspec-2023.10.0-py3-none-any.whl.metadata (6.8 kB)\n",
            "Collecting aiohttp (from datasets)\n",
            "  Downloading aiohttp-3.9.3-cp311-cp311-win_amd64.whl.metadata (7.6 kB)\n",
            "Collecting huggingface-hub>=0.19.4 (from datasets)\n",
            "  Using cached huggingface_hub-0.20.3-py3-none-any.whl.metadata (12 kB)\n",
            "Requirement already satisfied: packaging in c:\\users\\legion\\appdata\\local\\packages\\pythonsoftwarefoundation.python.3.11_qbz5n2kfra8p0\\localcache\\local-packages\\python311\\site-packages (from datasets) (23.2)\n",
            "Collecting pyyaml>=5.1 (from datasets)\n",
            "  Downloading PyYAML-6.0.1-cp311-cp311-win_amd64.whl.metadata (2.1 kB)\n",
            "Collecting aiosignal>=1.1.2 (from aiohttp->datasets)\n",
            "  Using cached aiosignal-1.3.1-py3-none-any.whl (7.6 kB)\n",
            "Collecting attrs>=17.3.0 (from aiohttp->datasets)\n",
            "  Using cached attrs-23.2.0-py3-none-any.whl.metadata (9.5 kB)\n",
            "Collecting frozenlist>=1.1.1 (from aiohttp->datasets)\n",
            "  Downloading frozenlist-1.4.1-cp311-cp311-win_amd64.whl.metadata (12 kB)\n",
            "Collecting multidict<7.0,>=4.5 (from aiohttp->datasets)\n",
            "  Downloading multidict-6.0.5-cp311-cp311-win_amd64.whl.metadata (4.3 kB)\n",
            "Collecting yarl<2.0,>=1.0 (from aiohttp->datasets)\n",
            "  Using cached yarl-1.9.4-cp311-cp311-win_amd64.whl.metadata (32 kB)\n",
            "Collecting typing-extensions>=3.7.4.3 (from huggingface-hub>=0.19.4->datasets)\n",
            "  Using cached typing_extensions-4.9.0-py3-none-any.whl.metadata (3.0 kB)\n",
            "Collecting charset-normalizer<4,>=2 (from requests>=2.19.0->datasets)\n",
            "  Using cached charset_normalizer-3.3.2-cp311-cp311-win_amd64.whl.metadata (34 kB)\n",
            "Collecting idna<4,>=2.5 (from requests>=2.19.0->datasets)\n",
            "  Using cached idna-3.6-py3-none-any.whl.metadata (9.9 kB)\n",
            "Collecting urllib3<3,>=1.21.1 (from requests>=2.19.0->datasets)\n",
            "  Using cached urllib3-2.2.0-py3-none-any.whl.metadata (6.4 kB)\n",
            "Collecting certifi>=2017.4.17 (from requests>=2.19.0->datasets)\n",
            "  Using cached certifi-2024.2.2-py3-none-any.whl.metadata (2.2 kB)\n",
            "Requirement already satisfied: colorama in c:\\users\\legion\\appdata\\local\\packages\\pythonsoftwarefoundation.python.3.11_qbz5n2kfra8p0\\localcache\\local-packages\\python311\\site-packages (from tqdm>=4.62.1->datasets) (0.4.6)\n",
            "INFO: pip is looking at multiple versions of multiprocess to determine which version is compatible with other requirements. This could take a while.\n",
            "Collecting multiprocess (from datasets)\n",
            "  Using cached multiprocess-0.70.15-py311-none-any.whl.metadata (7.2 kB)\n",
            "Requirement already satisfied: python-dateutil>=2.8.2 in c:\\users\\legion\\appdata\\local\\packages\\pythonsoftwarefoundation.python.3.11_qbz5n2kfra8p0\\localcache\\local-packages\\python311\\site-packages (from pandas->datasets) (2.8.2)\n",
            "Collecting pytz>=2020.1 (from pandas->datasets)\n",
            "  Using cached pytz-2024.1-py2.py3-none-any.whl.metadata (22 kB)\n",
            "Collecting tzdata>=2022.7 (from pandas->datasets)\n",
            "  Using cached tzdata-2023.4-py2.py3-none-any.whl.metadata (1.4 kB)\n",
            "Requirement already satisfied: six>=1.5 in c:\\users\\legion\\appdata\\local\\packages\\pythonsoftwarefoundation.python.3.11_qbz5n2kfra8p0\\localcache\\local-packages\\python311\\site-packages (from python-dateutil>=2.8.2->pandas->datasets) (1.16.0)\n",
            "Using cached datasets-2.16.1-py3-none-any.whl (507 kB)\n",
            "Using cached dill-0.3.7-py3-none-any.whl (115 kB)\n",
            "Using cached fsspec-2023.10.0-py3-none-any.whl (166 kB)\n",
            "Downloading aiohttp-3.9.3-cp311-cp311-win_amd64.whl (365 kB)\n",
            "   ---------------------------------------- 0.0/365.3 kB ? eta -:--:--\n",
            "   --- ----------------------------------- 30.7/365.3 kB 660.6 kB/s eta 0:00:01\n",
            "   -------- ------------------------------ 81.9/365.3 kB 762.6 kB/s eta 0:00:01\n",
            "   ---------- --------------------------- 102.4/365.3 kB 845.5 kB/s eta 0:00:01\n",
            "   ----------------- -------------------- 163.8/365.3 kB 893.0 kB/s eta 0:00:01\n",
            "   -------------------- ----------------- 194.6/365.3 kB 787.7 kB/s eta 0:00:01\n",
            "   ------------------------- ------------ 245.8/365.3 kB 885.4 kB/s eta 0:00:01\n",
            "   ---------------------------- --------- 276.5/365.3 kB 850.6 kB/s eta 0:00:01\n",
            "   ---------------------------------- --- 327.7/365.3 kB 884.2 kB/s eta 0:00:01\n",
            "   -------------------------------------- 365.3/365.3 kB 874.6 kB/s eta 0:00:00\n",
            "Using cached huggingface_hub-0.20.3-py3-none-any.whl (330 kB)\n",
            "Downloading pyarrow-15.0.0-cp311-cp311-win_amd64.whl (24.8 MB)\n",
            "   ---------------------------------------- 0.0/24.8 MB ? eta -:--:--\n",
            "   ---------------------------------------- 0.0/24.8 MB 2.0 MB/s eta 0:00:13\n",
            "   ---------------------------------------- 0.1/24.8 MB 1.3 MB/s eta 0:00:19\n",
            "   ---------------------------------------- 0.1/24.8 MB 1.2 MB/s eta 0:00:21\n",
            "   ---------------------------------------- 0.2/24.8 MB 1.1 MB/s eta 0:00:24\n",
            "   ---------------------------------------- 0.2/24.8 MB 1.1 MB/s eta 0:00:22\n",
            "   ---------------------------------------- 0.3/24.8 MB 1.1 MB/s eta 0:00:23\n",
            "    --------------------------------------- 0.4/24.8 MB 1.2 MB/s eta 0:00:21\n",
            "    --------------------------------------- 0.4/24.8 MB 1.2 MB/s eta 0:00:21\n",
            "    --------------------------------------- 0.5/24.8 MB 1.3 MB/s eta 0:00:20\n",
            "    --------------------------------------- 0.5/24.8 MB 1.2 MB/s eta 0:00:20\n",
            "    --------------------------------------- 0.6/24.8 MB 1.3 MB/s eta 0:00:19\n",
            "   - -------------------------------------- 0.7/24.8 MB 1.3 MB/s eta 0:00:20\n",
            "   - -------------------------------------- 0.8/24.8 MB 1.3 MB/s eta 0:00:19\n",
            "   - -------------------------------------- 0.8/24.8 MB 1.4 MB/s eta 0:00:18\n",
            "   - -------------------------------------- 0.9/24.8 MB 1.4 MB/s eta 0:00:18\n",
            "   - -------------------------------------- 1.0/24.8 MB 1.4 MB/s eta 0:00:17\n",
            "   - -------------------------------------- 1.1/24.8 MB 1.4 MB/s eta 0:00:17\n",
            "   - -------------------------------------- 1.2/24.8 MB 1.5 MB/s eta 0:00:16\n",
            "   -- ------------------------------------- 1.3/24.8 MB 1.5 MB/s eta 0:00:16\n",
            "   -- ------------------------------------- 1.4/24.8 MB 1.5 MB/s eta 0:00:16\n",
            "   -- ------------------------------------- 1.6/24.8 MB 1.6 MB/s eta 0:00:15\n",
            "   -- ------------------------------------- 1.6/24.8 MB 1.6 MB/s eta 0:00:15\n",
            "   -- ------------------------------------- 1.7/24.8 MB 1.6 MB/s eta 0:00:15\n",
            "   -- ------------------------------------- 1.8/24.8 MB 1.7 MB/s eta 0:00:14\n",
            "   --- ------------------------------------ 1.9/24.8 MB 1.7 MB/s eta 0:00:14\n",
            "   --- ------------------------------------ 2.0/24.8 MB 1.7 MB/s eta 0:00:14\n",
            "   --- ------------------------------------ 2.2/24.8 MB 1.8 MB/s eta 0:00:13\n",
            "   --- ------------------------------------ 2.2/24.8 MB 1.8 MB/s eta 0:00:13\n",
            "   --- ------------------------------------ 2.3/24.8 MB 1.8 MB/s eta 0:00:13\n",
            "   --- ------------------------------------ 2.4/24.8 MB 1.8 MB/s eta 0:00:13\n",
            "   ---- ----------------------------------- 2.6/24.8 MB 1.8 MB/s eta 0:00:13\n",
            "   ---- ----------------------------------- 2.7/24.8 MB 1.8 MB/s eta 0:00:12\n",
            "   ---- ----------------------------------- 2.8/24.8 MB 1.9 MB/s eta 0:00:12\n",
            "   ---- ----------------------------------- 2.9/24.8 MB 1.9 MB/s eta 0:00:12\n",
            "   ----- ---------------------------------- 3.1/24.8 MB 1.9 MB/s eta 0:00:12\n",
            "   ----- ---------------------------------- 3.3/24.8 MB 2.0 MB/s eta 0:00:11\n",
            "   ----- ---------------------------------- 3.4/24.8 MB 2.0 MB/s eta 0:00:11\n",
            "   ----- ---------------------------------- 3.6/24.8 MB 2.1 MB/s eta 0:00:11\n",
            "   ----- ---------------------------------- 3.6/24.8 MB 2.1 MB/s eta 0:00:11\n",
            "   ----- ---------------------------------- 3.7/24.8 MB 2.0 MB/s eta 0:00:11\n",
            "   ------ --------------------------------- 3.9/24.8 MB 2.0 MB/s eta 0:00:11\n",
            "   ------ --------------------------------- 4.0/24.8 MB 2.1 MB/s eta 0:00:11\n",
            "   ------ --------------------------------- 4.2/24.8 MB 2.1 MB/s eta 0:00:10\n",
            "   ------ --------------------------------- 4.3/24.8 MB 2.1 MB/s eta 0:00:10\n",
            "   ------- -------------------------------- 4.4/24.8 MB 2.1 MB/s eta 0:00:10\n",
            "   ------- -------------------------------- 4.6/24.8 MB 2.1 MB/s eta 0:00:10\n",
            "   ------- -------------------------------- 4.7/24.8 MB 2.1 MB/s eta 0:00:10\n",
            "   ------- -------------------------------- 4.8/24.8 MB 2.1 MB/s eta 0:00:10\n",
            "   -------- ------------------------------- 5.0/24.8 MB 2.2 MB/s eta 0:00:10\n",
            "   -------- ------------------------------- 5.1/24.8 MB 2.2 MB/s eta 0:00:09\n",
            "   -------- ------------------------------- 5.2/24.8 MB 2.2 MB/s eta 0:00:09\n",
            "   -------- ------------------------------- 5.4/24.8 MB 2.2 MB/s eta 0:00:09\n",
            "   --------- ------------------------------ 5.6/24.8 MB 2.3 MB/s eta 0:00:09\n",
            "   --------- ------------------------------ 5.7/24.8 MB 2.3 MB/s eta 0:00:09\n",
            "   --------- ------------------------------ 5.9/24.8 MB 2.3 MB/s eta 0:00:09\n",
            "   --------- ------------------------------ 6.1/24.8 MB 2.3 MB/s eta 0:00:08\n",
            "   ---------- ----------------------------- 6.3/24.8 MB 2.4 MB/s eta 0:00:08\n",
            "   ---------- ----------------------------- 6.5/24.8 MB 2.4 MB/s eta 0:00:08\n",
            "   ---------- ----------------------------- 6.7/24.8 MB 2.4 MB/s eta 0:00:08\n",
            "   ----------- ---------------------------- 6.8/24.8 MB 2.4 MB/s eta 0:00:08\n",
            "   ----------- ---------------------------- 7.1/24.8 MB 2.5 MB/s eta 0:00:08\n",
            "   ----------- ---------------------------- 7.3/24.8 MB 2.5 MB/s eta 0:00:07\n",
            "   ------------ --------------------------- 7.6/24.8 MB 2.6 MB/s eta 0:00:07\n",
            "   ------------ --------------------------- 7.9/24.8 MB 2.6 MB/s eta 0:00:07\n",
            "   ------------- -------------------------- 8.2/24.8 MB 2.7 MB/s eta 0:00:07\n",
            "   ------------- -------------------------- 8.4/24.8 MB 2.7 MB/s eta 0:00:07\n",
            "   ------------- -------------------------- 8.7/24.8 MB 2.8 MB/s eta 0:00:06\n",
            "   -------------- ------------------------- 9.0/24.8 MB 2.8 MB/s eta 0:00:06\n",
            "   -------------- ------------------------- 9.2/24.8 MB 2.9 MB/s eta 0:00:06\n",
            "   --------------- ------------------------ 9.5/24.8 MB 2.9 MB/s eta 0:00:06\n",
            "   --------------- ------------------------ 9.8/24.8 MB 3.0 MB/s eta 0:00:06\n",
            "   ---------------- ----------------------- 10.1/24.8 MB 3.0 MB/s eta 0:00:05\n",
            "   ---------------- ----------------------- 10.4/24.8 MB 3.2 MB/s eta 0:00:05\n",
            "   ----------------- ---------------------- 10.8/24.8 MB 3.4 MB/s eta 0:00:05\n",
            "   ----------------- ---------------------- 11.1/24.8 MB 3.6 MB/s eta 0:00:04\n",
            "   ------------------ --------------------- 11.5/24.8 MB 3.7 MB/s eta 0:00:04\n",
            "   ------------------- -------------------- 12.0/24.8 MB 4.0 MB/s eta 0:00:04\n",
            "   ------------------- -------------------- 12.2/24.8 MB 4.1 MB/s eta 0:00:04\n",
            "   -------------------- ------------------- 12.6/24.8 MB 4.3 MB/s eta 0:00:03\n",
            "   -------------------- ------------------- 13.0/24.8 MB 4.5 MB/s eta 0:00:03\n",
            "   --------------------- ------------------ 13.4/24.8 MB 4.7 MB/s eta 0:00:03\n",
            "   ---------------------- ----------------- 13.7/24.8 MB 4.9 MB/s eta 0:00:03\n",
            "   ---------------------- ----------------- 14.2/24.8 MB 5.3 MB/s eta 0:00:03\n",
            "   ----------------------- ---------------- 14.6/24.8 MB 5.5 MB/s eta 0:00:02\n",
            "   ----------------------- ---------------- 14.8/24.8 MB 5.5 MB/s eta 0:00:02\n",
            "   ------------------------ --------------- 15.2/24.8 MB 5.8 MB/s eta 0:00:02\n",
            "   ------------------------- -------------- 15.5/24.8 MB 6.0 MB/s eta 0:00:02\n",
            "   ------------------------- -------------- 15.9/24.8 MB 6.3 MB/s eta 0:00:02\n",
            "   -------------------------- ------------- 16.2/24.8 MB 6.4 MB/s eta 0:00:02\n",
            "   -------------------------- ------------- 16.6/24.8 MB 6.7 MB/s eta 0:00:02\n",
            "   --------------------------- ------------ 16.9/24.8 MB 6.8 MB/s eta 0:00:02\n",
            "   --------------------------- ------------ 17.3/24.8 MB 6.9 MB/s eta 0:00:02\n",
            "   ---------------------------- ----------- 17.6/24.8 MB 7.0 MB/s eta 0:00:02\n",
            "   ----------------------------- ---------- 18.1/24.8 MB 7.0 MB/s eta 0:00:01\n",
            "   ----------------------------- ---------- 18.4/24.8 MB 7.2 MB/s eta 0:00:01\n",
            "   ------------------------------ --------- 18.8/24.8 MB 7.4 MB/s eta 0:00:01\n",
            "   ------------------------------ --------- 19.1/24.8 MB 7.4 MB/s eta 0:00:01\n",
            "   ------------------------------- -------- 19.6/24.8 MB 7.5 MB/s eta 0:00:01\n",
            "   -------------------------------- ------- 19.9/24.8 MB 7.6 MB/s eta 0:00:01\n",
            "   -------------------------------- ------- 20.3/24.8 MB 7.6 MB/s eta 0:00:01\n",
            "   --------------------------------- ------ 20.7/24.8 MB 7.8 MB/s eta 0:00:01\n",
            "   ---------------------------------- ----- 21.1/24.8 MB 7.7 MB/s eta 0:00:01\n",
            "   ---------------------------------- ----- 21.5/24.8 MB 7.7 MB/s eta 0:00:01\n",
            "   ----------------------------------- ---- 21.9/24.8 MB 7.8 MB/s eta 0:00:01\n",
            "   ------------------------------------ --- 22.3/24.8 MB 7.9 MB/s eta 0:00:01\n",
            "   ------------------------------------ --- 22.7/24.8 MB 7.9 MB/s eta 0:00:01\n",
            "   ------------------------------------- -- 23.2/24.8 MB 8.0 MB/s eta 0:00:01\n",
            "   -------------------------------------- - 23.6/24.8 MB 8.0 MB/s eta 0:00:01\n",
            "   -------------------------------------- - 24.1/24.8 MB 8.1 MB/s eta 0:00:01\n",
            "   ---------------------------------------  24.5/24.8 MB 8.2 MB/s eta 0:00:01\n",
            "   ---------------------------------------  24.8/24.8 MB 8.0 MB/s eta 0:00:01\n",
            "   ---------------------------------------  24.8/24.8 MB 8.0 MB/s eta 0:00:01\n",
            "   ---------------------------------------- 24.8/24.8 MB 7.7 MB/s eta 0:00:00\n",
            "Downloading PyYAML-6.0.1-cp311-cp311-win_amd64.whl (144 kB)\n",
            "   ---------------------------------------- 0.0/144.7 kB ? eta -:--:--\n",
            "   ---------------------------------------- 144.7/144.7 kB 4.3 MB/s eta 0:00:00\n",
            "Using cached requests-2.31.0-py3-none-any.whl (62 kB)\n",
            "Using cached tqdm-4.66.1-py3-none-any.whl (78 kB)\n",
            "Using cached filelock-3.13.1-py3-none-any.whl (11 kB)\n",
            "Using cached multiprocess-0.70.15-py311-none-any.whl (135 kB)\n",
            "Downloading pandas-2.2.0-cp311-cp311-win_amd64.whl (11.6 MB)\n",
            "   ---------------------------------------- 0.0/11.6 MB ? eta -:--:--\n",
            "   - -------------------------------------- 0.4/11.6 MB 8.5 MB/s eta 0:00:02\n",
            "   -- ------------------------------------- 0.9/11.6 MB 9.0 MB/s eta 0:00:02\n",
            "   ---- ----------------------------------- 1.4/11.6 MB 9.5 MB/s eta 0:00:02\n",
            "   ------ --------------------------------- 1.8/11.6 MB 9.7 MB/s eta 0:00:01\n",
            "   ------- -------------------------------- 2.3/11.6 MB 9.5 MB/s eta 0:00:01\n",
            "   --------- ------------------------------ 2.8/11.6 MB 9.8 MB/s eta 0:00:01\n",
            "   ---------- ----------------------------- 3.2/11.6 MB 9.6 MB/s eta 0:00:01\n",
            "   ------------ --------------------------- 3.6/11.6 MB 9.6 MB/s eta 0:00:01\n",
            "   -------------- ------------------------- 4.1/11.6 MB 9.6 MB/s eta 0:00:01\n",
            "   --------------- ------------------------ 4.4/11.6 MB 9.3 MB/s eta 0:00:01\n",
            "   ---------------- ----------------------- 4.8/11.6 MB 9.6 MB/s eta 0:00:01\n",
            "   ------------------ --------------------- 5.2/11.6 MB 9.5 MB/s eta 0:00:01\n",
            "   ------------------- -------------------- 5.7/11.6 MB 9.6 MB/s eta 0:00:01\n",
            "   --------------------- ------------------ 6.2/11.6 MB 9.5 MB/s eta 0:00:01\n",
            "   ---------------------- ----------------- 6.7/11.6 MB 9.5 MB/s eta 0:00:01\n",
            "   ------------------------ --------------- 7.1/11.6 MB 9.5 MB/s eta 0:00:01\n",
            "   -------------------------- ------------- 7.7/11.6 MB 9.6 MB/s eta 0:00:01\n",
            "   --------------------------- ------------ 8.1/11.6 MB 9.6 MB/s eta 0:00:01\n",
            "   ----------------------------- ---------- 8.4/11.6 MB 9.6 MB/s eta 0:00:01\n",
            "   ------------------------------ --------- 9.0/11.6 MB 9.7 MB/s eta 0:00:01\n",
            "   -------------------------------- ------- 9.3/11.6 MB 9.6 MB/s eta 0:00:01\n",
            "   ---------------------------------- ----- 9.9/11.6 MB 9.7 MB/s eta 0:00:01\n",
            "   ----------------------------------- ---- 10.4/11.6 MB 9.8 MB/s eta 0:00:01\n",
            "   ------------------------------------- -- 10.9/11.6 MB 9.8 MB/s eta 0:00:01\n",
            "   ---------------------------------------  11.3/11.6 MB 9.8 MB/s eta 0:00:01\n",
            "   ---------------------------------------  11.6/11.6 MB 9.6 MB/s eta 0:00:01\n",
            "   ---------------------------------------- 11.6/11.6 MB 9.3 MB/s eta 0:00:00\n",
            "Using cached pyarrow_hotfix-0.6-py3-none-any.whl (7.9 kB)\n",
            "Using cached xxhash-3.4.1-cp311-cp311-win_amd64.whl (29 kB)\n",
            "Using cached attrs-23.2.0-py3-none-any.whl (60 kB)\n",
            "Using cached certifi-2024.2.2-py3-none-any.whl (163 kB)\n",
            "Using cached charset_normalizer-3.3.2-cp311-cp311-win_amd64.whl (99 kB)\n",
            "Downloading frozenlist-1.4.1-cp311-cp311-win_amd64.whl (50 kB)\n",
            "   ---------------------------------------- 0.0/50.5 kB ? eta -:--:--\n",
            "   ---------------------------------------- 50.5/50.5 kB 2.5 MB/s eta 0:00:00\n",
            "Using cached idna-3.6-py3-none-any.whl (61 kB)\n",
            "Downloading multidict-6.0.5-cp311-cp311-win_amd64.whl (28 kB)\n",
            "Using cached pytz-2024.1-py2.py3-none-any.whl (505 kB)\n",
            "Using cached typing_extensions-4.9.0-py3-none-any.whl (32 kB)\n",
            "Using cached tzdata-2023.4-py2.py3-none-any.whl (346 kB)\n",
            "Using cached urllib3-2.2.0-py3-none-any.whl (120 kB)\n",
            "Using cached yarl-1.9.4-cp311-cp311-win_amd64.whl (76 kB)\n",
            "Installing collected packages: pytz, xxhash, urllib3, tzdata, typing-extensions, tqdm, pyyaml, pyarrow-hotfix, pyarrow, multidict, idna, fsspec, frozenlist, filelock, dill, charset-normalizer, certifi, attrs, yarl, requests, pandas, multiprocess, aiosignal, huggingface-hub, aiohttp, datasets\n",
            "Successfully installed aiohttp-3.9.3 aiosignal-1.3.1 attrs-23.2.0 certifi-2024.2.2 charset-normalizer-3.3.2 datasets-2.16.1 dill-0.3.7 filelock-3.13.1 frozenlist-1.4.1 fsspec-2023.10.0 huggingface-hub-0.20.3 idna-3.6 multidict-6.0.5 multiprocess-0.70.15 pandas-2.2.0 pyarrow-15.0.0 pyarrow-hotfix-0.6 pytz-2024.1 pyyaml-6.0.1 requests-2.31.0 tqdm-4.66.1 typing-extensions-4.9.0 tzdata-2023.4 urllib3-2.2.0 xxhash-3.4.1 yarl-1.9.4\n"
          ]
        }
      ],
      "source": [
        "!pip install datasets"
      ]
    },
    {
      "cell_type": "code",
      "execution_count": 1,
      "metadata": {
        "colab": {
          "base_uri": "https://localhost:8080/"
        },
        "id": "UlM5_uk7baRl",
        "outputId": "6e043833-61f8-4908-c8b1-9bcacca3e0f2"
      },
      "outputs": [
        {
          "name": "stderr",
          "output_type": "stream",
          "text": [
            "C:\\Users\\LEGION\\AppData\\Local\\Packages\\PythonSoftwareFoundation.Python.3.11_qbz5n2kfra8p0\\LocalCache\\local-packages\\Python311\\site-packages\\tqdm\\auto.py:22: TqdmWarning: IProgress not found. Please update jupyter and ipywidgets. See https://ipywidgets.readthedocs.io/en/stable/user_install.html\n",
            "  from .autonotebook import tqdm as notebook_tqdm\n"
          ]
        },
        {
          "name": "stdout",
          "output_type": "stream",
          "text": [
            "cuda\n"
          ]
        }
      ],
      "source": [
        "import torch, torchdata, torchtext\n",
        "import torch.nn as nn\n",
        "import torch.nn.functional as F\n",
        "\n",
        "import random, math, time\n",
        "\n",
        "import numpy as np # linear algebra\n",
        "import pandas as pd # data processing, CSV file I/O (e.g. pd.read_csv)\n",
        "import re\n",
        "\n",
        "import os\n",
        "import chardet\n",
        "\n",
        "import datasets\n",
        "import gc\n",
        "\n",
        "device = torch.device('cuda' if torch.cuda.is_available() else 'cpu')\n",
        "print(device)\n",
        "\n",
        "#make our work comparable if restarted the kernel\n",
        "SEED = 1234\n",
        "torch.manual_seed(SEED)\n",
        "torch.backends.cudnn.deterministic = True"
      ]
    },
    {
      "cell_type": "code",
      "execution_count": 2,
      "metadata": {
        "colab": {
          "base_uri": "https://localhost:8080/",
          "height": 36
        },
        "id": "IgSbVe-qbaRm",
        "outputId": "b73f7ccc-99cb-4cf4-e160-84e38642c851"
      },
      "outputs": [
        {
          "data": {
            "text/plain": [
              "'2.2.0+cu121'"
            ]
          },
          "execution_count": 2,
          "metadata": {},
          "output_type": "execute_result"
        }
      ],
      "source": [
        "torch.__version__"
      ]
    },
    {
      "cell_type": "code",
      "execution_count": 3,
      "metadata": {
        "colab": {
          "base_uri": "https://localhost:8080/",
          "height": 36
        },
        "id": "axbUuFaFbaRm",
        "outputId": "303a33f8-1f15-486c-a9d0-283107cfcf5f"
      },
      "outputs": [
        {
          "data": {
            "text/plain": [
              "'0.17.0+cpu'"
            ]
          },
          "execution_count": 3,
          "metadata": {},
          "output_type": "execute_result"
        }
      ],
      "source": [
        "torchtext.__version__"
      ]
    },
    {
      "cell_type": "markdown",
      "metadata": {
        "id": "UIwNoMxFbaRm"
      },
      "source": [
        "## 1. ETL: Loading the dataset\n",
        "\n",
        "**Note**: Here I chose to translate English to Nepali, and have used the oppus dataset from https://huggingface.co/datasets/opus100/viewer/en-ne"
      ]
    },
    {
      "cell_type": "code",
      "execution_count": 4,
      "metadata": {
        "colab": {
          "base_uri": "https://localhost:8080/"
        },
        "id": "-U_2mGqKbaRn",
        "outputId": "f1ca244b-a8e0-4a4f-9cfc-b7ebe7ce28f2"
      },
      "outputs": [
        {
          "name": "stderr",
          "output_type": "stream",
          "text": [
            "Downloading data: 100%|██████████| 93.5k/93.5k [00:01<00:00, 52.7kB/s]\n",
            "Downloading data: 100%|██████████| 23.9M/23.9M [00:06<00:00, 3.70MB/s]\n",
            "Downloading data: 100%|██████████| 101k/101k [00:01<00:00, 59.0kB/s]\n",
            "Generating test split: 100%|██████████| 2000/2000 [00:00<00:00, 231684.70 examples/s]\n",
            "Generating train split: 100%|██████████| 406381/406381 [00:00<00:00, 995369.96 examples/s] \n",
            "Generating validation split: 100%|██████████| 2000/2000 [00:00<00:00, 254671.00 examples/s]\n"
          ]
        }
      ],
      "source": [
        "from datasets import load_dataset\n",
        "\n",
        "dataset = load_dataset(\"opus100\",'en-ne')"
      ]
    },
    {
      "cell_type": "code",
      "execution_count": 5,
      "metadata": {
        "colab": {
          "base_uri": "https://localhost:8080/"
        },
        "id": "Llp_6PkkbaRn",
        "outputId": "91a1315d-9b43-4694-9e75-faec5caa6646"
      },
      "outputs": [
        {
          "data": {
            "text/plain": [
              "DatasetDict({\n",
              "    test: Dataset({\n",
              "        features: ['translation'],\n",
              "        num_rows: 2000\n",
              "    })\n",
              "    train: Dataset({\n",
              "        features: ['translation'],\n",
              "        num_rows: 406381\n",
              "    })\n",
              "    validation: Dataset({\n",
              "        features: ['translation'],\n",
              "        num_rows: 2000\n",
              "    })\n",
              "})"
            ]
          },
          "execution_count": 5,
          "metadata": {},
          "output_type": "execute_result"
        }
      ],
      "source": [
        "dataset"
      ]
    },
    {
      "cell_type": "code",
      "execution_count": 6,
      "metadata": {
        "colab": {
          "base_uri": "https://localhost:8080/"
        },
        "id": "J-WP-POJbaRn",
        "outputId": "4d3d2ee6-68c8-4fd3-aa9a-440136967ca2"
      },
      "outputs": [
        {
          "data": {
            "text/plain": [
              "{'translation': {'en': 'Activate directory-only selection',\n",
              "  'ne': 'चयन निर्दिशिका मात्र सक्रिय पार्नुहोस्'}}"
            ]
          },
          "execution_count": 6,
          "metadata": {},
          "output_type": "execute_result"
        }
      ],
      "source": [
        "dataset['train'][60]"
      ]
    },
    {
      "cell_type": "markdown",
      "metadata": {
        "id": "ufo8fqgjbaRn"
      },
      "source": [
        "## 2. EDA - simple investigation"
      ]
    },
    {
      "cell_type": "code",
      "execution_count": 7,
      "metadata": {
        "id": "p07BqL_ybaRo"
      },
      "outputs": [
        {
          "name": "stderr",
          "output_type": "stream",
          "text": [
            "Filter: 100%|██████████| 406381/406381 [00:48<00:00, 8387.00 examples/s]\n"
          ]
        }
      ],
      "source": [
        "# Importing necessary module\n",
        "from numpy.random import default_rng\n",
        "\n",
        "# Initializing a random number generator with a specified seed\n",
        "rng = default_rng(seed=SEED)\n",
        "\n",
        "# Selecting a random sample of indices from the training dataset\n",
        "select_index = rng.choice(len(dataset['train']), size=200000, replace=False)\n",
        "\n",
        "# Filtering the training dataset based on the selected indices\n",
        "# This ensures that only the randomly selected subset of data is retained\n",
        "dataset['train'] = dataset['train'].filter(lambda data, index: index in select_index, with_indices=True)\n"
      ]
    },
    {
      "cell_type": "code",
      "execution_count": 8,
      "metadata": {
        "id": "2jUJUPS4baRo"
      },
      "outputs": [
        {
          "name": "stderr",
          "output_type": "stream",
          "text": [
            "Map: 100%|██████████| 2000/2000 [00:00<00:00, 10088.88 examples/s]\n",
            "Map: 100%|██████████| 200000/200000 [00:26<00:00, 7527.85 examples/s]\n",
            "Map: 100%|██████████| 2000/2000 [00:00<00:00, 12686.48 examples/s]\n",
            "Map: 100%|██████████| 2000/2000 [00:00<00:00, 10556.12 examples/s]\n",
            "Map: 100%|██████████| 200000/200000 [00:16<00:00, 12059.66 examples/s]\n",
            "Map: 100%|██████████| 2000/2000 [00:00<00:00, 10816.00 examples/s]\n"
          ]
        }
      ],
      "source": [
        "# Define a lambda function to extract the translation column for a specific language\n",
        "get_new_col = lambda data, lang: {lang: data['translation'][lang]}\n",
        "\n",
        "# Map the lambda function to create a new column for Nepali translation\n",
        "dataset = dataset.map(get_new_col, fn_kwargs={'lang': \"ne\"})\n",
        "\n",
        "# Map the lambda function to create a new column for English translation and remove the original translation column\n",
        "dataset = dataset.map(get_new_col, remove_columns=['translation'], fn_kwargs={'lang': \"en\"})\n"
      ]
    },
    {
      "cell_type": "code",
      "execution_count": 9,
      "metadata": {
        "colab": {
          "base_uri": "https://localhost:8080/"
        },
        "id": "s0kjFOd6baRo",
        "outputId": "337222ad-b855-4858-cd70-808e131fa1fb"
      },
      "outputs": [
        {
          "data": {
            "text/plain": [
              "{'ne': 'मिलेका रेखाहरुको माथि पिक्सलहरु', 'en': 'Pixels above lines set'}"
            ]
          },
          "execution_count": 9,
          "metadata": {},
          "output_type": "execute_result"
        }
      ],
      "source": [
        "#let's take a look at one example of train\n",
        "sample = next(iter(dataset['train']))\n",
        "sample"
      ]
    },
    {
      "cell_type": "code",
      "execution_count": 10,
      "metadata": {
        "colab": {
          "base_uri": "https://localhost:8080/"
        },
        "id": "B3pJHeZwbaRo",
        "outputId": "d6724011-f7aa-4024-9988-808b49632e06"
      },
      "outputs": [
        {
          "data": {
            "text/plain": [
              "200000"
            ]
          },
          "execution_count": 10,
          "metadata": {},
          "output_type": "execute_result"
        }
      ],
      "source": [
        "train_size = len(list(iter(dataset['train'])))\n",
        "train_size"
      ]
    },
    {
      "cell_type": "code",
      "execution_count": 11,
      "metadata": {
        "colab": {
          "base_uri": "https://localhost:8080/"
        },
        "id": "hZtGIYUabaRp",
        "outputId": "cd03a76b-be05-4a25-8dcc-28558f98c72c"
      },
      "outputs": [
        {
          "data": {
            "text/plain": [
              "DatasetDict({\n",
              "    test: Dataset({\n",
              "        features: ['ne', 'en'],\n",
              "        num_rows: 2000\n",
              "    })\n",
              "    train: Dataset({\n",
              "        features: ['ne', 'en'],\n",
              "        num_rows: 200000\n",
              "    })\n",
              "    validation: Dataset({\n",
              "        features: ['ne', 'en'],\n",
              "        num_rows: 2000\n",
              "    })\n",
              "})"
            ]
          },
          "execution_count": 11,
          "metadata": {},
          "output_type": "execute_result"
        }
      ],
      "source": [
        "dataset"
      ]
    },
    {
      "cell_type": "markdown",
      "metadata": {
        "id": "QJzMRzFrbaRp"
      },
      "source": [
        "## 3. Preprocessing\n",
        "\n",
        "### Tokenizing\n",
        "\n",
        "**Note**: the models must first be downloaded using the following on the command line:\n",
        "```\n",
        "python3 -m spacy download en_core_web_sm\n",
        "```\n",
        "\n",
        "First, since we have two languages, let's create some constants to represent that.  Also, let's create two dicts: one for holding our tokenizers and one for holding all the vocabs with assigned numbers for each unique word"
      ]
    },
    {
      "cell_type": "code",
      "execution_count": 12,
      "metadata": {
        "id": "23DsCXXwbaRp"
      },
      "outputs": [],
      "source": [
        "# Place-holders\n",
        "token_transform = {}\n",
        "vocab_transform = {}"
      ]
    },
    {
      "cell_type": "code",
      "execution_count": 13,
      "metadata": {
        "id": "YJuUior8baRp"
      },
      "outputs": [],
      "source": [
        "SRC_LANGUAGE = 'en'\n",
        "TRG_LANGUAGE = 'ne'"
      ]
    },
    {
      "cell_type": "code",
      "execution_count": 17,
      "metadata": {
        "colab": {
          "base_uri": "https://localhost:8080/"
        },
        "id": "oENtuDuocYI5",
        "outputId": "63a78995-4e37-4007-b324-140a3a874775"
      },
      "outputs": [
        {
          "name": "stdout",
          "output_type": "stream",
          "text": [
            "Collecting nepalitokenizers\n",
            "  Using cached nepalitokenizers-0.0.2-py3-none-any.whl.metadata (8.8 kB)\n",
            "Collecting tokenizers>=0.13.3 (from nepalitokenizers)\n",
            "  Downloading tokenizers-0.15.1-cp311-none-win_amd64.whl.metadata (6.8 kB)\n",
            "Requirement already satisfied: huggingface_hub<1.0,>=0.16.4 in c:\\users\\legion\\appdata\\local\\packages\\pythonsoftwarefoundation.python.3.11_qbz5n2kfra8p0\\localcache\\local-packages\\python311\\site-packages (from tokenizers>=0.13.3->nepalitokenizers) (0.20.3)\n",
            "Requirement already satisfied: filelock in c:\\users\\legion\\appdata\\local\\packages\\pythonsoftwarefoundation.python.3.11_qbz5n2kfra8p0\\localcache\\local-packages\\python311\\site-packages (from huggingface_hub<1.0,>=0.16.4->tokenizers>=0.13.3->nepalitokenizers) (3.13.1)\n",
            "Requirement already satisfied: fsspec>=2023.5.0 in c:\\users\\legion\\appdata\\local\\packages\\pythonsoftwarefoundation.python.3.11_qbz5n2kfra8p0\\localcache\\local-packages\\python311\\site-packages (from huggingface_hub<1.0,>=0.16.4->tokenizers>=0.13.3->nepalitokenizers) (2023.10.0)\n",
            "Requirement already satisfied: requests in c:\\users\\legion\\appdata\\local\\packages\\pythonsoftwarefoundation.python.3.11_qbz5n2kfra8p0\\localcache\\local-packages\\python311\\site-packages (from huggingface_hub<1.0,>=0.16.4->tokenizers>=0.13.3->nepalitokenizers) (2.28.1)\n",
            "Requirement already satisfied: tqdm>=4.42.1 in c:\\users\\legion\\appdata\\local\\packages\\pythonsoftwarefoundation.python.3.11_qbz5n2kfra8p0\\localcache\\local-packages\\python311\\site-packages (from huggingface_hub<1.0,>=0.16.4->tokenizers>=0.13.3->nepalitokenizers) (4.64.1)\n",
            "Requirement already satisfied: pyyaml>=5.1 in c:\\users\\legion\\appdata\\local\\packages\\pythonsoftwarefoundation.python.3.11_qbz5n2kfra8p0\\localcache\\local-packages\\python311\\site-packages (from huggingface_hub<1.0,>=0.16.4->tokenizers>=0.13.3->nepalitokenizers) (6.0.1)\n",
            "Requirement already satisfied: typing-extensions>=3.7.4.3 in c:\\users\\legion\\appdata\\local\\packages\\pythonsoftwarefoundation.python.3.11_qbz5n2kfra8p0\\localcache\\local-packages\\python311\\site-packages (from huggingface_hub<1.0,>=0.16.4->tokenizers>=0.13.3->nepalitokenizers) (4.8.0)\n",
            "Requirement already satisfied: packaging>=20.9 in c:\\users\\legion\\appdata\\local\\packages\\pythonsoftwarefoundation.python.3.11_qbz5n2kfra8p0\\localcache\\local-packages\\python311\\site-packages (from huggingface_hub<1.0,>=0.16.4->tokenizers>=0.13.3->nepalitokenizers) (23.2)\n",
            "Requirement already satisfied: colorama in c:\\users\\legion\\appdata\\local\\packages\\pythonsoftwarefoundation.python.3.11_qbz5n2kfra8p0\\localcache\\local-packages\\python311\\site-packages (from tqdm>=4.42.1->huggingface_hub<1.0,>=0.16.4->tokenizers>=0.13.3->nepalitokenizers) (0.4.6)\n",
            "Requirement already satisfied: charset-normalizer<3,>=2 in c:\\users\\legion\\appdata\\local\\packages\\pythonsoftwarefoundation.python.3.11_qbz5n2kfra8p0\\localcache\\local-packages\\python311\\site-packages (from requests->huggingface_hub<1.0,>=0.16.4->tokenizers>=0.13.3->nepalitokenizers) (2.1.1)\n",
            "Requirement already satisfied: idna<4,>=2.5 in c:\\users\\legion\\appdata\\local\\packages\\pythonsoftwarefoundation.python.3.11_qbz5n2kfra8p0\\localcache\\local-packages\\python311\\site-packages (from requests->huggingface_hub<1.0,>=0.16.4->tokenizers>=0.13.3->nepalitokenizers) (3.4)\n",
            "Requirement already satisfied: urllib3<1.27,>=1.21.1 in c:\\users\\legion\\appdata\\local\\packages\\pythonsoftwarefoundation.python.3.11_qbz5n2kfra8p0\\localcache\\local-packages\\python311\\site-packages (from requests->huggingface_hub<1.0,>=0.16.4->tokenizers>=0.13.3->nepalitokenizers) (1.26.13)\n",
            "Requirement already satisfied: certifi>=2017.4.17 in c:\\users\\legion\\appdata\\local\\packages\\pythonsoftwarefoundation.python.3.11_qbz5n2kfra8p0\\localcache\\local-packages\\python311\\site-packages (from requests->huggingface_hub<1.0,>=0.16.4->tokenizers>=0.13.3->nepalitokenizers) (2022.12.7)\n",
            "Using cached nepalitokenizers-0.0.2-py3-none-any.whl (678 kB)\n",
            "Downloading tokenizers-0.15.1-cp311-none-win_amd64.whl (2.2 MB)\n",
            "   ---------------------------------------- 0.0/2.2 MB ? eta -:--:--\n",
            "   ---------------------------------------- 0.0/2.2 MB ? eta -:--:--\n",
            "   ---------------------------------------- 0.0/2.2 MB ? eta -:--:--\n",
            "    --------------------------------------- 0.0/2.2 MB 495.5 kB/s eta 0:00:05\n",
            "   -- ------------------------------------- 0.1/2.2 MB 1.1 MB/s eta 0:00:02\n",
            "   ---- ----------------------------------- 0.2/2.2 MB 1.5 MB/s eta 0:00:02\n",
            "   ------- -------------------------------- 0.4/2.2 MB 2.2 MB/s eta 0:00:01\n",
            "   ----------- ---------------------------- 0.6/2.2 MB 2.8 MB/s eta 0:00:01\n",
            "   ---------------- ----------------------- 0.9/2.2 MB 3.4 MB/s eta 0:00:01\n",
            "   --------------------- ------------------ 1.2/2.2 MB 3.7 MB/s eta 0:00:01\n",
            "   -------------------------- ------------- 1.4/2.2 MB 4.0 MB/s eta 0:00:01\n",
            "   ----------------------------- ---------- 1.6/2.2 MB 4.0 MB/s eta 0:00:01\n",
            "   ----------------------------- ---------- 1.6/2.2 MB 4.1 MB/s eta 0:00:01\n",
            "   ---------------------------------------  2.2/2.2 MB 4.6 MB/s eta 0:00:01\n",
            "   ---------------------------------------- 2.2/2.2 MB 4.5 MB/s eta 0:00:00\n",
            "Installing collected packages: tokenizers, nepalitokenizers\n",
            "Successfully installed nepalitokenizers-0.0.2 tokenizers-0.15.1\n"
          ]
        }
      ],
      "source": [
        "!pip install nepalitokenizers"
      ]
    },
    {
      "cell_type": "code",
      "execution_count": 25,
      "metadata": {
        "colab": {
          "base_uri": "https://localhost:8080/"
        },
        "id": "CYlAAIpKd4TD",
        "outputId": "5f303ee5-359f-4f29-d33a-6df9847b3cd9"
      },
      "outputs": [
        {
          "name": "stdout",
          "output_type": "stream",
          "text": [
            "Collecting en-core-web-sm==3.7.1\n",
            "  Downloading https://github.com/explosion/spacy-models/releases/download/en_core_web_sm-3.7.1/en_core_web_sm-3.7.1-py3-none-any.whl (12.8 MB)\n",
            "     ---------------------------------------- 0.0/12.8 MB ? eta -:--:--\n",
            "     ---------------------------------------- 0.0/12.8 MB ? eta -:--:--\n",
            "     ---------------------------------------- 0.0/12.8 MB ? eta -:--:--\n",
            "     ---------------------------------------- 0.0/12.8 MB ? eta -:--:--\n",
            "     --------------------------------------- 0.0/12.8 MB 217.9 kB/s eta 0:00:59\n",
            "     --------------------------------------- 0.0/12.8 MB 217.9 kB/s eta 0:00:59\n",
            "     --------------------------------------- 0.1/12.8 MB 273.8 kB/s eta 0:00:47\n",
            "     --------------------------------------- 0.1/12.8 MB 409.6 kB/s eta 0:00:31\n",
            "     --------------------------------------- 0.1/12.8 MB 473.7 kB/s eta 0:00:27\n",
            "      -------------------------------------- 0.2/12.8 MB 562.0 kB/s eta 0:00:23\n",
            "      -------------------------------------- 0.2/12.8 MB 570.5 kB/s eta 0:00:23\n",
            "      -------------------------------------- 0.2/12.8 MB 628.1 kB/s eta 0:00:20\n",
            "     - ------------------------------------- 0.4/12.8 MB 867.0 kB/s eta 0:00:15\n",
            "     - ------------------------------------- 0.5/12.8 MB 982.5 kB/s eta 0:00:13\n",
            "     - ------------------------------------- 0.5/12.8 MB 983.0 kB/s eta 0:00:13\n",
            "     - -------------------------------------- 0.6/12.8 MB 1.1 MB/s eta 0:00:12\n",
            "     -- ------------------------------------- 0.9/12.8 MB 1.6 MB/s eta 0:00:08\n",
            "     --- ------------------------------------ 1.0/12.8 MB 1.6 MB/s eta 0:00:08\n",
            "     --- ------------------------------------ 1.1/12.8 MB 1.6 MB/s eta 0:00:08\n",
            "     ---- ----------------------------------- 1.4/12.8 MB 1.9 MB/s eta 0:00:06\n",
            "     ----- ---------------------------------- 1.7/12.8 MB 2.3 MB/s eta 0:00:05\n",
            "     ------ --------------------------------- 2.1/12.8 MB 2.6 MB/s eta 0:00:05\n",
            "     ------ --------------------------------- 2.2/12.8 MB 2.7 MB/s eta 0:00:04\n",
            "     ------- -------------------------------- 2.4/12.8 MB 2.9 MB/s eta 0:00:04\n",
            "     -------- ------------------------------- 2.8/12.8 MB 3.1 MB/s eta 0:00:04\n",
            "     ---------- ----------------------------- 3.3/12.8 MB 3.4 MB/s eta 0:00:03\n",
            "     ----------- ---------------------------- 3.7/12.8 MB 3.8 MB/s eta 0:00:03\n",
            "     ------------ --------------------------- 4.1/12.8 MB 4.0 MB/s eta 0:00:03\n",
            "     -------------- ------------------------- 4.6/12.8 MB 4.3 MB/s eta 0:00:02\n",
            "     ---------------- ----------------------- 5.1/12.8 MB 4.6 MB/s eta 0:00:02\n",
            "     ----------------- ---------------------- 5.6/12.8 MB 4.8 MB/s eta 0:00:02\n",
            "     ------------------- -------------------- 6.2/12.8 MB 5.2 MB/s eta 0:00:02\n",
            "     --------------------- ------------------ 6.7/12.8 MB 5.4 MB/s eta 0:00:02\n",
            "     ---------------------- ----------------- 7.4/12.8 MB 5.7 MB/s eta 0:00:01\n",
            "     ------------------------ --------------- 7.9/12.8 MB 5.9 MB/s eta 0:00:01\n",
            "     -------------------------- ------------- 8.5/12.8 MB 6.1 MB/s eta 0:00:01\n",
            "     ---------------------------- ----------- 9.1/12.8 MB 6.3 MB/s eta 0:00:01\n",
            "     ------------------------------ --------- 9.6/12.8 MB 6.5 MB/s eta 0:00:01\n",
            "     ------------------------------- -------- 10.1/12.8 MB 6.6 MB/s eta 0:00:01\n",
            "     --------------------------------- ------ 10.6/12.8 MB 9.1 MB/s eta 0:00:01\n",
            "     ---------------------------------- ---- 11.2/12.8 MB 10.1 MB/s eta 0:00:01\n",
            "     ----------------------------------- --- 11.7/12.8 MB 11.1 MB/s eta 0:00:01\n",
            "     ------------------------------------- - 12.4/12.8 MB 11.5 MB/s eta 0:00:01\n",
            "     --------------------------------------  12.8/12.8 MB 11.7 MB/s eta 0:00:01\n",
            "     --------------------------------------- 12.8/12.8 MB 11.7 MB/s eta 0:00:00\n",
            "Requirement already satisfied: spacy<3.8.0,>=3.7.2 in c:\\users\\legion\\appdata\\local\\packages\\pythonsoftwarefoundation.python.3.11_qbz5n2kfra8p0\\localcache\\local-packages\\python311\\site-packages (from en-core-web-sm==3.7.1) (3.7.3)\n",
            "Requirement already satisfied: spacy-legacy<3.1.0,>=3.0.11 in c:\\users\\legion\\appdata\\local\\packages\\pythonsoftwarefoundation.python.3.11_qbz5n2kfra8p0\\localcache\\local-packages\\python311\\site-packages (from spacy<3.8.0,>=3.7.2->en-core-web-sm==3.7.1) (3.0.12)\n",
            "Requirement already satisfied: spacy-loggers<2.0.0,>=1.0.0 in c:\\users\\legion\\appdata\\local\\packages\\pythonsoftwarefoundation.python.3.11_qbz5n2kfra8p0\\localcache\\local-packages\\python311\\site-packages (from spacy<3.8.0,>=3.7.2->en-core-web-sm==3.7.1) (1.0.5)\n",
            "Requirement already satisfied: murmurhash<1.1.0,>=0.28.0 in c:\\users\\legion\\appdata\\local\\packages\\pythonsoftwarefoundation.python.3.11_qbz5n2kfra8p0\\localcache\\local-packages\\python311\\site-packages (from spacy<3.8.0,>=3.7.2->en-core-web-sm==3.7.1) (1.0.10)\n",
            "Requirement already satisfied: cymem<2.1.0,>=2.0.2 in c:\\users\\legion\\appdata\\local\\packages\\pythonsoftwarefoundation.python.3.11_qbz5n2kfra8p0\\localcache\\local-packages\\python311\\site-packages (from spacy<3.8.0,>=3.7.2->en-core-web-sm==3.7.1) (2.0.8)\n",
            "Requirement already satisfied: preshed<3.1.0,>=3.0.2 in c:\\users\\legion\\appdata\\local\\packages\\pythonsoftwarefoundation.python.3.11_qbz5n2kfra8p0\\localcache\\local-packages\\python311\\site-packages (from spacy<3.8.0,>=3.7.2->en-core-web-sm==3.7.1) (3.0.9)\n",
            "Requirement already satisfied: thinc<8.3.0,>=8.2.2 in c:\\users\\legion\\appdata\\local\\packages\\pythonsoftwarefoundation.python.3.11_qbz5n2kfra8p0\\localcache\\local-packages\\python311\\site-packages (from spacy<3.8.0,>=3.7.2->en-core-web-sm==3.7.1) (8.2.2)\n",
            "Requirement already satisfied: wasabi<1.2.0,>=0.9.1 in c:\\users\\legion\\appdata\\local\\packages\\pythonsoftwarefoundation.python.3.11_qbz5n2kfra8p0\\localcache\\local-packages\\python311\\site-packages (from spacy<3.8.0,>=3.7.2->en-core-web-sm==3.7.1) (1.1.2)\n",
            "Requirement already satisfied: srsly<3.0.0,>=2.4.3 in c:\\users\\legion\\appdata\\local\\packages\\pythonsoftwarefoundation.python.3.11_qbz5n2kfra8p0\\localcache\\local-packages\\python311\\site-packages (from spacy<3.8.0,>=3.7.2->en-core-web-sm==3.7.1) (2.4.8)\n",
            "Requirement already satisfied: catalogue<2.1.0,>=2.0.6 in c:\\users\\legion\\appdata\\local\\packages\\pythonsoftwarefoundation.python.3.11_qbz5n2kfra8p0\\localcache\\local-packages\\python311\\site-packages (from spacy<3.8.0,>=3.7.2->en-core-web-sm==3.7.1) (2.0.10)\n",
            "Requirement already satisfied: weasel<0.4.0,>=0.1.0 in c:\\users\\legion\\appdata\\local\\packages\\pythonsoftwarefoundation.python.3.11_qbz5n2kfra8p0\\localcache\\local-packages\\python311\\site-packages (from spacy<3.8.0,>=3.7.2->en-core-web-sm==3.7.1) (0.3.4)\n",
            "Requirement already satisfied: typer<0.10.0,>=0.3.0 in c:\\users\\legion\\appdata\\local\\packages\\pythonsoftwarefoundation.python.3.11_qbz5n2kfra8p0\\localcache\\local-packages\\python311\\site-packages (from spacy<3.8.0,>=3.7.2->en-core-web-sm==3.7.1) (0.9.0)\n",
            "Requirement already satisfied: smart-open<7.0.0,>=5.2.1 in c:\\users\\legion\\appdata\\local\\packages\\pythonsoftwarefoundation.python.3.11_qbz5n2kfra8p0\\localcache\\local-packages\\python311\\site-packages (from spacy<3.8.0,>=3.7.2->en-core-web-sm==3.7.1) (6.4.0)\n",
            "Requirement already satisfied: tqdm<5.0.0,>=4.38.0 in c:\\users\\legion\\appdata\\local\\packages\\pythonsoftwarefoundation.python.3.11_qbz5n2kfra8p0\\localcache\\local-packages\\python311\\site-packages (from spacy<3.8.0,>=3.7.2->en-core-web-sm==3.7.1) (4.64.1)\n",
            "Requirement already satisfied: requests<3.0.0,>=2.13.0 in c:\\users\\legion\\appdata\\local\\packages\\pythonsoftwarefoundation.python.3.11_qbz5n2kfra8p0\\localcache\\local-packages\\python311\\site-packages (from spacy<3.8.0,>=3.7.2->en-core-web-sm==3.7.1) (2.28.1)\n",
            "Requirement already satisfied: pydantic!=1.8,!=1.8.1,<3.0.0,>=1.7.4 in c:\\users\\legion\\appdata\\local\\packages\\pythonsoftwarefoundation.python.3.11_qbz5n2kfra8p0\\localcache\\local-packages\\python311\\site-packages (from spacy<3.8.0,>=3.7.2->en-core-web-sm==3.7.1) (2.6.1)\n",
            "Requirement already satisfied: jinja2 in c:\\users\\legion\\appdata\\local\\packages\\pythonsoftwarefoundation.python.3.11_qbz5n2kfra8p0\\localcache\\local-packages\\python311\\site-packages (from spacy<3.8.0,>=3.7.2->en-core-web-sm==3.7.1) (3.1.2)\n",
            "Requirement already satisfied: setuptools in c:\\program files\\windowsapps\\pythonsoftwarefoundation.python.3.11_3.11.2288.0_x64__qbz5n2kfra8p0\\lib\\site-packages (from spacy<3.8.0,>=3.7.2->en-core-web-sm==3.7.1) (65.5.0)\n",
            "Requirement already satisfied: packaging>=20.0 in c:\\users\\legion\\appdata\\local\\packages\\pythonsoftwarefoundation.python.3.11_qbz5n2kfra8p0\\localcache\\local-packages\\python311\\site-packages (from spacy<3.8.0,>=3.7.2->en-core-web-sm==3.7.1) (23.2)\n",
            "Requirement already satisfied: langcodes<4.0.0,>=3.2.0 in c:\\users\\legion\\appdata\\local\\packages\\pythonsoftwarefoundation.python.3.11_qbz5n2kfra8p0\\localcache\\local-packages\\python311\\site-packages (from spacy<3.8.0,>=3.7.2->en-core-web-sm==3.7.1) (3.3.0)\n",
            "Requirement already satisfied: numpy>=1.19.0 in c:\\users\\legion\\appdata\\local\\packages\\pythonsoftwarefoundation.python.3.11_qbz5n2kfra8p0\\localcache\\local-packages\\python311\\site-packages (from spacy<3.8.0,>=3.7.2->en-core-web-sm==3.7.1) (1.26.4)\n",
            "Requirement already satisfied: annotated-types>=0.4.0 in c:\\users\\legion\\appdata\\local\\packages\\pythonsoftwarefoundation.python.3.11_qbz5n2kfra8p0\\localcache\\local-packages\\python311\\site-packages (from pydantic!=1.8,!=1.8.1,<3.0.0,>=1.7.4->spacy<3.8.0,>=3.7.2->en-core-web-sm==3.7.1) (0.6.0)\n",
            "Requirement already satisfied: pydantic-core==2.16.2 in c:\\users\\legion\\appdata\\local\\packages\\pythonsoftwarefoundation.python.3.11_qbz5n2kfra8p0\\localcache\\local-packages\\python311\\site-packages (from pydantic!=1.8,!=1.8.1,<3.0.0,>=1.7.4->spacy<3.8.0,>=3.7.2->en-core-web-sm==3.7.1) (2.16.2)\n",
            "Requirement already satisfied: typing-extensions>=4.6.1 in c:\\users\\legion\\appdata\\local\\packages\\pythonsoftwarefoundation.python.3.11_qbz5n2kfra8p0\\localcache\\local-packages\\python311\\site-packages (from pydantic!=1.8,!=1.8.1,<3.0.0,>=1.7.4->spacy<3.8.0,>=3.7.2->en-core-web-sm==3.7.1) (4.8.0)\n",
            "Requirement already satisfied: charset-normalizer<3,>=2 in c:\\users\\legion\\appdata\\local\\packages\\pythonsoftwarefoundation.python.3.11_qbz5n2kfra8p0\\localcache\\local-packages\\python311\\site-packages (from requests<3.0.0,>=2.13.0->spacy<3.8.0,>=3.7.2->en-core-web-sm==3.7.1) (2.1.1)\n",
            "Requirement already satisfied: idna<4,>=2.5 in c:\\users\\legion\\appdata\\local\\packages\\pythonsoftwarefoundation.python.3.11_qbz5n2kfra8p0\\localcache\\local-packages\\python311\\site-packages (from requests<3.0.0,>=2.13.0->spacy<3.8.0,>=3.7.2->en-core-web-sm==3.7.1) (3.4)\n",
            "Requirement already satisfied: urllib3<1.27,>=1.21.1 in c:\\users\\legion\\appdata\\local\\packages\\pythonsoftwarefoundation.python.3.11_qbz5n2kfra8p0\\localcache\\local-packages\\python311\\site-packages (from requests<3.0.0,>=2.13.0->spacy<3.8.0,>=3.7.2->en-core-web-sm==3.7.1) (1.26.13)\n",
            "Requirement already satisfied: certifi>=2017.4.17 in c:\\users\\legion\\appdata\\local\\packages\\pythonsoftwarefoundation.python.3.11_qbz5n2kfra8p0\\localcache\\local-packages\\python311\\site-packages (from requests<3.0.0,>=2.13.0->spacy<3.8.0,>=3.7.2->en-core-web-sm==3.7.1) (2022.12.7)\n",
            "Requirement already satisfied: blis<0.8.0,>=0.7.8 in c:\\users\\legion\\appdata\\local\\packages\\pythonsoftwarefoundation.python.3.11_qbz5n2kfra8p0\\localcache\\local-packages\\python311\\site-packages (from thinc<8.3.0,>=8.2.2->spacy<3.8.0,>=3.7.2->en-core-web-sm==3.7.1) (0.7.11)\n",
            "Requirement already satisfied: confection<1.0.0,>=0.0.1 in c:\\users\\legion\\appdata\\local\\packages\\pythonsoftwarefoundation.python.3.11_qbz5n2kfra8p0\\localcache\\local-packages\\python311\\site-packages (from thinc<8.3.0,>=8.2.2->spacy<3.8.0,>=3.7.2->en-core-web-sm==3.7.1) (0.1.4)\n",
            "Requirement already satisfied: colorama in c:\\users\\legion\\appdata\\local\\packages\\pythonsoftwarefoundation.python.3.11_qbz5n2kfra8p0\\localcache\\local-packages\\python311\\site-packages (from tqdm<5.0.0,>=4.38.0->spacy<3.8.0,>=3.7.2->en-core-web-sm==3.7.1) (0.4.6)\n",
            "Requirement already satisfied: click<9.0.0,>=7.1.1 in c:\\users\\legion\\appdata\\local\\packages\\pythonsoftwarefoundation.python.3.11_qbz5n2kfra8p0\\localcache\\local-packages\\python311\\site-packages (from typer<0.10.0,>=0.3.0->spacy<3.8.0,>=3.7.2->en-core-web-sm==3.7.1) (8.1.7)\n",
            "Requirement already satisfied: cloudpathlib<0.17.0,>=0.7.0 in c:\\users\\legion\\appdata\\local\\packages\\pythonsoftwarefoundation.python.3.11_qbz5n2kfra8p0\\localcache\\local-packages\\python311\\site-packages (from weasel<0.4.0,>=0.1.0->spacy<3.8.0,>=3.7.2->en-core-web-sm==3.7.1) (0.16.0)\n",
            "Requirement already satisfied: MarkupSafe>=2.0 in c:\\users\\legion\\appdata\\local\\packages\\pythonsoftwarefoundation.python.3.11_qbz5n2kfra8p0\\localcache\\local-packages\\python311\\site-packages (from jinja2->spacy<3.8.0,>=3.7.2->en-core-web-sm==3.7.1) (2.1.3)\n",
            "Installing collected packages: en-core-web-sm\n",
            "Successfully installed en-core-web-sm-3.7.1\n",
            "\u001b[38;5;2m✔ Download and installation successful\u001b[0m\n",
            "You can now load the package via spacy.load('en_core_web_sm')\n"
          ]
        }
      ],
      "source": [
        "!python -m spacy download en_core_web_sm"
      ]
    },
    {
      "cell_type": "code",
      "execution_count": 26,
      "metadata": {
        "id": "V65XIkZtbaRp"
      },
      "outputs": [],
      "source": [
        "from torchtext.data.utils import get_tokenizer\n",
        "from nepalitokenizers import WordPiece"
      ]
    },
    {
      "cell_type": "code",
      "execution_count": 27,
      "metadata": {
        "id": "OWQv6w29baRp"
      },
      "outputs": [],
      "source": [
        "## IMporting of tokenizer libraries (We are using WordPiece as Nepal tokenizer)\n",
        "token_transform[\"en\"] = get_tokenizer('spacy', language='en_core_web_sm')\n",
        "token_transform[\"ne\"] = WordPiece()"
      ]
    },
    {
      "cell_type": "code",
      "execution_count": 28,
      "metadata": {
        "colab": {
          "base_uri": "https://localhost:8080/"
        },
        "id": "a2E6gYgJbaRq",
        "outputId": "328778a0-7e07-4bc8-d2d5-884e0821990f"
      },
      "outputs": [
        {
          "name": "stdout",
          "output_type": "stream",
          "text": [
            "Sentence:  क्लिपबोर्ड साइन गर्न सकिएन ।\n",
            "Tokenization:  ['[CLS]', 'क्लि', '##प', '##बोर्ड', 'साइन', 'गर्न', 'सकिएन', '।', '[SEP]']\n"
          ]
        }
      ],
      "source": [
        "#example of tokenization of the english part\n",
        "print(\"Sentence: \", dataset['train']['ne'][2])\n",
        "#example of tokenization of the nepali part\n",
        "print(\"Tokenization: \", token_transform['ne'].encode(dataset['train']['ne'][2]).tokens)"
      ]
    },
    {
      "cell_type": "code",
      "execution_count": 29,
      "metadata": {
        "colab": {
          "base_uri": "https://localhost:8080/",
          "height": 145,
          "referenced_widgets": [
            "139c597a4a4a4e5996f9f81c17dc2e9b",
            "9af0dd37362440b4a0b366a70915f855",
            "e274e6a948e94f1a912445d2a54267e9",
            "ffdb9415072648a8aa092b1394275941",
            "6c60dea5b33547e3a1231649cc11eb79",
            "31b3a9f066664f1d870bf97215a78375",
            "14d74885d96a48c5adddb2feb5162769",
            "9b1f971ffd2c4b7aa98cde9add4ed60c",
            "f9da0493117b4422aaa6982d037448e2",
            "96a30d18c82e40dd91d24688c1752b64",
            "d508bad0c00a45d49afd58a4890d795e",
            "511565c2ddd8437582924f0b9006df2e",
            "35f66020ac9e44bdab50888e42ade4c3",
            "3c800eba14394d1791ea1c48c1d51e86",
            "0fb6793147574cd3829c27f851356c6d",
            "c43a1c695309420ab00af2882a2d77bc",
            "9f4557dc0b694191a2c64447b29bfadb",
            "2e7cf39a11c84219af9e003d3d1b292e",
            "4e4fd59fc0594a8e93f00a791b783e67",
            "315cce6935124f7294e186774d69ad05",
            "43b68b3cd03d4c4e936a1b0b79158852",
            "d88edf8a87f6460da31e2b48efe94063",
            "4b903167876e4373b50174aa4fa33932",
            "9bc17bcd44354de29d421cf22266d037",
            "1f0eb23c9d7c4afe9e87fda27bf93dff",
            "1e6fff6bd3c64a7986146caca2240f0e",
            "0f1c2e31fe9f490392fde71837b7ca43",
            "089d80a0bdbf4205bf936fcb95f80bfc",
            "f60807b286f240eeb05186465a367e3d",
            "bf59349ea753441384ef928e3c11fd83",
            "28afaaafc8f54a60aa423197406a533a",
            "74bd8eb2b9684fe38d0f06cb6806c934",
            "804769c0d4eb43a0862114506b351172",
            "0483114170824395a1a2ed4eb75bc907",
            "233a18ffce8d4e1eaf5bb4a702afa14c",
            "91510b822d0e4ef3a92e8a5d4ed40324",
            "90e17d094bb3428eae28cacdc4b4b6d2",
            "845a7e377024449f94be90c147b1b75f",
            "7444bb2928774ca3a73e1ab96883c0f3",
            "ea2eb91a7dc34abaa2e3f46d8c2f4e3f",
            "a5841958e6ff4c26a874aaff6250ac18",
            "922ca56ad764447bbd83f05f3d26edca",
            "75f2f88078324ba5a3024d083fefe494",
            "c4a5bc83e1d146408b5ff328e8051f4a"
          ]
        },
        "id": "5qGgJA5zgVUn",
        "outputId": "98622bef-d45f-4365-875a-0d23b8a652d9"
      },
      "outputs": [
        {
          "name": "stderr",
          "output_type": "stream",
          "text": [
            "Map:   0%|          | 0/2000 [00:00<?, ? examples/s]"
          ]
        },
        {
          "name": "stderr",
          "output_type": "stream",
          "text": [
            "Map: 100%|██████████| 2000/2000 [00:00<00:00, 4454.47 examples/s]\n",
            "Map: 100%|██████████| 200000/200000 [00:26<00:00, 7418.11 examples/s]\n",
            "Map: 100%|██████████| 2000/2000 [00:00<00:00, 7549.76 examples/s]\n",
            "Map: 100%|██████████| 2000/2000 [00:00<00:00, 4753.17 examples/s]\n",
            "Map: 100%|██████████| 200000/200000 [00:42<00:00, 4742.97 examples/s]\n",
            "Map: 100%|██████████| 2000/2000 [00:00<00:00, 4355.75 examples/s]\n"
          ]
        }
      ],
      "source": [
        "# Define a function to tokenize the data for a given language\n",
        "def tokenize_the_data(data, lang):\n",
        "    try:\n",
        "        # Tokenize the data using the specified language tokenizer\n",
        "        return {lang: token_transform[lang](data[lang].lower())}\n",
        "    except:\n",
        "        # If an exception occurs, use WordPiece tokenizer for Nepali language\n",
        "        return {lang: token_transform[lang].encode(data[lang].lower()).tokens}\n",
        "\n",
        "# Map the tokenization function to tokenize the source language data and remove the original column\n",
        "tokenized_dataset = dataset.map(tokenize_the_data, remove_columns=[SRC_LANGUAGE], fn_kwargs={'lang': SRC_LANGUAGE})\n",
        "\n",
        "# Map the tokenization function to tokenize the target language data and remove the original column\n",
        "tokenized_dataset = tokenized_dataset.map(tokenize_the_data, remove_columns=[TRG_LANGUAGE], fn_kwargs={'lang': TRG_LANGUAGE})\n"
      ]
    },
    {
      "cell_type": "code",
      "execution_count": 30,
      "metadata": {
        "id": "6jX7wpgWbaRr"
      },
      "outputs": [],
      "source": [
        "# Define special symbols and indices\n",
        "UNK_IDX, PAD_IDX, SOS_IDX, EOS_IDX = 0, 1, 2, 3\n",
        "# Make sure the tokens are in order of their indices to properly insert them in vocab\n",
        "special_symbols = ['<unk>', '<pad>', '<sos>', '<eos>']"
      ]
    },
    {
      "cell_type": "markdown",
      "metadata": {
        "id": "Lw1BgT0VbaRr"
      },
      "source": [
        "### Text to integers (Numericalization)\n",
        "\n",
        "Next we gonna create function (torchtext called vocabs) that turn these tokens into integers.  Here we use built in factory function <code>build_vocab_from_iterator</code> which accepts iterator that yield list or iterator of tokens."
      ]
    },
    {
      "cell_type": "code",
      "execution_count": 31,
      "metadata": {
        "id": "dZDbl8DwbaRr"
      },
      "outputs": [],
      "source": [
        "from torchtext.vocab import build_vocab_from_iterator\n",
        "\n",
        "for ln in [SRC_LANGUAGE, TRG_LANGUAGE]:\n",
        "    # Create torchtext's Vocab object\n",
        "    vocab_transform[ln] = build_vocab_from_iterator(tokenized_dataset['train'][ln],\n",
        "                                                    min_freq=2,   #if not, everything will be treated as UNK\n",
        "                                                    specials=special_symbols,\n",
        "                                                    special_first=True) #indicates whether to insert symbols at the beginning or at the end\n",
        "# Set UNK_IDX as the default index. This index is returned when the token is not found.\n",
        "# If not set, it throws RuntimeError when the queried token is not found in the Vocabulary.\n",
        "for ln in [SRC_LANGUAGE, TRG_LANGUAGE]:\n",
        "    vocab_transform[ln].set_default_index(UNK_IDX)"
      ]
    },
    {
      "cell_type": "code",
      "execution_count": 32,
      "metadata": {
        "id": "5hpZj5sivF7C"
      },
      "outputs": [],
      "source": [
        "# save vocab\n",
        "torch.save(vocab_transform, 'vocab')"
      ]
    },
    {
      "cell_type": "code",
      "execution_count": 33,
      "metadata": {
        "colab": {
          "base_uri": "https://localhost:8080/"
        },
        "id": "aEg0Ny7fgktb",
        "outputId": "556cfb46-491e-4257-9b29-b046ea3cba07"
      },
      "outputs": [
        {
          "data": {
            "text/plain": [
              "[256, 462]"
            ]
          },
          "execution_count": 33,
          "metadata": {},
          "output_type": "execute_result"
        }
      ],
      "source": [
        "#see some example\n",
        "vocab_transform[SRC_LANGUAGE](['go', 'how'])"
      ]
    },
    {
      "cell_type": "code",
      "execution_count": 34,
      "metadata": {
        "colab": {
          "base_uri": "https://localhost:8080/"
        },
        "id": "4AwGVWHfbaRr",
        "outputId": "31edef11-1f81-4bf8-e5c8-2b39ab3881de"
      },
      "outputs": [
        {
          "data": {
            "text/plain": [
              "[0, 1626]"
            ]
          },
          "execution_count": 34,
          "metadata": {},
          "output_type": "execute_result"
        }
      ],
      "source": [
        "#see some example\n",
        "vocab_transform[TRG_LANGUAGE](['जानुहोस्','कसरी'])"
      ]
    },
    {
      "cell_type": "code",
      "execution_count": 35,
      "metadata": {
        "colab": {
          "base_uri": "https://localhost:8080/",
          "height": 36
        },
        "id": "yYxJ4lx_baRs",
        "outputId": "43be90fe-b70c-4d74-969b-007efb0332d8"
      },
      "outputs": [
        {
          "data": {
            "text/plain": [
              "'गर्दछ'"
            ]
          },
          "execution_count": 35,
          "metadata": {},
          "output_type": "execute_result"
        }
      ],
      "source": [
        "#we can reverse it....\n",
        "mapping = vocab_transform[TRG_LANGUAGE].get_itos()\n",
        "\n",
        "#print 1816, for example\n",
        "mapping[111]"
      ]
    },
    {
      "cell_type": "code",
      "execution_count": 36,
      "metadata": {
        "colab": {
          "base_uri": "https://localhost:8080/",
          "height": 36
        },
        "id": "kUFNf12ybaRs",
        "outputId": "74644909-b16f-41aa-b8ea-9f8409c514e3"
      },
      "outputs": [
        {
          "data": {
            "text/plain": [
              "'<unk>'"
            ]
          },
          "execution_count": 36,
          "metadata": {},
          "output_type": "execute_result"
        }
      ],
      "source": [
        "#let's try unknown vocab\n",
        "mapping[0]\n",
        "#they will all map to <unk> which has 0 as integer"
      ]
    },
    {
      "cell_type": "code",
      "execution_count": 37,
      "metadata": {
        "colab": {
          "base_uri": "https://localhost:8080/"
        },
        "id": "Y4Jt10vgbaRs",
        "outputId": "0a991dc6-c7bd-42d5-9f91-0a03bebbf4cf"
      },
      "outputs": [
        {
          "data": {
            "text/plain": [
              "('<pad>', '<sos>', '<eos>')"
            ]
          },
          "execution_count": 37,
          "metadata": {},
          "output_type": "execute_result"
        }
      ],
      "source": [
        "#let's try special symbols\n",
        "mapping[1], mapping[2], mapping[3]"
      ]
    },
    {
      "cell_type": "code",
      "execution_count": 38,
      "metadata": {
        "colab": {
          "base_uri": "https://localhost:8080/"
        },
        "id": "C7lDstA6baRs",
        "outputId": "a3e2a1c4-d2ea-4aa6-a6e0-9398ddd176b9"
      },
      "outputs": [
        {
          "data": {
            "text/plain": [
              "10048"
            ]
          },
          "execution_count": 38,
          "metadata": {},
          "output_type": "execute_result"
        }
      ],
      "source": [
        "#check unique vocabularies\n",
        "len(mapping)"
      ]
    },
    {
      "cell_type": "markdown",
      "metadata": {
        "id": "Zm9HCQuvvF7F"
      },
      "source": [
        "### Dataset Preparation Process for Translation Model\n",
        "Overview:\n",
        "The dataset preparation process for a translation model involves several key steps, including text normalization, tokenization, and word segmentation. In this particular case, I'll describe the process with a focus on the native language (Nepali) and specify the tools and libraries used.\n",
        "\n",
        "Libraries and Tools Used:\n",
        "Transformers Library (Hugging Face):\n",
        "\n",
        "For selecting a random subset of the dataset (select_index function), the default_rng function from the NumPy library is used. The transformers library from Hugging Face is employed for loading and processing language data.\n",
        "Nepali Tokenizers Library:\n",
        "\n",
        "The Nepali Tokenizers library is utilized for word piece tokenization of the Nepali language (WordPiece tokenizer). This library is essential for handling the unique characteristics of the Nepali language, including its script and word segmentation.\n",
        "Spacy Library:\n",
        "\n",
        "Spacy is employed for tokenization of the English language (spacy tokenizer). It is a powerful library for natural language processing tasks and ensures efficient and accurate tokenization.\n",
        "Steps:\n",
        "1. Random Subset Selection:\n",
        "\n",
        "A random subset of 10,000 samples is selected from the training dataset using the default_rng function from the NumPy library.\n",
        "\n",
        "2. Language Column Extraction:\n",
        "\n",
        "Separate columns are created for each language ('en' for English and 'ne' for Nepali) using a lambda function.\n",
        "\n",
        "3. Tokenization:\n",
        "\n",
        "Tokenization is performed using the appropriate tokenizer for each language.\n",
        "Nepali language text is tokenized using the Nepali Tokenizers library (WordPiece tokenizer).\n",
        "English language text is tokenized using Spacy ('spacy' tokenizer).\n",
        "\n",
        "4. Vocabulary Building:\n",
        "\n",
        "Special symbols and indices (UNK, PAD, SOS, EOS) are defined for the vocabulary.\n",
        "Vocabulary for each language is built using the build_vocab_from_iterator function from the torchtext library.\n",
        "\n",
        "5. Handling Unknown Tokens:\n",
        "\n",
        "Set UNK_IDX as the default index in the vocabulary. This index is returned when a token is not found in the vocabulary.\n",
        "\n",
        "\n",
        "## Native Language (Nepali) Specific Handling:\n",
        "The Nepali Tokenizers library, specifically the WordPiece tokenizer, is crucial for handling the unique script and word segmentation challenges of the Nepali language. This tokenizer can effectively tokenize words in Nepali, considering the specific linguistic characteristics of the language.\n",
        "Credits:\n",
        "The Nepali Tokenizers library is developed and maintained by the community, and contributors can be found on the GitHub repository: https://pypi.org/project/nepalitokenizers/.\n",
        "\n",
        "Spacy is an open-source library for natural language processing, and credit goes to the contributors of the Spacy project: Spacy GitHub.\n"
      ]
    },
    {
      "cell_type": "markdown",
      "metadata": {
        "id": "qgXlCSe0baRt"
      },
      "source": [
        "## 4. Preparing the dataloader\n",
        "\n",
        "One thing we change here is the <code>collate_fn</code> which now also returns the length of sentence.  This is required for <code>packed_padded_sequence</code>"
      ]
    },
    {
      "cell_type": "code",
      "execution_count": 39,
      "metadata": {
        "id": "DVyzR29sbaRt"
      },
      "outputs": [],
      "source": [
        "from torch.nn.utils.rnn import pad_sequence\n",
        "from torch.utils.data import DataLoader\n",
        "\n",
        "BATCH_SIZE = 64\n",
        "\n",
        "# Define a helper function to combine sequential operations\n",
        "def sequential_transforms(*transforms):\n",
        "    def func(txt_input):\n",
        "        # Iterate over the provided transformations\n",
        "        for transform in transforms:\n",
        "            try:\n",
        "                # Apply the transformation to the text input\n",
        "                txt_input = transform(txt_input)\n",
        "            except:\n",
        "                # If an exception occurs (e.g., if the transform is an encoding operation), catch it\n",
        "                txt_input = transform.encode(txt_input).tokens\n",
        "        # Return the transformed text input\n",
        "        return txt_input\n",
        "    # Return the function that applies sequential transformations\n",
        "    return func\n",
        "\n",
        "\n",
        "# function to add BOS/EOS and create tensor for input sequence indices\n",
        "def tensor_transform(token_ids):\n",
        "    return torch.cat((torch.tensor([SOS_IDX]),\n",
        "                      torch.tensor(token_ids),\n",
        "                      torch.tensor([EOS_IDX])))\n",
        "\n",
        "# src and trg language text transforms to convert raw strings into tensors indices\n",
        "text_transform = {}\n",
        "for ln in [SRC_LANGUAGE, TRG_LANGUAGE]:\n",
        "    text_transform[ln] = sequential_transforms(token_transform[ln], #Tokenization\n",
        "                                               vocab_transform[ln], #Numericalization\n",
        "                                               tensor_transform) # Add BOS/EOS and create tensor\n",
        "\n",
        "\n",
        "# function to collate data samples into batch tesors\n",
        "def collate_batch(batch):\n",
        "    src_batch, src_len_batch, trg_batch = [], [], []\n",
        "    for src_sample, trg_sample in batch:\n",
        "        processed_text = text_transform[SRC_LANGUAGE](src_sample.rstrip(\"\\n\"))\n",
        "        src_batch.append(processed_text)\n",
        "        trg_batch.append(text_transform[TRG_LANGUAGE](trg_sample.rstrip(\"\\n\")))\n",
        "        src_len_batch.append(processed_text.size(0))\n",
        "\n",
        "    src_batch = pad_sequence(src_batch, padding_value=PAD_IDX, batch_first = True) #<----need this because we use linear layers mostly\n",
        "    trg_batch = pad_sequence(trg_batch, padding_value=PAD_IDX, batch_first = True)\n",
        "    return src_batch, torch.tensor(src_len_batch, dtype=torch.int64), trg_batch"
      ]
    },
    {
      "cell_type": "markdown",
      "metadata": {
        "id": "5utFn1bHbaRt"
      },
      "source": [
        "Create train, val, and test dataloaders"
      ]
    },
    {
      "cell_type": "code",
      "execution_count": 40,
      "metadata": {
        "id": "tawgFl3nbaRu"
      },
      "outputs": [],
      "source": [
        "# Set the batch size for data loaders\n",
        "batch_size = 64\n",
        "\n",
        "# Create DataLoader for the training set\n",
        "train_loader = DataLoader(dataset['train'], batch_size=batch_size, shuffle=True, collate_fn=collate_batch)\n",
        "\n",
        "# Create DataLoader for the validation set\n",
        "valid_loader = DataLoader(dataset['validation'], batch_size=batch_size, shuffle=False, collate_fn=collate_batch)\n",
        "\n",
        "# Create DataLoader for the test set\n",
        "test_loader = DataLoader(dataset['test'], batch_size=batch_size, shuffle=False, collate_fn=collate_batch)\n"
      ]
    },
    {
      "cell_type": "code",
      "execution_count": 41,
      "metadata": {
        "id": "LJ3qzPmxbaR6"
      },
      "outputs": [],
      "source": [
        "## Dividing test loader into its language counterparts\n",
        "for ne, _, en in train_loader:\n",
        "    break"
      ]
    },
    {
      "cell_type": "code",
      "execution_count": 42,
      "metadata": {
        "colab": {
          "base_uri": "https://localhost:8080/"
        },
        "id": "TAokgkNSbaR7",
        "outputId": "f3bfd739-ab80-41f5-cd7e-d14006c24ab7"
      },
      "outputs": [
        {
          "name": "stdout",
          "output_type": "stream",
          "text": [
            "English shape:  torch.Size([64, 5])\n",
            "Nepali shape:  torch.Size([64, 3])\n"
          ]
        }
      ],
      "source": [
        "print(\"English shape: \", en.shape)  # (batch_size, seq len)\n",
        "print(\"Nepali shape: \", ne.shape)   # (batch_size, seq len)"
      ]
    },
    {
      "cell_type": "markdown",
      "metadata": {
        "id": "Acga6DpgbaR7"
      },
      "source": [
        "## 5. Design the model\n",
        "\n",
        "<img src=\"../figures/transformer-encoder.png\" >"
      ]
    },
    {
      "cell_type": "markdown",
      "metadata": {
        "id": "UUiqx4RHbaR7"
      },
      "source": [
        "### Encoder Layer"
      ]
    },
    {
      "cell_type": "code",
      "execution_count": 43,
      "metadata": {
        "id": "G0RopVAHbaR8"
      },
      "outputs": [],
      "source": [
        "class EncoderLayer(nn.Module):\n",
        "    def __init__(self, hid_dim, n_heads, pf_dim, dropout, attn_variant, device):\n",
        "        super().__init__()\n",
        "        self.self_attn_layer_norm = nn.LayerNorm(hid_dim)\n",
        "        self.ff_layer_norm        = nn.LayerNorm(hid_dim)\n",
        "        self.self_attention       = MultiHeadAttentionLayer(hid_dim, n_heads, dropout, attn_variant, device)\n",
        "        self.feedforward          = PositionwiseFeedforwardLayer(hid_dim, pf_dim, dropout)\n",
        "        self.dropout              = nn.Dropout(dropout)\n",
        "\n",
        "    def forward(self, src, src_mask):\n",
        "        #src = [batch size, src len, hid dim]\n",
        "        #src_mask = [batch size, 1, 1, src len]   #if the token is padding, it will be 1, otherwise 0\n",
        "        _src, _ = self.self_attention(src, src, src, src_mask)\n",
        "        src     = self.self_attn_layer_norm(src + self.dropout(_src))\n",
        "        #src: [batch_size, src len, hid dim]\n",
        "\n",
        "        _src    = self.feedforward(src)\n",
        "        src     = self.ff_layer_norm(src + self.dropout(_src))\n",
        "        #src: [batch_size, src len, hid dim]\n",
        "\n",
        "        return src"
      ]
    },
    {
      "cell_type": "markdown",
      "metadata": {
        "id": "xodVx1M2baR8"
      },
      "source": [
        "### Encoder"
      ]
    },
    {
      "cell_type": "code",
      "execution_count": 44,
      "metadata": {
        "id": "oSYWVQTibaR8"
      },
      "outputs": [],
      "source": [
        "## Added attention variant to see which variant we need to work with\n",
        "class Encoder(nn.Module):\n",
        "    def __init__(self, input_dim, hid_dim, n_layers, n_heads, pf_dim, dropout, attn_variant, device, max_length = 500):\n",
        "        super().__init__()\n",
        "        self.device = device\n",
        "        ## Attention variant\n",
        "        self.attn_variant = attn_variant\n",
        "        self.tok_embedding = nn.Embedding(input_dim, hid_dim)\n",
        "        self.pos_embedding = nn.Embedding(max_length, hid_dim)\n",
        "        self.layers        = nn.ModuleList([EncoderLayer(hid_dim, n_heads, pf_dim, dropout, attn_variant, device)\n",
        "                                           for _ in range(n_layers)])\n",
        "        self.dropout       = nn.Dropout(dropout)\n",
        "        self.scale         = torch.sqrt(torch.FloatTensor([hid_dim])).to(self.device)\n",
        "\n",
        "    def forward(self, src, src_mask):\n",
        "\n",
        "        #src = [batch size, src len]\n",
        "        #src_mask = [batch size, 1, 1, src len]\n",
        "\n",
        "        batch_size = src.shape[0]\n",
        "        src_len    = src.shape[1]\n",
        "\n",
        "        pos        = torch.arange(0, src_len).unsqueeze(0).repeat(batch_size, 1).to(self.device)\n",
        "        #pos: [batch_size, src_len]\n",
        "\n",
        "        src        = self.dropout((self.tok_embedding(src) * self.scale) + self.pos_embedding(pos))\n",
        "        #src: [batch_size, src_len, hid_dim]\n",
        "\n",
        "        for layer in self.layers:\n",
        "            src = layer(src, src_mask)\n",
        "        #src: [batch_size, src_len, hid_dim]\n",
        "\n",
        "        return src"
      ]
    },
    {
      "cell_type": "markdown",
      "metadata": {
        "id": "xm7M9qUkbaR8"
      },
      "source": [
        "### Mutli Head Attention Layer\n",
        "\n",
        "<img src = \"../figures/transformer-attention.png\" width=\"700\">\n",
        "\n",
        "$$ \\text{Attention}(Q, K, V) = \\text{Softmax} \\big( \\frac{QK^T}{\\sqrt{d_k}} \\big)V $$"
      ]
    },
    {
      "cell_type": "code",
      "execution_count": 45,
      "metadata": {
        "id": "NksICubcMBLp"
      },
      "outputs": [],
      "source": [
        "class AdditiveAttention(nn.Module):\n",
        "    def __init__(self, head_dim):\n",
        "        super(AdditiveAttention, self).__init__()\n",
        "        \n",
        "        # Linear layers for additive attention\n",
        "        self.Wa = nn.Linear(head_dim, head_dim)\n",
        "        self.Ua = nn.Linear(head_dim, head_dim)\n",
        "        self.V = nn.Linear(head_dim, 1)\n",
        "\n",
        "    def forward(self, query, keys):\n",
        "        # Add singleton dimensions for broadcasting\n",
        "        query = query.unsqueeze(3)\n",
        "        keys = keys.unsqueeze(2)\n",
        "\n",
        "        # Apply additive attention mechanism\n",
        "        features = torch.tanh(self.Wa(query) + self.Ua(keys))\n",
        "        \n",
        "        # Calculate attention scores\n",
        "        scores = self.V(features).squeeze(-1)\n",
        "        \n",
        "        return scores\n"
      ]
    },
    {
      "cell_type": "code",
      "execution_count": 46,
      "metadata": {
        "id": "LQiP-tCxbaR9"
      },
      "outputs": [],
      "source": [
        "class MultiHeadAttentionLayer(nn.Module):\n",
        "    def __init__(self, hid_dim, n_heads, dropout, attn_variant, device):\n",
        "        super().__init__()\n",
        "        assert hid_dim % n_heads == 0\n",
        "        \n",
        "        # Initialize parameters\n",
        "        self.hid_dim = hid_dim\n",
        "        self.n_heads = n_heads\n",
        "        self.head_dim = hid_dim // n_heads\n",
        "        self.attn_variant = attn_variant\n",
        "\n",
        "        # Linear transformations for query, key, value, and output\n",
        "        self.fc_q = nn.Linear(hid_dim, hid_dim)\n",
        "        self.fc_k = nn.Linear(hid_dim, hid_dim)\n",
        "        self.fc_v = nn.Linear(hid_dim, hid_dim)\n",
        "        self.fc_o = nn.Linear(hid_dim, hid_dim)\n",
        "\n",
        "        # Dropout layer for regularization\n",
        "        self.dropout = nn.Dropout(dropout)\n",
        "\n",
        "        # Scale factor for attention scores\n",
        "        self.scale = torch.sqrt(torch.FloatTensor([self.head_dim])).to(device)\n",
        "\n",
        "        # Initialize additive attention mechanism\n",
        "        self.additive_attention = AdditiveAttention(self.head_dim)\n",
        "\n",
        "    def forward(self, query, key, value, mask=None):\n",
        "        # Shapes: query = [batch size, query len, hid dim], key = [batch size, key len, hid dim], value = [batch size, value len, hid dim]\n",
        "\n",
        "        batch_size = query.shape[0]\n",
        "\n",
        "        # Apply linear transformations to query, key, and value\n",
        "        Q = self.fc_q(query)\n",
        "        K = self.fc_k(key)\n",
        "        V = self.fc_v(value)\n",
        "\n",
        "        # Reshape and permute for multi-head attention\n",
        "        Q = Q.view(batch_size, -1, self.n_heads, self.head_dim).permute(0, 2, 1, 3)\n",
        "        K = K.view(batch_size, -1, self.n_heads, self.head_dim).permute(0, 2, 1, 3)\n",
        "        V = V.view(batch_size, -1, self.n_heads, self.head_dim).permute(0, 2, 1, 3)\n",
        "\n",
        "        # Calculate attention scores based on the selected attention variant\n",
        "        if self.attn_variant == \"multiplicative\":\n",
        "            energy = torch.matmul(Q, K.permute(0, 1, 3, 2)) / self.scale\n",
        "\n",
        "        elif self.attn_variant == \"general\":\n",
        "            energy = torch.matmul(Q, K.permute(0, 1, 3, 2))\n",
        "\n",
        "        elif self.attn_variant == \"additive\":\n",
        "            energy = self.additive_attention(Q, K)\n",
        "\n",
        "        else:\n",
        "            raise Exception(\"Incorrect value for attention variant. Must be one of the following: multiplicative, additive, general\")\n",
        "\n",
        "        # Mask attention scores if a mask is provided\n",
        "        if mask is not None:\n",
        "            energy = energy.masked_fill(mask == 0, -1e10)\n",
        "\n",
        "        # Apply softmax to obtain attention weights\n",
        "        attention = torch.softmax(energy, dim=-1)\n",
        "\n",
        "        # Perform weighted sum using attention weights\n",
        "        x = torch.matmul(attention, V)\n",
        "\n",
        "        # Transpose and reshape to the original shape\n",
        "        x = x.transpose(-1, -2)\n",
        "        x = x.permute(0, 2, 1, 3).contiguous()\n",
        "        x = x.view(batch_size, -1, self.hid_dim)\n",
        "\n",
        "        # Apply linear transformation for the final output\n",
        "        x = self.fc_o(x)\n",
        "\n",
        "        return x, attention"
      ]
    },
    {
      "cell_type": "markdown",
      "metadata": {
        "id": "ncMUFA1gbaR9"
      },
      "source": [
        "### Position-wise Feedforward Layer"
      ]
    },
    {
      "cell_type": "code",
      "execution_count": 47,
      "metadata": {
        "id": "qObo2kirbaR-"
      },
      "outputs": [],
      "source": [
        "class PositionwiseFeedforwardLayer(nn.Module):\n",
        "    def __init__(self, hid_dim, pf_dim, dropout):\n",
        "        super().__init__()\n",
        "        self.fc1 = nn.Linear(hid_dim, pf_dim)\n",
        "        self.fc2 = nn.Linear(pf_dim, hid_dim)\n",
        "        self.dropout = nn.Dropout(dropout)\n",
        "\n",
        "    def forward(self, x):\n",
        "        #x = [batch size, src len, hid dim]\n",
        "        x = self.dropout(torch.relu(self.fc1(x)))\n",
        "        x = self.fc2(x)\n",
        "\n",
        "        return x"
      ]
    },
    {
      "cell_type": "markdown",
      "metadata": {
        "id": "Cga91PdbbaR-"
      },
      "source": [
        "### Decoder Layer\n",
        "\n",
        "<img src = \"../figures/transformer-decoder.png\" >"
      ]
    },
    {
      "cell_type": "code",
      "execution_count": 48,
      "metadata": {
        "id": "x1a5_TOmbaR-"
      },
      "outputs": [],
      "source": [
        "class DecoderLayer(nn.Module):\n",
        "    def __init__(self, hid_dim, n_heads, pf_dim, dropout, attn_variant, device):\n",
        "        super().__init__()\n",
        "        self.self_attn_layer_norm = nn.LayerNorm(hid_dim)\n",
        "        self.enc_attn_layer_norm  = nn.LayerNorm(hid_dim)\n",
        "        self.ff_layer_norm        = nn.LayerNorm(hid_dim)\n",
        "        self.self_attention       = MultiHeadAttentionLayer(hid_dim, n_heads, dropout, attn_variant, device)\n",
        "        self.encoder_attention    = MultiHeadAttentionLayer(hid_dim, n_heads, dropout, attn_variant, device)\n",
        "        self.feedforward          = PositionwiseFeedforwardLayer(hid_dim, pf_dim, dropout)\n",
        "        self.dropout              = nn.Dropout(dropout)\n",
        "\n",
        "    def forward(self, trg, enc_src, trg_mask, src_mask):\n",
        "\n",
        "        #trg = [batch size, trg len, hid dim]\n",
        "        #enc_src = [batch size, src len, hid dim]\n",
        "        #trg_mask = [batch size, 1, trg len, trg len]\n",
        "        #src_mask = [batch size, 1, 1, src len]\n",
        "\n",
        "        _trg, _ = self.self_attention(trg, trg, trg, trg_mask)\n",
        "        trg     = self.self_attn_layer_norm(trg + self.dropout(_trg))\n",
        "        #trg = [batch_size, trg len, hid dim]\n",
        "\n",
        "        _trg, attention = self.encoder_attention(trg, enc_src, enc_src, src_mask)\n",
        "        trg             = self.enc_attn_layer_norm(trg + self.dropout(_trg))\n",
        "        #trg = [batch_size, trg len, hid dim]\n",
        "        #attention = [batch_size, n heads, trg len, src len]\n",
        "\n",
        "        _trg = self.feedforward(trg)\n",
        "        trg  = self.ff_layer_norm(trg + self.dropout(_trg))\n",
        "        #trg = [batch_size, trg len, hid dim]\n",
        "\n",
        "        return trg, attention"
      ]
    },
    {
      "cell_type": "markdown",
      "metadata": {
        "id": "30ea8Hf5baR_"
      },
      "source": [
        "### Decoder"
      ]
    },
    {
      "cell_type": "code",
      "execution_count": 49,
      "metadata": {
        "id": "WEiULXF_baR_"
      },
      "outputs": [],
      "source": [
        "class Decoder(nn.Module):\n",
        "    def __init__(self, output_dim, hid_dim, n_layers, n_heads,\n",
        "                 pf_dim, dropout, attn_variant, device, max_length = 500):\n",
        "        super().__init__()\n",
        "        self.device = device\n",
        "        self.tok_embedding = nn.Embedding(output_dim, hid_dim)\n",
        "        self.pos_embedding = nn.Embedding(max_length, hid_dim)\n",
        "        self.layers        = nn.ModuleList([DecoderLayer(hid_dim, n_heads, pf_dim, dropout, attn_variant, device)\n",
        "                                            for _ in range(n_layers)])\n",
        "        self.fc_out        = nn.Linear(hid_dim, output_dim)\n",
        "        self.dropout       = nn.Dropout(dropout)\n",
        "        self.scale         = torch.sqrt(torch.FloatTensor([hid_dim])).to(device)\n",
        "\n",
        "    def forward(self, trg, enc_src, trg_mask, src_mask):\n",
        "\n",
        "        #trg = [batch size, trg len]\n",
        "        #enc_src = [batch size, src len, hid dim]\n",
        "        #trg_mask = [batch size, 1, trg len, trg len]\n",
        "        #src_mask = [batch size, 1, 1, src len]\n",
        "\n",
        "        batch_size = trg.shape[0]\n",
        "        trg_len    = trg.shape[1]\n",
        "\n",
        "        pos = torch.arange(0, trg_len).unsqueeze(0).repeat(batch_size, 1).to(self.device)\n",
        "        #pos: [batch_size, trg len]\n",
        "\n",
        "        trg = self.dropout((self.tok_embedding(trg) * self.scale) + self.pos_embedding(pos))\n",
        "        #trg: [batch_size, trg len, hid dim]\n",
        "\n",
        "        for layer in self.layers:\n",
        "            trg, attention = layer(trg, enc_src, trg_mask, src_mask)\n",
        "\n",
        "        #trg: [batch_size, trg len, hid dim]\n",
        "        #attention: [batch_size, n heads, trg len, src len]\n",
        "\n",
        "        output = self.fc_out(trg)\n",
        "        #output = [batch_size, trg len, output_dim]\n",
        "\n",
        "        return output, attention"
      ]
    },
    {
      "cell_type": "markdown",
      "metadata": {
        "id": "0ts7EMjzbaSA"
      },
      "source": [
        "### Putting them together (become Seq2Seq!)\n",
        "\n",
        "Our `trg_sub_mask` will look something like this (for a target with 5 tokens):\n",
        "\n",
        "$$\\begin{matrix}\n",
        "1 & 0 & 0 & 0 & 0\\\\\n",
        "1 & 1 & 0 & 0 & 0\\\\\n",
        "1 & 1 & 1 & 0 & 0\\\\\n",
        "1 & 1 & 1 & 1 & 0\\\\\n",
        "1 & 1 & 1 & 1 & 1\\\\\n",
        "\\end{matrix}$$\n",
        "\n",
        "The \"subsequent\" mask is then logically anded with the padding mask, this combines the two masks ensuring both the subsequent tokens and the padding tokens cannot be attended to. For example if the last two tokens were `<pad>` tokens the mask would look like:\n",
        "\n",
        "$$\\begin{matrix}\n",
        "1 & 0 & 0 & 0 & 0\\\\\n",
        "1 & 1 & 0 & 0 & 0\\\\\n",
        "1 & 1 & 1 & 0 & 0\\\\\n",
        "1 & 1 & 1 & 0 & 0\\\\\n",
        "1 & 1 & 1 & 0 & 0\\\\\n",
        "\\end{matrix}$$"
      ]
    },
    {
      "cell_type": "code",
      "execution_count": 50,
      "metadata": {
        "id": "OXjwDqrNbaSA"
      },
      "outputs": [],
      "source": [
        "class Seq2SeqTransformer(nn.Module):\n",
        "    def __init__(self, encoder, decoder, src_pad_idx, trg_pad_idx, device):\n",
        "        super().__init__()\n",
        "        ## store params to make use of model easier\n",
        "        self.params = {'encoder': encoder, 'decoder': decoder,\n",
        "                       'src_pad_idx': src_pad_idx, 'trg_pad_idx': trg_pad_idx}\n",
        "\n",
        "        self.encoder = encoder\n",
        "        self.decoder = decoder\n",
        "        self.src_pad_idx = src_pad_idx\n",
        "        self.trg_pad_idx = trg_pad_idx\n",
        "        self.device = device\n",
        "\n",
        "    def make_src_mask(self, src):\n",
        "\n",
        "        #src = [batch size, src len]\n",
        "\n",
        "        src_mask = (src != self.src_pad_idx).unsqueeze(1).unsqueeze(2)\n",
        "        #src_mask = [batch size, 1, 1, src len]\n",
        "\n",
        "        return src_mask\n",
        "\n",
        "    def make_trg_mask(self, trg):\n",
        "\n",
        "        #trg = [batch size, trg len]\n",
        "\n",
        "        trg_pad_mask = (trg != self.trg_pad_idx).unsqueeze(1).unsqueeze(2)\n",
        "        #trg_pad_mask = [batch size, 1, 1, trg len]\n",
        "\n",
        "        trg_len = trg.shape[1]\n",
        "\n",
        "        trg_sub_mask = torch.tril(torch.ones((trg_len, trg_len), device = self.device)).bool()\n",
        "        #trg_sub_mask = [trg len, trg len]\n",
        "\n",
        "        trg_mask = trg_pad_mask & trg_sub_mask\n",
        "        #trg_mask = [batch size, 1, trg len, trg len]\n",
        "\n",
        "        return trg_mask\n",
        "\n",
        "    def forward(self, src, trg):\n",
        "\n",
        "        #src = [batch size, src len]\n",
        "        #trg = [batch size, trg len]\n",
        "\n",
        "        src_mask = self.make_src_mask(src)\n",
        "        trg_mask = self.make_trg_mask(trg)\n",
        "\n",
        "        #src_mask = [batch size, 1, 1, src len]\n",
        "        #trg_mask = [batch size, 1, trg len, trg len]\n",
        "\n",
        "        enc_src = self.encoder(src, src_mask)\n",
        "        #enc_src = [batch size, src len, hid dim]\n",
        "\n",
        "        output, attention = self.decoder(trg, enc_src, trg_mask, src_mask)\n",
        "\n",
        "        #output = [batch size, trg len, output dim]\n",
        "        #attention = [batch size, n heads, trg len, src len]\n",
        "\n",
        "        return output, attention"
      ]
    },
    {
      "cell_type": "markdown",
      "metadata": {
        "id": "nQO5HDhLbaSB"
      },
      "source": [
        "## 6. Training"
      ]
    },
    {
      "cell_type": "code",
      "execution_count": 51,
      "metadata": {
        "id": "ev15YW_YbaSB"
      },
      "outputs": [],
      "source": [
        "def initialize_weights(m):\n",
        "    if hasattr(m, 'weight') and m.weight.dim() > 1:\n",
        "        nn.init.xavier_uniform_(m.weight.data)"
      ]
    },
    {
      "cell_type": "code",
      "execution_count": 52,
      "metadata": {
        "colab": {
          "base_uri": "https://localhost:8080/"
        },
        "id": "jqQMPlObbaSB",
        "outputId": "fc3c0a28-ffe2-4c7f-9f3d-6057888cf6e7"
      },
      "outputs": [
        {
          "data": {
            "text/plain": [
              "Seq2SeqTransformer(\n",
              "  (encoder): Encoder(\n",
              "    (tok_embedding): Embedding(17167, 256)\n",
              "    (pos_embedding): Embedding(500, 256)\n",
              "    (layers): ModuleList(\n",
              "      (0-2): 3 x EncoderLayer(\n",
              "        (self_attn_layer_norm): LayerNorm((256,), eps=1e-05, elementwise_affine=True)\n",
              "        (ff_layer_norm): LayerNorm((256,), eps=1e-05, elementwise_affine=True)\n",
              "        (self_attention): MultiHeadAttentionLayer(\n",
              "          (fc_q): Linear(in_features=256, out_features=256, bias=True)\n",
              "          (fc_k): Linear(in_features=256, out_features=256, bias=True)\n",
              "          (fc_v): Linear(in_features=256, out_features=256, bias=True)\n",
              "          (fc_o): Linear(in_features=256, out_features=256, bias=True)\n",
              "          (dropout): Dropout(p=0.1, inplace=False)\n",
              "          (additive_attention): AdditiveAttention(\n",
              "            (Wa): Linear(in_features=32, out_features=32, bias=True)\n",
              "            (Ua): Linear(in_features=32, out_features=32, bias=True)\n",
              "            (V): Linear(in_features=32, out_features=1, bias=True)\n",
              "          )\n",
              "        )\n",
              "        (feedforward): PositionwiseFeedforwardLayer(\n",
              "          (fc1): Linear(in_features=256, out_features=512, bias=True)\n",
              "          (fc2): Linear(in_features=512, out_features=256, bias=True)\n",
              "          (dropout): Dropout(p=0.1, inplace=False)\n",
              "        )\n",
              "        (dropout): Dropout(p=0.1, inplace=False)\n",
              "      )\n",
              "    )\n",
              "    (dropout): Dropout(p=0.1, inplace=False)\n",
              "  )\n",
              "  (decoder): Decoder(\n",
              "    (tok_embedding): Embedding(10048, 256)\n",
              "    (pos_embedding): Embedding(500, 256)\n",
              "    (layers): ModuleList(\n",
              "      (0-2): 3 x DecoderLayer(\n",
              "        (self_attn_layer_norm): LayerNorm((256,), eps=1e-05, elementwise_affine=True)\n",
              "        (enc_attn_layer_norm): LayerNorm((256,), eps=1e-05, elementwise_affine=True)\n",
              "        (ff_layer_norm): LayerNorm((256,), eps=1e-05, elementwise_affine=True)\n",
              "        (self_attention): MultiHeadAttentionLayer(\n",
              "          (fc_q): Linear(in_features=256, out_features=256, bias=True)\n",
              "          (fc_k): Linear(in_features=256, out_features=256, bias=True)\n",
              "          (fc_v): Linear(in_features=256, out_features=256, bias=True)\n",
              "          (fc_o): Linear(in_features=256, out_features=256, bias=True)\n",
              "          (dropout): Dropout(p=0.1, inplace=False)\n",
              "          (additive_attention): AdditiveAttention(\n",
              "            (Wa): Linear(in_features=32, out_features=32, bias=True)\n",
              "            (Ua): Linear(in_features=32, out_features=32, bias=True)\n",
              "            (V): Linear(in_features=32, out_features=1, bias=True)\n",
              "          )\n",
              "        )\n",
              "        (encoder_attention): MultiHeadAttentionLayer(\n",
              "          (fc_q): Linear(in_features=256, out_features=256, bias=True)\n",
              "          (fc_k): Linear(in_features=256, out_features=256, bias=True)\n",
              "          (fc_v): Linear(in_features=256, out_features=256, bias=True)\n",
              "          (fc_o): Linear(in_features=256, out_features=256, bias=True)\n",
              "          (dropout): Dropout(p=0.1, inplace=False)\n",
              "          (additive_attention): AdditiveAttention(\n",
              "            (Wa): Linear(in_features=32, out_features=32, bias=True)\n",
              "            (Ua): Linear(in_features=32, out_features=32, bias=True)\n",
              "            (V): Linear(in_features=32, out_features=1, bias=True)\n",
              "          )\n",
              "        )\n",
              "        (feedforward): PositionwiseFeedforwardLayer(\n",
              "          (fc1): Linear(in_features=256, out_features=512, bias=True)\n",
              "          (fc2): Linear(in_features=512, out_features=256, bias=True)\n",
              "          (dropout): Dropout(p=0.1, inplace=False)\n",
              "        )\n",
              "        (dropout): Dropout(p=0.1, inplace=False)\n",
              "      )\n",
              "    )\n",
              "    (fc_out): Linear(in_features=256, out_features=10048, bias=True)\n",
              "    (dropout): Dropout(p=0.1, inplace=False)\n",
              "  )\n",
              ")"
            ]
          },
          "execution_count": 52,
          "metadata": {},
          "output_type": "execute_result"
        }
      ],
      "source": [
        "input_dim   = len(vocab_transform[SRC_LANGUAGE])\n",
        "output_dim  = len(vocab_transform[TRG_LANGUAGE])\n",
        "hid_dim = 256\n",
        "enc_layers = 3\n",
        "dec_layers = 3\n",
        "enc_heads = 8\n",
        "dec_heads = 8\n",
        "enc_pf_dim = 512\n",
        "dec_pf_dim = 512\n",
        "enc_dropout = 0.1\n",
        "dec_dropout = 0.1\n",
        "## Passing of attention variant\n",
        "attn_variant = 'additive'\n",
        "\n",
        "SRC_PAD_IDX = PAD_IDX\n",
        "TRG_PAD_IDX = PAD_IDX\n",
        "\n",
        "enc = Encoder(input_dim,\n",
        "              hid_dim,\n",
        "              enc_layers,\n",
        "              enc_heads,\n",
        "              enc_pf_dim,\n",
        "              enc_dropout,\n",
        "              attn_variant,\n",
        "              device)\n",
        "\n",
        "dec = Decoder(output_dim,\n",
        "              hid_dim,\n",
        "              dec_layers,\n",
        "              dec_heads,\n",
        "              dec_pf_dim,\n",
        "              enc_dropout,\n",
        "              attn_variant,\n",
        "              device)\n",
        "\n",
        "model = Seq2SeqTransformer(enc, dec, SRC_PAD_IDX, TRG_PAD_IDX, device).to(device)\n",
        "model.apply(initialize_weights)"
      ]
    },
    {
      "cell_type": "code",
      "execution_count": 53,
      "metadata": {
        "colab": {
          "base_uri": "https://localhost:8080/"
        },
        "id": "LGwU4_8kbaSC",
        "outputId": "ff531a88-5134-4f80-f122-3a99c4403c08"
      },
      "outputs": [
        {
          "name": "stdout",
          "output_type": "stream",
          "text": [
            "4394752\n",
            "128000\n",
            "   256\n",
            "   256\n",
            "   256\n",
            "   256\n",
            " 65536\n",
            "   256\n",
            " 65536\n",
            "   256\n",
            " 65536\n",
            "   256\n",
            " 65536\n",
            "   256\n",
            "  1024\n",
            "    32\n",
            "  1024\n",
            "    32\n",
            "    32\n",
            "     1\n",
            "131072\n",
            "   512\n",
            "131072\n",
            "   256\n",
            "   256\n",
            "   256\n",
            "   256\n",
            "   256\n",
            " 65536\n",
            "   256\n",
            " 65536\n",
            "   256\n",
            " 65536\n",
            "   256\n",
            " 65536\n",
            "   256\n",
            "  1024\n",
            "    32\n",
            "  1024\n",
            "    32\n",
            "    32\n",
            "     1\n",
            "131072\n",
            "   512\n",
            "131072\n",
            "   256\n",
            "   256\n",
            "   256\n",
            "   256\n",
            "   256\n",
            " 65536\n",
            "   256\n",
            " 65536\n",
            "   256\n",
            " 65536\n",
            "   256\n",
            " 65536\n",
            "   256\n",
            "  1024\n",
            "    32\n",
            "  1024\n",
            "    32\n",
            "    32\n",
            "     1\n",
            "131072\n",
            "   512\n",
            "131072\n",
            "   256\n",
            "2572288\n",
            "128000\n",
            "   256\n",
            "   256\n",
            "   256\n",
            "   256\n",
            "   256\n",
            "   256\n",
            " 65536\n",
            "   256\n",
            " 65536\n",
            "   256\n",
            " 65536\n",
            "   256\n",
            " 65536\n",
            "   256\n",
            "  1024\n",
            "    32\n",
            "  1024\n",
            "    32\n",
            "    32\n",
            "     1\n",
            " 65536\n",
            "   256\n",
            " 65536\n",
            "   256\n",
            " 65536\n",
            "   256\n",
            " 65536\n",
            "   256\n",
            "  1024\n",
            "    32\n",
            "  1024\n",
            "    32\n",
            "    32\n",
            "     1\n",
            "131072\n",
            "   512\n",
            "131072\n",
            "   256\n",
            "   256\n",
            "   256\n",
            "   256\n",
            "   256\n",
            "   256\n",
            "   256\n",
            " 65536\n",
            "   256\n",
            " 65536\n",
            "   256\n",
            " 65536\n",
            "   256\n",
            " 65536\n",
            "   256\n",
            "  1024\n",
            "    32\n",
            "  1024\n",
            "    32\n",
            "    32\n",
            "     1\n",
            " 65536\n",
            "   256\n",
            " 65536\n",
            "   256\n",
            " 65536\n",
            "   256\n",
            " 65536\n",
            "   256\n",
            "  1024\n",
            "    32\n",
            "  1024\n",
            "    32\n",
            "    32\n",
            "     1\n",
            "131072\n",
            "   512\n",
            "131072\n",
            "   256\n",
            "   256\n",
            "   256\n",
            "   256\n",
            "   256\n",
            "   256\n",
            "   256\n",
            " 65536\n",
            "   256\n",
            " 65536\n",
            "   256\n",
            " 65536\n",
            "   256\n",
            " 65536\n",
            "   256\n",
            "  1024\n",
            "    32\n",
            "  1024\n",
            "    32\n",
            "    32\n",
            "     1\n",
            " 65536\n",
            "   256\n",
            " 65536\n",
            "   256\n",
            " 65536\n",
            "   256\n",
            " 65536\n",
            "   256\n",
            "  1024\n",
            "    32\n",
            "  1024\n",
            "    32\n",
            "    32\n",
            "     1\n",
            "131072\n",
            "   512\n",
            "131072\n",
            "   256\n",
            "2572288\n",
            " 10048\n",
            "______\n",
            "13778345\n"
          ]
        }
      ],
      "source": [
        "#we can print the complexity by the number of parameters\n",
        "def count_parameters(model):\n",
        "    params = [p.numel() for p in model.parameters() if p.requires_grad]\n",
        "    for item in params:\n",
        "        print(f'{item:>6}')\n",
        "    print(f'______\\n{sum(params):>6}')\n",
        "\n",
        "count_parameters(model)"
      ]
    },
    {
      "cell_type": "markdown",
      "metadata": {
        "id": "EViYwPUmbaSD"
      },
      "source": [
        "Then, we'll define our training loop. This is the exact same as the one used in the previous tutorial.\n",
        "\n",
        "As we want our model to predict the `<eos>` token but not have it be an input into our model we simply slice the `<eos>` token off the end of the sequence. Thus:\n",
        "\n",
        "$$\\begin{align*}\n",
        "\\text{trg} &= [sos, x_1, x_2, x_3, eos]\\\\\n",
        "\\text{trg[:-1]} &= [sos, x_1, x_2, x_3]\n",
        "\\end{align*}$$\n",
        "\n",
        "$x_i$ denotes actual target sequence element. We then feed this into the model to get a predicted sequence that should hopefully predict the `<eos>` token:\n",
        "\n",
        "$$\\begin{align*}\n",
        "\\text{output} &= [y_1, y_2, y_3, eos]\n",
        "\\end{align*}$$\n",
        "\n",
        "$y_i$ denotes predicted target sequence element. We then calculate our loss using the original `trg` tensor with the `<sos>` token sliced off the front, leaving the `<eos>` token:\n",
        "\n",
        "$$\\begin{align*}\n",
        "\\text{output} &= [y_1, y_2, y_3, eos]\\\\\n",
        "\\text{trg[1:]} &= [x_1, x_2, x_3, eos]\n",
        "\\end{align*}$$\n",
        "\n",
        "We then calculate our losses and update our parameters as is standard."
      ]
    },
    {
      "cell_type": "code",
      "execution_count": 54,
      "metadata": {
        "id": "ug7oYqYHv9Qp"
      },
      "outputs": [],
      "source": [
        "import torch.optim as optim\n",
        "\n",
        "lr = 0.0005\n",
        "\n",
        "#training hyperparameters\n",
        "optimizer = optim.Adam(model.parameters(), lr=lr)\n",
        "criterion = nn.CrossEntropyLoss(ignore_index = TRG_PAD_IDX)"
      ]
    },
    {
      "cell_type": "code",
      "execution_count": 55,
      "metadata": {
        "id": "85oWxfF5baSD"
      },
      "outputs": [],
      "source": [
        "def train(model, loader, optimizer, criterion, clip, loader_length):\n",
        "\n",
        "    model.train()\n",
        "\n",
        "    epoch_loss = 0\n",
        "\n",
        "    for src, src_len, trg in loader:\n",
        "\n",
        "        src = src.to(device)\n",
        "        trg = trg.to(device)\n",
        "\n",
        "        optimizer.zero_grad()\n",
        "\n",
        "        #trg[:, :-1] remove the eos, e.g., \"<sos> I love sushi\" since teaching forcing, the input does not need to have eos\n",
        "        output, _ = model(src, trg[:,:-1])\n",
        "\n",
        "        #output = [batch size, trg len - 1, output dim]\n",
        "        #trg    = [batch size, trg len]\n",
        "\n",
        "        output_dim = output.shape[-1]\n",
        "\n",
        "        output = output.reshape(-1, output_dim)\n",
        "        trg = trg[:,1:].reshape(-1) #trg[:, 1:] remove the sos, e.g., \"i love sushi <eos>\" since in teaching forcing, the output does not have sos\n",
        "\n",
        "        #output = [batch size * trg len - 1, output dim]\n",
        "        #trg    = [batch size * trg len - 1]\n",
        "\n",
        "        loss = criterion(output, trg)\n",
        "\n",
        "        loss.backward()\n",
        "\n",
        "        torch.nn.utils.clip_grad_norm_(model.parameters(), clip)\n",
        "\n",
        "        optimizer.step()\n",
        "\n",
        "        epoch_loss += loss.item()\n",
        "\n",
        "    return epoch_loss / loader_length"
      ]
    },
    {
      "cell_type": "markdown",
      "metadata": {
        "id": "Ci9Dd6qKbaSD"
      },
      "source": [
        "Our evaluation loop is similar to our training loop, however as we aren't updating any parameters we don't need to pass an optimizer or a clip value."
      ]
    },
    {
      "cell_type": "code",
      "execution_count": 56,
      "metadata": {
        "id": "ORbJAtinbaSE"
      },
      "outputs": [],
      "source": [
        "def evaluate(model, loader, criterion, loader_length):\n",
        "\n",
        "    model.eval()\n",
        "\n",
        "    epoch_loss = 0\n",
        "\n",
        "    with torch.no_grad():\n",
        "\n",
        "        for src, src_len, trg in loader:\n",
        "\n",
        "            src = src.to(device)\n",
        "            trg = trg.to(device)\n",
        "\n",
        "            output, _ = model(src, trg[:,:-1])\n",
        "\n",
        "            #output = [batch size, trg len - 1, output dim]\n",
        "            #trg = [batch size, trg len]\n",
        "\n",
        "            output_dim = output.shape[-1]\n",
        "\n",
        "            output = output.contiguous().view(-1, output_dim)\n",
        "            trg = trg[:,1:].contiguous().view(-1)\n",
        "\n",
        "            #output = [batch size * trg len - 1, output dim]\n",
        "            #trg = [batch size * trg len - 1]\n",
        "\n",
        "            loss = criterion(output, trg)\n",
        "\n",
        "            epoch_loss += loss.item()\n",
        "\n",
        "    return epoch_loss / loader_length"
      ]
    },
    {
      "cell_type": "markdown",
      "metadata": {
        "id": "hz8CMqkWbaSE"
      },
      "source": [
        "### Putting everything together\n",
        "\n",
        "Finally, we train our actual model. This model is almost 3x faster than the convolutional sequence-to-sequence model and also achieves a lower validation perplexity!\n",
        "\n",
        "**Note: similar to CNN, this model always has a teacher forcing ratio of 1, i.e. it will always use the ground truth next token from the target sequence (this is simply because CNN do everything in parallel so we cannot have the next token). This means we cannot compare perplexity values against the previous models when they are using a teacher forcing ratio that is not 1. To understand this, try run previous tutorials with teaching forcing ratio of 1, you will get very low perplexity.  **   "
      ]
    },
    {
      "cell_type": "code",
      "execution_count": 57,
      "metadata": {
        "colab": {
          "base_uri": "https://localhost:8080/"
        },
        "id": "03lBWQnrd4pw",
        "outputId": "6c09e7c5-4903-4740-bd40-11be98487873"
      },
      "outputs": [
        {
          "data": {
            "text/plain": [
              "{'ne': 'सम्पादनबिहिन लेखक', 'en': 'Non-repudiation'}"
            ]
          },
          "execution_count": 57,
          "metadata": {},
          "output_type": "execute_result"
        }
      ],
      "source": [
        "dataset['validation'][2]"
      ]
    },
    {
      "cell_type": "code",
      "execution_count": 58,
      "metadata": {
        "id": "3OA5D-RbbaSE"
      },
      "outputs": [],
      "source": [
        "def epoch_time(start_time, end_time):\n",
        "    elapsed_time = end_time - start_time\n",
        "    elapsed_mins = int(elapsed_time / 60)\n",
        "    elapsed_secs = int(elapsed_time - (elapsed_mins * 60))\n",
        "    return elapsed_mins, elapsed_secs"
      ]
    },
    {
      "cell_type": "markdown",
      "metadata": {},
      "source": [
        "## All three Model Training"
      ]
    },
    {
      "cell_type": "code",
      "execution_count": 59,
      "metadata": {
        "colab": {
          "base_uri": "https://localhost:8080/"
        },
        "id": "ggLmXg7AYmbB",
        "outputId": "826a93d5-9a90-477c-8956-fd482634f6eb"
      },
      "outputs": [
        {
          "name": "stdout",
          "output_type": "stream",
          "text": [
            "\n",
            "===== general =====\n",
            "Epoch: 01 | Time: 3m 51s\n",
            "\tTrain Loss: 8.847 | Train PPL: 6953.637\n",
            "\t Val. Loss: 7.900 |  Val. PPL: 2697.358\n",
            "Epoch: 02 | Time: 2m 59s\n",
            "\tTrain Loss: 8.070 | Train PPL: 3196.518\n",
            "\t Val. Loss: 7.153 |  Val. PPL: 1278.019\n",
            "Epoch: 03 | Time: 2m 48s\n",
            "\tTrain Loss: 7.376 | Train PPL: 1597.055\n",
            "\t Val. Loss: 6.595 |  Val. PPL: 731.492\n",
            "Epoch: 04 | Time: 2m 46s\n",
            "\tTrain Loss: 6.827 | Train PPL: 922.625\n",
            "\t Val. Loss: 6.152 |  Val. PPL: 469.645\n",
            "Epoch: 05 | Time: 2m 47s\n",
            "\tTrain Loss: 6.404 | Train PPL: 604.410\n",
            "\t Val. Loss: 5.790 |  Val. PPL: 327.010\n",
            "\n",
            "===== multiplicative =====\n",
            "Epoch: 01 | Time: 2m 49s\n",
            "\tTrain Loss: 8.564 | Train PPL: 5238.078\n",
            "\t Val. Loss: 7.494 |  Val. PPL: 1797.957\n",
            "Epoch: 02 | Time: 3m 0s\n",
            "\tTrain Loss: 7.548 | Train PPL: 1897.258\n",
            "\t Val. Loss: 6.686 |  Val. PPL: 800.712\n",
            "Epoch: 03 | Time: 3m 6s\n",
            "\tTrain Loss: 6.915 | Train PPL: 1007.105\n",
            "\t Val. Loss: 6.197 |  Val. PPL: 491.323\n",
            "Epoch: 04 | Time: 3m 6s\n",
            "\tTrain Loss: 6.469 | Train PPL: 644.552\n",
            "\t Val. Loss: 5.842 |  Val. PPL: 344.436\n",
            "Epoch: 05 | Time: 2m 47s\n",
            "\tTrain Loss: 6.127 | Train PPL: 458.272\n",
            "\t Val. Loss: 5.572 |  Val. PPL: 262.983\n",
            "\n",
            "===== additive =====\n",
            "Epoch: 01 | Time: 3m 15s\n",
            "\tTrain Loss: 8.583 | Train PPL: 5341.269\n",
            "\t Val. Loss: 7.589 |  Val. PPL: 1977.221\n",
            "Epoch: 02 | Time: 3m 14s\n",
            "\tTrain Loss: 7.605 | Train PPL: 2007.902\n",
            "\t Val. Loss: 6.760 |  Val. PPL: 862.788\n",
            "Epoch: 03 | Time: 3m 14s\n",
            "\tTrain Loss: 6.960 | Train PPL: 1054.160\n",
            "\t Val. Loss: 6.232 |  Val. PPL: 508.739\n",
            "Epoch: 04 | Time: 3m 14s\n",
            "\tTrain Loss: 6.500 | Train PPL: 665.396\n",
            "\t Val. Loss: 5.851 |  Val. PPL: 347.420\n",
            "Epoch: 05 | Time: 3m 14s\n",
            "\tTrain Loss: 6.145 | Train PPL: 466.567\n",
            "\t Val. Loss: 5.557 |  Val. PPL: 258.938\n"
          ]
        }
      ],
      "source": [
        "import gc\n",
        "\n",
        "input_dim   = len(vocab_transform[SRC_LANGUAGE])\n",
        "output_dim  = len(vocab_transform[TRG_LANGUAGE])\n",
        "## low learning rate in order to increase model complexity\n",
        "lr = 0.0000001\n",
        "hid_dim = 256\n",
        "enc_layers = 3\n",
        "dec_layers = 3\n",
        "enc_heads = 8\n",
        "dec_heads = 8\n",
        "enc_pf_dim = 512\n",
        "dec_pf_dim = 512\n",
        "enc_dropout = 0.1\n",
        "dec_dropout = 0.1\n",
        "\n",
        "SRC_PAD_IDX = PAD_IDX\n",
        "TRG_PAD_IDX = PAD_IDX\n",
        "\n",
        "num_epochs = 5\n",
        "clip       = 1\n",
        "## Attention variant is passed as a list\n",
        "for attn_variant in ['general', 'multiplicative', 'additive']:\n",
        "\n",
        "    train_loader = DataLoader(dataset['train'], batch_size=batch_size, shuffle=True, collate_fn=collate_batch)\n",
        "    valid_loader = DataLoader(dataset['validation'],   batch_size=batch_size, shuffle=False, collate_fn=collate_batch)\n",
        "    test_loader  = DataLoader(dataset['test'],  batch_size=batch_size, shuffle=False, collate_fn=collate_batch)\n",
        "\n",
        "    train_loader_length = len(list(iter(train_loader)))\n",
        "    val_loader_length   = len(list(iter(valid_loader)))\n",
        "    test_loader_length  = len(list(iter(test_loader)))\n",
        "\n",
        "    enc = Encoder(input_dim,\n",
        "                  hid_dim,\n",
        "                  enc_layers,\n",
        "                  enc_heads,\n",
        "                  enc_pf_dim,\n",
        "                  enc_dropout,\n",
        "                  attn_variant,\n",
        "                  device)\n",
        "\n",
        "    dec = Decoder(output_dim,\n",
        "                  hid_dim,\n",
        "                  dec_layers,\n",
        "                  dec_heads,\n",
        "                  dec_pf_dim,\n",
        "                  enc_dropout,\n",
        "                  attn_variant,\n",
        "                  device)\n",
        "\n",
        "    model = Seq2SeqTransformer(enc, dec, SRC_PAD_IDX, TRG_PAD_IDX, device).to(device)\n",
        "    model.apply(initialize_weights)\n",
        "\n",
        "    #training hyperparameters\n",
        "    optimizer = optim.Adam(model.parameters(), lr=lr)\n",
        "    criterion = nn.CrossEntropyLoss(ignore_index = TRG_PAD_IDX) #combine softmax with cross entropy\n",
        "\n",
        "    save_path = f'{attn_variant}_{model.__class__.__name__}.pt'\n",
        "\n",
        "    best_valid_loss = float('inf')\n",
        "    train_losses = []\n",
        "    valid_losses = []\n",
        "\n",
        "    print(f'\\n===== {attn_variant} =====')\n",
        "\n",
        "    for epoch in range(num_epochs):\n",
        "\n",
        "        start_time = time.time()\n",
        "\n",
        "        train_loss = train(model, train_loader, optimizer, criterion, clip, train_loader_length)\n",
        "        valid_loss = evaluate(model, valid_loader, criterion, val_loader_length)\n",
        "\n",
        "        #for plotting\n",
        "        train_losses.append(train_loss)\n",
        "        valid_losses.append(valid_loss)\n",
        "\n",
        "        end_time = time.time()\n",
        "\n",
        "        epoch_mins, epoch_secs = epoch_time(start_time, end_time)\n",
        "\n",
        "\n",
        "        if valid_loss <= best_valid_loss:\n",
        "            best_valid_loss = valid_loss\n",
        "            torch.save([model.params, model.state_dict()], save_path)\n",
        "            # torch.save([model.params, model.state_dict()], save_path)\n",
        "\n",
        "        print(f'Epoch: {epoch+1:02} | Time: {epoch_mins}m {epoch_secs}s')\n",
        "        print(f'\\tTrain Loss: {train_loss:.3f} | Train PPL: {math.exp(train_loss):7.3f}')\n",
        "        print(f'\\t Val. Loss: {valid_loss:.3f} |  Val. PPL: {math.exp(valid_loss):7.3f}')\n",
        "\n",
        "        #lower perplexity is better\n",
        "\n",
        "    # empty gpu cache to clear memory\n",
        "    del enc\n",
        "    del dec\n",
        "    del model\n",
        "    torch.cuda.empty_cache()\n",
        "    gc.collect()"
      ]
    },
    {
      "cell_type": "markdown",
      "metadata": {},
      "source": [
        "### Experiment with Attention Mechanism\n",
        "\n",
        "| Attention Variant | Training Loss | Training PPL | Validation Loss | Validation PPL |\n",
        "|-------------------|---------------|--------------|------------------|-----------------|\n",
        "| General           | 5.415         | 224.67       | 4.900            |  132.231           |\n",
        "| Multiplicative    | 5.307         | 201.66       | 4.862            | 129.31             |\n",
        "| Additive          | 5.171         | 176.082      | 4.731            | 113.436            |\n"
      ]
    },
    {
      "cell_type": "code",
      "execution_count": 60,
      "metadata": {
        "id": "ztdSaAbc8pm7"
      },
      "outputs": [],
      "source": [
        "# Create DataLoader for training data with batching and shuffling\n",
        "train_loader = DataLoader(dataset['train'], batch_size=batch_size, shuffle=True, collate_fn=collate_batch)\n",
        "\n",
        "# Create DataLoader for validation data with batching (no shuffling during validation)\n",
        "valid_loader = DataLoader(dataset['validation'], batch_size=batch_size, shuffle=False, collate_fn=collate_batch)\n",
        "\n",
        "# Create DataLoader for test data with batching (no shuffling during testing)\n",
        "test_loader = DataLoader(dataset['test'], batch_size=batch_size, shuffle=False, collate_fn=collate_batch)\n",
        "\n",
        "# Calculate the number of batches in each DataLoader\n",
        "train_loader_length = len(list(iter(train_loader)))\n",
        "val_loader_length = len(list(iter(valid_loader)))\n",
        "test_loader_length = len(list(iter(test_loader)))\n"
      ]
    },
    {
      "cell_type": "code",
      "execution_count": 61,
      "metadata": {
        "id": "bOYr6L-uvF7W"
      },
      "outputs": [],
      "source": [
        "import gc\n",
        "import time\n",
        "import math\n",
        "\n",
        "input_dim   = len(vocab_transform[SRC_LANGUAGE])\n",
        "output_dim  = len(vocab_transform[TRG_LANGUAGE])\n",
        "\n",
        "\n",
        "batch_size = 32\n",
        "lr = 0.0000001\n",
        "hid_dim = 256\n",
        "enc_layers = 3\n",
        "dec_layers = 3\n",
        "enc_heads = 8\n",
        "dec_heads = 8\n",
        "enc_pf_dim = 512\n",
        "dec_pf_dim = 512\n",
        "enc_dropout = 0.1\n",
        "dec_dropout = 0.1\n",
        "\n",
        "SRC_PAD_IDX = PAD_IDX\n",
        "\n",
        "train_loader = DataLoader(dataset['train'], batch_size=batch_size, shuffle=True, collate_fn=collate_batch)\n",
        "valid_loader = DataLoader(dataset['validation'],   batch_size=batch_size, shuffle=False, collate_fn=collate_batch)\n",
        "test_loader  = DataLoader(dataset['test'],  batch_size=batch_size, shuffle=False, collate_fn=collate_batch)\n",
        "\n",
        "train_loader_length = len(list(iter(train_loader)))\n",
        "val_loader_length   = len(list(iter(valid_loader)))\n",
        "test_loader_length  = len(list(iter(test_loader)))\n",
        "\n",
        "\n",
        "num_epochs = 5\n",
        "clip       = 1"
      ]
    },
    {
      "cell_type": "markdown",
      "metadata": {},
      "source": [
        "###  Evaluation and Verification"
      ]
    },
    {
      "cell_type": "markdown",
      "metadata": {},
      "source": [
        "#### General Model Training"
      ]
    },
    {
      "cell_type": "code",
      "execution_count": 62,
      "metadata": {
        "colab": {
          "base_uri": "https://localhost:8080/"
        },
        "id": "pBPXl1uwiraP",
        "outputId": "a03ca4f6-c57d-4c76-ebf4-3ea1c8c3bab7"
      },
      "outputs": [
        {
          "name": "stdout",
          "output_type": "stream",
          "text": [
            "\n",
            "##### general #####\n",
            "Epoch: 01 | Time: 5m 3s\n",
            "\tTrain Loss: 8.485 | Train PPL: 4840.481\n",
            "\tVal. Loss: 7.289 | Val. PPL: 1464.592\n",
            "Epoch: 02 | Time: 5m 5s\n",
            "\tTrain Loss: 7.190 | Train PPL: 1326.054\n",
            "\tVal. Loss: 6.246 | Val. PPL: 516.161\n",
            "Epoch: 03 | Time: 5m 16s\n",
            "\tTrain Loss: 6.312 | Train PPL: 550.966\n",
            "\tVal. Loss: 5.581 | Val. PPL: 265.248\n",
            "Epoch: 04 | Time: 5m 18s\n",
            "\tTrain Loss: 5.728 | Train PPL: 307.443\n",
            "\tVal. Loss: 5.137 | Val. PPL: 170.242\n",
            "Epoch: 05 | Time: 5m 19s\n",
            "\tTrain Loss: 5.307 | Train PPL: 201.750\n",
            "\tVal. Loss: 4.808 | Val. PPL: 122.483\n",
            "Final Training Loss: 5.307 | Final Validation Loss: 4.808 | Final Train PPL 201.750 | Final Valid PPL 122.483 | Average Time per epoch (312.86238622665405,) | Overall time 0.050057981796264646\n"
          ]
        }
      ],
      "source": [
        "## Working with general attention\n",
        "attn_variant = \"general\"\n",
        "\n",
        "enc = Encoder(input_dim,\n",
        "              hid_dim,\n",
        "              enc_layers,\n",
        "              enc_heads,\n",
        "              enc_pf_dim,\n",
        "              enc_dropout,\n",
        "              attn_variant,\n",
        "              device)\n",
        "\n",
        "dec = Decoder(output_dim,\n",
        "              hid_dim,\n",
        "              dec_layers,\n",
        "              dec_heads,\n",
        "              dec_pf_dim,\n",
        "              dec_dropout,\n",
        "              attn_variant,\n",
        "              device)\n",
        "\n",
        "model = Seq2SeqTransformer(enc, dec, SRC_PAD_IDX, TRG_PAD_IDX, device).to(device)\n",
        "model.apply(initialize_weights)\n",
        "\n",
        "#training hyperparameters\n",
        "optimizer = optim.Adam(model.parameters(), lr=lr)\n",
        "criterion = nn.CrossEntropyLoss(ignore_index = TRG_PAD_IDX) #combine softmax with cross entropy\n",
        "\n",
        "best_valid_loss = float('inf')\n",
        "train_losses = []\n",
        "valid_losses = []\n",
        "\n",
        "\n",
        "model = Seq2SeqTransformer(enc, dec, SRC_PAD_IDX, TRG_PAD_IDX, device).to(device)\n",
        "model.apply(initialize_weights)\n",
        "\n",
        "best_valid_loss = float('inf')\n",
        "train_losses_general = []\n",
        "valid_losses_general = []\n",
        "print(f'\\n##### {attn_variant} #####')\n",
        "\n",
        "total_epoch_time = 0  # Variable to store the total time taken for all epochs\n",
        "\n",
        "for epoch in range(num_epochs):\n",
        "    start_time = time.time()\n",
        "\n",
        "    train_loss = train(model, train_loader, optimizer, criterion, clip, train_loader_length)\n",
        "    valid_loss = evaluate(model, valid_loader, criterion, val_loader_length)\n",
        "\n",
        "    # for plotting\n",
        "    train_losses_general.append(train_loss)\n",
        "    valid_losses_general.append(valid_loss)\n",
        "\n",
        "    end_time = time.time()\n",
        "\n",
        "    epoch_mins, epoch_secs = epoch_time(start_time, end_time)\n",
        "    total_epoch_time += end_time - start_time\n",
        "\n",
        "    if valid_loss < best_valid_loss:\n",
        "        best_valid_loss = valid_loss\n",
        "\n",
        "    print(f'Epoch: {epoch+1:02} | Time: {epoch_mins}m {epoch_secs}s')\n",
        "    print(f'\\tTrain Loss: {train_loss:.3f} | Train PPL: {math.exp(train_loss):7.3f}')\n",
        "    print(f'\\tVal. Loss: {valid_loss:.3f} | Val. PPL: {math.exp(valid_loss):7.3f}')\n",
        "\n",
        "# Record all final losses_general\n",
        "final_train_loss = train_losses_general[-1]\n",
        "final_valid_loss = valid_losses_general[-1]\n",
        "final_train_ppl = math.exp(final_train_loss)\n",
        "final_valid_ppl = math.exp(final_valid_loss)\n",
        "\n",
        "# Calculate time taken for the traning\n",
        "average_time_per_epoch = total_epoch_time / num_epochs,\n",
        "overall_average_time = total_epoch_time / (num_epochs * len(train_loader))\n",
        "\n",
        "print(f'Final Training Loss: {final_train_loss:.3f} | Final Validation Loss: {final_valid_loss:.3f} | Final Train PPL {final_train_ppl:.3f} | Final Valid PPL {final_valid_ppl:.3f} | Average Time per epoch {average_time_per_epoch} | Overall time {overall_average_time}')\n"
      ]
    },
    {
      "cell_type": "code",
      "execution_count": 64,
      "metadata": {
        "colab": {
          "base_uri": "https://localhost:8080/",
          "height": 487
        },
        "id": "k1ZhvHZgbaSF",
        "outputId": "dcda85b8-c37c-40bb-f69a-9ca78710f219"
      },
      "outputs": [
        {
          "data": {
            "image/png": "[encoded data removed]",
            "text/plain": [
              "<Figure size 800x500 with 1 Axes>"
            ]
          },
          "metadata": {},
          "output_type": "display_data"
        }
      ],
      "source": [
        "import matplotlib.pyplot as plt\n",
        "\n",
        "fig = plt.figure(figsize=(8, 5))\n",
        "ax = fig.add_subplot(1, 1, 1)\n",
        "\n",
        "# Plot training and validation losses\n",
        "ax.plot(train_losses_general, label='Train Loss', color='blue')\n",
        "ax.plot(valid_losses_general, label='Valid Loss', color='orange')\n",
        "\n",
        "# Add title, labels, and legend\n",
        "plt.title('Training and Validation Losses Over Epochs for General Attention')\n",
        "plt.xlabel('Epochs')\n",
        "plt.ylabel('Loss')\n",
        "plt.legend()\n",
        "\n",
        "# Show the plot\n",
        "plt.show()\n"
      ]
    },
    {
      "cell_type": "code",
      "execution_count": 65,
      "metadata": {
        "colab": {
          "base_uri": "https://localhost:8080/"
        },
        "id": "klPOmUaOCgbk",
        "outputId": "0351a981-235d-4947-b311-07b2bc294d08"
      },
      "outputs": [
        {
          "name": "stdout",
          "output_type": "stream",
          "text": [
            "| Test Loss: 5.790 | Test PPL: 327.010 |\n"
          ]
        }
      ],
      "source": [
        "# Path to the saved model file\n",
        "save_path = 'general_Seq2SeqTransformer.pt'\n",
        "\n",
        "# Load the model parameters and state\n",
        "params, state = torch.load(save_path)\n",
        "\n",
        "# Initialize the Seq2SeqTransformer model using the loaded parameters and move it to the specified device\n",
        "model = Seq2SeqTransformer(**params, device=device).to(device)\n",
        "\n",
        "# Load the model state\n",
        "model.load_state_dict(state)\n",
        "\n",
        "# Evaluate the model on the test data and calculate the test loss\n",
        "test_loss = evaluate(model, test_loader, criterion, test_loader_length)\n",
        "\n",
        "# Print the test loss and test perplexity\n",
        "print(f'| Test Loss: {test_loss:.3f} | Test PPL: {math.exp(test_loss):7.3f} |')\n"
      ]
    },
    {
      "cell_type": "markdown",
      "metadata": {},
      "source": [
        "#### Training with Multiplicative Model"
      ]
    },
    {
      "cell_type": "code",
      "execution_count": 66,
      "metadata": {
        "colab": {
          "base_uri": "https://localhost:8080/"
        },
        "id": "fwq6xqVPjqx9",
        "outputId": "f7a117e8-603a-4c3e-8ee7-f991d738c223"
      },
      "outputs": [
        {
          "name": "stdout",
          "output_type": "stream",
          "text": [
            "\n",
            "##### multiplicative #####\n",
            "Epoch: 01 | Time: 5m 23s\n",
            "\tTrain Loss: 8.243 | Train PPL: 3799.826\n",
            "\tVal. Loss: 6.887 | Val. PPL: 979.583\n",
            "Epoch: 02 | Time: 6m 53s\n",
            "\tTrain Loss: 6.864 | Train PPL: 956.829\n",
            "\tVal. Loss: 5.960 | Val. PPL: 387.455\n",
            "Epoch: 03 | Time: 7m 32s\n",
            "\tTrain Loss: 6.121 | Train PPL: 455.138\n",
            "\tVal. Loss: 5.437 | Val. PPL: 229.756\n",
            "Epoch: 04 | Time: 6m 51s\n",
            "\tTrain Loss: 5.633 | Train PPL: 279.607\n",
            "\tVal. Loss: 5.080 | Val. PPL: 160.763\n",
            "Epoch: 05 | Time: 7m 11s\n",
            "\tTrain Loss: 5.264 | Train PPL: 193.284\n",
            "\tVal. Loss: 4.792 | Val. PPL: 120.493\n",
            "Final Training Loss: 5.264 | Final Validation Loss: 4.792 | Final Train PPL 193.284 | Final Valid PPL 120.493 | Average Time per epoch (406.6844720363617,) | Overall time 0.06506951552581787\n"
          ]
        }
      ],
      "source": [
        "## Working with multiplicative attention\n",
        "attn_variant = \"multiplicative\"\n",
        "\n",
        "enc = Encoder(input_dim,\n",
        "              hid_dim,\n",
        "              enc_layers,\n",
        "              enc_heads,\n",
        "              enc_pf_dim,\n",
        "              enc_dropout,\n",
        "              attn_variant,\n",
        "              device)\n",
        "\n",
        "dec = Decoder(output_dim,\n",
        "              hid_dim,\n",
        "              dec_layers,\n",
        "              dec_heads,\n",
        "              dec_pf_dim,\n",
        "              dec_dropout,\n",
        "              attn_variant,\n",
        "              device)\n",
        "\n",
        "model_multiplicative = Seq2SeqTransformer(enc, dec, SRC_PAD_IDX, TRG_PAD_IDX, device).to(device)\n",
        "model_multiplicative.apply(initialize_weights)\n",
        "\n",
        "#training hyperparameters\n",
        "optimizer = optim.Adam(model_multiplicative.parameters(), lr=lr)\n",
        "criterion = nn.CrossEntropyLoss(ignore_index = TRG_PAD_IDX) #combine softmax with cross entropy\n",
        "\n",
        "best_valid_loss = float('inf')\n",
        "train_losses = []\n",
        "valid_losses = []\n",
        "\n",
        "\n",
        "model_multiplicative = Seq2SeqTransformer(enc, dec, SRC_PAD_IDX, TRG_PAD_IDX, device).to(device)\n",
        "model_multiplicative.apply(initialize_weights)\n",
        "\n",
        "\n",
        "best_valid_loss = float('inf')\n",
        "train_losses_multiplicative = []\n",
        "valid_losses_multiplicative = []\n",
        "print(f'\\n##### {attn_variant} #####')\n",
        "\n",
        "total_epoch_time = 0  # Variable to store the total time taken for all epochs\n",
        "\n",
        "for epoch in range(num_epochs):\n",
        "    start_time = time.time()\n",
        "\n",
        "    train_loss = train(model_multiplicative, train_loader, optimizer, criterion, clip, train_loader_length)\n",
        "    valid_loss = evaluate(model_multiplicative, valid_loader, criterion, val_loader_length)\n",
        "\n",
        "    # for plotting\n",
        "    train_losses_multiplicative.append(train_loss)\n",
        "    valid_losses_multiplicative.append(valid_loss)\n",
        "\n",
        "    end_time = time.time()\n",
        "\n",
        "    epoch_mins, epoch_secs = epoch_time(start_time, end_time)\n",
        "    total_epoch_time += end_time - start_time\n",
        "\n",
        "    if valid_loss < best_valid_loss:\n",
        "        best_valid_loss = valid_loss\n",
        "\n",
        "    print(f'Epoch: {epoch+1:02} | Time: {epoch_mins}m {epoch_secs}s')\n",
        "    print(f'\\tTrain Loss: {train_loss:.3f} | Train PPL: {math.exp(train_loss):7.3f}')\n",
        "    print(f'\\tVal. Loss: {valid_loss:.3f} | Val. PPL: {math.exp(valid_loss):7.3f}')\n",
        "\n",
        "# Record all final losses_multiplicative\n",
        "final_train_loss = train_losses_multiplicative[-1]\n",
        "final_valid_loss = valid_losses_multiplicative[-1]\n",
        "final_train_ppl = math.exp(final_train_loss)\n",
        "final_valid_ppl = math.exp(final_valid_loss)\n",
        "\n",
        "# Calculate time taken for the traning\n",
        "average_time_per_epoch = total_epoch_time / num_epochs,\n",
        "overall_average_time = total_epoch_time / (num_epochs * len(train_loader))\n",
        "\n",
        "print(f'Final Training Loss: {final_train_loss:.3f} | Final Validation Loss: {final_valid_loss:.3f} | Final Train PPL {final_train_ppl:.3f} | Final Valid PPL {final_valid_ppl:.3f} | Average Time per epoch {average_time_per_epoch} | Overall time {overall_average_time}')\n"
      ]
    },
    {
      "cell_type": "code",
      "execution_count": 67,
      "metadata": {
        "colab": {
          "base_uri": "https://localhost:8080/",
          "height": 487
        },
        "id": "POlWJnTzkIQR",
        "outputId": "eafa37da-75b7-460d-e53a-7e34cea5d2fc"
      },
      "outputs": [
        {
          "data": {
            "image/png": "[encoded data removed]",
            "text/plain": [
              "<Figure size 800x500 with 1 Axes>"
            ]
          },
          "metadata": {},
          "output_type": "display_data"
        }
      ],
      "source": [
        "import matplotlib.pyplot as plt\n",
        "\n",
        "fig = plt.figure(figsize=(8, 5))\n",
        "ax = fig.add_subplot(1, 1, 1)\n",
        "\n",
        "# Plot training and validation losses\n",
        "ax.plot(train_losses_multiplicative, label='Train Loss', color='blue')\n",
        "ax.plot(valid_losses_multiplicative, label='Valid Loss', color='orange')\n",
        "\n",
        "# Add title, labels, and legend\n",
        "plt.title('Training and Validation Losses Over Epochs for Multiplicative Attention')\n",
        "plt.xlabel('Epochs')\n",
        "plt.ylabel('Loss')\n",
        "plt.legend()\n",
        "\n",
        "# Show the plot\n",
        "plt.show()\n"
      ]
    },
    {
      "cell_type": "code",
      "execution_count": 68,
      "metadata": {
        "colab": {
          "base_uri": "https://localhost:8080/"
        },
        "id": "82IfeiptCvXq",
        "outputId": "28520e16-5fcb-4931-aca5-edf66659c408"
      },
      "outputs": [
        {
          "name": "stdout",
          "output_type": "stream",
          "text": [
            "| Test Loss: 5.572 | Test PPL: 262.983 |\n"
          ]
        }
      ],
      "source": [
        "save_path = 'multiplicative_Seq2SeqTransformer.pt'\n",
        "params, state = torch.load(save_path)\n",
        "model = Seq2SeqTransformer(**params, device=device).to(device)\n",
        "model.load_state_dict(state)\n",
        "test_loss = evaluate(model, test_loader, criterion, test_loader_length)\n",
        "\n",
        "print(f'| Test Loss: {test_loss:.3f} | Test PPL: {math.exp(test_loss):7.3f} |')"
      ]
    },
    {
      "cell_type": "markdown",
      "metadata": {},
      "source": [
        "#### Training with Additive Model"
      ]
    },
    {
      "cell_type": "code",
      "execution_count": 69,
      "metadata": {
        "colab": {
          "base_uri": "https://localhost:8080/"
        },
        "id": "nbK7wsPZmv6L",
        "outputId": "0a4a75ec-7d69-472b-8af8-8ced51157c24"
      },
      "outputs": [
        {
          "name": "stdout",
          "output_type": "stream",
          "text": [
            "\n",
            "##### additive #####\n",
            "Epoch: 01 | Time: 8m 42s\n",
            "\tTrain Loss: 8.137 | Train PPL: 3419.022\n",
            "\tVal. Loss: 6.780 | Val. PPL: 879.964\n",
            "Epoch: 02 | Time: 8m 36s\n",
            "\tTrain Loss: 6.755 | Train PPL: 858.310\n",
            "\tVal. Loss: 5.902 | Val. PPL: 365.654\n",
            "Epoch: 03 | Time: 6m 30s\n",
            "\tTrain Loss: 6.058 | Train PPL: 427.566\n",
            "\tVal. Loss: 5.412 | Val. PPL: 224.102\n",
            "Epoch: 04 | Time: 8m 5s\n",
            "\tTrain Loss: 5.603 | Train PPL: 271.295\n",
            "\tVal. Loss: 5.081 | Val. PPL: 161.014\n",
            "Epoch: 05 | Time: 8m 43s\n",
            "\tTrain Loss: 5.256 | Train PPL: 191.792\n",
            "\tVal. Loss: 4.811 | Val. PPL: 122.884\n",
            "Final Training Loss: 5.256 | Final Validation Loss: 4.811 | Final Train PPL 191.792 | Final Valid PPL 122.884 | Average Time per epoch (487.93376331329347,) | Overall time 0.07806940213012695\n"
          ]
        }
      ],
      "source": [
        "# Working with additive attention\n",
        "attn_variant = \"additive\"\n",
        "\n",
        "enc = Encoder(input_dim,\n",
        "              hid_dim,\n",
        "              enc_layers,\n",
        "              enc_heads,\n",
        "              enc_pf_dim,\n",
        "              enc_dropout,\n",
        "              attn_variant,\n",
        "              device)\n",
        "\n",
        "dec = Decoder(output_dim,\n",
        "              hid_dim,\n",
        "              dec_layers,\n",
        "              dec_heads,\n",
        "              dec_pf_dim,\n",
        "              dec_dropout,\n",
        "              attn_variant,\n",
        "              device)\n",
        "\n",
        "model = Seq2SeqTransformer(enc, dec, SRC_PAD_IDX, TRG_PAD_IDX, device).to(device)\n",
        "model.apply(initialize_weights)\n",
        "\n",
        "#training hyperparameters\n",
        "optimizer = optim.Adam(model.parameters(), lr=lr)\n",
        "criterion = nn.CrossEntropyLoss(ignore_index = TRG_PAD_IDX) #combine softmax with cross entropy\n",
        "\n",
        "best_valid_loss = float('inf')\n",
        "train_losses = []\n",
        "valid_losses = []\n",
        "\n",
        "\n",
        "model = Seq2SeqTransformer(enc, dec, SRC_PAD_IDX, TRG_PAD_IDX, device).to(device)\n",
        "model.apply(initialize_weights)\n",
        "\n",
        "best_valid_loss = float('inf')\n",
        "train_losses = []\n",
        "valid_losses = []\n",
        "print(f'\\n##### {attn_variant} #####')\n",
        "\n",
        "total_epoch_time = 0  # Variable to store the total time taken for all epochs\n",
        "\n",
        "for epoch in range(num_epochs):\n",
        "    start_time = time.time()\n",
        "\n",
        "    train_loss = train(model, train_loader, optimizer, criterion, clip, train_loader_length)\n",
        "    valid_loss = evaluate(model, valid_loader, criterion, val_loader_length)\n",
        "\n",
        "    # for plotting\n",
        "    train_losses.append(train_loss)\n",
        "    valid_losses.append(valid_loss)\n",
        "\n",
        "    end_time = time.time()\n",
        "\n",
        "    epoch_mins, epoch_secs = epoch_time(start_time, end_time)\n",
        "    total_epoch_time += end_time - start_time\n",
        "\n",
        "    if valid_loss < best_valid_loss:\n",
        "        best_valid_loss = valid_loss\n",
        "\n",
        "    print(f'Epoch: {epoch+1:02} | Time: {epoch_mins}m {epoch_secs}s')\n",
        "    print(f'\\tTrain Loss: {train_loss:.3f} | Train PPL: {math.exp(train_loss):7.3f}')\n",
        "    print(f'\\tVal. Loss: {valid_loss:.3f} | Val. PPL: {math.exp(valid_loss):7.3f}')\n",
        "\n",
        "# Record all final losses\n",
        "final_train_loss = train_losses[-1]\n",
        "final_valid_loss = valid_losses[-1]\n",
        "final_train_ppl = math.exp(final_train_loss)\n",
        "final_valid_ppl = math.exp(final_valid_loss)\n",
        "\n",
        "# Calculate time taken for the traning\n",
        "average_time_per_epoch = total_epoch_time / num_epochs,\n",
        "overall_average_time = total_epoch_time / (num_epochs * len(train_loader))\n",
        "\n",
        "print(f'Final Training Loss: {final_train_loss:.3f} | Final Validation Loss: {final_valid_loss:.3f} | Final Train PPL {final_train_ppl:.3f} | Final Valid PPL {final_valid_ppl:.3f} | Average Time per epoch {average_time_per_epoch} | Overall time {overall_average_time}')\n"
      ]
    },
    {
      "cell_type": "code",
      "execution_count": 70,
      "metadata": {
        "colab": {
          "base_uri": "https://localhost:8080/"
        },
        "id": "nyeDHggYnFwM",
        "outputId": "fa21f572-beb6-4d1b-84a6-105f71bc2436"
      },
      "outputs": [
        {
          "name": "stdout",
          "output_type": "stream",
          "text": [
            "| Test Loss: 5.557 | Test PPL: 258.937 |\n"
          ]
        }
      ],
      "source": [
        "save_path = 'additive_Seq2SeqTransformer.pt'\n",
        "params, state = torch.load(save_path)\n",
        "model = Seq2SeqTransformer(**params, device=device).to(device)\n",
        "model.load_state_dict(state)\n",
        "test_loss = evaluate(model, test_loader, criterion, test_loader_length)\n",
        "\n",
        "print(f'| Test Loss: {test_loss:.3f} | Test PPL: {math.exp(test_loss):7.3f} |')"
      ]
    },
    {
      "cell_type": "code",
      "execution_count": 71,
      "metadata": {
        "colab": {
          "base_uri": "https://localhost:8080/",
          "height": 487
        },
        "id": "el0kgaNnnPdd",
        "outputId": "2ab9e174-b886-4a9a-e0aa-86dbc7178ddc"
      },
      "outputs": [
        {
          "data": {
            "image/png": "[encoded data removed]",
            "text/plain": [
              "<Figure size 800x500 with 1 Axes>"
            ]
          },
          "metadata": {},
          "output_type": "display_data"
        }
      ],
      "source": [
        "import matplotlib.pyplot as plt\n",
        "\n",
        "fig = plt.figure(figsize=(8, 5))\n",
        "ax = fig.add_subplot(1, 1, 1)\n",
        "\n",
        "# Plot training and validation losses\n",
        "ax.plot(train_losses, label='Train Loss', color='blue')\n",
        "ax.plot(valid_losses, label='Valid Loss', color='orange')\n",
        "\n",
        "# Add title, labels, and legend\n",
        "plt.title('Training and Validation Losses Over Epochs for additive Attention')\n",
        "plt.xlabel('Epochs')\n",
        "plt.ylabel('Loss')\n",
        "plt.legend()\n",
        "\n",
        "# Show the plot\n",
        "plt.show()\n"
      ]
    },
    {
      "cell_type": "markdown",
      "metadata": {
        "id": "dlRnfCqz3Cnj"
      },
      "source": [
        "## 7 Testing"
      ]
    },
    {
      "cell_type": "code",
      "execution_count": 72,
      "metadata": {
        "colab": {
          "base_uri": "https://localhost:8080/",
          "height": 36
        },
        "id": "HZmYCjQ8baSG",
        "outputId": "e5890370-0e4d-41bc-ebbd-84dcc9ad7277"
      },
      "outputs": [
        {
          "data": {
            "text/plain": [
              "'_Close All Folds'"
            ]
          },
          "execution_count": 72,
          "metadata": {},
          "output_type": "execute_result"
        }
      ],
      "source": [
        "dataset['test'][11]['en']"
      ]
    },
    {
      "cell_type": "code",
      "execution_count": 73,
      "metadata": {
        "colab": {
          "base_uri": "https://localhost:8080/",
          "height": 36
        },
        "id": "vxmzVEpPbaSG",
        "outputId": "e56639e0-6163-411d-cef3-ac79d95efa3f"
      },
      "outputs": [
        {
          "data": {
            "text/plain": [
              "'सबै फोल्डहरू बन्द गर्नुहोस्'"
            ]
          },
          "execution_count": 73,
          "metadata": {},
          "output_type": "execute_result"
        }
      ],
      "source": [
        "dataset['test'][11]['ne']"
      ]
    },
    {
      "cell_type": "code",
      "execution_count": 74,
      "metadata": {
        "colab": {
          "base_uri": "https://localhost:8080/"
        },
        "id": "_ToXQPnMbaSG",
        "outputId": "5805a57b-ece6-410a-f2a9-08a791e13b66"
      },
      "outputs": [
        {
          "name": "stdout",
          "output_type": "stream",
          "text": [
            "tensor([2, 0, 3], device='cuda:0')\n"
          ]
        }
      ],
      "source": [
        "# Get the source text from the test dataset at index 1 in English\n",
        "src_text = text_transform[SRC_LANGUAGE](dataset['test'][1]['en']).to(device)\n",
        "\n",
        "# Print or use the source text as needed\n",
        "print(src_text)\n"
      ]
    },
    {
      "cell_type": "code",
      "execution_count": 75,
      "metadata": {
        "colab": {
          "base_uri": "https://localhost:8080/"
        },
        "id": "gNVnJGDHbaSH",
        "outputId": "d949d16a-6087-4be7-d298-552e7a375e09"
      },
      "outputs": [
        {
          "data": {
            "text/plain": [
              "tensor([  2,   4, 707, 175, 751,   5,   3], device='cuda:0')"
            ]
          },
          "execution_count": 75,
          "metadata": {},
          "output_type": "execute_result"
        }
      ],
      "source": [
        "# Get the source text from the test dataset at index 1 in Nepali\n",
        "trg_text = text_transform[TRG_LANGUAGE](dataset['test'][1]['ne']).to(device)\n",
        "trg_text"
      ]
    },
    {
      "cell_type": "code",
      "execution_count": 76,
      "metadata": {
        "id": "eSjV64_PbaSH"
      },
      "outputs": [],
      "source": [
        "src_text = src_text.reshape(1, -1)  #because batch_size is 1"
      ]
    },
    {
      "cell_type": "code",
      "execution_count": 77,
      "metadata": {
        "id": "g2GCQh3jbaSH"
      },
      "outputs": [],
      "source": [
        "trg_text = trg_text.reshape(1, -1)"
      ]
    },
    {
      "cell_type": "code",
      "execution_count": 78,
      "metadata": {
        "colab": {
          "base_uri": "https://localhost:8080/"
        },
        "id": "D_DWTYOIbaSH",
        "outputId": "168140a1-f161-436b-823d-44eedba12a01"
      },
      "outputs": [
        {
          "data": {
            "text/plain": [
              "(torch.Size([1, 3]), torch.Size([1, 7]))"
            ]
          },
          "execution_count": 78,
          "metadata": {},
          "output_type": "execute_result"
        }
      ],
      "source": [
        "src_text.shape, trg_text.shape"
      ]
    },
    {
      "cell_type": "code",
      "execution_count": 79,
      "metadata": {
        "id": "cz-sZk34baSH"
      },
      "outputs": [],
      "source": [
        "text_length = torch.tensor([src_text.size(0)]).to(dtype=torch.int64)"
      ]
    },
    {
      "cell_type": "markdown",
      "metadata": {
        "id": "6sQwEd4J3O3_"
      },
      "source": [
        "### 7.1 Test with additive model"
      ]
    },
    {
      "cell_type": "code",
      "execution_count": 80,
      "metadata": {
        "colab": {
          "base_uri": "https://localhost:8080/"
        },
        "id": "_t9H51OnbaSI",
        "outputId": "9506b8e6-bb7e-4f84-99cb-22759ba5f260"
      },
      "outputs": [
        {
          "name": "stdout",
          "output_type": "stream",
          "text": [
            "Time taken for inference: 0.030365467071533203 seconds\n",
            "Model size: 27.71 MB\n"
          ]
        }
      ],
      "source": [
        "import os\n",
        "# let's pick one of our model, in this case the additive model\n",
        "load_path = 'model/additive_Seq2SeqTransformer.pt'\n",
        "\n",
        "params, state = torch.load(load_path)\n",
        "model = Seq2SeqTransformer(**params, device=device).to(device)\n",
        "model.load_state_dict(state)\n",
        "# Record the start time\n",
        "start_time = time.time()\n",
        "model.eval()\n",
        "with torch.no_grad():\n",
        "    output, attentions_additive = model(src_text, trg_text) #turn off teacher forcing\n",
        "# Record the end time\n",
        "end_time = time.time()\n",
        "\n",
        "# Calculate the elapsed time\n",
        "elapsed_time = end_time - start_time\n",
        "\n",
        "# Print or use the elapsed time as needed\n",
        "print(f\"Time taken for inference: {elapsed_time} seconds\")\n",
        "\n",
        "model_size = os.path.getsize(load_path) / (1024 * 1024)  # Size in megabytes\n",
        "\n",
        "# Print the model size\n",
        "print(f\"Model size: {model_size:.2f} MB\")"
      ]
    },
    {
      "cell_type": "code",
      "execution_count": 81,
      "metadata": {
        "colab": {
          "base_uri": "https://localhost:8080/"
        },
        "id": "RFwVZk4IbaSI",
        "outputId": "27029c7f-3033-425f-b154-883d4617cab1"
      },
      "outputs": [
        {
          "data": {
            "text/plain": [
              "torch.Size([1, 7, 4288])"
            ]
          },
          "execution_count": 81,
          "metadata": {},
          "output_type": "execute_result"
        }
      ],
      "source": [
        "output.shape #batch_size, trg_len, trg_output_dim"
      ]
    },
    {
      "cell_type": "markdown",
      "metadata": {
        "id": "OXA50Gm6baSI"
      },
      "source": [
        "Since batch size is 1, we just take off that dimension"
      ]
    },
    {
      "cell_type": "code",
      "execution_count": 82,
      "metadata": {
        "id": "Vp8LXiDnbaSI"
      },
      "outputs": [],
      "source": [
        "output = output.squeeze(0)"
      ]
    },
    {
      "cell_type": "code",
      "execution_count": 83,
      "metadata": {
        "colab": {
          "base_uri": "https://localhost:8080/"
        },
        "id": "I4AdUtWAbaSJ",
        "outputId": "0ddf2c39-0dcc-4c3c-af45-2c29fccfcdd7"
      },
      "outputs": [
        {
          "data": {
            "text/plain": [
              "torch.Size([7, 4288])"
            ]
          },
          "execution_count": 83,
          "metadata": {},
          "output_type": "execute_result"
        }
      ],
      "source": [
        "output.shape"
      ]
    },
    {
      "cell_type": "markdown",
      "metadata": {
        "id": "Nt3Q9W-SbaSJ"
      },
      "source": [
        "We shall remove the first token since it's zeroes anyway"
      ]
    },
    {
      "cell_type": "code",
      "execution_count": 84,
      "metadata": {
        "colab": {
          "base_uri": "https://localhost:8080/"
        },
        "id": "ZvIf-7f1baSJ",
        "outputId": "28a7fe55-d4c3-4e74-e919-83e0d872363e"
      },
      "outputs": [
        {
          "data": {
            "text/plain": [
              "torch.Size([6, 4288])"
            ]
          },
          "execution_count": 84,
          "metadata": {},
          "output_type": "execute_result"
        }
      ],
      "source": [
        "output = output[1:]\n",
        "output.shape #trg_len, trg_output_dim"
      ]
    },
    {
      "cell_type": "markdown",
      "metadata": {
        "id": "GFsMONhWbaSJ"
      },
      "source": [
        "Then we just take the top token with highest probabilities"
      ]
    },
    {
      "cell_type": "code",
      "execution_count": 85,
      "metadata": {
        "id": "ZXTLPNnubaSJ"
      },
      "outputs": [],
      "source": [
        "output_max = output.argmax(1) #returns max indices"
      ]
    },
    {
      "cell_type": "markdown",
      "metadata": {
        "id": "uP5Ic0BbbaSK"
      },
      "source": [
        "Get the mapping of the target language"
      ]
    },
    {
      "cell_type": "code",
      "execution_count": 86,
      "metadata": {
        "id": "592_BrH5baSK"
      },
      "outputs": [],
      "source": [
        "mapping = vocab_transform[TRG_LANGUAGE].get_itos()"
      ]
    },
    {
      "cell_type": "code",
      "execution_count": 87,
      "metadata": {
        "colab": {
          "base_uri": "https://localhost:8080/",
          "height": 235
        },
        "id": "4YplbdLHbaSK",
        "outputId": "c458eba6-7a88-4ac3-8ebc-e8ef30c4e85f"
      },
      "outputs": [
        {
          "name": "stdout",
          "output_type": "stream",
          "text": [
            "[SEP]\n",
            "<eos>\n",
            "[CLS]\n",
            "<eos>\n",
            "लुक\n",
            "[CLS]\n"
          ]
        }
      ],
      "source": [
        "output_additive = []\n",
        "for token in output_max:\n",
        "    token_str = mapping[token.item()]\n",
        "    # Check if the token is a language token\n",
        "    print(token_str)\n",
        "    if token_str not in ['[CLS]', '[SEP]', '[EOS]','<eos>']:\n",
        "        output_additive.append(token_str)\n"
      ]
    },
    {
      "cell_type": "code",
      "execution_count": 88,
      "metadata": {
        "colab": {
          "base_uri": "https://localhost:8080/"
        },
        "id": "NcZ3JuziS0h1",
        "outputId": "0c261643-f008-480d-8ccf-73100069e320"
      },
      "outputs": [
        {
          "name": "stdout",
          "output_type": "stream",
          "text": [
            "['लुक']\n"
          ]
        }
      ],
      "source": [
        "print(output_additive)"
      ]
    },
    {
      "cell_type": "markdown",
      "metadata": {
        "id": "i4W_eZOq3fuV"
      },
      "source": [
        "## 7.2 Test with Multiplicative Model"
      ]
    },
    {
      "cell_type": "code",
      "execution_count": 89,
      "metadata": {
        "colab": {
          "base_uri": "https://localhost:8080/"
        },
        "id": "XCcQw3Qn3jkJ",
        "outputId": "9359551a-8123-49f0-f2a6-5d9cc9b9f48f"
      },
      "outputs": [
        {
          "name": "stdout",
          "output_type": "stream",
          "text": [
            "Time taken for inference: 0.01761317253112793 seconds\n",
            "Model size: 27.71 MB\n"
          ]
        }
      ],
      "source": [
        "import os\n",
        "# let's pick one of our model, in this case the additive model\n",
        "load_path = 'model/general_Seq2SeqTransformer.pt'\n",
        "\n",
        "params, state = torch.load(load_path)\n",
        "model = Seq2SeqTransformer(**params, device=device).to(device)\n",
        "model.load_state_dict(state)\n",
        "\n",
        "model.eval()\n",
        "# Record the start time\n",
        "start_time = time.time()\n",
        "with torch.no_grad():\n",
        "    output, attentions_multiplicative = model(src_text, trg_text) #turn off teacher forcing\n",
        "# Record the end time\n",
        "end_time = time.time()\n",
        "\n",
        "# Calculate the elapsed time\n",
        "elapsed_time = end_time - start_time\n",
        "\n",
        "# Print or use the elapsed time as needed\n",
        "print(f\"Time taken for inference: {elapsed_time} seconds\")\n",
        "\n",
        "model_size = os.path.getsize(load_path) / (1024 * 1024)  # Size in megabytes\n",
        "\n",
        "# Print the model size\n",
        "print(f\"Model size: {model_size:.2f} MB\")\n"
      ]
    },
    {
      "cell_type": "code",
      "execution_count": 90,
      "metadata": {},
      "outputs": [
        {
          "data": {
            "text/plain": [
              "torch.Size([1, 7, 4288])"
            ]
          },
          "execution_count": 90,
          "metadata": {},
          "output_type": "execute_result"
        }
      ],
      "source": [
        "output.shape #batch_size, trg_len, trg_output_dim"
      ]
    },
    {
      "cell_type": "code",
      "execution_count": 91,
      "metadata": {},
      "outputs": [],
      "source": [
        "output = output.squeeze(0)"
      ]
    },
    {
      "cell_type": "code",
      "execution_count": 92,
      "metadata": {},
      "outputs": [
        {
          "data": {
            "text/plain": [
              "torch.Size([6, 4288])"
            ]
          },
          "execution_count": 92,
          "metadata": {},
          "output_type": "execute_result"
        }
      ],
      "source": [
        "output = output[1:]\n",
        "output.shape #trg_len, trg_output_dim"
      ]
    },
    {
      "cell_type": "code",
      "execution_count": 93,
      "metadata": {},
      "outputs": [],
      "source": [
        "output_max = output.argmax(1) #returns max indices"
      ]
    },
    {
      "cell_type": "code",
      "execution_count": 94,
      "metadata": {},
      "outputs": [],
      "source": [
        "mapping = vocab_transform[TRG_LANGUAGE].get_itos()"
      ]
    },
    {
      "cell_type": "code",
      "execution_count": 95,
      "metadata": {},
      "outputs": [
        {
          "name": "stdout",
          "output_type": "stream",
          "text": [
            "<eos>\n",
            "[SEP]\n",
            "[SEP]\n",
            "[SEP]\n",
            "लुक\n",
            "<eos>\n"
          ]
        }
      ],
      "source": [
        "output_additive = []\n",
        "for token in output_max:\n",
        "    token_str = mapping[token.item()]\n",
        "    # Check if the token is a language token\n",
        "    print(token_str)\n",
        "    if token_str not in ['[CLS]', '[SEP]', '[EOS]','<eos>']:\n",
        "        output_additive.append(token_str)\n"
      ]
    },
    {
      "cell_type": "markdown",
      "metadata": {
        "id": "87zjeyAA32tV"
      },
      "source": [
        "## 7.3 Test with General Model"
      ]
    },
    {
      "cell_type": "code",
      "execution_count": 96,
      "metadata": {
        "colab": {
          "base_uri": "https://localhost:8080/"
        },
        "id": "LaZOOGC7323y",
        "outputId": "26d8dfd9-2346-4a4e-a1e5-98b6c3e1065e"
      },
      "outputs": [
        {
          "name": "stdout",
          "output_type": "stream",
          "text": [
            "Time taken for inference: 0.018390178680419922 seconds\n",
            "Model size: 27.71 MB\n"
          ]
        }
      ],
      "source": [
        "import os\n",
        "# let's pick one of our model, in this case the additive model\n",
        "load_path = 'model/general_Seq2SeqTransformer.pt'\n",
        "\n",
        "params, state = torch.load(load_path)\n",
        "model = Seq2SeqTransformer(**params, device=device).to(device)\n",
        "model.load_state_dict(state)\n",
        "\n",
        "model.eval()\n",
        "# Record the start time\n",
        "start_time = time.time()\n",
        "with torch.no_grad():\n",
        "    output, attentions_general = model(src_text, trg_text) #turn off teacher forcing\n",
        "# Record the end time\n",
        "end_time = time.time()\n",
        "\n",
        "# Calculate the elapsed time\n",
        "elapsed_time = end_time - start_time\n",
        "\n",
        "# Print or use the elapsed time as needed\n",
        "print(f\"Time taken for inference: {elapsed_time} seconds\")\n",
        "\n",
        "model_size = os.path.getsize(load_path) / (1024 * 1024)  # Size in megabytes\n",
        "\n",
        "# Print the model size\n",
        "print(f\"Model size: {model_size:.2f} MB\")\n"
      ]
    },
    {
      "cell_type": "code",
      "execution_count": 97,
      "metadata": {},
      "outputs": [
        {
          "data": {
            "text/plain": [
              "torch.Size([1, 7, 4288])"
            ]
          },
          "execution_count": 97,
          "metadata": {},
          "output_type": "execute_result"
        }
      ],
      "source": [
        "output.shape #batch_size, trg_len, trg_output_dim"
      ]
    },
    {
      "cell_type": "code",
      "execution_count": 98,
      "metadata": {},
      "outputs": [],
      "source": [
        "output = output.squeeze(0)"
      ]
    },
    {
      "cell_type": "code",
      "execution_count": 99,
      "metadata": {},
      "outputs": [
        {
          "data": {
            "text/plain": [
              "torch.Size([7, 4288])"
            ]
          },
          "execution_count": 99,
          "metadata": {},
          "output_type": "execute_result"
        }
      ],
      "source": [
        "output.shape"
      ]
    },
    {
      "cell_type": "code",
      "execution_count": 100,
      "metadata": {},
      "outputs": [
        {
          "data": {
            "text/plain": [
              "torch.Size([6, 4288])"
            ]
          },
          "execution_count": 100,
          "metadata": {},
          "output_type": "execute_result"
        }
      ],
      "source": [
        "output = output[1:]\n",
        "output.shape #trg_len, trg_output_dim"
      ]
    },
    {
      "cell_type": "code",
      "execution_count": 101,
      "metadata": {},
      "outputs": [],
      "source": [
        "output_max = output.argmax(1) #returns max indices"
      ]
    },
    {
      "cell_type": "code",
      "execution_count": 102,
      "metadata": {},
      "outputs": [],
      "source": [
        "mapping = vocab_transform[TRG_LANGUAGE].get_itos()"
      ]
    },
    {
      "cell_type": "code",
      "execution_count": 103,
      "metadata": {},
      "outputs": [],
      "source": [
        "mapping = vocab_transform[TRG_LANGUAGE].get_itos()"
      ]
    },
    {
      "cell_type": "code",
      "execution_count": 104,
      "metadata": {},
      "outputs": [
        {
          "name": "stdout",
          "output_type": "stream",
          "text": [
            "<eos>\n",
            "[SEP]\n",
            "[SEP]\n",
            "[SEP]\n",
            "लुक\n",
            "<eos>\n"
          ]
        }
      ],
      "source": [
        "output_additive = []\n",
        "for token in output_max:\n",
        "    token_str = mapping[token.item()]\n",
        "    # Check if the token is a language token\n",
        "    print(token_str)\n",
        "    if token_str not in ['[CLS]', '[SEP]', '[EOS]','<eos>']:\n",
        "        output_additive.append(token_str)\n"
      ]
    },
    {
      "cell_type": "markdown",
      "metadata": {},
      "source": [
        "### Performance Analysis\n",
        "\n",
        "| Attention Variant | Average Time per epoch | Overall time | Inference Time | Model Size (MB)|    Test Loss      |  Test Perplexity     |\n",
        "|-------------------|------------------------|--------------|----------------|----------------|-------------------|----------------------|\n",
        "| General           |         198.01         |     0.0316   |      0.0101    |  27.71         |    4.842          |        126.783       |\n",
        "| Multiplicative    |         195.57         |     0.0312   |      0.0138    |  27.71         |    4.753          |        115.899       | \n",
        "| Additive          |         229.69         |     0.036    |      0.0229    |  27.71         |    4.788          |        120.098       |\n"
      ]
    },
    {
      "cell_type": "markdown",
      "metadata": {
        "id": "VDvQrRJwbaSK"
      },
      "source": [
        "## 8. Attention\n",
        "\n",
        "Let's display the attentions to understand how the source text links with the generated text"
      ]
    },
    {
      "cell_type": "code",
      "execution_count": 105,
      "metadata": {
        "colab": {
          "base_uri": "https://localhost:8080/"
        },
        "id": "gfu-Jwb2baSK",
        "outputId": "dcb1becc-7c2b-4626-eb47-baa7e5bec99e"
      },
      "outputs": [
        {
          "data": {
            "text/plain": [
              "(torch.Size([1, 8, 7, 3]), torch.Size([1, 8, 7, 3]), torch.Size([1, 8, 7, 3]))"
            ]
          },
          "execution_count": 105,
          "metadata": {},
          "output_type": "execute_result"
        }
      ],
      "source": [
        "attentions_additive.shape, attentions_general.shape, attentions_multiplicative.shape"
      ]
    },
    {
      "cell_type": "markdown",
      "metadata": {
        "id": "tUHgLSHabaSL"
      },
      "source": [
        "Since there are 8 heads, we can look at just 1 head for sake of simplicity."
      ]
    },
    {
      "cell_type": "code",
      "execution_count": 106,
      "metadata": {
        "colab": {
          "base_uri": "https://localhost:8080/"
        },
        "id": "pbHfr_0FbaSL",
        "outputId": "177fd271-5e8a-45b3-bd05-7d946f03d06f"
      },
      "outputs": [
        {
          "name": "stdout",
          "output_type": "stream",
          "text": [
            "torch.Size([7, 3]) torch.Size([1, 8, 7, 3]) torch.Size([7, 3])\n"
          ]
        }
      ],
      "source": [
        "# Extract attention matrices for the additive, general, and multiplicative attention mechanisms\n",
        "attention_additive = attentions_additive[0, 0, :, :]\n",
        "attention_general = attentions_general[0, 0, :, :]\n",
        "attention_multiplicative = attentions_general[0, 0, :, :]\n",
        "\n",
        "# Print or use the shapes of the attention matrices as needed\n",
        "print(attention_additive.shape, attentions_general.shape, attention_multiplicative.shape)\n"
      ]
    },
    {
      "cell_type": "code",
      "execution_count": 107,
      "metadata": {
        "colab": {
          "base_uri": "https://localhost:8080/"
        },
        "id": "H0K9-LQabaSL",
        "outputId": "b8c49d40-e2d5-4563-8aee-d545fb55a66a"
      },
      "outputs": [
        {
          "name": "stdout",
          "output_type": "stream",
          "text": [
            "['<sos>', 'Treize', '<eos>']\n"
          ]
        }
      ],
      "source": [
        "# Construct source tokens by adding start-of-sequence and end-of-sequence tokens\n",
        "src_tokens = ['<sos>'] + token_transform[SRC_LANGUAGE](dataset['test'][1]['en']) + ['<eos>']\n",
        "\n",
        "# Print or use the source tokens as needed\n",
        "print(src_tokens)\n"
      ]
    },
    {
      "cell_type": "code",
      "execution_count": 108,
      "metadata": {
        "colab": {
          "base_uri": "https://localhost:8080/"
        },
        "id": "Z0uBy5RtbaSL",
        "outputId": "982ea5d2-6c6f-41f0-d23e-f7e7fa2779a6"
      },
      "outputs": [
        {
          "data": {
            "text/plain": [
              "['<sos>', '<eos>', '[SEP]', '[SEP]', '[SEP]', 'लुक', '<eos>']"
            ]
          },
          "execution_count": 108,
          "metadata": {},
          "output_type": "execute_result"
        }
      ],
      "source": [
        "trg_tokens = ['<sos>'] + [mapping[token.item()] for token in output_max]\n",
        "trg_tokens"
      ]
    },
    {
      "cell_type": "markdown",
      "metadata": {},
      "source": [
        "### Attention Maps"
      ]
    },
    {
      "cell_type": "code",
      "execution_count": 109,
      "metadata": {
        "id": "X27iPrfhbaSM"
      },
      "outputs": [],
      "source": [
        "import matplotlib.ticker as ticker\n",
        "\n",
        "def display_attention(sentence, translation, attention, title):\n",
        "    \"\"\"\n",
        "    Display attention visualization.\n",
        "\n",
        "    Args:\n",
        "        sentence (list): List of tokens in the source sentence.\n",
        "        translation (list): List of tokens in the translated sentence.\n",
        "        attention (torch.Tensor): Attention scores.\n",
        "        title (str): Title for the attention plot.\n",
        "    \"\"\"\n",
        "    fig = plt.figure(figsize=(10,10))\n",
        "    ax = fig.add_subplot(111)\n",
        "\n",
        "    attention = attention.squeeze(1).cpu().detach().numpy()\n",
        "\n",
        "    cax = ax.matshow(attention, cmap='bone')\n",
        "\n",
        "    ax.tick_params(labelsize=10)\n",
        "\n",
        "    y_ticks =  [''] + translation\n",
        "    x_ticks =  [''] + sentence\n",
        "\n",
        "    ax.set_xticklabels(x_ticks, rotation=45)\n",
        "    ax.set_yticklabels(y_ticks)\n",
        "\n",
        "    ax.set_title(title)\n",
        "    ax.xaxis.set_major_locator(ticker.MultipleLocator(1))\n",
        "    ax.yaxis.set_major_locator(ticker.MultipleLocator(1))\n",
        "\n",
        "    plt.show()\n",
        "    plt.close()\n"
      ]
    },
    {
      "cell_type": "code",
      "execution_count": 110,
      "metadata": {
        "colab": {
          "base_uri": "https://localhost:8080/",
          "height": 960
        },
        "id": "CaTDLyfCbaSM",
        "outputId": "fb27ac8a-6f14-4361-f42e-8abdcbfed16d"
      },
      "outputs": [
        {
          "name": "stderr",
          "output_type": "stream",
          "text": [
            "C:\\Users\\LEGION\\AppData\\Local\\Temp\\ipykernel_22776\\1957664680.py:25: UserWarning: set_ticklabels() should only be used with a fixed number of ticks, i.e. after set_ticks() or using a FixedLocator.\n",
            "  ax.set_xticklabels(x_ticks, rotation=45)\n",
            "C:\\Users\\LEGION\\AppData\\Local\\Temp\\ipykernel_22776\\1957664680.py:26: UserWarning: set_ticklabels() should only be used with a fixed number of ticks, i.e. after set_ticks() or using a FixedLocator.\n",
            "  ax.set_yticklabels(y_ticks)\n",
            "C:\\Users\\LEGION\\AppData\\Local\\Packages\\PythonSoftwareFoundation.Python.3.11_qbz5n2kfra8p0\\LocalCache\\local-packages\\Python311\\site-packages\\IPython\\core\\pylabtools.py:152: UserWarning: Glyph 2354 (\\N{DEVANAGARI LETTER LA}) missing from current font.\n",
            "  fig.canvas.print_figure(bytes_io, **kw)\n",
            "C:\\Users\\LEGION\\AppData\\Local\\Packages\\PythonSoftwareFoundation.Python.3.11_qbz5n2kfra8p0\\LocalCache\\local-packages\\Python311\\site-packages\\IPython\\core\\pylabtools.py:152: UserWarning: Matplotlib currently does not support Devanagari natively.\n",
            "  fig.canvas.print_figure(bytes_io, **kw)\n",
            "C:\\Users\\LEGION\\AppData\\Local\\Packages\\PythonSoftwareFoundation.Python.3.11_qbz5n2kfra8p0\\LocalCache\\local-packages\\Python311\\site-packages\\IPython\\core\\pylabtools.py:152: UserWarning: Glyph 2369 (\\N{DEVANAGARI VOWEL SIGN U}) missing from current font.\n",
            "  fig.canvas.print_figure(bytes_io, **kw)\n",
            "C:\\Users\\LEGION\\AppData\\Local\\Packages\\PythonSoftwareFoundation.Python.3.11_qbz5n2kfra8p0\\LocalCache\\local-packages\\Python311\\site-packages\\IPython\\core\\pylabtools.py:152: UserWarning: Glyph 2325 (\\N{DEVANAGARI LETTER KA}) missing from current font.\n",
            "  fig.canvas.print_figure(bytes_io, **kw)\n"
          ]
        },
        {
          "data": {
            "image/png": "[encoded data removed]",
            "text/plain": [
              "<Figure size 1000x1000 with 1 Axes>"
            ]
          },
          "metadata": {},
          "output_type": "display_data"
        }
      ],
      "source": [
        "display_attention(src_tokens, trg_tokens, attention_multiplicative, \"multiplicative\")"
      ]
    },
    {
      "cell_type": "code",
      "execution_count": 111,
      "metadata": {
        "colab": {
          "base_uri": "https://localhost:8080/",
          "height": 960
        },
        "id": "amyEblwebCLD",
        "outputId": "b5df0f8a-498b-4b9f-918e-72221afa081c"
      },
      "outputs": [
        {
          "name": "stderr",
          "output_type": "stream",
          "text": [
            "C:\\Users\\LEGION\\AppData\\Local\\Temp\\ipykernel_22776\\1957664680.py:25: UserWarning: set_ticklabels() should only be used with a fixed number of ticks, i.e. after set_ticks() or using a FixedLocator.\n",
            "  ax.set_xticklabels(x_ticks, rotation=45)\n",
            "C:\\Users\\LEGION\\AppData\\Local\\Temp\\ipykernel_22776\\1957664680.py:26: UserWarning: set_ticklabels() should only be used with a fixed number of ticks, i.e. after set_ticks() or using a FixedLocator.\n",
            "  ax.set_yticklabels(y_ticks)\n",
            "C:\\Users\\LEGION\\AppData\\Local\\Packages\\PythonSoftwareFoundation.Python.3.11_qbz5n2kfra8p0\\LocalCache\\local-packages\\Python311\\site-packages\\IPython\\core\\pylabtools.py:152: UserWarning: Glyph 2354 (\\N{DEVANAGARI LETTER LA}) missing from current font.\n",
            "  fig.canvas.print_figure(bytes_io, **kw)\n",
            "C:\\Users\\LEGION\\AppData\\Local\\Packages\\PythonSoftwareFoundation.Python.3.11_qbz5n2kfra8p0\\LocalCache\\local-packages\\Python311\\site-packages\\IPython\\core\\pylabtools.py:152: UserWarning: Matplotlib currently does not support Devanagari natively.\n",
            "  fig.canvas.print_figure(bytes_io, **kw)\n",
            "C:\\Users\\LEGION\\AppData\\Local\\Packages\\PythonSoftwareFoundation.Python.3.11_qbz5n2kfra8p0\\LocalCache\\local-packages\\Python311\\site-packages\\IPython\\core\\pylabtools.py:152: UserWarning: Glyph 2369 (\\N{DEVANAGARI VOWEL SIGN U}) missing from current font.\n",
            "  fig.canvas.print_figure(bytes_io, **kw)\n",
            "C:\\Users\\LEGION\\AppData\\Local\\Packages\\PythonSoftwareFoundation.Python.3.11_qbz5n2kfra8p0\\LocalCache\\local-packages\\Python311\\site-packages\\IPython\\core\\pylabtools.py:152: UserWarning: Glyph 2325 (\\N{DEVANAGARI LETTER KA}) missing from current font.\n",
            "  fig.canvas.print_figure(bytes_io, **kw)\n"
          ]
        },
        {
          "data": {
            "image/png": "[encoded data removed]",
            "text/plain": [
              "<Figure size 1000x1000 with 1 Axes>"
            ]
          },
          "metadata": {},
          "output_type": "display_data"
        }
      ],
      "source": [
        "display_attention(src_tokens, trg_tokens, attention_general, \"general\")"
      ]
    },
    {
      "cell_type": "code",
      "execution_count": 112,
      "metadata": {
        "colab": {
          "base_uri": "https://localhost:8080/",
          "height": 960
        },
        "id": "UYxU06Wl4sm4",
        "outputId": "bb4fa2b0-24db-4658-d357-4e68ef604c2f"
      },
      "outputs": [
        {
          "name": "stderr",
          "output_type": "stream",
          "text": [
            "C:\\Users\\LEGION\\AppData\\Local\\Temp\\ipykernel_22776\\1957664680.py:25: UserWarning: set_ticklabels() should only be used with a fixed number of ticks, i.e. after set_ticks() or using a FixedLocator.\n",
            "  ax.set_xticklabels(x_ticks, rotation=45)\n",
            "C:\\Users\\LEGION\\AppData\\Local\\Temp\\ipykernel_22776\\1957664680.py:26: UserWarning: set_ticklabels() should only be used with a fixed number of ticks, i.e. after set_ticks() or using a FixedLocator.\n",
            "  ax.set_yticklabels(y_ticks)\n",
            "C:\\Users\\LEGION\\AppData\\Local\\Packages\\PythonSoftwareFoundation.Python.3.11_qbz5n2kfra8p0\\LocalCache\\local-packages\\Python311\\site-packages\\IPython\\core\\pylabtools.py:152: UserWarning: Glyph 2354 (\\N{DEVANAGARI LETTER LA}) missing from current font.\n",
            "  fig.canvas.print_figure(bytes_io, **kw)\n",
            "C:\\Users\\LEGION\\AppData\\Local\\Packages\\PythonSoftwareFoundation.Python.3.11_qbz5n2kfra8p0\\LocalCache\\local-packages\\Python311\\site-packages\\IPython\\core\\pylabtools.py:152: UserWarning: Matplotlib currently does not support Devanagari natively.\n",
            "  fig.canvas.print_figure(bytes_io, **kw)\n",
            "C:\\Users\\LEGION\\AppData\\Local\\Packages\\PythonSoftwareFoundation.Python.3.11_qbz5n2kfra8p0\\LocalCache\\local-packages\\Python311\\site-packages\\IPython\\core\\pylabtools.py:152: UserWarning: Glyph 2369 (\\N{DEVANAGARI VOWEL SIGN U}) missing from current font.\n",
            "  fig.canvas.print_figure(bytes_io, **kw)\n",
            "C:\\Users\\LEGION\\AppData\\Local\\Packages\\PythonSoftwareFoundation.Python.3.11_qbz5n2kfra8p0\\LocalCache\\local-packages\\Python311\\site-packages\\IPython\\core\\pylabtools.py:152: UserWarning: Glyph 2325 (\\N{DEVANAGARI LETTER KA}) missing from current font.\n",
            "  fig.canvas.print_figure(bytes_io, **kw)\n"
          ]
        },
        {
          "data": {
            "image/png": "[encoded data removed]",
            "text/plain": [
              "<Figure size 1000x1000 with 1 Axes>"
            ]
          },
          "metadata": {},
          "output_type": "display_data"
        }
      ],
      "source": [
        "display_attention(src_tokens, trg_tokens, attention_additive, \"additive\")"
      ]
    },
    {
      "cell_type": "markdown",
      "metadata": {},
      "source": [
        "### Training and Validation Metrics:\n",
        "\n",
        "1. **Loss and Perplexity:**\n",
        "   - **Additive Attention** achieves the lowest training loss and perplexity, indicating that it learns the training data well. Lower perplexity suggests that the model is more certain about its predictions.\n",
        "   - All attention variants show improvements in validation loss and perplexity compared to training, indicating that they generalize reasonably well to unseen data.\n",
        "\n",
        "#### Training Time:\n",
        "\n",
        "1. **Time per Epoch:**\n",
        "   - **Additive Attention** takes the longest time per epoch. It might be computationally more expensive due to its design.\n",
        "   - General and Multiplicative attention mechanisms have similar times per epoch.\n",
        "\n",
        "2. **Overall Time:**\n",
        "   - **Multiplicative Attention** has the lowest overall time, suggesting faster training convergence.\n",
        "\n",
        "#### Inference Metrics:\n",
        "\n",
        "1. **Inference Time:**\n",
        "   - **General Attention** has the lowest inference time, indicating faster predictions during translation.\n",
        "   - **Multiplicative Attention** has the highest inference time among the three.\n",
        "\n",
        "2. **Model Size:**\n",
        "   - The model size is the same for Multiplicative and Additive Attention, which could be attributed to their similar architectures.\n",
        "\n",
        "#### Translation Accuracy:\n",
        "\n",
        "1. **Accuracy:**\n",
        "   - All attention variants report 0.00% translation accuracy.\n",
        "\n",
        "#### Overall Analysis:\n",
        "\n",
        "- **Effectiveness of Attention Mechanisms:**\n",
        "  - **Additive Attention** appears to be the most effective in terms of training metrics but comes at the cost of increased training time.\n",
        "  - **Multiplicative Attention** shows efficiency in terms of training time and model size but might sacrifice a bit on training performance.\n",
        "\n",
        "- **Translation Accuracy:**\n",
        "  - The reported 0.00% translation accuracy requires further investigation. Possible reasons include:\n",
        "    - **Model Too Slow:** The model's complexity may lead to slow convergence during training.\n",
        "    - **Less Training Epoch:** The model might not have undergone enough training epochs to capture complex patterns in the data.\n",
        "    - **Overfitting:** The model may have overfit to the training data, resulting in poor generalization to new samples.\n",
        "\n",
        "- **Recommendations:**\n",
        "  - Validate the reported translation accuracy, refine the evaluation process, and investigate improvements in the model architecture or training strategy for more reliable and meaningful results.\n"
      ]
    },
    {
      "cell_type": "markdown",
      "metadata": {
        "id": "9Ec9rnRWPn85"
      },
      "source": [
        "# Web Application - Translation Model Documentation\n",
        "\n",
        "## Overview\n",
        "\n",
        "This documentation provides an overview of how the web application interacts with the language model for machine translation. It covers the key components, data flow, and the role of each module in the system.\n",
        "\n",
        "## Table of Contents\n",
        "\n",
        "1. [Introduction](#introduction)\n",
        "2. [System Architecture](#system-architecture)\n",
        "3. [Components](#components)\n",
        "   - [Frontend](#frontend)\n",
        "   - [Backend](#backend)\n",
        "   - [Language Model](#language-model)\n",
        "4. [Data Flow](#data-flow)\n",
        "5. [API Endpoints](#api-endpoints)\n",
        "6. [Configuration](#configuration)\n",
        "7. [Error Handling](#error-handling)\n",
        "8. [Security](#security)\n",
        "9. [Future Improvements](#future-improvements)\n",
        "\n",
        "## Introduction\n",
        "\n",
        "The web application interfaces with a language model to provide machine translation services. Users can input sentences in one language, and the application translates them into another language using the underlying language model.\n",
        "\n",
        "## System Architecture\n",
        "\n",
        "The system comprises three main components: Frontend, Backend, and Language Model.\n",
        "\n",
        "\n",
        "## Components\n",
        "\n",
        "### Frontend\n",
        "\n",
        "The frontend is responsible for user interaction. It gathers input from users, sends requests to the backend, and displays the translation results.\n",
        "\n",
        "### Backend\n",
        "\n",
        "The backend acts as an intermediary between the frontend and the language model. It handles user requests, preprocesses data, and communicates with the language model for translation.\n",
        "\n",
        "### Language Model\n",
        "\n",
        "The language model is the core component responsible for generating translations. It receives preprocessed input from the backend, performs translation, and returns the results. Here we have used the additive attention model as it had the least training loss, preplexity, validation loss and validation perplexity as well as good test perplexity and loss\n",
        "\n",
        "## Data Flow\n",
        "\n",
        "1. User inputs a sentence in the frontend.\n",
        "2. The frontend sends a request to the backend with the input sentence.\n",
        "3. The backend preprocesses the input and sends it to the language model.\n",
        "4. The language model generates a translation.\n",
        "5. The backend receives the translation and sends it back to the frontend.\n",
        "6. The frontend displays the translation to the user.\n",
        "\n",
        "## API Endpoints\n",
        "\n",
        "- **Translation Endpoint:**\n",
        "  - **Endpoint:** `/translate`\n",
        "  - **Method:** POST\n",
        "  - **Request Payload:** { \"input_sentence\": \"...\" }\n",
        "  - **Response Payload:** { \"translation\": \"...\" }\n",
        "\n",
        "## Configuration\n",
        "\n",
        "- **Language Model Configuration:**\n",
        "  - The path to the language model file.\n",
        "  - Model hyperparameters.\n",
        "\n",
        "- **Web Application Configuration:**\n",
        "  - Frontend and backend URLs.\n",
        "  - API endpoint configurations.\n",
        "\n",
        "## Error Handling\n",
        "\n",
        "The system handles errors gracefully and provides meaningful error messages to users. Common error scenarios include invalid input or issues with the language model.\n",
        "\n",
        "## Security\n",
        "\n",
        "- The system follows secure coding practices.\n",
        "- Input validation is performed at both the frontend and backend.\n",
        "- Sensitive information is encrypted during transmission.\n",
        "\n",
        "## Future Improvements\n",
        "\n",
        "- Implement caching for frequently translated sentences.\n",
        "- Explore optimization techniques for faster translations.\n",
        "- Enhance user interface and user experience.\n"
      ]
    }
  ],
  "metadata": {
    "accelerator": "GPU",
    "colab": {
      "gpuType": "T4",
      "provenance": []
    },
    "kernelspec": {
      "display_name": "Python 3",
      "name": "python3"
    },
    "language_info": {
      "codemirror_mode": {
        "name": "ipython",
        "version": 3
      },
      "file_extension": ".py",
      "mimetype": "text/x-python",
      "name": "python",
      "nbconvert_exporter": "python",
      "pygments_lexer": "ipython3",
      "version": "3.11.8"
    },
    "vscode": {
      "interpreter": {
        "hash": "714d3f4db9a58ba7d2f2a9a4fffe577af3df8551aebd380095064812e2e0a6a4"
      }
    },
    "widgets": {
      "application/vnd.jupyter.widget-state+json": {
        "047590d5a54b49148d2d2bdff021c329": {
          "model_module": "@jupyter-widgets/controls",
          "model_module_version": "1.5.0",
          "model_name": "ProgressStyleModel",
          "state": {
            "_model_module": "@jupyter-widgets/controls",
            "_model_module_version": "1.5.0",
            "_model_name": "ProgressStyleModel",
            "_view_count": null,
            "_view_module": "@jupyter-widgets/base",
            "_view_module_version": "1.2.0",
            "_view_name": "StyleView",
            "bar_color": null,
            "description_width": ""
          }
        },
        "0483114170824395a1a2ed4eb75bc907": {
          "model_module": "@jupyter-widgets/controls",
          "model_module_version": "1.5.0",
          "model_name": "HBoxModel",
          "state": {
            "_dom_classes": [],
            "_model_module": "@jupyter-widgets/controls",
            "_model_module_version": "1.5.0",
            "_model_name": "HBoxModel",
            "_view_count": null,
            "_view_module": "@jupyter-widgets/controls",
            "_view_module_version": "1.5.0",
            "_view_name": "HBoxView",
            "box_style": "",
            "children": [
              "IPY_MODEL_233a18ffce8d4e1eaf5bb4a702afa14c",
              "IPY_MODEL_91510b822d0e4ef3a92e8a5d4ed40324",
              "IPY_MODEL_90e17d094bb3428eae28cacdc4b4b6d2"
            ],
            "layout": "IPY_MODEL_845a7e377024449f94be90c147b1b75f"
          }
        },
        "081d4f5460d64c4982007f08f23f92f2": {
          "model_module": "@jupyter-widgets/base",
          "model_module_version": "1.2.0",
          "model_name": "LayoutModel",
          "state": {
            "_model_module": "@jupyter-widgets/base",
            "_model_module_version": "1.2.0",
            "_model_name": "LayoutModel",
            "_view_count": null,
            "_view_module": "@jupyter-widgets/base",
            "_view_module_version": "1.2.0",
            "_view_name": "LayoutView",
            "align_content": null,
            "align_items": null,
            "align_self": null,
            "border": null,
            "bottom": null,
            "display": null,
            "flex": null,
            "flex_flow": null,
            "grid_area": null,
            "grid_auto_columns": null,
            "grid_auto_flow": null,
            "grid_auto_rows": null,
            "grid_column": null,
            "grid_gap": null,
            "grid_row": null,
            "grid_template_areas": null,
            "grid_template_columns": null,
            "grid_template_rows": null,
            "height": null,
            "justify_content": null,
            "justify_items": null,
            "left": null,
            "margin": null,
            "max_height": null,
            "max_width": null,
            "min_height": null,
            "min_width": null,
            "object_fit": null,
            "object_position": null,
            "order": null,
            "overflow": null,
            "overflow_x": null,
            "overflow_y": null,
            "padding": null,
            "right": null,
            "top": null,
            "visibility": null,
            "width": null
          }
        },
        "089d80a0bdbf4205bf936fcb95f80bfc": {
          "model_module": "@jupyter-widgets/base",
          "model_module_version": "1.2.0",
          "model_name": "LayoutModel",
          "state": {
            "_model_module": "@jupyter-widgets/base",
            "_model_module_version": "1.2.0",
            "_model_name": "LayoutModel",
            "_view_count": null,
            "_view_module": "@jupyter-widgets/base",
            "_view_module_version": "1.2.0",
            "_view_name": "LayoutView",
            "align_content": null,
            "align_items": null,
            "align_self": null,
            "border": null,
            "bottom": null,
            "display": null,
            "flex": null,
            "flex_flow": null,
            "grid_area": null,
            "grid_auto_columns": null,
            "grid_auto_flow": null,
            "grid_auto_rows": null,
            "grid_column": null,
            "grid_gap": null,
            "grid_row": null,
            "grid_template_areas": null,
            "grid_template_columns": null,
            "grid_template_rows": null,
            "height": null,
            "justify_content": null,
            "justify_items": null,
            "left": null,
            "margin": null,
            "max_height": null,
            "max_width": null,
            "min_height": null,
            "min_width": null,
            "object_fit": null,
            "object_position": null,
            "order": null,
            "overflow": null,
            "overflow_x": null,
            "overflow_y": null,
            "padding": null,
            "right": null,
            "top": null,
            "visibility": null,
            "width": null
          }
        },
        "0c52e281ebf5481784c9878c593de622": {
          "model_module": "@jupyter-widgets/controls",
          "model_module_version": "1.5.0",
          "model_name": "HTMLModel",
          "state": {
            "_dom_classes": [],
            "_model_module": "@jupyter-widgets/controls",
            "_model_module_version": "1.5.0",
            "_model_name": "HTMLModel",
            "_view_count": null,
            "_view_module": "@jupyter-widgets/controls",
            "_view_module_version": "1.5.0",
            "_view_name": "HTMLView",
            "description": "",
            "description_tooltip": null,
            "layout": "IPY_MODEL_a7febb0871714dbab86a0a427085e459",
            "placeholder": "​",
            "style": "IPY_MODEL_c67de92087044fa2827b30e97566246b",
            "value": " 2000/2000 [00:00&lt;00:00, 6411.84 examples/s]"
          }
        },
        "0e736d937490457e8bf135711cd4b8e2": {
          "model_module": "@jupyter-widgets/base",
          "model_module_version": "1.2.0",
          "model_name": "LayoutModel",
          "state": {
            "_model_module": "@jupyter-widgets/base",
            "_model_module_version": "1.2.0",
            "_model_name": "LayoutModel",
            "_view_count": null,
            "_view_module": "@jupyter-widgets/base",
            "_view_module_version": "1.2.0",
            "_view_name": "LayoutView",
            "align_content": null,
            "align_items": null,
            "align_self": null,
            "border": null,
            "bottom": null,
            "display": null,
            "flex": null,
            "flex_flow": null,
            "grid_area": null,
            "grid_auto_columns": null,
            "grid_auto_flow": null,
            "grid_auto_rows": null,
            "grid_column": null,
            "grid_gap": null,
            "grid_row": null,
            "grid_template_areas": null,
            "grid_template_columns": null,
            "grid_template_rows": null,
            "height": null,
            "justify_content": null,
            "justify_items": null,
            "left": null,
            "margin": null,
            "max_height": null,
            "max_width": null,
            "min_height": null,
            "min_width": null,
            "object_fit": null,
            "object_position": null,
            "order": null,
            "overflow": null,
            "overflow_x": null,
            "overflow_y": null,
            "padding": null,
            "right": null,
            "top": null,
            "visibility": null,
            "width": null
          }
        },
        "0f1c2e31fe9f490392fde71837b7ca43": {
          "model_module": "@jupyter-widgets/base",
          "model_module_version": "1.2.0",
          "model_name": "LayoutModel",
          "state": {
            "_model_module": "@jupyter-widgets/base",
            "_model_module_version": "1.2.0",
            "_model_name": "LayoutModel",
            "_view_count": null,
            "_view_module": "@jupyter-widgets/base",
            "_view_module_version": "1.2.0",
            "_view_name": "LayoutView",
            "align_content": null,
            "align_items": null,
            "align_self": null,
            "border": null,
            "bottom": null,
            "display": null,
            "flex": null,
            "flex_flow": null,
            "grid_area": null,
            "grid_auto_columns": null,
            "grid_auto_flow": null,
            "grid_auto_rows": null,
            "grid_column": null,
            "grid_gap": null,
            "grid_row": null,
            "grid_template_areas": null,
            "grid_template_columns": null,
            "grid_template_rows": null,
            "height": null,
            "justify_content": null,
            "justify_items": null,
            "left": null,
            "margin": null,
            "max_height": null,
            "max_width": null,
            "min_height": null,
            "min_width": null,
            "object_fit": null,
            "object_position": null,
            "order": null,
            "overflow": null,
            "overflow_x": null,
            "overflow_y": null,
            "padding": null,
            "right": null,
            "top": null,
            "visibility": null,
            "width": null
          }
        },
        "0fb6793147574cd3829c27f851356c6d": {
          "model_module": "@jupyter-widgets/controls",
          "model_module_version": "1.5.0",
          "model_name": "HTMLModel",
          "state": {
            "_dom_classes": [],
            "_model_module": "@jupyter-widgets/controls",
            "_model_module_version": "1.5.0",
            "_model_name": "HTMLModel",
            "_view_count": null,
            "_view_module": "@jupyter-widgets/controls",
            "_view_module_version": "1.5.0",
            "_view_name": "HTMLView",
            "description": "",
            "description_tooltip": null,
            "layout": "IPY_MODEL_43b68b3cd03d4c4e936a1b0b79158852",
            "placeholder": "​",
            "style": "IPY_MODEL_d88edf8a87f6460da31e2b48efe94063",
            "value": " 200000/200000 [00:23&lt;00:00, 12498.47 examples/s]"
          }
        },
        "11cd29822d5647428dc2dd7ac753c357": {
          "model_module": "@jupyter-widgets/controls",
          "model_module_version": "1.5.0",
          "model_name": "DescriptionStyleModel",
          "state": {
            "_model_module": "@jupyter-widgets/controls",
            "_model_module_version": "1.5.0",
            "_model_name": "DescriptionStyleModel",
            "_view_count": null,
            "_view_module": "@jupyter-widgets/base",
            "_view_module_version": "1.2.0",
            "_view_name": "StyleView",
            "description_width": ""
          }
        },
        "139c597a4a4a4e5996f9f81c17dc2e9b": {
          "model_module": "@jupyter-widgets/controls",
          "model_module_version": "1.5.0",
          "model_name": "HBoxModel",
          "state": {
            "_dom_classes": [],
            "_model_module": "@jupyter-widgets/controls",
            "_model_module_version": "1.5.0",
            "_model_name": "HBoxModel",
            "_view_count": null,
            "_view_module": "@jupyter-widgets/controls",
            "_view_module_version": "1.5.0",
            "_view_name": "HBoxView",
            "box_style": "",
            "children": [
              "IPY_MODEL_9af0dd37362440b4a0b366a70915f855",
              "IPY_MODEL_e274e6a948e94f1a912445d2a54267e9",
              "IPY_MODEL_ffdb9415072648a8aa092b1394275941"
            ],
            "layout": "IPY_MODEL_6c60dea5b33547e3a1231649cc11eb79"
          }
        },
        "14d74885d96a48c5adddb2feb5162769": {
          "model_module": "@jupyter-widgets/controls",
          "model_module_version": "1.5.0",
          "model_name": "DescriptionStyleModel",
          "state": {
            "_model_module": "@jupyter-widgets/controls",
            "_model_module_version": "1.5.0",
            "_model_name": "DescriptionStyleModel",
            "_view_count": null,
            "_view_module": "@jupyter-widgets/base",
            "_view_module_version": "1.2.0",
            "_view_name": "StyleView",
            "description_width": ""
          }
        },
        "1e6fff6bd3c64a7986146caca2240f0e": {
          "model_module": "@jupyter-widgets/controls",
          "model_module_version": "1.5.0",
          "model_name": "HTMLModel",
          "state": {
            "_dom_classes": [],
            "_model_module": "@jupyter-widgets/controls",
            "_model_module_version": "1.5.0",
            "_model_name": "HTMLModel",
            "_view_count": null,
            "_view_module": "@jupyter-widgets/controls",
            "_view_module_version": "1.5.0",
            "_view_name": "HTMLView",
            "description": "",
            "description_tooltip": null,
            "layout": "IPY_MODEL_74bd8eb2b9684fe38d0f06cb6806c934",
            "placeholder": "​",
            "style": "IPY_MODEL_804769c0d4eb43a0862114506b351172",
            "value": " 2000/2000 [00:00&lt;00:00, 6203.24 examples/s]"
          }
        },
        "1f0eb23c9d7c4afe9e87fda27bf93dff": {
          "model_module": "@jupyter-widgets/controls",
          "model_module_version": "1.5.0",
          "model_name": "FloatProgressModel",
          "state": {
            "_dom_classes": [],
            "_model_module": "@jupyter-widgets/controls",
            "_model_module_version": "1.5.0",
            "_model_name": "FloatProgressModel",
            "_view_count": null,
            "_view_module": "@jupyter-widgets/controls",
            "_view_module_version": "1.5.0",
            "_view_name": "ProgressView",
            "bar_style": "success",
            "description": "",
            "description_tooltip": null,
            "layout": "IPY_MODEL_bf59349ea753441384ef928e3c11fd83",
            "max": 2000,
            "min": 0,
            "orientation": "horizontal",
            "style": "IPY_MODEL_28afaaafc8f54a60aa423197406a533a",
            "value": 2000
          }
        },
        "233a18ffce8d4e1eaf5bb4a702afa14c": {
          "model_module": "@jupyter-widgets/controls",
          "model_module_version": "1.5.0",
          "model_name": "HTMLModel",
          "state": {
            "_dom_classes": [],
            "_model_module": "@jupyter-widgets/controls",
            "_model_module_version": "1.5.0",
            "_model_name": "HTMLModel",
            "_view_count": null,
            "_view_module": "@jupyter-widgets/controls",
            "_view_module_version": "1.5.0",
            "_view_name": "HTMLView",
            "description": "",
            "description_tooltip": null,
            "layout": "IPY_MODEL_7444bb2928774ca3a73e1ab96883c0f3",
            "placeholder": "​",
            "style": "IPY_MODEL_ea2eb91a7dc34abaa2e3f46d8c2f4e3f",
            "value": "Map: 100%"
          }
        },
        "28afaaafc8f54a60aa423197406a533a": {
          "model_module": "@jupyter-widgets/controls",
          "model_module_version": "1.5.0",
          "model_name": "ProgressStyleModel",
          "state": {
            "_model_module": "@jupyter-widgets/controls",
            "_model_module_version": "1.5.0",
            "_model_name": "ProgressStyleModel",
            "_view_count": null,
            "_view_module": "@jupyter-widgets/base",
            "_view_module_version": "1.2.0",
            "_view_name": "StyleView",
            "bar_color": null,
            "description_width": ""
          }
        },
        "2e7cf39a11c84219af9e003d3d1b292e": {
          "model_module": "@jupyter-widgets/controls",
          "model_module_version": "1.5.0",
          "model_name": "DescriptionStyleModel",
          "state": {
            "_model_module": "@jupyter-widgets/controls",
            "_model_module_version": "1.5.0",
            "_model_name": "DescriptionStyleModel",
            "_view_count": null,
            "_view_module": "@jupyter-widgets/base",
            "_view_module_version": "1.2.0",
            "_view_name": "StyleView",
            "description_width": ""
          }
        },
        "315cce6935124f7294e186774d69ad05": {
          "model_module": "@jupyter-widgets/controls",
          "model_module_version": "1.5.0",
          "model_name": "ProgressStyleModel",
          "state": {
            "_model_module": "@jupyter-widgets/controls",
            "_model_module_version": "1.5.0",
            "_model_name": "ProgressStyleModel",
            "_view_count": null,
            "_view_module": "@jupyter-widgets/base",
            "_view_module_version": "1.2.0",
            "_view_name": "StyleView",
            "bar_color": null,
            "description_width": ""
          }
        },
        "31b3a9f066664f1d870bf97215a78375": {
          "model_module": "@jupyter-widgets/base",
          "model_module_version": "1.2.0",
          "model_name": "LayoutModel",
          "state": {
            "_model_module": "@jupyter-widgets/base",
            "_model_module_version": "1.2.0",
            "_model_name": "LayoutModel",
            "_view_count": null,
            "_view_module": "@jupyter-widgets/base",
            "_view_module_version": "1.2.0",
            "_view_name": "LayoutView",
            "align_content": null,
            "align_items": null,
            "align_self": null,
            "border": null,
            "bottom": null,
            "display": null,
            "flex": null,
            "flex_flow": null,
            "grid_area": null,
            "grid_auto_columns": null,
            "grid_auto_flow": null,
            "grid_auto_rows": null,
            "grid_column": null,
            "grid_gap": null,
            "grid_row": null,
            "grid_template_areas": null,
            "grid_template_columns": null,
            "grid_template_rows": null,
            "height": null,
            "justify_content": null,
            "justify_items": null,
            "left": null,
            "margin": null,
            "max_height": null,
            "max_width": null,
            "min_height": null,
            "min_width": null,
            "object_fit": null,
            "object_position": null,
            "order": null,
            "overflow": null,
            "overflow_x": null,
            "overflow_y": null,
            "padding": null,
            "right": null,
            "top": null,
            "visibility": null,
            "width": null
          }
        },
        "35f66020ac9e44bdab50888e42ade4c3": {
          "model_module": "@jupyter-widgets/controls",
          "model_module_version": "1.5.0",
          "model_name": "HTMLModel",
          "state": {
            "_dom_classes": [],
            "_model_module": "@jupyter-widgets/controls",
            "_model_module_version": "1.5.0",
            "_model_name": "HTMLModel",
            "_view_count": null,
            "_view_module": "@jupyter-widgets/controls",
            "_view_module_version": "1.5.0",
            "_view_name": "HTMLView",
            "description": "",
            "description_tooltip": null,
            "layout": "IPY_MODEL_9f4557dc0b694191a2c64447b29bfadb",
            "placeholder": "​",
            "style": "IPY_MODEL_2e7cf39a11c84219af9e003d3d1b292e",
            "value": "Map: 100%"
          }
        },
        "36d8d2ad2818465e99a7ea70bb18decd": {
          "model_module": "@jupyter-widgets/base",
          "model_module_version": "1.2.0",
          "model_name": "LayoutModel",
          "state": {
            "_model_module": "@jupyter-widgets/base",
            "_model_module_version": "1.2.0",
            "_model_name": "LayoutModel",
            "_view_count": null,
            "_view_module": "@jupyter-widgets/base",
            "_view_module_version": "1.2.0",
            "_view_name": "LayoutView",
            "align_content": null,
            "align_items": null,
            "align_self": null,
            "border": null,
            "bottom": null,
            "display": null,
            "flex": null,
            "flex_flow": null,
            "grid_area": null,
            "grid_auto_columns": null,
            "grid_auto_flow": null,
            "grid_auto_rows": null,
            "grid_column": null,
            "grid_gap": null,
            "grid_row": null,
            "grid_template_areas": null,
            "grid_template_columns": null,
            "grid_template_rows": null,
            "height": null,
            "justify_content": null,
            "justify_items": null,
            "left": null,
            "margin": null,
            "max_height": null,
            "max_width": null,
            "min_height": null,
            "min_width": null,
            "object_fit": null,
            "object_position": null,
            "order": null,
            "overflow": null,
            "overflow_x": null,
            "overflow_y": null,
            "padding": null,
            "right": null,
            "top": null,
            "visibility": null,
            "width": null
          }
        },
        "3c800eba14394d1791ea1c48c1d51e86": {
          "model_module": "@jupyter-widgets/controls",
          "model_module_version": "1.5.0",
          "model_name": "FloatProgressModel",
          "state": {
            "_dom_classes": [],
            "_model_module": "@jupyter-widgets/controls",
            "_model_module_version": "1.5.0",
            "_model_name": "FloatProgressModel",
            "_view_count": null,
            "_view_module": "@jupyter-widgets/controls",
            "_view_module_version": "1.5.0",
            "_view_name": "ProgressView",
            "bar_style": "success",
            "description": "",
            "description_tooltip": null,
            "layout": "IPY_MODEL_4e4fd59fc0594a8e93f00a791b783e67",
            "max": 200000,
            "min": 0,
            "orientation": "horizontal",
            "style": "IPY_MODEL_315cce6935124f7294e186774d69ad05",
            "value": 200000
          }
        },
        "43b68b3cd03d4c4e936a1b0b79158852": {
          "model_module": "@jupyter-widgets/base",
          "model_module_version": "1.2.0",
          "model_name": "LayoutModel",
          "state": {
            "_model_module": "@jupyter-widgets/base",
            "_model_module_version": "1.2.0",
            "_model_name": "LayoutModel",
            "_view_count": null,
            "_view_module": "@jupyter-widgets/base",
            "_view_module_version": "1.2.0",
            "_view_name": "LayoutView",
            "align_content": null,
            "align_items": null,
            "align_self": null,
            "border": null,
            "bottom": null,
            "display": null,
            "flex": null,
            "flex_flow": null,
            "grid_area": null,
            "grid_auto_columns": null,
            "grid_auto_flow": null,
            "grid_auto_rows": null,
            "grid_column": null,
            "grid_gap": null,
            "grid_row": null,
            "grid_template_areas": null,
            "grid_template_columns": null,
            "grid_template_rows": null,
            "height": null,
            "justify_content": null,
            "justify_items": null,
            "left": null,
            "margin": null,
            "max_height": null,
            "max_width": null,
            "min_height": null,
            "min_width": null,
            "object_fit": null,
            "object_position": null,
            "order": null,
            "overflow": null,
            "overflow_x": null,
            "overflow_y": null,
            "padding": null,
            "right": null,
            "top": null,
            "visibility": null,
            "width": null
          }
        },
        "486f6e1cf3614774900ce9206505e80d": {
          "model_module": "@jupyter-widgets/controls",
          "model_module_version": "1.5.0",
          "model_name": "DescriptionStyleModel",
          "state": {
            "_model_module": "@jupyter-widgets/controls",
            "_model_module_version": "1.5.0",
            "_model_name": "DescriptionStyleModel",
            "_view_count": null,
            "_view_module": "@jupyter-widgets/base",
            "_view_module_version": "1.2.0",
            "_view_name": "StyleView",
            "description_width": ""
          }
        },
        "491691de4bce4e8fb96e80eaff021549": {
          "model_module": "@jupyter-widgets/base",
          "model_module_version": "1.2.0",
          "model_name": "LayoutModel",
          "state": {
            "_model_module": "@jupyter-widgets/base",
            "_model_module_version": "1.2.0",
            "_model_name": "LayoutModel",
            "_view_count": null,
            "_view_module": "@jupyter-widgets/base",
            "_view_module_version": "1.2.0",
            "_view_name": "LayoutView",
            "align_content": null,
            "align_items": null,
            "align_self": null,
            "border": null,
            "bottom": null,
            "display": null,
            "flex": null,
            "flex_flow": null,
            "grid_area": null,
            "grid_auto_columns": null,
            "grid_auto_flow": null,
            "grid_auto_rows": null,
            "grid_column": null,
            "grid_gap": null,
            "grid_row": null,
            "grid_template_areas": null,
            "grid_template_columns": null,
            "grid_template_rows": null,
            "height": null,
            "justify_content": null,
            "justify_items": null,
            "left": null,
            "margin": null,
            "max_height": null,
            "max_width": null,
            "min_height": null,
            "min_width": null,
            "object_fit": null,
            "object_position": null,
            "order": null,
            "overflow": null,
            "overflow_x": null,
            "overflow_y": null,
            "padding": null,
            "right": null,
            "top": null,
            "visibility": null,
            "width": null
          }
        },
        "4b903167876e4373b50174aa4fa33932": {
          "model_module": "@jupyter-widgets/controls",
          "model_module_version": "1.5.0",
          "model_name": "HBoxModel",
          "state": {
            "_dom_classes": [],
            "_model_module": "@jupyter-widgets/controls",
            "_model_module_version": "1.5.0",
            "_model_name": "HBoxModel",
            "_view_count": null,
            "_view_module": "@jupyter-widgets/controls",
            "_view_module_version": "1.5.0",
            "_view_name": "HBoxView",
            "box_style": "",
            "children": [
              "IPY_MODEL_9bc17bcd44354de29d421cf22266d037",
              "IPY_MODEL_1f0eb23c9d7c4afe9e87fda27bf93dff",
              "IPY_MODEL_1e6fff6bd3c64a7986146caca2240f0e"
            ],
            "layout": "IPY_MODEL_0f1c2e31fe9f490392fde71837b7ca43"
          }
        },
        "4c88ece31a35443b9770523d95b929ec": {
          "model_module": "@jupyter-widgets/controls",
          "model_module_version": "1.5.0",
          "model_name": "FloatProgressModel",
          "state": {
            "_dom_classes": [],
            "_model_module": "@jupyter-widgets/controls",
            "_model_module_version": "1.5.0",
            "_model_name": "FloatProgressModel",
            "_view_count": null,
            "_view_module": "@jupyter-widgets/controls",
            "_view_module_version": "1.5.0",
            "_view_name": "ProgressView",
            "bar_style": "success",
            "description": "",
            "description_tooltip": null,
            "layout": "IPY_MODEL_7b4e4978939748449f69f21f8e3fb83b",
            "max": 2000,
            "min": 0,
            "orientation": "horizontal",
            "style": "IPY_MODEL_a84b8f0b31734b679697bcfcbed646ed",
            "value": 2000
          }
        },
        "4e0a70f62dfd4df5830be1c98d9850e9": {
          "model_module": "@jupyter-widgets/controls",
          "model_module_version": "1.5.0",
          "model_name": "DescriptionStyleModel",
          "state": {
            "_model_module": "@jupyter-widgets/controls",
            "_model_module_version": "1.5.0",
            "_model_name": "DescriptionStyleModel",
            "_view_count": null,
            "_view_module": "@jupyter-widgets/base",
            "_view_module_version": "1.2.0",
            "_view_name": "StyleView",
            "description_width": ""
          }
        },
        "4e4fd59fc0594a8e93f00a791b783e67": {
          "model_module": "@jupyter-widgets/base",
          "model_module_version": "1.2.0",
          "model_name": "LayoutModel",
          "state": {
            "_model_module": "@jupyter-widgets/base",
            "_model_module_version": "1.2.0",
            "_model_name": "LayoutModel",
            "_view_count": null,
            "_view_module": "@jupyter-widgets/base",
            "_view_module_version": "1.2.0",
            "_view_name": "LayoutView",
            "align_content": null,
            "align_items": null,
            "align_self": null,
            "border": null,
            "bottom": null,
            "display": null,
            "flex": null,
            "flex_flow": null,
            "grid_area": null,
            "grid_auto_columns": null,
            "grid_auto_flow": null,
            "grid_auto_rows": null,
            "grid_column": null,
            "grid_gap": null,
            "grid_row": null,
            "grid_template_areas": null,
            "grid_template_columns": null,
            "grid_template_rows": null,
            "height": null,
            "justify_content": null,
            "justify_items": null,
            "left": null,
            "margin": null,
            "max_height": null,
            "max_width": null,
            "min_height": null,
            "min_width": null,
            "object_fit": null,
            "object_position": null,
            "order": null,
            "overflow": null,
            "overflow_x": null,
            "overflow_y": null,
            "padding": null,
            "right": null,
            "top": null,
            "visibility": null,
            "width": null
          }
        },
        "4f0d04439fef49cc948ab8a58286fa0d": {
          "model_module": "@jupyter-widgets/controls",
          "model_module_version": "1.5.0",
          "model_name": "HTMLModel",
          "state": {
            "_dom_classes": [],
            "_model_module": "@jupyter-widgets/controls",
            "_model_module_version": "1.5.0",
            "_model_name": "HTMLModel",
            "_view_count": null,
            "_view_module": "@jupyter-widgets/controls",
            "_view_module_version": "1.5.0",
            "_view_name": "HTMLView",
            "description": "",
            "description_tooltip": null,
            "layout": "IPY_MODEL_b2bca91500d34db19f880209f6bed0e7",
            "placeholder": "​",
            "style": "IPY_MODEL_7a80e1084a9b48078eab1fc18e624446",
            "value": "Map: 100%"
          }
        },
        "511565c2ddd8437582924f0b9006df2e": {
          "model_module": "@jupyter-widgets/controls",
          "model_module_version": "1.5.0",
          "model_name": "HBoxModel",
          "state": {
            "_dom_classes": [],
            "_model_module": "@jupyter-widgets/controls",
            "_model_module_version": "1.5.0",
            "_model_name": "HBoxModel",
            "_view_count": null,
            "_view_module": "@jupyter-widgets/controls",
            "_view_module_version": "1.5.0",
            "_view_name": "HBoxView",
            "box_style": "",
            "children": [
              "IPY_MODEL_35f66020ac9e44bdab50888e42ade4c3",
              "IPY_MODEL_3c800eba14394d1791ea1c48c1d51e86",
              "IPY_MODEL_0fb6793147574cd3829c27f851356c6d"
            ],
            "layout": "IPY_MODEL_c43a1c695309420ab00af2882a2d77bc"
          }
        },
        "517d90a9822b4392b2b8f76b2b40b9d2": {
          "model_module": "@jupyter-widgets/controls",
          "model_module_version": "1.5.0",
          "model_name": "HTMLModel",
          "state": {
            "_dom_classes": [],
            "_model_module": "@jupyter-widgets/controls",
            "_model_module_version": "1.5.0",
            "_model_name": "HTMLModel",
            "_view_count": null,
            "_view_module": "@jupyter-widgets/controls",
            "_view_module_version": "1.5.0",
            "_view_name": "HTMLView",
            "description": "",
            "description_tooltip": null,
            "layout": "IPY_MODEL_0e736d937490457e8bf135711cd4b8e2",
            "placeholder": "​",
            "style": "IPY_MODEL_62340bc77453439180fed6c1e6dce3b4",
            "value": " 2000/2000 [00:00&lt;00:00, 2218.25 examples/s]"
          }
        },
        "54239a0e4eb34d1aa852a7276599db6f": {
          "model_module": "@jupyter-widgets/base",
          "model_module_version": "1.2.0",
          "model_name": "LayoutModel",
          "state": {
            "_model_module": "@jupyter-widgets/base",
            "_model_module_version": "1.2.0",
            "_model_name": "LayoutModel",
            "_view_count": null,
            "_view_module": "@jupyter-widgets/base",
            "_view_module_version": "1.2.0",
            "_view_name": "LayoutView",
            "align_content": null,
            "align_items": null,
            "align_self": null,
            "border": null,
            "bottom": null,
            "display": null,
            "flex": null,
            "flex_flow": null,
            "grid_area": null,
            "grid_auto_columns": null,
            "grid_auto_flow": null,
            "grid_auto_rows": null,
            "grid_column": null,
            "grid_gap": null,
            "grid_row": null,
            "grid_template_areas": null,
            "grid_template_columns": null,
            "grid_template_rows": null,
            "height": null,
            "justify_content": null,
            "justify_items": null,
            "left": null,
            "margin": null,
            "max_height": null,
            "max_width": null,
            "min_height": null,
            "min_width": null,
            "object_fit": null,
            "object_position": null,
            "order": null,
            "overflow": null,
            "overflow_x": null,
            "overflow_y": null,
            "padding": null,
            "right": null,
            "top": null,
            "visibility": null,
            "width": null
          }
        },
        "60ae8a96a28f4a11924433aa3129110a": {
          "model_module": "@jupyter-widgets/controls",
          "model_module_version": "1.5.0",
          "model_name": "HTMLModel",
          "state": {
            "_dom_classes": [],
            "_model_module": "@jupyter-widgets/controls",
            "_model_module_version": "1.5.0",
            "_model_name": "HTMLModel",
            "_view_count": null,
            "_view_module": "@jupyter-widgets/controls",
            "_view_module_version": "1.5.0",
            "_view_name": "HTMLView",
            "description": "",
            "description_tooltip": null,
            "layout": "IPY_MODEL_8466023c915a40bd94aa0feb287639e2",
            "placeholder": "​",
            "style": "IPY_MODEL_f4e0d4be95114dd5811bf8f9278ef2fd",
            "value": "Map: 100%"
          }
        },
        "621d836718da4e66a99e309fe2f53f37": {
          "model_module": "@jupyter-widgets/base",
          "model_module_version": "1.2.0",
          "model_name": "LayoutModel",
          "state": {
            "_model_module": "@jupyter-widgets/base",
            "_model_module_version": "1.2.0",
            "_model_name": "LayoutModel",
            "_view_count": null,
            "_view_module": "@jupyter-widgets/base",
            "_view_module_version": "1.2.0",
            "_view_name": "LayoutView",
            "align_content": null,
            "align_items": null,
            "align_self": null,
            "border": null,
            "bottom": null,
            "display": null,
            "flex": null,
            "flex_flow": null,
            "grid_area": null,
            "grid_auto_columns": null,
            "grid_auto_flow": null,
            "grid_auto_rows": null,
            "grid_column": null,
            "grid_gap": null,
            "grid_row": null,
            "grid_template_areas": null,
            "grid_template_columns": null,
            "grid_template_rows": null,
            "height": null,
            "justify_content": null,
            "justify_items": null,
            "left": null,
            "margin": null,
            "max_height": null,
            "max_width": null,
            "min_height": null,
            "min_width": null,
            "object_fit": null,
            "object_position": null,
            "order": null,
            "overflow": null,
            "overflow_x": null,
            "overflow_y": null,
            "padding": null,
            "right": null,
            "top": null,
            "visibility": null,
            "width": null
          }
        },
        "622f502b8e674974b7e8122b8c900648": {
          "model_module": "@jupyter-widgets/controls",
          "model_module_version": "1.5.0",
          "model_name": "HTMLModel",
          "state": {
            "_dom_classes": [],
            "_model_module": "@jupyter-widgets/controls",
            "_model_module_version": "1.5.0",
            "_model_name": "HTMLModel",
            "_view_count": null,
            "_view_module": "@jupyter-widgets/controls",
            "_view_module_version": "1.5.0",
            "_view_name": "HTMLView",
            "description": "",
            "description_tooltip": null,
            "layout": "IPY_MODEL_fe5520a23bb44e4499bb7d0d21c35af5",
            "placeholder": "​",
            "style": "IPY_MODEL_abf3c2a44ca840e0aa3bb68bed8c1041",
            "value": "Map: 100%"
          }
        },
        "62340bc77453439180fed6c1e6dce3b4": {
          "model_module": "@jupyter-widgets/controls",
          "model_module_version": "1.5.0",
          "model_name": "DescriptionStyleModel",
          "state": {
            "_model_module": "@jupyter-widgets/controls",
            "_model_module_version": "1.5.0",
            "_model_name": "DescriptionStyleModel",
            "_view_count": null,
            "_view_module": "@jupyter-widgets/base",
            "_view_module_version": "1.2.0",
            "_view_name": "StyleView",
            "description_width": ""
          }
        },
        "6c60dea5b33547e3a1231649cc11eb79": {
          "model_module": "@jupyter-widgets/base",
          "model_module_version": "1.2.0",
          "model_name": "LayoutModel",
          "state": {
            "_model_module": "@jupyter-widgets/base",
            "_model_module_version": "1.2.0",
            "_model_name": "LayoutModel",
            "_view_count": null,
            "_view_module": "@jupyter-widgets/base",
            "_view_module_version": "1.2.0",
            "_view_name": "LayoutView",
            "align_content": null,
            "align_items": null,
            "align_self": null,
            "border": null,
            "bottom": null,
            "display": null,
            "flex": null,
            "flex_flow": null,
            "grid_area": null,
            "grid_auto_columns": null,
            "grid_auto_flow": null,
            "grid_auto_rows": null,
            "grid_column": null,
            "grid_gap": null,
            "grid_row": null,
            "grid_template_areas": null,
            "grid_template_columns": null,
            "grid_template_rows": null,
            "height": null,
            "justify_content": null,
            "justify_items": null,
            "left": null,
            "margin": null,
            "max_height": null,
            "max_width": null,
            "min_height": null,
            "min_width": null,
            "object_fit": null,
            "object_position": null,
            "order": null,
            "overflow": null,
            "overflow_x": null,
            "overflow_y": null,
            "padding": null,
            "right": null,
            "top": null,
            "visibility": null,
            "width": null
          }
        },
        "7444bb2928774ca3a73e1ab96883c0f3": {
          "model_module": "@jupyter-widgets/base",
          "model_module_version": "1.2.0",
          "model_name": "LayoutModel",
          "state": {
            "_model_module": "@jupyter-widgets/base",
            "_model_module_version": "1.2.0",
            "_model_name": "LayoutModel",
            "_view_count": null,
            "_view_module": "@jupyter-widgets/base",
            "_view_module_version": "1.2.0",
            "_view_name": "LayoutView",
            "align_content": null,
            "align_items": null,
            "align_self": null,
            "border": null,
            "bottom": null,
            "display": null,
            "flex": null,
            "flex_flow": null,
            "grid_area": null,
            "grid_auto_columns": null,
            "grid_auto_flow": null,
            "grid_auto_rows": null,
            "grid_column": null,
            "grid_gap": null,
            "grid_row": null,
            "grid_template_areas": null,
            "grid_template_columns": null,
            "grid_template_rows": null,
            "height": null,
            "justify_content": null,
            "justify_items": null,
            "left": null,
            "margin": null,
            "max_height": null,
            "max_width": null,
            "min_height": null,
            "min_width": null,
            "object_fit": null,
            "object_position": null,
            "order": null,
            "overflow": null,
            "overflow_x": null,
            "overflow_y": null,
            "padding": null,
            "right": null,
            "top": null,
            "visibility": null,
            "width": null
          }
        },
        "74bd8eb2b9684fe38d0f06cb6806c934": {
          "model_module": "@jupyter-widgets/base",
          "model_module_version": "1.2.0",
          "model_name": "LayoutModel",
          "state": {
            "_model_module": "@jupyter-widgets/base",
            "_model_module_version": "1.2.0",
            "_model_name": "LayoutModel",
            "_view_count": null,
            "_view_module": "@jupyter-widgets/base",
            "_view_module_version": "1.2.0",
            "_view_name": "LayoutView",
            "align_content": null,
            "align_items": null,
            "align_self": null,
            "border": null,
            "bottom": null,
            "display": null,
            "flex": null,
            "flex_flow": null,
            "grid_area": null,
            "grid_auto_columns": null,
            "grid_auto_flow": null,
            "grid_auto_rows": null,
            "grid_column": null,
            "grid_gap": null,
            "grid_row": null,
            "grid_template_areas": null,
            "grid_template_columns": null,
            "grid_template_rows": null,
            "height": null,
            "justify_content": null,
            "justify_items": null,
            "left": null,
            "margin": null,
            "max_height": null,
            "max_width": null,
            "min_height": null,
            "min_width": null,
            "object_fit": null,
            "object_position": null,
            "order": null,
            "overflow": null,
            "overflow_x": null,
            "overflow_y": null,
            "padding": null,
            "right": null,
            "top": null,
            "visibility": null,
            "width": null
          }
        },
        "75f2f88078324ba5a3024d083fefe494": {
          "model_module": "@jupyter-widgets/base",
          "model_module_version": "1.2.0",
          "model_name": "LayoutModel",
          "state": {
            "_model_module": "@jupyter-widgets/base",
            "_model_module_version": "1.2.0",
            "_model_name": "LayoutModel",
            "_view_count": null,
            "_view_module": "@jupyter-widgets/base",
            "_view_module_version": "1.2.0",
            "_view_name": "LayoutView",
            "align_content": null,
            "align_items": null,
            "align_self": null,
            "border": null,
            "bottom": null,
            "display": null,
            "flex": null,
            "flex_flow": null,
            "grid_area": null,
            "grid_auto_columns": null,
            "grid_auto_flow": null,
            "grid_auto_rows": null,
            "grid_column": null,
            "grid_gap": null,
            "grid_row": null,
            "grid_template_areas": null,
            "grid_template_columns": null,
            "grid_template_rows": null,
            "height": null,
            "justify_content": null,
            "justify_items": null,
            "left": null,
            "margin": null,
            "max_height": null,
            "max_width": null,
            "min_height": null,
            "min_width": null,
            "object_fit": null,
            "object_position": null,
            "order": null,
            "overflow": null,
            "overflow_x": null,
            "overflow_y": null,
            "padding": null,
            "right": null,
            "top": null,
            "visibility": null,
            "width": null
          }
        },
        "766f4331140c49788d99dc175069bf00": {
          "model_module": "@jupyter-widgets/base",
          "model_module_version": "1.2.0",
          "model_name": "LayoutModel",
          "state": {
            "_model_module": "@jupyter-widgets/base",
            "_model_module_version": "1.2.0",
            "_model_name": "LayoutModel",
            "_view_count": null,
            "_view_module": "@jupyter-widgets/base",
            "_view_module_version": "1.2.0",
            "_view_name": "LayoutView",
            "align_content": null,
            "align_items": null,
            "align_self": null,
            "border": null,
            "bottom": null,
            "display": null,
            "flex": null,
            "flex_flow": null,
            "grid_area": null,
            "grid_auto_columns": null,
            "grid_auto_flow": null,
            "grid_auto_rows": null,
            "grid_column": null,
            "grid_gap": null,
            "grid_row": null,
            "grid_template_areas": null,
            "grid_template_columns": null,
            "grid_template_rows": null,
            "height": null,
            "justify_content": null,
            "justify_items": null,
            "left": null,
            "margin": null,
            "max_height": null,
            "max_width": null,
            "min_height": null,
            "min_width": null,
            "object_fit": null,
            "object_position": null,
            "order": null,
            "overflow": null,
            "overflow_x": null,
            "overflow_y": null,
            "padding": null,
            "right": null,
            "top": null,
            "visibility": null,
            "width": null
          }
        },
        "7a80e1084a9b48078eab1fc18e624446": {
          "model_module": "@jupyter-widgets/controls",
          "model_module_version": "1.5.0",
          "model_name": "DescriptionStyleModel",
          "state": {
            "_model_module": "@jupyter-widgets/controls",
            "_model_module_version": "1.5.0",
            "_model_name": "DescriptionStyleModel",
            "_view_count": null,
            "_view_module": "@jupyter-widgets/base",
            "_view_module_version": "1.2.0",
            "_view_name": "StyleView",
            "description_width": ""
          }
        },
        "7b4e4978939748449f69f21f8e3fb83b": {
          "model_module": "@jupyter-widgets/base",
          "model_module_version": "1.2.0",
          "model_name": "LayoutModel",
          "state": {
            "_model_module": "@jupyter-widgets/base",
            "_model_module_version": "1.2.0",
            "_model_name": "LayoutModel",
            "_view_count": null,
            "_view_module": "@jupyter-widgets/base",
            "_view_module_version": "1.2.0",
            "_view_name": "LayoutView",
            "align_content": null,
            "align_items": null,
            "align_self": null,
            "border": null,
            "bottom": null,
            "display": null,
            "flex": null,
            "flex_flow": null,
            "grid_area": null,
            "grid_auto_columns": null,
            "grid_auto_flow": null,
            "grid_auto_rows": null,
            "grid_column": null,
            "grid_gap": null,
            "grid_row": null,
            "grid_template_areas": null,
            "grid_template_columns": null,
            "grid_template_rows": null,
            "height": null,
            "justify_content": null,
            "justify_items": null,
            "left": null,
            "margin": null,
            "max_height": null,
            "max_width": null,
            "min_height": null,
            "min_width": null,
            "object_fit": null,
            "object_position": null,
            "order": null,
            "overflow": null,
            "overflow_x": null,
            "overflow_y": null,
            "padding": null,
            "right": null,
            "top": null,
            "visibility": null,
            "width": null
          }
        },
        "7f6d048608f84c8c8cc4fae3b79509bb": {
          "model_module": "@jupyter-widgets/controls",
          "model_module_version": "1.5.0",
          "model_name": "HTMLModel",
          "state": {
            "_dom_classes": [],
            "_model_module": "@jupyter-widgets/controls",
            "_model_module_version": "1.5.0",
            "_model_name": "HTMLModel",
            "_view_count": null,
            "_view_module": "@jupyter-widgets/controls",
            "_view_module_version": "1.5.0",
            "_view_name": "HTMLView",
            "description": "",
            "description_tooltip": null,
            "layout": "IPY_MODEL_36d8d2ad2818465e99a7ea70bb18decd",
            "placeholder": "​",
            "style": "IPY_MODEL_11cd29822d5647428dc2dd7ac753c357",
            "value": " 2000/2000 [00:00&lt;00:00, 5036.59 examples/s]"
          }
        },
        "7fb85c6ae2f641f8bf55e97ca92055f4": {
          "model_module": "@jupyter-widgets/base",
          "model_module_version": "1.2.0",
          "model_name": "LayoutModel",
          "state": {
            "_model_module": "@jupyter-widgets/base",
            "_model_module_version": "1.2.0",
            "_model_name": "LayoutModel",
            "_view_count": null,
            "_view_module": "@jupyter-widgets/base",
            "_view_module_version": "1.2.0",
            "_view_name": "LayoutView",
            "align_content": null,
            "align_items": null,
            "align_self": null,
            "border": null,
            "bottom": null,
            "display": null,
            "flex": null,
            "flex_flow": null,
            "grid_area": null,
            "grid_auto_columns": null,
            "grid_auto_flow": null,
            "grid_auto_rows": null,
            "grid_column": null,
            "grid_gap": null,
            "grid_row": null,
            "grid_template_areas": null,
            "grid_template_columns": null,
            "grid_template_rows": null,
            "height": null,
            "justify_content": null,
            "justify_items": null,
            "left": null,
            "margin": null,
            "max_height": null,
            "max_width": null,
            "min_height": null,
            "min_width": null,
            "object_fit": null,
            "object_position": null,
            "order": null,
            "overflow": null,
            "overflow_x": null,
            "overflow_y": null,
            "padding": null,
            "right": null,
            "top": null,
            "visibility": null,
            "width": null
          }
        },
        "804769c0d4eb43a0862114506b351172": {
          "model_module": "@jupyter-widgets/controls",
          "model_module_version": "1.5.0",
          "model_name": "DescriptionStyleModel",
          "state": {
            "_model_module": "@jupyter-widgets/controls",
            "_model_module_version": "1.5.0",
            "_model_name": "DescriptionStyleModel",
            "_view_count": null,
            "_view_module": "@jupyter-widgets/base",
            "_view_module_version": "1.2.0",
            "_view_name": "StyleView",
            "description_width": ""
          }
        },
        "8166c29e55214ebba71c69738eb59bcf": {
          "model_module": "@jupyter-widgets/base",
          "model_module_version": "1.2.0",
          "model_name": "LayoutModel",
          "state": {
            "_model_module": "@jupyter-widgets/base",
            "_model_module_version": "1.2.0",
            "_model_name": "LayoutModel",
            "_view_count": null,
            "_view_module": "@jupyter-widgets/base",
            "_view_module_version": "1.2.0",
            "_view_name": "LayoutView",
            "align_content": null,
            "align_items": null,
            "align_self": null,
            "border": null,
            "bottom": null,
            "display": null,
            "flex": null,
            "flex_flow": null,
            "grid_area": null,
            "grid_auto_columns": null,
            "grid_auto_flow": null,
            "grid_auto_rows": null,
            "grid_column": null,
            "grid_gap": null,
            "grid_row": null,
            "grid_template_areas": null,
            "grid_template_columns": null,
            "grid_template_rows": null,
            "height": null,
            "justify_content": null,
            "justify_items": null,
            "left": null,
            "margin": null,
            "max_height": null,
            "max_width": null,
            "min_height": null,
            "min_width": null,
            "object_fit": null,
            "object_position": null,
            "order": null,
            "overflow": null,
            "overflow_x": null,
            "overflow_y": null,
            "padding": null,
            "right": null,
            "top": null,
            "visibility": null,
            "width": null
          }
        },
        "845a7e377024449f94be90c147b1b75f": {
          "model_module": "@jupyter-widgets/base",
          "model_module_version": "1.2.0",
          "model_name": "LayoutModel",
          "state": {
            "_model_module": "@jupyter-widgets/base",
            "_model_module_version": "1.2.0",
            "_model_name": "LayoutModel",
            "_view_count": null,
            "_view_module": "@jupyter-widgets/base",
            "_view_module_version": "1.2.0",
            "_view_name": "LayoutView",
            "align_content": null,
            "align_items": null,
            "align_self": null,
            "border": null,
            "bottom": null,
            "display": null,
            "flex": null,
            "flex_flow": null,
            "grid_area": null,
            "grid_auto_columns": null,
            "grid_auto_flow": null,
            "grid_auto_rows": null,
            "grid_column": null,
            "grid_gap": null,
            "grid_row": null,
            "grid_template_areas": null,
            "grid_template_columns": null,
            "grid_template_rows": null,
            "height": null,
            "justify_content": null,
            "justify_items": null,
            "left": null,
            "margin": null,
            "max_height": null,
            "max_width": null,
            "min_height": null,
            "min_width": null,
            "object_fit": null,
            "object_position": null,
            "order": null,
            "overflow": null,
            "overflow_x": null,
            "overflow_y": null,
            "padding": null,
            "right": null,
            "top": null,
            "visibility": null,
            "width": null
          }
        },
        "8466023c915a40bd94aa0feb287639e2": {
          "model_module": "@jupyter-widgets/base",
          "model_module_version": "1.2.0",
          "model_name": "LayoutModel",
          "state": {
            "_model_module": "@jupyter-widgets/base",
            "_model_module_version": "1.2.0",
            "_model_name": "LayoutModel",
            "_view_count": null,
            "_view_module": "@jupyter-widgets/base",
            "_view_module_version": "1.2.0",
            "_view_name": "LayoutView",
            "align_content": null,
            "align_items": null,
            "align_self": null,
            "border": null,
            "bottom": null,
            "display": null,
            "flex": null,
            "flex_flow": null,
            "grid_area": null,
            "grid_auto_columns": null,
            "grid_auto_flow": null,
            "grid_auto_rows": null,
            "grid_column": null,
            "grid_gap": null,
            "grid_row": null,
            "grid_template_areas": null,
            "grid_template_columns": null,
            "grid_template_rows": null,
            "height": null,
            "justify_content": null,
            "justify_items": null,
            "left": null,
            "margin": null,
            "max_height": null,
            "max_width": null,
            "min_height": null,
            "min_width": null,
            "object_fit": null,
            "object_position": null,
            "order": null,
            "overflow": null,
            "overflow_x": null,
            "overflow_y": null,
            "padding": null,
            "right": null,
            "top": null,
            "visibility": null,
            "width": null
          }
        },
        "8c0e62501d2f4c7ba6ef8a09b917741c": {
          "model_module": "@jupyter-widgets/controls",
          "model_module_version": "1.5.0",
          "model_name": "HBoxModel",
          "state": {
            "_dom_classes": [],
            "_model_module": "@jupyter-widgets/controls",
            "_model_module_version": "1.5.0",
            "_model_name": "HBoxModel",
            "_view_count": null,
            "_view_module": "@jupyter-widgets/controls",
            "_view_module_version": "1.5.0",
            "_view_name": "HBoxView",
            "box_style": "",
            "children": [
              "IPY_MODEL_a271cdd3236e46be8f023b8e18399d6b",
              "IPY_MODEL_8d81a345beff4285a2a4454df7284b38",
              "IPY_MODEL_a770c1ce91134c7abf72d97d19b9d9b2"
            ],
            "layout": "IPY_MODEL_54239a0e4eb34d1aa852a7276599db6f"
          }
        },
        "8d81a345beff4285a2a4454df7284b38": {
          "model_module": "@jupyter-widgets/controls",
          "model_module_version": "1.5.0",
          "model_name": "FloatProgressModel",
          "state": {
            "_dom_classes": [],
            "_model_module": "@jupyter-widgets/controls",
            "_model_module_version": "1.5.0",
            "_model_name": "FloatProgressModel",
            "_view_count": null,
            "_view_module": "@jupyter-widgets/controls",
            "_view_module_version": "1.5.0",
            "_view_name": "ProgressView",
            "bar_style": "success",
            "description": "",
            "description_tooltip": null,
            "layout": "IPY_MODEL_491691de4bce4e8fb96e80eaff021549",
            "max": 200000,
            "min": 0,
            "orientation": "horizontal",
            "style": "IPY_MODEL_a60f2019698c43f0b26a98cf3e54149f",
            "value": 200000
          }
        },
        "90e17d094bb3428eae28cacdc4b4b6d2": {
          "model_module": "@jupyter-widgets/controls",
          "model_module_version": "1.5.0",
          "model_name": "HTMLModel",
          "state": {
            "_dom_classes": [],
            "_model_module": "@jupyter-widgets/controls",
            "_model_module_version": "1.5.0",
            "_model_name": "HTMLModel",
            "_view_count": null,
            "_view_module": "@jupyter-widgets/controls",
            "_view_module_version": "1.5.0",
            "_view_name": "HTMLView",
            "description": "",
            "description_tooltip": null,
            "layout": "IPY_MODEL_75f2f88078324ba5a3024d083fefe494",
            "placeholder": "​",
            "style": "IPY_MODEL_c4a5bc83e1d146408b5ff328e8051f4a",
            "value": " 200000/200000 [00:29&lt;00:00, 7153.35 examples/s]"
          }
        },
        "91510b822d0e4ef3a92e8a5d4ed40324": {
          "model_module": "@jupyter-widgets/controls",
          "model_module_version": "1.5.0",
          "model_name": "FloatProgressModel",
          "state": {
            "_dom_classes": [],
            "_model_module": "@jupyter-widgets/controls",
            "_model_module_version": "1.5.0",
            "_model_name": "FloatProgressModel",
            "_view_count": null,
            "_view_module": "@jupyter-widgets/controls",
            "_view_module_version": "1.5.0",
            "_view_name": "ProgressView",
            "bar_style": "success",
            "description": "",
            "description_tooltip": null,
            "layout": "IPY_MODEL_a5841958e6ff4c26a874aaff6250ac18",
            "max": 200000,
            "min": 0,
            "orientation": "horizontal",
            "style": "IPY_MODEL_922ca56ad764447bbd83f05f3d26edca",
            "value": 200000
          }
        },
        "922ca56ad764447bbd83f05f3d26edca": {
          "model_module": "@jupyter-widgets/controls",
          "model_module_version": "1.5.0",
          "model_name": "ProgressStyleModel",
          "state": {
            "_model_module": "@jupyter-widgets/controls",
            "_model_module_version": "1.5.0",
            "_model_name": "ProgressStyleModel",
            "_view_count": null,
            "_view_module": "@jupyter-widgets/base",
            "_view_module_version": "1.2.0",
            "_view_name": "StyleView",
            "bar_color": null,
            "description_width": ""
          }
        },
        "96a30d18c82e40dd91d24688c1752b64": {
          "model_module": "@jupyter-widgets/base",
          "model_module_version": "1.2.0",
          "model_name": "LayoutModel",
          "state": {
            "_model_module": "@jupyter-widgets/base",
            "_model_module_version": "1.2.0",
            "_model_name": "LayoutModel",
            "_view_count": null,
            "_view_module": "@jupyter-widgets/base",
            "_view_module_version": "1.2.0",
            "_view_name": "LayoutView",
            "align_content": null,
            "align_items": null,
            "align_self": null,
            "border": null,
            "bottom": null,
            "display": null,
            "flex": null,
            "flex_flow": null,
            "grid_area": null,
            "grid_auto_columns": null,
            "grid_auto_flow": null,
            "grid_auto_rows": null,
            "grid_column": null,
            "grid_gap": null,
            "grid_row": null,
            "grid_template_areas": null,
            "grid_template_columns": null,
            "grid_template_rows": null,
            "height": null,
            "justify_content": null,
            "justify_items": null,
            "left": null,
            "margin": null,
            "max_height": null,
            "max_width": null,
            "min_height": null,
            "min_width": null,
            "object_fit": null,
            "object_position": null,
            "order": null,
            "overflow": null,
            "overflow_x": null,
            "overflow_y": null,
            "padding": null,
            "right": null,
            "top": null,
            "visibility": null,
            "width": null
          }
        },
        "98c47169c7ec45b2a921651d6ce0cf5d": {
          "model_module": "@jupyter-widgets/controls",
          "model_module_version": "1.5.0",
          "model_name": "FloatProgressModel",
          "state": {
            "_dom_classes": [],
            "_model_module": "@jupyter-widgets/controls",
            "_model_module_version": "1.5.0",
            "_model_name": "FloatProgressModel",
            "_view_count": null,
            "_view_module": "@jupyter-widgets/controls",
            "_view_module_version": "1.5.0",
            "_view_name": "ProgressView",
            "bar_style": "success",
            "description": "",
            "description_tooltip": null,
            "layout": "IPY_MODEL_766f4331140c49788d99dc175069bf00",
            "max": 2000,
            "min": 0,
            "orientation": "horizontal",
            "style": "IPY_MODEL_047590d5a54b49148d2d2bdff021c329",
            "value": 2000
          }
        },
        "9af0dd37362440b4a0b366a70915f855": {
          "model_module": "@jupyter-widgets/controls",
          "model_module_version": "1.5.0",
          "model_name": "HTMLModel",
          "state": {
            "_dom_classes": [],
            "_model_module": "@jupyter-widgets/controls",
            "_model_module_version": "1.5.0",
            "_model_name": "HTMLModel",
            "_view_count": null,
            "_view_module": "@jupyter-widgets/controls",
            "_view_module_version": "1.5.0",
            "_view_name": "HTMLView",
            "description": "",
            "description_tooltip": null,
            "layout": "IPY_MODEL_31b3a9f066664f1d870bf97215a78375",
            "placeholder": "​",
            "style": "IPY_MODEL_14d74885d96a48c5adddb2feb5162769",
            "value": "Map: 100%"
          }
        },
        "9b1f971ffd2c4b7aa98cde9add4ed60c": {
          "model_module": "@jupyter-widgets/base",
          "model_module_version": "1.2.0",
          "model_name": "LayoutModel",
          "state": {
            "_model_module": "@jupyter-widgets/base",
            "_model_module_version": "1.2.0",
            "_model_name": "LayoutModel",
            "_view_count": null,
            "_view_module": "@jupyter-widgets/base",
            "_view_module_version": "1.2.0",
            "_view_name": "LayoutView",
            "align_content": null,
            "align_items": null,
            "align_self": null,
            "border": null,
            "bottom": null,
            "display": null,
            "flex": null,
            "flex_flow": null,
            "grid_area": null,
            "grid_auto_columns": null,
            "grid_auto_flow": null,
            "grid_auto_rows": null,
            "grid_column": null,
            "grid_gap": null,
            "grid_row": null,
            "grid_template_areas": null,
            "grid_template_columns": null,
            "grid_template_rows": null,
            "height": null,
            "justify_content": null,
            "justify_items": null,
            "left": null,
            "margin": null,
            "max_height": null,
            "max_width": null,
            "min_height": null,
            "min_width": null,
            "object_fit": null,
            "object_position": null,
            "order": null,
            "overflow": null,
            "overflow_x": null,
            "overflow_y": null,
            "padding": null,
            "right": null,
            "top": null,
            "visibility": null,
            "width": null
          }
        },
        "9bc17bcd44354de29d421cf22266d037": {
          "model_module": "@jupyter-widgets/controls",
          "model_module_version": "1.5.0",
          "model_name": "HTMLModel",
          "state": {
            "_dom_classes": [],
            "_model_module": "@jupyter-widgets/controls",
            "_model_module_version": "1.5.0",
            "_model_name": "HTMLModel",
            "_view_count": null,
            "_view_module": "@jupyter-widgets/controls",
            "_view_module_version": "1.5.0",
            "_view_name": "HTMLView",
            "description": "",
            "description_tooltip": null,
            "layout": "IPY_MODEL_089d80a0bdbf4205bf936fcb95f80bfc",
            "placeholder": "​",
            "style": "IPY_MODEL_f60807b286f240eeb05186465a367e3d",
            "value": "Map: 100%"
          }
        },
        "9f4557dc0b694191a2c64447b29bfadb": {
          "model_module": "@jupyter-widgets/base",
          "model_module_version": "1.2.0",
          "model_name": "LayoutModel",
          "state": {
            "_model_module": "@jupyter-widgets/base",
            "_model_module_version": "1.2.0",
            "_model_name": "LayoutModel",
            "_view_count": null,
            "_view_module": "@jupyter-widgets/base",
            "_view_module_version": "1.2.0",
            "_view_name": "LayoutView",
            "align_content": null,
            "align_items": null,
            "align_self": null,
            "border": null,
            "bottom": null,
            "display": null,
            "flex": null,
            "flex_flow": null,
            "grid_area": null,
            "grid_auto_columns": null,
            "grid_auto_flow": null,
            "grid_auto_rows": null,
            "grid_column": null,
            "grid_gap": null,
            "grid_row": null,
            "grid_template_areas": null,
            "grid_template_columns": null,
            "grid_template_rows": null,
            "height": null,
            "justify_content": null,
            "justify_items": null,
            "left": null,
            "margin": null,
            "max_height": null,
            "max_width": null,
            "min_height": null,
            "min_width": null,
            "object_fit": null,
            "object_position": null,
            "order": null,
            "overflow": null,
            "overflow_x": null,
            "overflow_y": null,
            "padding": null,
            "right": null,
            "top": null,
            "visibility": null,
            "width": null
          }
        },
        "a271cdd3236e46be8f023b8e18399d6b": {
          "model_module": "@jupyter-widgets/controls",
          "model_module_version": "1.5.0",
          "model_name": "HTMLModel",
          "state": {
            "_dom_classes": [],
            "_model_module": "@jupyter-widgets/controls",
            "_model_module_version": "1.5.0",
            "_model_name": "HTMLModel",
            "_view_count": null,
            "_view_module": "@jupyter-widgets/controls",
            "_view_module_version": "1.5.0",
            "_view_name": "HTMLView",
            "description": "",
            "description_tooltip": null,
            "layout": "IPY_MODEL_081d4f5460d64c4982007f08f23f92f2",
            "placeholder": "​",
            "style": "IPY_MODEL_486f6e1cf3614774900ce9206505e80d",
            "value": "Map: 100%"
          }
        },
        "a5841958e6ff4c26a874aaff6250ac18": {
          "model_module": "@jupyter-widgets/base",
          "model_module_version": "1.2.0",
          "model_name": "LayoutModel",
          "state": {
            "_model_module": "@jupyter-widgets/base",
            "_model_module_version": "1.2.0",
            "_model_name": "LayoutModel",
            "_view_count": null,
            "_view_module": "@jupyter-widgets/base",
            "_view_module_version": "1.2.0",
            "_view_name": "LayoutView",
            "align_content": null,
            "align_items": null,
            "align_self": null,
            "border": null,
            "bottom": null,
            "display": null,
            "flex": null,
            "flex_flow": null,
            "grid_area": null,
            "grid_auto_columns": null,
            "grid_auto_flow": null,
            "grid_auto_rows": null,
            "grid_column": null,
            "grid_gap": null,
            "grid_row": null,
            "grid_template_areas": null,
            "grid_template_columns": null,
            "grid_template_rows": null,
            "height": null,
            "justify_content": null,
            "justify_items": null,
            "left": null,
            "margin": null,
            "max_height": null,
            "max_width": null,
            "min_height": null,
            "min_width": null,
            "object_fit": null,
            "object_position": null,
            "order": null,
            "overflow": null,
            "overflow_x": null,
            "overflow_y": null,
            "padding": null,
            "right": null,
            "top": null,
            "visibility": null,
            "width": null
          }
        },
        "a60f2019698c43f0b26a98cf3e54149f": {
          "model_module": "@jupyter-widgets/controls",
          "model_module_version": "1.5.0",
          "model_name": "ProgressStyleModel",
          "state": {
            "_model_module": "@jupyter-widgets/controls",
            "_model_module_version": "1.5.0",
            "_model_name": "ProgressStyleModel",
            "_view_count": null,
            "_view_module": "@jupyter-widgets/base",
            "_view_module_version": "1.2.0",
            "_view_name": "StyleView",
            "bar_color": null,
            "description_width": ""
          }
        },
        "a770c1ce91134c7abf72d97d19b9d9b2": {
          "model_module": "@jupyter-widgets/controls",
          "model_module_version": "1.5.0",
          "model_name": "HTMLModel",
          "state": {
            "_dom_classes": [],
            "_model_module": "@jupyter-widgets/controls",
            "_model_module_version": "1.5.0",
            "_model_name": "HTMLModel",
            "_view_count": null,
            "_view_module": "@jupyter-widgets/controls",
            "_view_module_version": "1.5.0",
            "_view_name": "HTMLView",
            "description": "",
            "description_tooltip": null,
            "layout": "IPY_MODEL_eff06d2ad70142f596d6a7d1335b9c94",
            "placeholder": "​",
            "style": "IPY_MODEL_4e0a70f62dfd4df5830be1c98d9850e9",
            "value": " 200000/200000 [00:50&lt;00:00, 2977.66 examples/s]"
          }
        },
        "a7febb0871714dbab86a0a427085e459": {
          "model_module": "@jupyter-widgets/base",
          "model_module_version": "1.2.0",
          "model_name": "LayoutModel",
          "state": {
            "_model_module": "@jupyter-widgets/base",
            "_model_module_version": "1.2.0",
            "_model_name": "LayoutModel",
            "_view_count": null,
            "_view_module": "@jupyter-widgets/base",
            "_view_module_version": "1.2.0",
            "_view_name": "LayoutView",
            "align_content": null,
            "align_items": null,
            "align_self": null,
            "border": null,
            "bottom": null,
            "display": null,
            "flex": null,
            "flex_flow": null,
            "grid_area": null,
            "grid_auto_columns": null,
            "grid_auto_flow": null,
            "grid_auto_rows": null,
            "grid_column": null,
            "grid_gap": null,
            "grid_row": null,
            "grid_template_areas": null,
            "grid_template_columns": null,
            "grid_template_rows": null,
            "height": null,
            "justify_content": null,
            "justify_items": null,
            "left": null,
            "margin": null,
            "max_height": null,
            "max_width": null,
            "min_height": null,
            "min_width": null,
            "object_fit": null,
            "object_position": null,
            "order": null,
            "overflow": null,
            "overflow_x": null,
            "overflow_y": null,
            "padding": null,
            "right": null,
            "top": null,
            "visibility": null,
            "width": null
          }
        },
        "a84b8f0b31734b679697bcfcbed646ed": {
          "model_module": "@jupyter-widgets/controls",
          "model_module_version": "1.5.0",
          "model_name": "ProgressStyleModel",
          "state": {
            "_model_module": "@jupyter-widgets/controls",
            "_model_module_version": "1.5.0",
            "_model_name": "ProgressStyleModel",
            "_view_count": null,
            "_view_module": "@jupyter-widgets/base",
            "_view_module_version": "1.2.0",
            "_view_name": "StyleView",
            "bar_color": null,
            "description_width": ""
          }
        },
        "abf3c2a44ca840e0aa3bb68bed8c1041": {
          "model_module": "@jupyter-widgets/controls",
          "model_module_version": "1.5.0",
          "model_name": "DescriptionStyleModel",
          "state": {
            "_model_module": "@jupyter-widgets/controls",
            "_model_module_version": "1.5.0",
            "_model_name": "DescriptionStyleModel",
            "_view_count": null,
            "_view_module": "@jupyter-widgets/base",
            "_view_module_version": "1.2.0",
            "_view_name": "StyleView",
            "description_width": ""
          }
        },
        "b2bca91500d34db19f880209f6bed0e7": {
          "model_module": "@jupyter-widgets/base",
          "model_module_version": "1.2.0",
          "model_name": "LayoutModel",
          "state": {
            "_model_module": "@jupyter-widgets/base",
            "_model_module_version": "1.2.0",
            "_model_name": "LayoutModel",
            "_view_count": null,
            "_view_module": "@jupyter-widgets/base",
            "_view_module_version": "1.2.0",
            "_view_name": "LayoutView",
            "align_content": null,
            "align_items": null,
            "align_self": null,
            "border": null,
            "bottom": null,
            "display": null,
            "flex": null,
            "flex_flow": null,
            "grid_area": null,
            "grid_auto_columns": null,
            "grid_auto_flow": null,
            "grid_auto_rows": null,
            "grid_column": null,
            "grid_gap": null,
            "grid_row": null,
            "grid_template_areas": null,
            "grid_template_columns": null,
            "grid_template_rows": null,
            "height": null,
            "justify_content": null,
            "justify_items": null,
            "left": null,
            "margin": null,
            "max_height": null,
            "max_width": null,
            "min_height": null,
            "min_width": null,
            "object_fit": null,
            "object_position": null,
            "order": null,
            "overflow": null,
            "overflow_x": null,
            "overflow_y": null,
            "padding": null,
            "right": null,
            "top": null,
            "visibility": null,
            "width": null
          }
        },
        "be914370dbb94f0483a423685a1bb10d": {
          "model_module": "@jupyter-widgets/controls",
          "model_module_version": "1.5.0",
          "model_name": "FloatProgressModel",
          "state": {
            "_dom_classes": [],
            "_model_module": "@jupyter-widgets/controls",
            "_model_module_version": "1.5.0",
            "_model_name": "FloatProgressModel",
            "_view_count": null,
            "_view_module": "@jupyter-widgets/controls",
            "_view_module_version": "1.5.0",
            "_view_name": "ProgressView",
            "bar_style": "success",
            "description": "",
            "description_tooltip": null,
            "layout": "IPY_MODEL_621d836718da4e66a99e309fe2f53f37",
            "max": 2000,
            "min": 0,
            "orientation": "horizontal",
            "style": "IPY_MODEL_ffa7bef82f87462fab7b3eddd680e396",
            "value": 2000
          }
        },
        "bf59349ea753441384ef928e3c11fd83": {
          "model_module": "@jupyter-widgets/base",
          "model_module_version": "1.2.0",
          "model_name": "LayoutModel",
          "state": {
            "_model_module": "@jupyter-widgets/base",
            "_model_module_version": "1.2.0",
            "_model_name": "LayoutModel",
            "_view_count": null,
            "_view_module": "@jupyter-widgets/base",
            "_view_module_version": "1.2.0",
            "_view_name": "LayoutView",
            "align_content": null,
            "align_items": null,
            "align_self": null,
            "border": null,
            "bottom": null,
            "display": null,
            "flex": null,
            "flex_flow": null,
            "grid_area": null,
            "grid_auto_columns": null,
            "grid_auto_flow": null,
            "grid_auto_rows": null,
            "grid_column": null,
            "grid_gap": null,
            "grid_row": null,
            "grid_template_areas": null,
            "grid_template_columns": null,
            "grid_template_rows": null,
            "height": null,
            "justify_content": null,
            "justify_items": null,
            "left": null,
            "margin": null,
            "max_height": null,
            "max_width": null,
            "min_height": null,
            "min_width": null,
            "object_fit": null,
            "object_position": null,
            "order": null,
            "overflow": null,
            "overflow_x": null,
            "overflow_y": null,
            "padding": null,
            "right": null,
            "top": null,
            "visibility": null,
            "width": null
          }
        },
        "c13ecd8760ba48379dbc70c3def65427": {
          "model_module": "@jupyter-widgets/base",
          "model_module_version": "1.2.0",
          "model_name": "LayoutModel",
          "state": {
            "_model_module": "@jupyter-widgets/base",
            "_model_module_version": "1.2.0",
            "_model_name": "LayoutModel",
            "_view_count": null,
            "_view_module": "@jupyter-widgets/base",
            "_view_module_version": "1.2.0",
            "_view_name": "LayoutView",
            "align_content": null,
            "align_items": null,
            "align_self": null,
            "border": null,
            "bottom": null,
            "display": null,
            "flex": null,
            "flex_flow": null,
            "grid_area": null,
            "grid_auto_columns": null,
            "grid_auto_flow": null,
            "grid_auto_rows": null,
            "grid_column": null,
            "grid_gap": null,
            "grid_row": null,
            "grid_template_areas": null,
            "grid_template_columns": null,
            "grid_template_rows": null,
            "height": null,
            "justify_content": null,
            "justify_items": null,
            "left": null,
            "margin": null,
            "max_height": null,
            "max_width": null,
            "min_height": null,
            "min_width": null,
            "object_fit": null,
            "object_position": null,
            "order": null,
            "overflow": null,
            "overflow_x": null,
            "overflow_y": null,
            "padding": null,
            "right": null,
            "top": null,
            "visibility": null,
            "width": null
          }
        },
        "c43a1c695309420ab00af2882a2d77bc": {
          "model_module": "@jupyter-widgets/base",
          "model_module_version": "1.2.0",
          "model_name": "LayoutModel",
          "state": {
            "_model_module": "@jupyter-widgets/base",
            "_model_module_version": "1.2.0",
            "_model_name": "LayoutModel",
            "_view_count": null,
            "_view_module": "@jupyter-widgets/base",
            "_view_module_version": "1.2.0",
            "_view_name": "LayoutView",
            "align_content": null,
            "align_items": null,
            "align_self": null,
            "border": null,
            "bottom": null,
            "display": null,
            "flex": null,
            "flex_flow": null,
            "grid_area": null,
            "grid_auto_columns": null,
            "grid_auto_flow": null,
            "grid_auto_rows": null,
            "grid_column": null,
            "grid_gap": null,
            "grid_row": null,
            "grid_template_areas": null,
            "grid_template_columns": null,
            "grid_template_rows": null,
            "height": null,
            "justify_content": null,
            "justify_items": null,
            "left": null,
            "margin": null,
            "max_height": null,
            "max_width": null,
            "min_height": null,
            "min_width": null,
            "object_fit": null,
            "object_position": null,
            "order": null,
            "overflow": null,
            "overflow_x": null,
            "overflow_y": null,
            "padding": null,
            "right": null,
            "top": null,
            "visibility": null,
            "width": null
          }
        },
        "c4a5bc83e1d146408b5ff328e8051f4a": {
          "model_module": "@jupyter-widgets/controls",
          "model_module_version": "1.5.0",
          "model_name": "DescriptionStyleModel",
          "state": {
            "_model_module": "@jupyter-widgets/controls",
            "_model_module_version": "1.5.0",
            "_model_name": "DescriptionStyleModel",
            "_view_count": null,
            "_view_module": "@jupyter-widgets/base",
            "_view_module_version": "1.2.0",
            "_view_name": "StyleView",
            "description_width": ""
          }
        },
        "c67de92087044fa2827b30e97566246b": {
          "model_module": "@jupyter-widgets/controls",
          "model_module_version": "1.5.0",
          "model_name": "DescriptionStyleModel",
          "state": {
            "_model_module": "@jupyter-widgets/controls",
            "_model_module_version": "1.5.0",
            "_model_name": "DescriptionStyleModel",
            "_view_count": null,
            "_view_module": "@jupyter-widgets/base",
            "_view_module_version": "1.2.0",
            "_view_name": "StyleView",
            "description_width": ""
          }
        },
        "d508bad0c00a45d49afd58a4890d795e": {
          "model_module": "@jupyter-widgets/controls",
          "model_module_version": "1.5.0",
          "model_name": "DescriptionStyleModel",
          "state": {
            "_model_module": "@jupyter-widgets/controls",
            "_model_module_version": "1.5.0",
            "_model_name": "DescriptionStyleModel",
            "_view_count": null,
            "_view_module": "@jupyter-widgets/base",
            "_view_module_version": "1.2.0",
            "_view_name": "StyleView",
            "description_width": ""
          }
        },
        "d572060273a04aa4ad9b7d8990cacaaf": {
          "model_module": "@jupyter-widgets/controls",
          "model_module_version": "1.5.0",
          "model_name": "HBoxModel",
          "state": {
            "_dom_classes": [],
            "_model_module": "@jupyter-widgets/controls",
            "_model_module_version": "1.5.0",
            "_model_name": "HBoxModel",
            "_view_count": null,
            "_view_module": "@jupyter-widgets/controls",
            "_view_module_version": "1.5.0",
            "_view_name": "HBoxView",
            "box_style": "",
            "children": [
              "IPY_MODEL_622f502b8e674974b7e8122b8c900648",
              "IPY_MODEL_be914370dbb94f0483a423685a1bb10d",
              "IPY_MODEL_517d90a9822b4392b2b8f76b2b40b9d2"
            ],
            "layout": "IPY_MODEL_8166c29e55214ebba71c69738eb59bcf"
          }
        },
        "d88edf8a87f6460da31e2b48efe94063": {
          "model_module": "@jupyter-widgets/controls",
          "model_module_version": "1.5.0",
          "model_name": "DescriptionStyleModel",
          "state": {
            "_model_module": "@jupyter-widgets/controls",
            "_model_module_version": "1.5.0",
            "_model_name": "DescriptionStyleModel",
            "_view_count": null,
            "_view_module": "@jupyter-widgets/base",
            "_view_module_version": "1.2.0",
            "_view_name": "StyleView",
            "description_width": ""
          }
        },
        "e274e6a948e94f1a912445d2a54267e9": {
          "model_module": "@jupyter-widgets/controls",
          "model_module_version": "1.5.0",
          "model_name": "FloatProgressModel",
          "state": {
            "_dom_classes": [],
            "_model_module": "@jupyter-widgets/controls",
            "_model_module_version": "1.5.0",
            "_model_name": "FloatProgressModel",
            "_view_count": null,
            "_view_module": "@jupyter-widgets/controls",
            "_view_module_version": "1.5.0",
            "_view_name": "ProgressView",
            "bar_style": "success",
            "description": "",
            "description_tooltip": null,
            "layout": "IPY_MODEL_9b1f971ffd2c4b7aa98cde9add4ed60c",
            "max": 2000,
            "min": 0,
            "orientation": "horizontal",
            "style": "IPY_MODEL_f9da0493117b4422aaa6982d037448e2",
            "value": 2000
          }
        },
        "ea2eb91a7dc34abaa2e3f46d8c2f4e3f": {
          "model_module": "@jupyter-widgets/controls",
          "model_module_version": "1.5.0",
          "model_name": "DescriptionStyleModel",
          "state": {
            "_model_module": "@jupyter-widgets/controls",
            "_model_module_version": "1.5.0",
            "_model_name": "DescriptionStyleModel",
            "_view_count": null,
            "_view_module": "@jupyter-widgets/base",
            "_view_module_version": "1.2.0",
            "_view_name": "StyleView",
            "description_width": ""
          }
        },
        "eff06d2ad70142f596d6a7d1335b9c94": {
          "model_module": "@jupyter-widgets/base",
          "model_module_version": "1.2.0",
          "model_name": "LayoutModel",
          "state": {
            "_model_module": "@jupyter-widgets/base",
            "_model_module_version": "1.2.0",
            "_model_name": "LayoutModel",
            "_view_count": null,
            "_view_module": "@jupyter-widgets/base",
            "_view_module_version": "1.2.0",
            "_view_name": "LayoutView",
            "align_content": null,
            "align_items": null,
            "align_self": null,
            "border": null,
            "bottom": null,
            "display": null,
            "flex": null,
            "flex_flow": null,
            "grid_area": null,
            "grid_auto_columns": null,
            "grid_auto_flow": null,
            "grid_auto_rows": null,
            "grid_column": null,
            "grid_gap": null,
            "grid_row": null,
            "grid_template_areas": null,
            "grid_template_columns": null,
            "grid_template_rows": null,
            "height": null,
            "justify_content": null,
            "justify_items": null,
            "left": null,
            "margin": null,
            "max_height": null,
            "max_width": null,
            "min_height": null,
            "min_width": null,
            "object_fit": null,
            "object_position": null,
            "order": null,
            "overflow": null,
            "overflow_x": null,
            "overflow_y": null,
            "padding": null,
            "right": null,
            "top": null,
            "visibility": null,
            "width": null
          }
        },
        "f0b1024fb2f749198ebf8b3c0721aba6": {
          "model_module": "@jupyter-widgets/controls",
          "model_module_version": "1.5.0",
          "model_name": "HBoxModel",
          "state": {
            "_dom_classes": [],
            "_model_module": "@jupyter-widgets/controls",
            "_model_module_version": "1.5.0",
            "_model_name": "HBoxModel",
            "_view_count": null,
            "_view_module": "@jupyter-widgets/controls",
            "_view_module_version": "1.5.0",
            "_view_name": "HBoxView",
            "box_style": "",
            "children": [
              "IPY_MODEL_60ae8a96a28f4a11924433aa3129110a",
              "IPY_MODEL_4c88ece31a35443b9770523d95b929ec",
              "IPY_MODEL_0c52e281ebf5481784c9878c593de622"
            ],
            "layout": "IPY_MODEL_7fb85c6ae2f641f8bf55e97ca92055f4"
          }
        },
        "f4e0d4be95114dd5811bf8f9278ef2fd": {
          "model_module": "@jupyter-widgets/controls",
          "model_module_version": "1.5.0",
          "model_name": "DescriptionStyleModel",
          "state": {
            "_model_module": "@jupyter-widgets/controls",
            "_model_module_version": "1.5.0",
            "_model_name": "DescriptionStyleModel",
            "_view_count": null,
            "_view_module": "@jupyter-widgets/base",
            "_view_module_version": "1.2.0",
            "_view_name": "StyleView",
            "description_width": ""
          }
        },
        "f60807b286f240eeb05186465a367e3d": {
          "model_module": "@jupyter-widgets/controls",
          "model_module_version": "1.5.0",
          "model_name": "DescriptionStyleModel",
          "state": {
            "_model_module": "@jupyter-widgets/controls",
            "_model_module_version": "1.5.0",
            "_model_name": "DescriptionStyleModel",
            "_view_count": null,
            "_view_module": "@jupyter-widgets/base",
            "_view_module_version": "1.2.0",
            "_view_name": "StyleView",
            "description_width": ""
          }
        },
        "f9da0493117b4422aaa6982d037448e2": {
          "model_module": "@jupyter-widgets/controls",
          "model_module_version": "1.5.0",
          "model_name": "ProgressStyleModel",
          "state": {
            "_model_module": "@jupyter-widgets/controls",
            "_model_module_version": "1.5.0",
            "_model_name": "ProgressStyleModel",
            "_view_count": null,
            "_view_module": "@jupyter-widgets/base",
            "_view_module_version": "1.2.0",
            "_view_name": "StyleView",
            "bar_color": null,
            "description_width": ""
          }
        },
        "fda85192d4384d2a8430f47bf4b4f02c": {
          "model_module": "@jupyter-widgets/controls",
          "model_module_version": "1.5.0",
          "model_name": "HBoxModel",
          "state": {
            "_dom_classes": [],
            "_model_module": "@jupyter-widgets/controls",
            "_model_module_version": "1.5.0",
            "_model_name": "HBoxModel",
            "_view_count": null,
            "_view_module": "@jupyter-widgets/controls",
            "_view_module_version": "1.5.0",
            "_view_name": "HBoxView",
            "box_style": "",
            "children": [
              "IPY_MODEL_4f0d04439fef49cc948ab8a58286fa0d",
              "IPY_MODEL_98c47169c7ec45b2a921651d6ce0cf5d",
              "IPY_MODEL_7f6d048608f84c8c8cc4fae3b79509bb"
            ],
            "layout": "IPY_MODEL_c13ecd8760ba48379dbc70c3def65427"
          }
        },
        "fe5520a23bb44e4499bb7d0d21c35af5": {
          "model_module": "@jupyter-widgets/base",
          "model_module_version": "1.2.0",
          "model_name": "LayoutModel",
          "state": {
            "_model_module": "@jupyter-widgets/base",
            "_model_module_version": "1.2.0",
            "_model_name": "LayoutModel",
            "_view_count": null,
            "_view_module": "@jupyter-widgets/base",
            "_view_module_version": "1.2.0",
            "_view_name": "LayoutView",
            "align_content": null,
            "align_items": null,
            "align_self": null,
            "border": null,
            "bottom": null,
            "display": null,
            "flex": null,
            "flex_flow": null,
            "grid_area": null,
            "grid_auto_columns": null,
            "grid_auto_flow": null,
            "grid_auto_rows": null,
            "grid_column": null,
            "grid_gap": null,
            "grid_row": null,
            "grid_template_areas": null,
            "grid_template_columns": null,
            "grid_template_rows": null,
            "height": null,
            "justify_content": null,
            "justify_items": null,
            "left": null,
            "margin": null,
            "max_height": null,
            "max_width": null,
            "min_height": null,
            "min_width": null,
            "object_fit": null,
            "object_position": null,
            "order": null,
            "overflow": null,
            "overflow_x": null,
            "overflow_y": null,
            "padding": null,
            "right": null,
            "top": null,
            "visibility": null,
            "width": null
          }
        },
        "ffa7bef82f87462fab7b3eddd680e396": {
          "model_module": "@jupyter-widgets/controls",
          "model_module_version": "1.5.0",
          "model_name": "ProgressStyleModel",
          "state": {
            "_model_module": "@jupyter-widgets/controls",
            "_model_module_version": "1.5.0",
            "_model_name": "ProgressStyleModel",
            "_view_count": null,
            "_view_module": "@jupyter-widgets/base",
            "_view_module_version": "1.2.0",
            "_view_name": "StyleView",
            "bar_color": null,
            "description_width": ""
          }
        },
        "ffdb9415072648a8aa092b1394275941": {
          "model_module": "@jupyter-widgets/controls",
          "model_module_version": "1.5.0",
          "model_name": "HTMLModel",
          "state": {
            "_dom_classes": [],
            "_model_module": "@jupyter-widgets/controls",
            "_model_module_version": "1.5.0",
            "_model_name": "HTMLModel",
            "_view_count": null,
            "_view_module": "@jupyter-widgets/controls",
            "_view_module_version": "1.5.0",
            "_view_name": "HTMLView",
            "description": "",
            "description_tooltip": null,
            "layout": "IPY_MODEL_96a30d18c82e40dd91d24688c1752b64",
            "placeholder": "​",
            "style": "IPY_MODEL_d508bad0c00a45d49afd58a4890d795e",
            "value": " 2000/2000 [00:00&lt;00:00, 3993.79 examples/s]"
          }
        }
      }
    }
  },
  "nbformat": 4,
  "nbformat_minor": 0
}
