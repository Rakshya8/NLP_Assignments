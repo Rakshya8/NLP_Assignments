{
 "cells": [
  {
   "attachments": {},
   "cell_type": "markdown",
   "metadata": {},
   "source": [
    "# Natural Language Processing\n",
    "\n",
    "# Retrieval-Augmented generation (RAG)\n",
    "\n",
    "RAG is a technique for augmenting LLM knowledge with additional, often private or real-time, data.\n",
    "\n",
    "LLMs can reason about wide-ranging topics, but their knowledge is limited to the public data up to a specific point in time that they were trained on. If you want to build AI applications that can reason about private data or data introduced after a model’s cutoff date, you need to augment the knowledge of the model with the specific information it needs.\n",
    "\n",
    "<img src=\"../figures/RAG-process.png\" >\n",
    "\n",
    "Introducing `ChakyBot`, an innovative chatbot designed to assist Chaky (the instructor) and TA (Gun) in explaining the lesson of the NLP course to students. Leveraging LangChain technology, ChakyBot excels in retrieving information from documents, ensuring a seamless and efficient learning experience for students engaging with the NLP curriculum.\n",
    "\n",
    "1. Prompt\n",
    "2. Retrieval\n",
    "3. Memory\n",
    "4. Chain"
   ]
  },
  {
   "cell_type": "code",
   "execution_count": 1,
   "metadata": {},
   "outputs": [],
   "source": [
    "# #langchain library\n",
    "# !pip install langchain==0.1.0\n",
    "# #LLM\n",
    "# # !pip install accelerate==0.25.0\n",
    "# # !pip install transformers==4.36.2\n",
    "# # !pip install bitsandbytes-windows\n",
    "# # #Text Embedding\n",
    "# # !pip install sentence-transformers==2.2.2\n",
    "# # !pip install InstructorEmbedding==1.0.1\n",
    "# # #vectorstore\n",
    "# # !pip install pymupdf==1.23.8\n",
    "# # !pip install faiss-gpu==1.7.2\n",
    "# # !pip install faiss-cpu==1.7.4"
   ]
  },
  {
   "cell_type": "code",
   "execution_count": 2,
   "metadata": {},
   "outputs": [],
   "source": [
    "# !pip install langchain==0.1.6\n",
    "# !pip uninstall langchain-community\n",
    "# !pip install langchain-community==0.0.19\n",
    "# # !pip install pypdf"
   ]
  },
  {
   "cell_type": "code",
   "execution_count": 3,
   "metadata": {},
   "outputs": [
    {
     "data": {
      "text/plain": [
       "device(type='cuda')"
      ]
     },
     "execution_count": 3,
     "metadata": {},
     "output_type": "execute_result"
    }
   ],
   "source": [
    "import os\n",
    "import torch\n",
    "device = torch.device('cuda' if torch.cuda.is_available() else 'cpu')\n",
    "device"
   ]
  },
  {
   "attachments": {},
   "cell_type": "markdown",
   "metadata": {},
   "source": [
    "## 1. Prompt\n",
    "\n",
    "A set of instructions or input provided by a user to guide the model's response, helping it understand the context and generate relevant and coherent language-based output, such as answering questions, completing sentences, or engaging in a conversation."
   ]
  },
  {
   "cell_type": "code",
   "execution_count": 4,
   "metadata": {},
   "outputs": [
    {
     "data": {
      "text/plain": [
       "PromptTemplate(input_variables=['context', 'question'], template=\"I'm your friendly AIT chatbot named ChakyBot, here to assist Chaky and Gun with any questions they have about AIT. \\n    If you're curious about anything about AIT, feel free to ask any questions you may have. \\n    Whether it's about general, or specific topics. \\n    I'm here to help break down complex concepts into easy-to-understand explanations.\\n    Just let me know what you're wondering about, and I'll do my best to guide you through it!\\n    {context}\\n    Question: {question}\\n    Answer:\")"
      ]
     },
     "execution_count": 4,
     "metadata": {},
     "output_type": "execute_result"
    }
   ],
   "source": [
    "from langchain import PromptTemplate\n",
    "\n",
    "prompt_template = \"\"\"\n",
    "    I'm your friendly AIT chatbot named ChakyBot, here to assist Chaky and Gun with any questions they have about AIT. \n",
    "    If you're curious about anything about AIT, feel free to ask any questions you may have. \n",
    "    Whether it's about general, or specific topics. \n",
    "    I'm here to help break down complex concepts into easy-to-understand explanations.\n",
    "    Just let me know what you're wondering about, and I'll do my best to guide you through it!\n",
    "    {context}\n",
    "    Question: {question}\n",
    "    Answer:\n",
    "    \"\"\".strip()\n",
    "\n",
    "PROMPT = PromptTemplate.from_template(\n",
    "    template = prompt_template\n",
    ")\n",
    "\n",
    "PROMPT\n",
    "#using str.format \n",
    "#The placeholder is defined using curly brackets: {} {}"
   ]
  },
  {
   "cell_type": "code",
   "execution_count": 5,
   "metadata": {},
   "outputs": [
    {
     "data": {
      "text/plain": [
       "\"I'm your friendly AIT chatbot named ChakyBot, here to assist Chaky and Gun with any questions they have about AIT. \\n    If you're curious about anything about AIT, feel free to ask any questions you may have. \\n    Whether it's about general, or specific topics. \\n    I'm here to help break down complex concepts into easy-to-understand explanations.\\n    Just let me know what you're wondering about, and I'll do my best to guide you through it!\\n    AIT (Asian Institute of Technology) is a educational institute in Pathum Thani , Thailand\\n    Question: What is AIT\\n    Answer:\""
      ]
     },
     "execution_count": 5,
     "metadata": {},
     "output_type": "execute_result"
    }
   ],
   "source": [
    "PROMPT.format(\n",
    "    context = \"AIT (Asian Institute of Technology) is a educational institute in Pathum Thani , Thailand\",\n",
    "    question = \"What is AIT\"\n",
    ")"
   ]
  },
  {
   "attachments": {},
   "cell_type": "markdown",
   "metadata": {},
   "source": [
    "Note : [How to improve prompting (Zero-shot, Few-shot, Chain-of-Thought, etc.](https://github.com/chaklam-silpasuwanchai/Natural-Language-Processing/blob/main/Code/05%20-%20RAG/advance/cot-tot-prompting.ipynb)"
   ]
  },
  {
   "attachments": {},
   "cell_type": "markdown",
   "metadata": {},
   "source": [
    "## 2. Retrieval\n",
    "\n",
    "1. `Document loaders` : Load documents from many different sources (HTML, PDF, code). \n",
    "2. `Document transformers` : One of the essential steps in document retrieval is breaking down a large document into smaller, relevant chunks to enhance the retrieval process.\n",
    "3. `Text embedding models` : Embeddings capture the semantic meaning of the text, allowing you to quickly and efficiently find other pieces of text that are similar.\n",
    "4. `Vector stores`: there has emerged a need for databases to support efficient storage and searching of these embeddings.\n",
    "5. `Retrievers` : Once the data is in the database, you still need to retrieve it."
   ]
  },
  {
   "attachments": {},
   "cell_type": "markdown",
   "metadata": {},
   "source": [
    "### 2.1 Document Loaders \n",
    "Use document loaders to load data from a source as Document's. A Document is a piece of text and associated metadata. For example, there are document loaders for loading a simple .txt file, for loading the text contents of any web page, or even for loading a transcript of a YouTube video.\n",
    "\n",
    "[PDF Loader](https://python.langchain.com/docs/modules/data_connection/document_loaders/pdf)\n",
    "\n",
    "[Download Document](https://web.stanford.edu/~jurafsky/slp3/)"
   ]
  },
  {
   "cell_type": "code",
   "execution_count": 6,
   "metadata": {},
   "outputs": [],
   "source": [
    "from langchain.document_loaders import PyMuPDFLoader\n",
    "\n",
    "nlp_docs = 'data/About.pdf'\n",
    "\n",
    "loader = PyMuPDFLoader(nlp_docs)\n",
    "documents = loader.load()"
   ]
  },
  {
   "cell_type": "code",
   "execution_count": 7,
   "metadata": {},
   "outputs": [
    {
     "name": "stdout",
     "output_type": "stream",
     "text": [
      "page_content='3/18/24, 10:07 AM\\nAbout - Asian Institute of Technology\\nfile:///D:/AIT/Sem2/NLP/NLP_Assignments/Jupyter Files/data/About - Asian Institute of Technology.html\\n1/7\\nHome (https://ait.ac.th/) > About\\nAbout AIT\\nAIT is an international English-speaking postgraduate institution, focusing\\non engineering, environment, and management studies.\\nWelcome to AIT\\nThe Asian Institute of Technology (AIT) is an international English-speaking postgraduate institution, focusing on engineering, environment, and\\nmanagement studies. AIT’s rigorous academic, research, and experiential outreach programs prepare graduates for professional success and\\nleadership roles in Asia and beyond.' metadata={'source': 'data/About.pdf', 'file_path': 'data/About.pdf', 'page': 0, 'total_pages': 7, 'format': 'PDF 1.4', 'title': '', 'author': '', 'subject': '', 'keywords': '', 'creator': 'Mozilla/5.0 (Windows NT 10.0; Win64; x64) AppleWebKit/537.36 (KHTML, like Gecko) Chrome/122.0.0.0 Safari/537.36', 'producer': 'Skia/PDF m122', 'creationDate': \"D:20240318030720+00'00'\", 'modDate': \"D:20240318030720+00'00'\", 'trapped': ''}\n",
      "page_content='leadership roles in Asia and beyond.\\nFounded in 1959, AIT offers the opportunity to study at an institution in Asia which possesses a global reputation. Going forward, AIT will be\\nstressing its global connections, injection of innovation into research and teaching, its relevance to industry, and its nurturing of entrepreneurship,\\nwhile continuing to fulfill its social impact and capacity building role. Sitting on a beautiful green campus located just north of Bangkok, Thailand,\\nAIT operates as a multicultural community where a cosmopolitan approach to living and learning is the rule. You will meet and study with people\\nfrom all around the world.' metadata={'source': 'data/About.pdf', 'file_path': 'data/About.pdf', 'page': 0, 'total_pages': 7, 'format': 'PDF 1.4', 'title': '', 'author': '', 'subject': '', 'keywords': '', 'creator': 'Mozilla/5.0 (Windows NT 10.0; Win64; x64) AppleWebKit/537.36 (KHTML, like Gecko) Chrome/122.0.0.0 Safari/537.36', 'producer': 'Skia/PDF m122', 'creationDate': \"D:20240318030720+00'00'\", 'modDate': \"D:20240318030720+00'00'\", 'trapped': ''}\n",
      "page_content='from all around the world.\\nToday, AIT’s internationally recognized engineering, environment, and management graduates are highly sought after by employers in their home\\ncountryand elsewhere. Across many walks of life in Asia, AIT alumni have distinguished themselves as CEO’s of private and state enterprises, as\\nbusiness owners, as well-respected researchers and faculty, and as senior university and government officials.\\nIn this section\\n (https://ait.ac.th/)\\nWe use cookies on our website to give you the most relevant experience by remembering your preferences and repeat visits. By clicking “Accept All”, you consent to' metadata={'source': 'data/About.pdf', 'file_path': 'data/About.pdf', 'page': 0, 'total_pages': 7, 'format': 'PDF 1.4', 'title': '', 'author': '', 'subject': '', 'keywords': '', 'creator': 'Mozilla/5.0 (Windows NT 10.0; Win64; x64) AppleWebKit/537.36 (KHTML, like Gecko) Chrome/122.0.0.0 Safari/537.36', 'producer': 'Skia/PDF m122', 'creationDate': \"D:20240318030720+00'00'\", 'modDate': \"D:20240318030720+00'00'\", 'trapped': ''}\n",
      "page_content='the use of ALL the cookies. However, you may visit \"Cookie Settings\" to provide a controlled consent.\\nCookie Settings\\nAccept All' metadata={'source': 'data/About.pdf', 'file_path': 'data/About.pdf', 'page': 0, 'total_pages': 7, 'format': 'PDF 1.4', 'title': '', 'author': '', 'subject': '', 'keywords': '', 'creator': 'Mozilla/5.0 (Windows NT 10.0; Win64; x64) AppleWebKit/537.36 (KHTML, like Gecko) Chrome/122.0.0.0 Safari/537.36', 'producer': 'Skia/PDF m122', 'creationDate': \"D:20240318030720+00'00'\", 'modDate': \"D:20240318030720+00'00'\", 'trapped': ''}\n",
      "page_content='3/18/24, 10:07 AM\\nAbout - Asian Institute of Technology\\nfile:///D:/AIT/Sem2/NLP/NLP_Assignments/Jupyter Files/data/About - Asian Institute of Technology.html\\n2/7\\nWhat we offer\\nWe believe our university is enriched by having students and staff from a wide variety of backgrounds. Higher education should be open to\\neveryone who has the ability and potential to benefit from it\\n(https://youtu.be/1f_44eR4WyY)\\n (https://ait.ac.th/)\\nWe use cookies on our website to give you the most relevant experience by remembering your preferences and repeat visits. By clicking “Accept All”, you consent to\\nthe use of ALL the cookies. However, you may visit \"Cookie Settings\" to provide a controlled consent.' metadata={'source': 'data/About.pdf', 'file_path': 'data/About.pdf', 'page': 1, 'total_pages': 7, 'format': 'PDF 1.4', 'title': '', 'author': '', 'subject': '', 'keywords': '', 'creator': 'Mozilla/5.0 (Windows NT 10.0; Win64; x64) AppleWebKit/537.36 (KHTML, like Gecko) Chrome/122.0.0.0 Safari/537.36', 'producer': 'Skia/PDF m122', 'creationDate': \"D:20240318030720+00'00'\", 'modDate': \"D:20240318030720+00'00'\", 'trapped': ''}\n",
      "page_content='Cookie Settings\\nAccept All' metadata={'source': 'data/About.pdf', 'file_path': 'data/About.pdf', 'page': 1, 'total_pages': 7, 'format': 'PDF 1.4', 'title': '', 'author': '', 'subject': '', 'keywords': '', 'creator': 'Mozilla/5.0 (Windows NT 10.0; Win64; x64) AppleWebKit/537.36 (KHTML, like Gecko) Chrome/122.0.0.0 Safari/537.36', 'producer': 'Skia/PDF m122', 'creationDate': \"D:20240318030720+00'00'\", 'modDate': \"D:20240318030720+00'00'\", 'trapped': ''}\n",
      "page_content='3/18/24, 10:07 AM\\nAbout - Asian Institute of Technology\\nfile:///D:/AIT/Sem2/NLP/NLP_Assignments/Jupyter Files/data/About - Asian Institute of Technology.html\\n3/7\\nMasters degrees\\nMBA, MEng, MSc\\nExecutive Master Degree Programs\\nDoctoral Degrees\\nDEng, DTechSc, PhD, DBA\\nCertificate and Special Program\\nIntensive English & academic bridging program\\nNon-degree continuing education courses\\n (https://ait.ac.th/)\\nWe use cookies on our website to give you the most relevant experience by remembering your preferences and repeat visits. By clicking “Accept All”, you consent to\\nthe use of ALL the cookies. However, you may visit \"Cookie Settings\" to provide a controlled consent.\\nCookie Settings\\nAccept All' metadata={'source': 'data/About.pdf', 'file_path': 'data/About.pdf', 'page': 2, 'total_pages': 7, 'format': 'PDF 1.4', 'title': '', 'author': '', 'subject': '', 'keywords': '', 'creator': 'Mozilla/5.0 (Windows NT 10.0; Win64; x64) AppleWebKit/537.36 (KHTML, like Gecko) Chrome/122.0.0.0 Safari/537.36', 'producer': 'Skia/PDF m122', 'creationDate': \"D:20240318030720+00'00'\", 'modDate': \"D:20240318030720+00'00'\", 'trapped': ''}\n",
      "page_content='3/18/24, 10:07 AM\\nAbout - Asian Institute of Technology\\nfile:///D:/AIT/Sem2/NLP/NLP_Assignments/Jupyter Files/data/About - Asian Institute of Technology.html\\n4/7\\nAwards and Recognition\\n1987 Science and Technology for Development Award\\n1989 Ramon Magsaysay Award for International Understanding\\n1994 Development Management Award\\n1996 DAAM International Vienna Awards\\n2006 Friendship Order\\n2016 Gold medal in Thai Research Fund Ratings\\nVision and Mission\\nVision\\nTransforming AIT to be a respectable international graduate institution whose research and education contribute to the development of Asia, by' metadata={'source': 'data/About.pdf', 'file_path': 'data/About.pdf', 'page': 3, 'total_pages': 7, 'format': 'PDF 1.4', 'title': '', 'author': '', 'subject': '', 'keywords': '', 'creator': 'Mozilla/5.0 (Windows NT 10.0; Win64; x64) AppleWebKit/537.36 (KHTML, like Gecko) Chrome/122.0.0.0 Safari/537.36', 'producer': 'Skia/PDF m122', 'creationDate': \"D:20240318030720+00'00'\", 'modDate': \"D:20240318030720+00'00'\", 'trapped': ''}\n",
      "page_content='making AIT more global, more innovative, more entrepreneurial, and more economically relevant–while leveraging on its social impact core\\nstrengths.\\nMission\\nThe mission of AIT in the context of the emerging environment is “to develop highly qualified and committed professionals who will play a leading\\nrole in the sustainable development of the region and its integration into the global economy”.\\nGuided by the above clear, timeless vision and mission, the dedicated students, faculty and staff of AIT are set to steer the Institute along its path of\\nbecoming:\\nEducation for SDGs (https://ait.ac.th/education-for-sdgs/)\\n (https://ait.ac.th/)' metadata={'source': 'data/About.pdf', 'file_path': 'data/About.pdf', 'page': 3, 'total_pages': 7, 'format': 'PDF 1.4', 'title': '', 'author': '', 'subject': '', 'keywords': '', 'creator': 'Mozilla/5.0 (Windows NT 10.0; Win64; x64) AppleWebKit/537.36 (KHTML, like Gecko) Chrome/122.0.0.0 Safari/537.36', 'producer': 'Skia/PDF m122', 'creationDate': \"D:20240318030720+00'00'\", 'modDate': \"D:20240318030720+00'00'\", 'trapped': ''}\n",
      "page_content='becoming:\\nEducation for SDGs (https://ait.ac.th/education-for-sdgs/)\\n (https://ait.ac.th/)\\nWe use cookies on our website to give you the most relevant experience by remembering your preferences and repeat visits. By clicking “Accept All”, you consent to\\nthe use of ALL the cookies. However, you may visit \"Cookie Settings\" to provide a controlled consent.\\nCookie Settings\\nAccept All' metadata={'source': 'data/About.pdf', 'file_path': 'data/About.pdf', 'page': 3, 'total_pages': 7, 'format': 'PDF 1.4', 'title': '', 'author': '', 'subject': '', 'keywords': '', 'creator': 'Mozilla/5.0 (Windows NT 10.0; Win64; x64) AppleWebKit/537.36 (KHTML, like Gecko) Chrome/122.0.0.0 Safari/537.36', 'producer': 'Skia/PDF m122', 'creationDate': \"D:20240318030720+00'00'\", 'modDate': \"D:20240318030720+00'00'\", 'trapped': ''}\n",
      "page_content='3/18/24, 10:07 AM\\nAbout - Asian Institute of Technology\\nfile:///D:/AIT/Sem2/NLP/NLP_Assignments/Jupyter Files/data/About - Asian Institute of Technology.html\\n5/7\\nMilestones\\nA trailblazer in advanced education in the region, with leadership in IT and new types of multidisciplinary programs\\nAn exemplary institution, with an emphasis on academic quality in terms of courses and other aspects of operation\\nA leader in professional development programs\\nA hub for the implementation of regional and transnational research projects, and a research facility for academic professionals. A nexus for\\nnetworking with other academic and research institutions in the region and the world' metadata={'source': 'data/About.pdf', 'file_path': 'data/About.pdf', 'page': 4, 'total_pages': 7, 'format': 'PDF 1.4', 'title': '', 'author': '', 'subject': '', 'keywords': '', 'creator': 'Mozilla/5.0 (Windows NT 10.0; Win64; x64) AppleWebKit/537.36 (KHTML, like Gecko) Chrome/122.0.0.0 Safari/537.36', 'producer': 'Skia/PDF m122', 'creationDate': \"D:20240318030720+00'00'\", 'modDate': \"D:20240318030720+00'00'\", 'trapped': ''}\n",
      "page_content='networking with other academic and research institutions in the region and the world\\nA model international citizen\\nA collaborator and partner of national postgraduate institutions\\nA financially viable, self-sustaining institution, able to draw support from donors the private sector and individuals, with good governance and\\nstrong leadership\\nA strong partner to its alumni, who are principal stakeholders through the AIT Alumni Association (AITAA)\\n1957\\n1958\\n1959\\n1961\\n1967\\n1968\\n1973\\n1979\\n1984\\n1993\\n1999\\n2009\\n1957\\nThe Southeast Asia Treaty Organization (SEATO), initiate establishment of a regional graduate school of' metadata={'source': 'data/About.pdf', 'file_path': 'data/About.pdf', 'page': 4, 'total_pages': 7, 'format': 'PDF 1.4', 'title': '', 'author': '', 'subject': '', 'keywords': '', 'creator': 'Mozilla/5.0 (Windows NT 10.0; Win64; x64) AppleWebKit/537.36 (KHTML, like Gecko) Chrome/122.0.0.0 Safari/537.36', 'producer': 'Skia/PDF m122', 'creationDate': \"D:20240318030720+00'00'\", 'modDate': \"D:20240318030720+00'00'\", 'trapped': ''}\n",
      "page_content='engineering, with principal support to be provided by SEATO member countries (Australia, France, New\\nZealand, the U.K., and the U.S.), with additional support from other regional member countries (Pakistan, the\\nPhilippines and Thailand).\\n1958\\nThe SEATO Gr\\nmeeting in M\\nCampus brochure\\nDownload a campus brochure to learn more about our campus.\\nDownload\\nSubscribe to our newsletter\\nFollow us on social media\\n(https://\\nlinkedin com/school/ait\\n(https://ait.ac.th/wp-\\n(https://ait.ac.th/wp-\\ncontent/ ploads/2022/01/WECHAT\\nYour email*\\nSubmit\\n (https://ait.ac.th/)' metadata={'source': 'data/About.pdf', 'file_path': 'data/About.pdf', 'page': 4, 'total_pages': 7, 'format': 'PDF 1.4', 'title': '', 'author': '', 'subject': '', 'keywords': '', 'creator': 'Mozilla/5.0 (Windows NT 10.0; Win64; x64) AppleWebKit/537.36 (KHTML, like Gecko) Chrome/122.0.0.0 Safari/537.36', 'producer': 'Skia/PDF m122', 'creationDate': \"D:20240318030720+00'00'\", 'modDate': \"D:20240318030720+00'00'\", 'trapped': ''}\n",
      "page_content='(https://ait.ac.th/wp-\\ncontent/ ploads/2022/01/WECHAT\\nYour email*\\nSubmit\\n (https://ait.ac.th/)\\nWe use cookies on our website to give you the most relevant experience by remembering your preferences and repeat visits. By clicking “Accept All”, you consent to\\nthe use of ALL the cookies. However, you may visit \"Cookie Settings\" to provide a controlled consent.\\nCookie Settings\\nAccept All' metadata={'source': 'data/About.pdf', 'file_path': 'data/About.pdf', 'page': 4, 'total_pages': 7, 'format': 'PDF 1.4', 'title': '', 'author': '', 'subject': '', 'keywords': '', 'creator': 'Mozilla/5.0 (Windows NT 10.0; Win64; x64) AppleWebKit/537.36 (KHTML, like Gecko) Chrome/122.0.0.0 Safari/537.36', 'producer': 'Skia/PDF m122', 'creationDate': \"D:20240318030720+00'00'\", 'modDate': \"D:20240318030720+00'00'\", 'trapped': ''}\n",
      "page_content='3/18/24, 10:07 AM\\nAbout - Asian Institute of Technology\\nfile:///D:/AIT/Sem2/NLP/NLP_Assignments/Jupyter Files/data/About - Asian Institute of Technology.html\\n6/7\\n (https://ait.ac.th/)\\nP.O. Box 4, 58 Moo 9, Km. 42, Paholyothin Highway, Klong Luang, Pathum Thani 12120 Thailand\\n(+66) 25245000, (+66) 25160110-44\\nAbout\\nAbout AIT (https://ait.ac.th/about/)\\nFacts and figures (https://ait.ac.th/about/facts-and-figures/)\\nRankings (https://ait.ac.th/about/rankings/)\\nLeadership (https://ait.ac.th/about/leadership/)\\nPeople (https://ait.ac.th/about/meet-our-faculty/)\\nMeet our faculty (https://ait.ac.th/about/meet-our-faculty/)\\nMeet our staff (https://ait.ac.th/about/meet-our-staff/)' metadata={'source': 'data/About.pdf', 'file_path': 'data/About.pdf', 'page': 5, 'total_pages': 7, 'format': 'PDF 1.4', 'title': '', 'author': '', 'subject': '', 'keywords': '', 'creator': 'Mozilla/5.0 (Windows NT 10.0; Win64; x64) AppleWebKit/537.36 (KHTML, like Gecko) Chrome/122.0.0.0 Safari/537.36', 'producer': 'Skia/PDF m122', 'creationDate': \"D:20240318030720+00'00'\", 'modDate': \"D:20240318030720+00'00'\", 'trapped': ''}\n",
      "page_content='Meet our staff (https://ait.ac.th/about/meet-our-staff/)\\nLocation (https://ait.ac.th/about/location/)\\nCenters (https://ait.ac.th/about/centers/)\\nAcademics\\nAcademic calendar (https://ait.ac.th/academics/calendar/)\\nAcademic Programs (https://ait.ac.th/academics/programs/)\\nStudy options (https://ait.ac.th/academics/study-options/)\\nStudent opportunities (https://ait.ac.th/academics/student-\\nopportunities/)\\nSchools (https://ait.ac.th/academics/schools/)\\nApply to AIT\\nAdmissions (https://ait.ac.th/admissions/)\\nFinancial aid (https://ait.ac.th/financial-aid/)\\nTuition and fees (https://ait.ac.th/tuition-and-fees/)\\nStudent housing (https://ait.ac.th/student-housing/)' metadata={'source': 'data/About.pdf', 'file_path': 'data/About.pdf', 'page': 5, 'total_pages': 7, 'format': 'PDF 1.4', 'title': '', 'author': '', 'subject': '', 'keywords': '', 'creator': 'Mozilla/5.0 (Windows NT 10.0; Win64; x64) AppleWebKit/537.36 (KHTML, like Gecko) Chrome/122.0.0.0 Safari/537.36', 'producer': 'Skia/PDF m122', 'creationDate': \"D:20240318030720+00'00'\", 'modDate': \"D:20240318030720+00'00'\", 'trapped': ''}\n",
      "page_content='Student housing (https://ait.ac.th/student-housing/)\\nApply online (https://ait.ac.th/apply-online/)\\nResearch\\nResearch Centers (https://ait.ac.th/research-centers/)\\nResearch Themes (https://ait.ac.th/research-themes/)\\nResearch Projects (https://ait.ac.th/research-projects/)\\nResearch Publications (https://ait.ac.th/research-and-publication/)\\nCampus life\\nHousing (https://ait.ac.th/housing/)\\nDining (https://ait.ac.th/dining/)\\nHealth & Wellness (https://ait.ac.th/health-wellness/)\\nCultural diversity (https://ait.ac.th/cultural-diversity/)\\nAthletics (https://ait.ac.th/athletcis/)\\nCareer development (https://ait.ac.th/career-development/)\\nFacilities (https://ait.ac.th/facilities/)' metadata={'source': 'data/About.pdf', 'file_path': 'data/About.pdf', 'page': 5, 'total_pages': 7, 'format': 'PDF 1.4', 'title': '', 'author': '', 'subject': '', 'keywords': '', 'creator': 'Mozilla/5.0 (Windows NT 10.0; Win64; x64) AppleWebKit/537.36 (KHTML, like Gecko) Chrome/122.0.0.0 Safari/537.36', 'producer': 'Skia/PDF m122', 'creationDate': \"D:20240318030720+00'00'\", 'modDate': \"D:20240318030720+00'00'\", 'trapped': ''}\n",
      "page_content='Facilities (https://ait.ac.th/facilities/)\\nVirtual tour (https://ait.ac.th/virtual-tour/)\\nPartners (https://ait.ac.th/partners/)\\nNews (https://ait.ac.th/news/)\\nEvents (https://ait.ac.th/events/)\\nKey thematic areas (https://ait.ac.th/climate-change/)\\nWork at AIT (https://ait.ac.th/opportunities/)\\nBranding (https://ait.ac.th/branding/)\\nContact (https://ait.ac.th/contact/)\\nA-Z Units (https://ait.ac.th/a-z-units/)\\nwww.facebook.com/AITasia/)\\nps://www.youtube.com/user/aitasia)\\n(https://twitter.com/aitasia)\\n(https://www.linkedin.com/school/ait-\\nasia/)\\n(https://www.instagram.com/aitasia/)\\ncontent/uploads/2022/01/AIT-\\nLINE-QR.png)\\ncontent/uploads/2022/01/WECHAT-\\nACCOUNT-AIT-OFFICAL-QR-\\nCODE.jpeg)' metadata={'source': 'data/About.pdf', 'file_path': 'data/About.pdf', 'page': 5, 'total_pages': 7, 'format': 'PDF 1.4', 'title': '', 'author': '', 'subject': '', 'keywords': '', 'creator': 'Mozilla/5.0 (Windows NT 10.0; Win64; x64) AppleWebKit/537.36 (KHTML, like Gecko) Chrome/122.0.0.0 Safari/537.36', 'producer': 'Skia/PDF m122', 'creationDate': \"D:20240318030720+00'00'\", 'modDate': \"D:20240318030720+00'00'\", 'trapped': ''}\n",
      "page_content='LINE-QR.png)\\ncontent/uploads/2022/01/WECHAT-\\nACCOUNT-AIT-OFFICAL-QR-\\nCODE.jpeg)\\n (https://ait.ac.th/)\\nWe use cookies on our website to give you the most relevant experience by remembering your preferences and repeat visits. By clicking “Accept All”, you consent to\\nthe use of ALL the cookies. However, you may visit \"Cookie Settings\" to provide a controlled consent.\\nCookie Settings\\nAccept All' metadata={'source': 'data/About.pdf', 'file_path': 'data/About.pdf', 'page': 5, 'total_pages': 7, 'format': 'PDF 1.4', 'title': '', 'author': '', 'subject': '', 'keywords': '', 'creator': 'Mozilla/5.0 (Windows NT 10.0; Win64; x64) AppleWebKit/537.36 (KHTML, like Gecko) Chrome/122.0.0.0 Safari/537.36', 'producer': 'Skia/PDF m122', 'creationDate': \"D:20240318030720+00'00'\", 'modDate': \"D:20240318030720+00'00'\", 'trapped': ''}\n",
      "page_content='3/18/24, 10:07 AM\\nAbout - Asian Institute of Technology\\nfile:///D:/AIT/Sem2/NLP/NLP_Assignments/Jupyter Files/data/About - Asian Institute of Technology.html\\n7/7\\nTerms and conditions (https://ait.ac.th/terms-conditions/)\\nPrivacy Policy (https://ait.ac.th/privacy-policy/)\\n©2022 Asian Institute of Technology. All Rights Reserved. - Designed by Outsourcify (https://outsourcify.net/)\\n (https://ait.ac.th/)\\nWe use cookies on our website to give you the most relevant experience by remembering your preferences and repeat visits. By clicking “Accept All”, you consent to\\nthe use of ALL the cookies. However, you may visit \"Cookie Settings\" to provide a controlled consent.\\nCookie Settings\\nAccept All' metadata={'source': 'data/About.pdf', 'file_path': 'data/About.pdf', 'page': 6, 'total_pages': 7, 'format': 'PDF 1.4', 'title': '', 'author': '', 'subject': '', 'keywords': '', 'creator': 'Mozilla/5.0 (Windows NT 10.0; Win64; x64) AppleWebKit/537.36 (KHTML, like Gecko) Chrome/122.0.0.0 Safari/537.36', 'producer': 'Skia/PDF m122', 'creationDate': \"D:20240318030720+00'00'\", 'modDate': \"D:20240318030720+00'00'\", 'trapped': ''}\n",
      "page_content='3/18/24, 10:11 AM\\nAthletics - Asian Institute of Technology\\nfile:///D:/AIT/Sem2/NLP/NLP_Assignments/Jupyter Files/data/Athletics - Asian Institute of Technology.html\\n1/6\\nHome (https://ait.ac.th/) > Athletics\\nAthletics\\nAIT campus offers many opportunities for sports activities.\\nSports and recreation\\nWith its extensive open space, AIT campus offers many opportunities for sports activities that\\nin clude golf, swimming, basketball, badminton, tennis, table tennis, volleyball, football, cricket,\\nhockey, running, squash and petanque.\\nIn this section\\n (https://ait.ac.th/)\\nWe use cookies on our website to give you the most relevant experience by remembering your preferences' metadata={'source': 'data/Athletics.pdf', 'file_path': 'data/Athletics.pdf', 'page': 0, 'total_pages': 6, 'format': 'PDF 1.4', 'title': '', 'author': '', 'subject': '', 'keywords': '', 'creator': 'Mozilla/5.0 (Windows NT 10.0; Win64; x64) AppleWebKit/537.36 (KHTML, like Gecko) Chrome/122.0.0.0 Safari/537.36', 'producer': 'Skia/PDF m122', 'creationDate': \"D:20240318031103+00'00'\", 'modDate': \"D:20240318031103+00'00'\", 'trapped': ''}\n",
      "page_content='and repeat visits. By clicking “Accept All”, you consent to the use of ALL the cookies. However, you may\\nvisit \"Cookie Settings\" to provide a controlled consent.\\nCookie Settings\\nAccept All' metadata={'source': 'data/Athletics.pdf', 'file_path': 'data/Athletics.pdf', 'page': 0, 'total_pages': 6, 'format': 'PDF 1.4', 'title': '', 'author': '', 'subject': '', 'keywords': '', 'creator': 'Mozilla/5.0 (Windows NT 10.0; Win64; x64) AppleWebKit/537.36 (KHTML, like Gecko) Chrome/122.0.0.0 Safari/537.36', 'producer': 'Skia/PDF m122', 'creationDate': \"D:20240318031103+00'00'\", 'modDate': \"D:20240318031103+00'00'\", 'trapped': ''}\n",
      "page_content='3/18/24, 10:11 AM\\nAthletics - Asian Institute of Technology\\nfile:///D:/AIT/Sem2/NLP/NLP_Assignments/Jupyter Files/data/Athletics - Asian Institute of Technology.html\\n2/6\\nFields & Indoor spaces\\nA multi-purpose field, more popularly known as the cricket field, squash courts, tennis courts,\\nbadminton courts, basketball court and running track, table tennis room, tennis courts.\\nWorking days: 6:00am – 11:00pm\\nNear the apartments, Closer to the cafeteria\\nGuidance and counselling\\n (https://ait.ac.th/)\\nWe use cookies on our website to give you the most relevant experience by remembering your preferences' metadata={'source': 'data/Athletics.pdf', 'file_path': 'data/Athletics.pdf', 'page': 1, 'total_pages': 6, 'format': 'PDF 1.4', 'title': '', 'author': '', 'subject': '', 'keywords': '', 'creator': 'Mozilla/5.0 (Windows NT 10.0; Win64; x64) AppleWebKit/537.36 (KHTML, like Gecko) Chrome/122.0.0.0 Safari/537.36', 'producer': 'Skia/PDF m122', 'creationDate': \"D:20240318031103+00'00'\", 'modDate': \"D:20240318031103+00'00'\", 'trapped': ''}\n",
      "page_content='and repeat visits. By clicking “Accept All”, you consent to the use of ALL the cookies. However, you may\\nvisit \"Cookie Settings\" to provide a controlled consent.\\nCookie Settings\\nAccept All' metadata={'source': 'data/Athletics.pdf', 'file_path': 'data/Athletics.pdf', 'page': 1, 'total_pages': 6, 'format': 'PDF 1.4', 'title': '', 'author': '', 'subject': '', 'keywords': '', 'creator': 'Mozilla/5.0 (Windows NT 10.0; Win64; x64) AppleWebKit/537.36 (KHTML, like Gecko) Chrome/122.0.0.0 Safari/537.36', 'producer': 'Skia/PDF m122', 'creationDate': \"D:20240318031103+00'00'\", 'modDate': \"D:20240318031103+00'00'\", 'trapped': ''}\n",
      "page_content='3/18/24, 10:11 AM\\nAthletics - Asian Institute of Technology\\nfile:///D:/AIT/Sem2/NLP/NLP_Assignments/Jupyter Files/data/Athletics - Asian Institute of Technology.html\\n3/6\\nSwimming pool\\nA lifeguard is on duty daily from opening to closing\\ntime. The users of the pool should only be AIT\\ncommunity members which includes AIT staff,\\nstudents and their families and visitors at AITCC.\\nOutsiders are not allowed.\\nWorking days: 6:00am – 11:00pm\\nAIT Conference Center\\nGuidance and counselling\\nProper sports attire is required for each sports facility. Slippers/flip-flops are not allowed.\\nUsers must follow standard sports rule for each facility or upon mutual agreement of players\\ndepending on need.' metadata={'source': 'data/Athletics.pdf', 'file_path': 'data/Athletics.pdf', 'page': 2, 'total_pages': 6, 'format': 'PDF 1.4', 'title': '', 'author': '', 'subject': '', 'keywords': '', 'creator': 'Mozilla/5.0 (Windows NT 10.0; Win64; x64) AppleWebKit/537.36 (KHTML, like Gecko) Chrome/122.0.0.0 Safari/537.36', 'producer': 'Skia/PDF m122', 'creationDate': \"D:20240318031103+00'00'\", 'modDate': \"D:20240318031103+00'00'\", 'trapped': ''}\n",
      "page_content='depending on need.\\nSportsmanship and proper decorum is highly encouraged in the conduct of sports events.\\n (https://ait.ac.th/)\\nWe use cookies on our website to give you the most relevant experience by remembering your preferences\\nand repeat visits. By clicking “Accept All”, you consent to the use of ALL the cookies. However, you may\\nvisit \"Cookie Settings\" to provide a controlled consent.\\nCookie Settings\\nAccept All' metadata={'source': 'data/Athletics.pdf', 'file_path': 'data/Athletics.pdf', 'page': 2, 'total_pages': 6, 'format': 'PDF 1.4', 'title': '', 'author': '', 'subject': '', 'keywords': '', 'creator': 'Mozilla/5.0 (Windows NT 10.0; Win64; x64) AppleWebKit/537.36 (KHTML, like Gecko) Chrome/122.0.0.0 Safari/537.36', 'producer': 'Skia/PDF m122', 'creationDate': \"D:20240318031103+00'00'\", 'modDate': \"D:20240318031103+00'00'\", 'trapped': ''}\n",
      "page_content='3/18/24, 10:11 AM\\nAthletics - Asian Institute of Technology\\nfile:///D:/AIT/Sem2/NLP/NLP_Assignments/Jupyter Files/data/Athletics - Asian Institute of Technology.html\\n4/6\\nFirst come-first served basis rule must be followed for each court/field and queuing must be\\nadhered to if there are many players waiting. Priority for use of AIT residents.\\nFor racquet sports, doubles events should be prioritized over single events if there is a\\nqueue.\\nSports facilities cannot be used for other sporting events aside from the intended use of the\\ncourt/field.\\nFood and beverages are not allowed in the sports facility. Food may be consumed on the\\nsitting area only.' metadata={'source': 'data/Athletics.pdf', 'file_path': 'data/Athletics.pdf', 'page': 3, 'total_pages': 6, 'format': 'PDF 1.4', 'title': '', 'author': '', 'subject': '', 'keywords': '', 'creator': 'Mozilla/5.0 (Windows NT 10.0; Win64; x64) AppleWebKit/537.36 (KHTML, like Gecko) Chrome/122.0.0.0 Safari/537.36', 'producer': 'Skia/PDF m122', 'creationDate': \"D:20240318031103+00'00'\", 'modDate': \"D:20240318031103+00'00'\", 'trapped': ''}\n",
      "page_content='sitting area only.\\nLast players of the evening must turn off the lights and other electrical equipment of the\\ncourt.\\nStudent organizations who wish to book the courts/fields must seek permission from the\\nStudent\\nUnion and inform the community before its use.\\nIndividuals breaking the sports facility house rules will be subject to possible forfeiture of\\nprivileges.\\n (https://ait.ac.th/)\\nP.O. Box 4, 58 Moo 9, Km. 42, Paholyothin Highway, Klong Luang, Pathum Thani 12120\\nThailand\\n(+66) 25245000, (+66) 25160110-44\\nSubscribe to our newsletter\\nFollow us on social media\\nwww.facebook.com/AITasia/)\\nps://www.youtube.com/user/aitasia)\\n(https://twitter.com/aitasia)\\n(https://www.linkedin.com/school/ait-' metadata={'source': 'data/Athletics.pdf', 'file_path': 'data/Athletics.pdf', 'page': 3, 'total_pages': 6, 'format': 'PDF 1.4', 'title': '', 'author': '', 'subject': '', 'keywords': '', 'creator': 'Mozilla/5.0 (Windows NT 10.0; Win64; x64) AppleWebKit/537.36 (KHTML, like Gecko) Chrome/122.0.0.0 Safari/537.36', 'producer': 'Skia/PDF m122', 'creationDate': \"D:20240318031103+00'00'\", 'modDate': \"D:20240318031103+00'00'\", 'trapped': ''}\n",
      "page_content='(https://twitter.com/aitasia)\\n(https://www.linkedin.com/school/ait-\\nasia/)\\n(https://www.instagram.com/aitasia/)\\n(https://ait.ac.th/wp-\\ncontent/uploads/2022/01/AIT-\\nLINE-QR.png)\\n(https://ait.ac.th/wp-\\ncontent/uploads/2022/01/WECHAT-\\nACCOUNT-AIT-OFFICAL-QR-\\nCODE.jpeg)\\nYour email*\\nSubmit\\n (https://ait.ac.th/)\\nWe use cookies on our website to give you the most relevant experience by remembering your preferences\\nand repeat visits. By clicking “Accept All”, you consent to the use of ALL the cookies. However, you may\\nvisit \"Cookie Settings\" to provide a controlled consent.\\nCookie Settings\\nAccept All' metadata={'source': 'data/Athletics.pdf', 'file_path': 'data/Athletics.pdf', 'page': 3, 'total_pages': 6, 'format': 'PDF 1.4', 'title': '', 'author': '', 'subject': '', 'keywords': '', 'creator': 'Mozilla/5.0 (Windows NT 10.0; Win64; x64) AppleWebKit/537.36 (KHTML, like Gecko) Chrome/122.0.0.0 Safari/537.36', 'producer': 'Skia/PDF m122', 'creationDate': \"D:20240318031103+00'00'\", 'modDate': \"D:20240318031103+00'00'\", 'trapped': ''}\n",
      "page_content='3/18/24, 10:11 AM\\nAthletics - Asian Institute of Technology\\nfile:///D:/AIT/Sem2/NLP/NLP_Assignments/Jupyter Files/data/Athletics - Asian Institute of Technology.html\\n5/6\\nAbout\\nAbout AIT (https://ait.ac.th/about/)\\nFacts and figures (https://ait.ac.th/about/facts-\\nand-figures/)\\nRankings (https://ait.ac.th/about/rankings/)\\nLeadership (https://ait.ac.th/about/leadership/)\\nPeople (https://ait.ac.th/about/meet-our-\\nfaculty/)\\nMeet our faculty (https://ait.ac.th/about/meet-our-\\nfaculty/)\\nMeet our staff (https://ait.ac.th/about/meet-our-\\nstaff/)\\nLocation (https://ait.ac.th/about/location/)\\nCenters (https://ait.ac.th/about/centers/)\\nAcademics\\nAcademic calendar\\n(https://ait.ac.th/academics/calendar/)' metadata={'source': 'data/Athletics.pdf', 'file_path': 'data/Athletics.pdf', 'page': 4, 'total_pages': 6, 'format': 'PDF 1.4', 'title': '', 'author': '', 'subject': '', 'keywords': '', 'creator': 'Mozilla/5.0 (Windows NT 10.0; Win64; x64) AppleWebKit/537.36 (KHTML, like Gecko) Chrome/122.0.0.0 Safari/537.36', 'producer': 'Skia/PDF m122', 'creationDate': \"D:20240318031103+00'00'\", 'modDate': \"D:20240318031103+00'00'\", 'trapped': ''}\n",
      "page_content='Academics\\nAcademic calendar\\n(https://ait.ac.th/academics/calendar/)\\nAcademic Programs\\n(https://ait.ac.th/academics/programs/)\\nStudy options\\n(https://ait.ac.th/academics/study-options/)\\nStudent opportunities\\n(https://ait.ac.th/academics/student-\\nopportunities/)\\nSchools (https://ait.ac.th/academics/schools/)\\nApply to AIT\\nAdmissions (https://ait.ac.th/admissions/)\\nFinancial aid (https://ait.ac.th/financial-aid/)\\nTuition and fees (https://ait.ac.th/tuition-and-\\nfees/)\\nStudent housing (https://ait.ac.th/student-\\nhousing/)\\nApply online (https://ait.ac.th/apply-online/)\\nResearch\\nResearch Centers (https://ait.ac.th/research-\\ncenters/)\\nResearch Themes (https://ait.ac.th/research-\\nthemes/)' metadata={'source': 'data/Athletics.pdf', 'file_path': 'data/Athletics.pdf', 'page': 4, 'total_pages': 6, 'format': 'PDF 1.4', 'title': '', 'author': '', 'subject': '', 'keywords': '', 'creator': 'Mozilla/5.0 (Windows NT 10.0; Win64; x64) AppleWebKit/537.36 (KHTML, like Gecko) Chrome/122.0.0.0 Safari/537.36', 'producer': 'Skia/PDF m122', 'creationDate': \"D:20240318031103+00'00'\", 'modDate': \"D:20240318031103+00'00'\", 'trapped': ''}\n",
      "page_content='centers/)\\nResearch Themes (https://ait.ac.th/research-\\nthemes/)\\nResearch Projects (https://ait.ac.th/research-\\nprojects/)\\nResearch Publications\\n(https://ait.ac.th/research-and-publication/)\\nCampus life\\nHousing (https://ait.ac.th/housing/)\\nDining (https://ait.ac.th/dining/)\\nPartners (https://ait.ac.th/partners/)\\nNews (https://ait.ac.th/news/)\\nEvents (https://ait.ac.th/events/)\\n (https://ait.ac.th/)\\nWe use cookies on our website to give you the most relevant experience by remembering your preferences\\nand repeat visits. By clicking “Accept All”, you consent to the use of ALL the cookies. However, you may\\nvisit \"Cookie Settings\" to provide a controlled consent.\\nCookie Settings\\nAccept All' metadata={'source': 'data/Athletics.pdf', 'file_path': 'data/Athletics.pdf', 'page': 4, 'total_pages': 6, 'format': 'PDF 1.4', 'title': '', 'author': '', 'subject': '', 'keywords': '', 'creator': 'Mozilla/5.0 (Windows NT 10.0; Win64; x64) AppleWebKit/537.36 (KHTML, like Gecko) Chrome/122.0.0.0 Safari/537.36', 'producer': 'Skia/PDF m122', 'creationDate': \"D:20240318031103+00'00'\", 'modDate': \"D:20240318031103+00'00'\", 'trapped': ''}\n",
      "page_content='3/18/24, 10:11 AM\\nAthletics - Asian Institute of Technology\\nfile:///D:/AIT/Sem2/NLP/NLP_Assignments/Jupyter Files/data/Athletics - Asian Institute of Technology.html\\n6/6\\nHealth & Wellness (https://ait.ac.th/health-\\nwellness/)\\nCultural diversity (https://ait.ac.th/cultural-\\ndiversity/)\\nAthletics (https://ait.ac.th/athletcis/)\\nCareer development (https://ait.ac.th/career-\\ndevelopment/)\\nFacilities (https://ait.ac.th/facilities/)\\nVirtual tour (https://ait.ac.th/virtual-tour/)\\nKey thematic areas\\n(https://ait.ac.th/climate-change/)\\nWork at AIT\\n(https://ait.ac.th/opportunities/)\\nBranding (https://ait.ac.th/branding/)\\nContact (https://ait.ac.th/contact/)\\nA-Z Units (https://ait.ac.th/a-z-units/)' metadata={'source': 'data/Athletics.pdf', 'file_path': 'data/Athletics.pdf', 'page': 5, 'total_pages': 6, 'format': 'PDF 1.4', 'title': '', 'author': '', 'subject': '', 'keywords': '', 'creator': 'Mozilla/5.0 (Windows NT 10.0; Win64; x64) AppleWebKit/537.36 (KHTML, like Gecko) Chrome/122.0.0.0 Safari/537.36', 'producer': 'Skia/PDF m122', 'creationDate': \"D:20240318031103+00'00'\", 'modDate': \"D:20240318031103+00'00'\", 'trapped': ''}\n",
      "page_content='Contact (https://ait.ac.th/contact/)\\nA-Z Units (https://ait.ac.th/a-z-units/)\\nTerms and conditions (https://ait.ac.th/terms-conditions/)\\nPrivacy Policy (https://ait.ac.th/privacy-policy/)\\n©2022 Asian Institute of Technology. All Rights Reserved. - Designed by Outsourcify\\n(https://outsourcify.net/)\\n (https://ait.ac.th/)\\nWe use cookies on our website to give you the most relevant experience by remembering your preferences\\nand repeat visits. By clicking “Accept All”, you consent to the use of ALL the cookies. However, you may\\nvisit \"Cookie Settings\" to provide a controlled consent.\\nCookie Settings\\nAccept All' metadata={'source': 'data/Athletics.pdf', 'file_path': 'data/Athletics.pdf', 'page': 5, 'total_pages': 6, 'format': 'PDF 1.4', 'title': '', 'author': '', 'subject': '', 'keywords': '', 'creator': 'Mozilla/5.0 (Windows NT 10.0; Win64; x64) AppleWebKit/537.36 (KHTML, like Gecko) Chrome/122.0.0.0 Safari/537.36', 'producer': 'Skia/PDF m122', 'creationDate': \"D:20240318031103+00'00'\", 'modDate': \"D:20240318031103+00'00'\", 'trapped': ''}\n",
      "page_content='3/18/24, 10:10 AM\\nHousing - Asian Institute of Technology\\nfile:///D:/AIT/Sem2/NLP/NLP_Assignments/Jupyter Files/data/Housing - Asian Institute of Technology.html\\n1/4\\nHome (https://ait.ac.th/) > Housing\\nHousing\\nAIT campus offers many opportunities for sports activities.\\nOn-campus living at AIT\\nHigh-quality on campus accommodations are available in different types, such as air-conditioned or non air-conditioned; cooking or non cooking,\\nand single or double occupancy — all rooms are fully furnished with regular maintenance services. Weekly cleaning service is also available.\\nAccommodation facilities & service\\nSpecial accommodation facility for disabled\\nRegulations\\nHow to apply?' metadata={'source': 'data/Housing.pdf', 'file_path': 'data/Housing.pdf', 'page': 0, 'total_pages': 4, 'format': 'PDF 1.4', 'title': '', 'author': '', 'subject': '', 'keywords': '', 'creator': 'Mozilla/5.0 (Windows NT 10.0; Win64; x64) AppleWebKit/537.36 (KHTML, like Gecko) Chrome/122.0.0.0 Safari/537.36', 'producer': 'Skia/PDF m122', 'creationDate': \"D:20240318031017+00'00'\", 'modDate': \"D:20240318031017+00'00'\", 'trapped': ''}\n",
      "page_content='Special accommodation facility for disabled\\nRegulations\\nHow to apply?\\nFor new incoming students, accommodation will be allocated upon arrival and there is no need to register to queue for the preferred room type.\\nFor continuing students: Please register to queue for the preferred room type at the accommodation office. For more details, please refer to\\nstudent handbook or contact the Office of Facilities and Assets Management.\\nIn this section\\nCampus accommodation with air-conditioned/non air-conditioned & cooking/non cooking rooms*\\nProvides following maintenance services\\nElectrical equipment, furniture, sanitary, building maintenance, gas delivery\\nWeekly cleaning services' metadata={'source': 'data/Housing.pdf', 'file_path': 'data/Housing.pdf', 'page': 0, 'total_pages': 4, 'format': 'PDF 1.4', 'title': '', 'author': '', 'subject': '', 'keywords': '', 'creator': 'Mozilla/5.0 (Windows NT 10.0; Win64; x64) AppleWebKit/537.36 (KHTML, like Gecko) Chrome/122.0.0.0 Safari/537.36', 'producer': 'Skia/PDF m122', 'creationDate': \"D:20240318031017+00'00'\", 'modDate': \"D:20240318031017+00'00'\", 'trapped': ''}\n",
      "page_content='Weekly cleaning services\\nLinens provision and laundry service (2 bedsheets, 2 towels, and 1 Pillowcase) except Category 2 (Dorm E, J, K) and SV Married Units.\\nAccommodation suitable for disabled, wheelchair users and those needing extra space for special equipment are available (4 non-air-\\nconditioned in Dorm C and 4 air-conditioned in Dorm X and Y)\\nPets are not allowed in dorms. Do not feed any stray animals.\\nNo cooking allowed in non-cooking dorm.\\nNo subletting of room! Subletting will result in eviction from the student accommodation.\\nAlways lock your room when you leave. For bicycle owners, Please park properly and lock your bike.' metadata={'source': 'data/Housing.pdf', 'file_path': 'data/Housing.pdf', 'page': 0, 'total_pages': 4, 'format': 'PDF 1.4', 'title': '', 'author': '', 'subject': '', 'keywords': '', 'creator': 'Mozilla/5.0 (Windows NT 10.0; Win64; x64) AppleWebKit/537.36 (KHTML, like Gecko) Chrome/122.0.0.0 Safari/537.36', 'producer': 'Skia/PDF m122', 'creationDate': \"D:20240318031017+00'00'\", 'modDate': \"D:20240318031017+00'00'\", 'trapped': ''}\n",
      "page_content='Always lock your room when you leave. For bicycle owners, Please park properly and lock your bike.\\nBefore leaving the rooms, make sure that all electric appliances, gas appliances and water are turned off.\\n (https://ait.ac.th/)\\nWe use cookies on our website to give you the most relevant experience by remembering your preferences and repeat visits. By clicking “Accept All”, you consent to\\nthe use of ALL the cookies. However, you may visit \"Cookie Settings\" to provide a controlled consent.\\nCookie Settings\\nAccept All' metadata={'source': 'data/Housing.pdf', 'file_path': 'data/Housing.pdf', 'page': 0, 'total_pages': 4, 'format': 'PDF 1.4', 'title': '', 'author': '', 'subject': '', 'keywords': '', 'creator': 'Mozilla/5.0 (Windows NT 10.0; Win64; x64) AppleWebKit/537.36 (KHTML, like Gecko) Chrome/122.0.0.0 Safari/537.36', 'producer': 'Skia/PDF m122', 'creationDate': \"D:20240318031017+00'00'\", 'modDate': \"D:20240318031017+00'00'\", 'trapped': ''}\n",
      "page_content='3/18/24, 10:10 AM\\nHousing - Asian Institute of Technology\\nfile:///D:/AIT/Sem2/NLP/NLP_Assignments/Jupyter Files/data/Housing - Asian Institute of Technology.html\\n2/4\\nFor more information\\n66 (0)2 524-5093 (tel:66 (0)2 524-5093)\\naccommodation@ait.ac.th (mailto:accommodation@ait.ac.th)\\nClick this link (https://ait.ac.th/housing/#)\\nChoosing your accommodation options\\nInformation about the differences between each accommodation type, to help you to make your selection.\\n(https://ait.ac.th/housing/cat-1-without-ac/)\\n(https://ait.ac.th/hous\\nCat 1 without AC\\nCat 1 with AC\\npre\\nnext\\n (https://ait.ac.th/)' metadata={'source': 'data/Housing.pdf', 'file_path': 'data/Housing.pdf', 'page': 1, 'total_pages': 4, 'format': 'PDF 1.4', 'title': '', 'author': '', 'subject': '', 'keywords': '', 'creator': 'Mozilla/5.0 (Windows NT 10.0; Win64; x64) AppleWebKit/537.36 (KHTML, like Gecko) Chrome/122.0.0.0 Safari/537.36', 'producer': 'Skia/PDF m122', 'creationDate': \"D:20240318031017+00'00'\", 'modDate': \"D:20240318031017+00'00'\", 'trapped': ''}\n",
      "page_content='(https://ait.ac.th/hous\\nCat 1 without AC\\nCat 1 with AC\\npre\\nnext\\n (https://ait.ac.th/)\\nWe use cookies on our website to give you the most relevant experience by remembering your preferences and repeat visits. By clicking “Accept All”, you consent to\\nthe use of ALL the cookies. However, you may visit \"Cookie Settings\" to provide a controlled consent.\\nCookie Settings\\nAccept All' metadata={'source': 'data/Housing.pdf', 'file_path': 'data/Housing.pdf', 'page': 1, 'total_pages': 4, 'format': 'PDF 1.4', 'title': '', 'author': '', 'subject': '', 'keywords': '', 'creator': 'Mozilla/5.0 (Windows NT 10.0; Win64; x64) AppleWebKit/537.36 (KHTML, like Gecko) Chrome/122.0.0.0 Safari/537.36', 'producer': 'Skia/PDF m122', 'creationDate': \"D:20240318031017+00'00'\", 'modDate': \"D:20240318031017+00'00'\", 'trapped': ''}\n",
      "page_content='3/18/24, 10:10 AM\\nHousing - Asian Institute of Technology\\nfile:///D:/AIT/Sem2/NLP/NLP_Assignments/Jupyter Files/data/Housing - Asian Institute of Technology.html\\n3/4\\n (https://ait.ac.th/)\\nP.O. Box 4, 58 Moo 9, Km. 42, Paholyothin Highway, Klong Luang, Pathum Thani 12120 Thailand\\n(+66) 25245000, (+66) 25160110-44\\nAbout\\nAbout AIT (https://ait.ac.th/about/)\\nFacts and figures (https://ait.ac.th/about/facts-and-figures/)\\nRankings (https://ait.ac.th/about/rankings/)\\nLeadership (https://ait.ac.th/about/leadership/)\\nPeople (https://ait.ac.th/about/meet-our-faculty/)\\nMeet our faculty (https://ait.ac.th/about/meet-our-faculty/)\\nMeet our staff (https://ait.ac.th/about/meet-our-staff/)' metadata={'source': 'data/Housing.pdf', 'file_path': 'data/Housing.pdf', 'page': 2, 'total_pages': 4, 'format': 'PDF 1.4', 'title': '', 'author': '', 'subject': '', 'keywords': '', 'creator': 'Mozilla/5.0 (Windows NT 10.0; Win64; x64) AppleWebKit/537.36 (KHTML, like Gecko) Chrome/122.0.0.0 Safari/537.36', 'producer': 'Skia/PDF m122', 'creationDate': \"D:20240318031017+00'00'\", 'modDate': \"D:20240318031017+00'00'\", 'trapped': ''}\n",
      "page_content='Meet our staff (https://ait.ac.th/about/meet-our-staff/)\\nLocation (https://ait.ac.th/about/location/)\\nCenters (https://ait.ac.th/about/centers/)\\nAcademics\\nAcademic calendar (https://ait.ac.th/academics/calendar/)\\nAcademic Programs (https://ait.ac.th/academics/programs/)\\nStudy options (https://ait.ac.th/academics/study-options/)\\nStudent opportunities (https://ait.ac.th/academics/student-\\nopportunities/)\\nSchools (https://ait.ac.th/academics/schools/)\\nApply to AIT\\nAdmissions (https://ait.ac.th/admissions/)\\nFinancial aid (https://ait.ac.th/financial-aid/)\\nTuition and fees (https://ait.ac.th/tuition-and-fees/)\\nStudent housing (https://ait.ac.th/student-housing/)' metadata={'source': 'data/Housing.pdf', 'file_path': 'data/Housing.pdf', 'page': 2, 'total_pages': 4, 'format': 'PDF 1.4', 'title': '', 'author': '', 'subject': '', 'keywords': '', 'creator': 'Mozilla/5.0 (Windows NT 10.0; Win64; x64) AppleWebKit/537.36 (KHTML, like Gecko) Chrome/122.0.0.0 Safari/537.36', 'producer': 'Skia/PDF m122', 'creationDate': \"D:20240318031017+00'00'\", 'modDate': \"D:20240318031017+00'00'\", 'trapped': ''}\n",
      "page_content='Student housing (https://ait.ac.th/student-housing/)\\nApply online (https://ait.ac.th/apply-online/)\\nResearch\\nResearch Centers (https://ait.ac.th/research-centers/)\\nResearch Themes (https://ait.ac.th/research-themes/)\\nResearch Projects (https://ait.ac.th/research-projects/)\\nResearch Publications (https://ait.ac.th/research-and-publication/)\\nCampus life\\nHousing (https://ait.ac.th/housing/)\\nDining (https://ait.ac.th/dining/)\\nHealth & Wellness (https://ait.ac.th/health-wellness/)\\nCultural diversity (https://ait.ac.th/cultural-diversity/)\\nAthletics (https://ait.ac.th/athletcis/)\\nCareer development (https://ait.ac.th/career-development/)\\nFacilities (https://ait.ac.th/facilities/)' metadata={'source': 'data/Housing.pdf', 'file_path': 'data/Housing.pdf', 'page': 2, 'total_pages': 4, 'format': 'PDF 1.4', 'title': '', 'author': '', 'subject': '', 'keywords': '', 'creator': 'Mozilla/5.0 (Windows NT 10.0; Win64; x64) AppleWebKit/537.36 (KHTML, like Gecko) Chrome/122.0.0.0 Safari/537.36', 'producer': 'Skia/PDF m122', 'creationDate': \"D:20240318031017+00'00'\", 'modDate': \"D:20240318031017+00'00'\", 'trapped': ''}\n",
      "page_content='Facilities (https://ait.ac.th/facilities/)\\nVirtual tour (https://ait.ac.th/virtual-tour/)\\nPartners (https://ait.ac.th/partners/)\\nNews (https://ait.ac.th/news/)\\nEvents (https://ait.ac.th/events/)\\nKey thematic areas (https://ait.ac.th/climate-change/)\\nWork at AIT (https://ait.ac.th/opportunities/)\\nBranding (https://ait.ac.th/branding/)\\nContact (https://ait.ac.th/contact/)\\nA-Z Units (https://ait.ac.th/a-z-units/)\\n (https://ait.ac.th/)\\nWe use cookies on our website to give you the most relevant experience by remembering your preferences and repeat visits. By clicking “Accept All”, you consent to' metadata={'source': 'data/Housing.pdf', 'file_path': 'data/Housing.pdf', 'page': 2, 'total_pages': 4, 'format': 'PDF 1.4', 'title': '', 'author': '', 'subject': '', 'keywords': '', 'creator': 'Mozilla/5.0 (Windows NT 10.0; Win64; x64) AppleWebKit/537.36 (KHTML, like Gecko) Chrome/122.0.0.0 Safari/537.36', 'producer': 'Skia/PDF m122', 'creationDate': \"D:20240318031017+00'00'\", 'modDate': \"D:20240318031017+00'00'\", 'trapped': ''}\n",
      "page_content='the use of ALL the cookies. However, you may visit \"Cookie Settings\" to provide a controlled consent.\\nCookie Settings\\nAccept All' metadata={'source': 'data/Housing.pdf', 'file_path': 'data/Housing.pdf', 'page': 2, 'total_pages': 4, 'format': 'PDF 1.4', 'title': '', 'author': '', 'subject': '', 'keywords': '', 'creator': 'Mozilla/5.0 (Windows NT 10.0; Win64; x64) AppleWebKit/537.36 (KHTML, like Gecko) Chrome/122.0.0.0 Safari/537.36', 'producer': 'Skia/PDF m122', 'creationDate': \"D:20240318031017+00'00'\", 'modDate': \"D:20240318031017+00'00'\", 'trapped': ''}\n",
      "page_content='3/18/24, 10:10 AM\\nHousing - Asian Institute of Technology\\nfile:///D:/AIT/Sem2/NLP/NLP_Assignments/Jupyter Files/data/Housing - Asian Institute of Technology.html\\n4/4\\nTerms and conditions (https://ait.ac.th/terms-conditions/)\\nPrivacy Policy (https://ait.ac.th/privacy-policy/)\\n©2022 Asian Institute of Technology. All Rights Reserved. - Designed by Outsourcify (https://outsourcify.net/)\\n (https://ait.ac.th/)\\nWe use cookies on our website to give you the most relevant experience by remembering your preferences and repeat visits. By clicking “Accept All”, you consent to\\nthe use of ALL the cookies. However, you may visit \"Cookie Settings\" to provide a controlled consent.\\nCookie Settings\\nAccept All' metadata={'source': 'data/Housing.pdf', 'file_path': 'data/Housing.pdf', 'page': 3, 'total_pages': 4, 'format': 'PDF 1.4', 'title': '', 'author': '', 'subject': '', 'keywords': '', 'creator': 'Mozilla/5.0 (Windows NT 10.0; Win64; x64) AppleWebKit/537.36 (KHTML, like Gecko) Chrome/122.0.0.0 Safari/537.36', 'producer': 'Skia/PDF m122', 'creationDate': \"D:20240318031017+00'00'\", 'modDate': \"D:20240318031017+00'00'\", 'trapped': ''}\n",
      "page_content='Cookie Settings\\nAccept All' metadata={'source': 'data/Housing.pdf', 'file_path': 'data/Housing.pdf', 'page': 3, 'total_pages': 4, 'format': 'PDF 1.4', 'title': '', 'author': '', 'subject': '', 'keywords': '', 'creator': 'Mozilla/5.0 (Windows NT 10.0; Win64; x64) AppleWebKit/537.36 (KHTML, like Gecko) Chrome/122.0.0.0 Safari/537.36', 'producer': 'Skia/PDF m122', 'creationDate': \"D:20240318031017+00'00'\", 'modDate': \"D:20240318031017+00'00'\", 'trapped': ''}\n",
      "page_content='Data Science (DS) is concerned with extraction \\nof useful knowledge from data sets.  It is closely \\nrelated to the fields of computer science, \\nmathematics, and statistics.  It is a relatively new \\nterm for a broad set of skills spanning the more \\nestablished fields of machine learning, data \\nmining, databases, and visualization, along with \\ntheir\\ntheir applications in various fields.  In 2012, \\nHarvard Business Review called data science \\n\"The Sexiest Job of the 21st Century\".\\nArtificial Intelligence (AI) is the broad field \\nconceived in 1956 as the automation or \\nsimulation of human intelligence.  AI has two \\nprimary \"levels\".  The first level, \"narrow AI\",' metadata={'source': 'data/DSAI.pdf', 'file_path': 'data/DSAI.pdf', 'page': 0, 'total_pages': 2, 'format': 'PDF 1.5', 'title': '', 'author': '', 'subject': '', 'keywords': '', 'creator': 'PDFsam Basic v4.1.1', 'producer': 'www.ilovepdf.com', 'creationDate': '', 'modDate': 'D:20200309103917Z', 'trapped': ''}\n",
      "page_content='simulation of human intelligence.  AI has two \\nprimary \"levels\".  The first level, \"narrow AI\", \\nconcerns perception, statistical inference, and \\nactuation, drawing on data science, sensors, and \\nrobotics.  The second level, sometimes called \\n\"a\\n\"artificial general intelligence (AGI), is concerned \\nwith more complex or flexible reasoning and \\ndecision making in less constrained domains.\\nThe AIT Masters in DS&AI was designed in \\npartnership \\nwith \\nthe \\nErasmus+ \\nDS&AI \\nconsortium, a group of 15 European and Asian \\norganizations with the mission of bringing \\nEuropean-standard advanced education to Asia. \\nAt AIT, we will prepare you to understand and' metadata={'source': 'data/DSAI.pdf', 'file_path': 'data/DSAI.pdf', 'page': 0, 'total_pages': 2, 'format': 'PDF 1.5', 'title': '', 'author': '', 'subject': '', 'keywords': '', 'creator': 'PDFsam Basic v4.1.1', 'producer': 'www.ilovepdf.com', 'creationDate': '', 'modDate': 'D:20200309103917Z', 'trapped': ''}\n",
      "page_content='European-standard advanced education to Asia. \\nAt AIT, we will prepare you to understand and \\nexecute projects using state of the art technology \\nat both l\\nat both levels.\\nABOUT THE PROGRAM\\nPROGRAM STRUCTURE\\nDEPARTMENT OF INFORMATION AND \\nCOMMUNICATION TECHNOLOGIES\\nDEPARTMENT OF INDUSTRIAL SYSTEMS \\nENGINEERING\\nSCHOOL OF ENGINEERING AND TECHNOLOGY\\nDSAI Webpage\\nSET Webpage\\nAIT Website' metadata={'source': 'data/DSAI.pdf', 'file_path': 'data/DSAI.pdf', 'page': 0, 'total_pages': 2, 'format': 'PDF 1.5', 'title': '', 'author': '', 'subject': '', 'keywords': '', 'creator': 'PDFsam Basic v4.1.1', 'producer': 'www.ilovepdf.com', 'creationDate': '', 'modDate': 'D:20200309103917Z', 'trapped': ''}\n",
      "page_content='Contact Us\\nComputer Science & Information \\nManagement (CSIM)\\nDepartment of ICT \\nSchool of  Engineering and \\nTechnology (SET)\\nAsian Institute of\\nAsian Institute of Technology (AIT)\\nPhone: +66 (0)2 524 5700\\nPhone: +66 (0)2 524 5717\\nEmail: dsai@ait.ac.th\\nPREFERRED BACKGROUND\\nTo study DS&AI, students should come from one of the following \\nbackgrounds.\\nComputer Science / Computer Engineering / ICT.\\nEngineering background with work experience, mathematical skills, \\nand programming skills.\\nDi\\nDiverse \\nbackgrounds \\nsuch \\nas \\nbusiness, \\nfinance, \\nor \\nother \\nnon-engineering fields. Candidates must take a foundation course in \\ncalculus, discrete mathematics, linearalgebra, and basic computer' metadata={'source': 'data/DSAI.pdf', 'file_path': 'data/DSAI.pdf', 'page': 1, 'total_pages': 2, 'format': 'PDF 1.5', 'title': '', 'author': '', 'subject': '', 'keywords': '', 'creator': 'PDFsam Basic v4.1.1', 'producer': 'www.ilovepdf.com', 'creationDate': '', 'modDate': 'D:20200309103917Z', 'trapped': ''}\n",
      "page_content=\"calculus, discrete mathematics, linearalgebra, and basic computer \\nprogramming.\\nIt has already begun. In the next 10 \\nyears, data science and AI will touch \\nnearly \\nevery \\naspect \\nof \\nhuman \\nendeavor, transforming the way we live \\nand work. In the longer term, Artificial \\nGeneral Intelligence will likely emerge \\nas one of the most disruptive and \\npr\\nproductive technologies humankind \\nhas ever seen.\\nAre you ready for the age of data \\nscience and AI? AIT is ready to help \\nyou get abreast of current technology \\nand prepare for the big changes that \\nare coming.\\nData Science and AI\\nThe AIT Master's in DS&AI was designed in partnership with the\" metadata={'source': 'data/DSAI.pdf', 'file_path': 'data/DSAI.pdf', 'page': 1, 'total_pages': 2, 'format': 'PDF 1.5', 'title': '', 'author': '', 'subject': '', 'keywords': '', 'creator': 'PDFsam Basic v4.1.1', 'producer': 'www.ilovepdf.com', 'creationDate': '', 'modDate': 'D:20200309103917Z', 'trapped': ''}\n",
      "page_content=\"are coming.\\nData Science and AI\\nThe AIT Master's in DS&AI was designed in partnership with the \\nERASMUS+ DS&AI consortium, a group of 15 European  and Asian \\nuniversities \\nand \\ncompanies \\nwith \\nthe \\nmission \\nof \\nbringing \\nEuropean-standard advanced education to Asia.\\nDEPARTMENT OF INFORMATION AND COMMUNICATION TECHNOLOGIES\\nDEPARTMENT OF INDUSTRIAL SYSTEMS ENGINEERING\\n•\\n•\\n•\\nhttps://www.dsai-project.eu/\" metadata={'source': 'data/DSAI.pdf', 'file_path': 'data/DSAI.pdf', 'page': 1, 'total_pages': 2, 'format': 'PDF 1.5', 'title': '', 'author': '', 'subject': '', 'keywords': '', 'creator': 'PDFsam Basic v4.1.1', 'producer': 'www.ilovepdf.com', 'creationDate': '', 'modDate': 'D:20200309103917Z', 'trapped': ''}\n",
      "page_content='3/18/24, 12:35 PM\\nStudent International Exchange - Asian Institute of Technology\\nfile:///C:/Users/LEGION/Downloads/Student International Exchange - Asian Institute of Technology.html\\n1/10\\nHome (https://ait.ac.th/) > Student International Exch…\\nStudent International Exchange\\nThe objective of an international exchange is to equip AIT students with balanced skills and knowledge by providing an\\nopportunity to learn inside and outside the classroom at a partner university abroad. A positive exchange experience can also offer\\nstudents an opportunity to cultivate academic knowledge, transversal skills, and intercultural communication, and expand their' metadata={'source': 'data/Exchange.pdf', 'file_path': 'data/Exchange.pdf', 'page': 0, 'total_pages': 10, 'format': 'PDF 1.4', 'title': '', 'author': '', 'subject': '', 'keywords': '', 'creator': 'Mozilla/5.0 (Windows NT 10.0; Win64; x64) AppleWebKit/537.36 (KHTML, like Gecko) Chrome/122.0.0.0 Safari/537.36', 'producer': 'Skia/PDF m122', 'creationDate': \"D:20240318053500+00'00'\", 'modDate': \"D:20240318053500+00'00'\", 'trapped': ''}\n",
      "page_content='personal and professional networks. On top of taking credit-bearing classes at a partner university, exchange students are\\nencouraged to participate in conferences, seminars, workshops, and activities available for enhancing targeted and balanced\\nabilities, skills and techniques.\\nList of Partner Universities\\nAround 60 international universities around the globe are our student exchange partners. The universities in the following link are\\navailable to you for student exchange opportunities.\\xa0Click to view Exchange Programs (https://ait.ac.th/exchange-program-\\nuniversities/)\\n (https://ait.ac.th/)' metadata={'source': 'data/Exchange.pdf', 'file_path': 'data/Exchange.pdf', 'page': 0, 'total_pages': 10, 'format': 'PDF 1.4', 'title': '', 'author': '', 'subject': '', 'keywords': '', 'creator': 'Mozilla/5.0 (Windows NT 10.0; Win64; x64) AppleWebKit/537.36 (KHTML, like Gecko) Chrome/122.0.0.0 Safari/537.36', 'producer': 'Skia/PDF m122', 'creationDate': \"D:20240318053500+00'00'\", 'modDate': \"D:20240318053500+00'00'\", 'trapped': ''}\n",
      "page_content='universities/)\\n (https://ait.ac.th/)\\nWe use cookies on our website to give you the most relevant experience by remembering your preferences and repeat visits. By clicking “Accept\\nAll”, you consent to the use of ALL the cookies. However, you may visit \"Cookie Settings\" to provide a controlled consent.\\nCookie Settings\\nAccept All' metadata={'source': 'data/Exchange.pdf', 'file_path': 'data/Exchange.pdf', 'page': 0, 'total_pages': 10, 'format': 'PDF 1.4', 'title': '', 'author': '', 'subject': '', 'keywords': '', 'creator': 'Mozilla/5.0 (Windows NT 10.0; Win64; x64) AppleWebKit/537.36 (KHTML, like Gecko) Chrome/122.0.0.0 Safari/537.36', 'producer': 'Skia/PDF m122', 'creationDate': \"D:20240318053500+00'00'\", 'modDate': \"D:20240318053500+00'00'\", 'trapped': ''}\n",
      "page_content='3/18/24, 12:35 PM\\nStudent International Exchange - Asian Institute of Technology\\nfile:///C:/Users/LEGION/Downloads/Student International Exchange - Asian Institute of Technology.html\\n2/10\\nWhen to Apply\\nUpon completion of the required courses and achieving required credits, students can apply for international exchange at the\\xa0SIS\\nPortal for (SET & SERD) (https://sis.ait.ac.th/)\\xa0and\\xa0SIS Portal for (SOM) (https://somsis.ait.ac.th/).\\nEligibility\\nTo be considered eligible for International (outbound) Exchange, you have to meet the following requirements:\\n1. Must be a student enrolled in courses at AIT;' metadata={'source': 'data/Exchange.pdf', 'file_path': 'data/Exchange.pdf', 'page': 1, 'total_pages': 10, 'format': 'PDF 1.4', 'title': '', 'author': '', 'subject': '', 'keywords': '', 'creator': 'Mozilla/5.0 (Windows NT 10.0; Win64; x64) AppleWebKit/537.36 (KHTML, like Gecko) Chrome/122.0.0.0 Safari/537.36', 'producer': 'Skia/PDF m122', 'creationDate': \"D:20240318053500+00'00'\", 'modDate': \"D:20240318053500+00'00'\", 'trapped': ''}\n",
      "page_content='1. Must be a student enrolled in courses at AIT;\\n2. Students upon completing two semesters / four terms (for SOM) of coursework with minimum CGPA of 3.0 and English level\\nof at least 6.0 on AIT Standard are eligible for going on Exchange.\\nSemester\\nExchange Duration\\nApplication Period\\nSpring\\nJanuary to April\\n1-15 September\\nFall\\nAugust to November\\n1-15 March\\n (https://ait.ac.th/)\\nWe use cookies on our website to give you the most relevant experience by remembering your preferences and repeat visits. By clicking “Accept\\nAll”, you consent to the use of ALL the cookies. However, you may visit \"Cookie Settings\" to provide a controlled consent.\\nCookie Settings\\nAccept All' metadata={'source': 'data/Exchange.pdf', 'file_path': 'data/Exchange.pdf', 'page': 1, 'total_pages': 10, 'format': 'PDF 1.4', 'title': '', 'author': '', 'subject': '', 'keywords': '', 'creator': 'Mozilla/5.0 (Windows NT 10.0; Win64; x64) AppleWebKit/537.36 (KHTML, like Gecko) Chrome/122.0.0.0 Safari/537.36', 'producer': 'Skia/PDF m122', 'creationDate': \"D:20240318053500+00'00'\", 'modDate': \"D:20240318053500+00'00'\", 'trapped': ''}\n",
      "page_content='3/18/24, 12:35 PM\\nStudent International Exchange - Asian Institute of Technology\\nfile:///C:/Users/LEGION/Downloads/Student International Exchange - Asian Institute of Technology.html\\n3/10\\n3. Each university has different eligibility requirements including English requirements; therefore, students must go through each\\nof their preferred university’s full details for detailed information before applying.\\n4. Approval, in principle, from Academic Advisor.\\nPeriod of Exchange and Credit Transfer\\nThe period of exchange should be equivalent to one semester / two terms (for SOM) of the AIT system. The student is required to' metadata={'source': 'data/Exchange.pdf', 'file_path': 'data/Exchange.pdf', 'page': 2, 'total_pages': 10, 'format': 'PDF 1.4', 'title': '', 'author': '', 'subject': '', 'keywords': '', 'creator': 'Mozilla/5.0 (Windows NT 10.0; Win64; x64) AppleWebKit/537.36 (KHTML, like Gecko) Chrome/122.0.0.0 Safari/537.36', 'producer': 'Skia/PDF m122', 'creationDate': \"D:20240318053500+00'00'\", 'modDate': \"D:20240318053500+00'00'\", 'trapped': ''}\n",
      "page_content='present the option (see below) to complete 12 credits, and needs to get approval from the AIT faculty advisor who will supervise it\\nin case of project/special study.\\nThe 12 credits of exchange can be completed as follows:\\nThe Special study/projects as part of exchange credits would require the student to focus on a subject that is relevant to the\\nprogram of study and the region in which they study. Ideally, there will be a co-supervisor of the study/project from the exchange\\nuniversity. If no such co-supervisor is found, then sole supervision from AIT is permitted as long as the study/project clearly' metadata={'source': 'data/Exchange.pdf', 'file_path': 'data/Exchange.pdf', 'page': 2, 'total_pages': 10, 'format': 'PDF 1.4', 'title': '', 'author': '', 'subject': '', 'keywords': '', 'creator': 'Mozilla/5.0 (Windows NT 10.0; Win64; x64) AppleWebKit/537.36 (KHTML, like Gecko) Chrome/122.0.0.0 Safari/537.36', 'producer': 'Skia/PDF m122', 'creationDate': \"D:20240318053500+00'00'\", 'modDate': \"D:20240318053500+00'00'\", 'trapped': ''}\n",
      "page_content='focuses on a subject that relates to the exchange and has not been the subject of an essay/report for a course taken on exchange.\\nFor policies on special study/project, please refer to section 1-1.1-vii under Academic Requirements of the R&P. For policies on\\nTransfer of Credits, please refer to section 7 under General Requirements of the R&P.\\n12 credits of coursework transferred back to AIT.\\n9 credits of coursework transferred back to AIT, and 3 credits of special study/AIT coursework.\\n6 credits of coursework transferred back to AIT, and 6 credits of project/special study/AIT coursework.\\n (https://ait.ac.th/)' metadata={'source': 'data/Exchange.pdf', 'file_path': 'data/Exchange.pdf', 'page': 2, 'total_pages': 10, 'format': 'PDF 1.4', 'title': '', 'author': '', 'subject': '', 'keywords': '', 'creator': 'Mozilla/5.0 (Windows NT 10.0; Win64; x64) AppleWebKit/537.36 (KHTML, like Gecko) Chrome/122.0.0.0 Safari/537.36', 'producer': 'Skia/PDF m122', 'creationDate': \"D:20240318053500+00'00'\", 'modDate': \"D:20240318053500+00'00'\", 'trapped': ''}\n",
      "page_content='(https://ait.ac.th/)\\nWe use cookies on our website to give you the most relevant experience by remembering your preferences and repeat visits. By clicking “Accept\\nAll”, you consent to the use of ALL the cookies. However, you may visit \"Cookie Settings\" to provide a controlled consent.\\nCookie Settings\\nAccept All' metadata={'source': 'data/Exchange.pdf', 'file_path': 'data/Exchange.pdf', 'page': 2, 'total_pages': 10, 'format': 'PDF 1.4', 'title': '', 'author': '', 'subject': '', 'keywords': '', 'creator': 'Mozilla/5.0 (Windows NT 10.0; Win64; x64) AppleWebKit/537.36 (KHTML, like Gecko) Chrome/122.0.0.0 Safari/537.36', 'producer': 'Skia/PDF m122', 'creationDate': \"D:20240318053500+00'00'\", 'modDate': \"D:20240318053500+00'00'\", 'trapped': ''}\n",
      "page_content='3/18/24, 12:35 PM\\nStudent International Exchange - Asian Institute of Technology\\nfile:///C:/Users/LEGION/Downloads/Student International Exchange - Asian Institute of Technology.html\\n4/10\\nCourses completed can be transferred back to AIT towards partial fulfillment of the credit requirements for the AIT master’s\\nprogram, subject to the discretion of the Academic Program/Department, provided the following conditions are met:\\n1. The courses were taken as part of a relevant graduate program;\\n2. The courses have at least passing grades (with an equivalent grade of at least 3.00/4.00 or “A”, “B+”, or “B”); (Note: Credits for' metadata={'source': 'data/Exchange.pdf', 'file_path': 'data/Exchange.pdf', 'page': 3, 'total_pages': 10, 'format': 'PDF 1.4', 'title': '', 'author': '', 'subject': '', 'keywords': '', 'creator': 'Mozilla/5.0 (Windows NT 10.0; Win64; x64) AppleWebKit/537.36 (KHTML, like Gecko) Chrome/122.0.0.0 Safari/537.36', 'producer': 'Skia/PDF m122', 'creationDate': \"D:20240318053500+00'00'\", 'modDate': \"D:20240318053500+00'00'\", 'trapped': ''}\n",
      "page_content='coursework completed on a pass-fail or satisfactory/unsatisfactory basis can only be transferred through ‘credit by\\nexamination.’);\\n3. The courses are equivalent to graduate courses at AIT;\\n4. The courses were completed within the last 5 years;\\n5. The courses are stipulated in the relevant Memorandum of Understanding or Agreement of our partner universities;\\n6. Only elective courses can be transferred;\\n7. Students transferring course credits should not have been dismissed from the previous institution/university; and\\n8. For collaborative programs, the number of credits that may be transferred will be as approved by the Academic Senate.' metadata={'source': 'data/Exchange.pdf', 'file_path': 'data/Exchange.pdf', 'page': 3, 'total_pages': 10, 'format': 'PDF 1.4', 'title': '', 'author': '', 'subject': '', 'keywords': '', 'creator': 'Mozilla/5.0 (Windows NT 10.0; Win64; x64) AppleWebKit/537.36 (KHTML, like Gecko) Chrome/122.0.0.0 Safari/537.36', 'producer': 'Skia/PDF m122', 'creationDate': \"D:20240318053500+00'00'\", 'modDate': \"D:20240318053500+00'00'\", 'trapped': ''}\n",
      "page_content='Please download the Credit Transfer Form here. (https://ait.ac.th/wp-content/uploads/2023/04/Credit-by-Validation.pdf)\\nAIT Exchange Scholarship\\nDue to the generous donations of our alumni and business partners, some AIT Exchange Scholarships are available for outgoing\\nexchange students. For details, please\\xa0Click Here (https://students.ait.ac.th/exchangescho/)\\n (https://ait.ac.th/)\\nWe use cookies on our website to give you the most relevant experience by remembering your preferences and repeat visits. By clicking “Accept\\nAll”, you consent to the use of ALL the cookies. However, you may visit \"Cookie Settings\" to provide a controlled consent.\\nCookie Settings\\nAccept All' metadata={'source': 'data/Exchange.pdf', 'file_path': 'data/Exchange.pdf', 'page': 3, 'total_pages': 10, 'format': 'PDF 1.4', 'title': '', 'author': '', 'subject': '', 'keywords': '', 'creator': 'Mozilla/5.0 (Windows NT 10.0; Win64; x64) AppleWebKit/537.36 (KHTML, like Gecko) Chrome/122.0.0.0 Safari/537.36', 'producer': 'Skia/PDF m122', 'creationDate': \"D:20240318053500+00'00'\", 'modDate': \"D:20240318053500+00'00'\", 'trapped': ''}\n",
      "page_content='3/18/24, 12:35 PM\\nStudent International Exchange - Asian Institute of Technology\\nfile:///C:/Users/LEGION/Downloads/Student International Exchange - Asian Institute of Technology.html\\n5/10\\nApplication Process and Contact Persons\\nExchange Coordinators at each School will guide students on the application process and they can be reached at:\\nSchool of Management\\nMs Chomchaba Katinted\\nchaba@ait.ac.th (mailto:chaba@ait.ac.th)\\nSchool of Environment, Resources, and Development\\nMs Sarina Pradhan Thapa\\nsarina@ait.ac.th (mailto:sarina@ait.ac.th)\\nSchool of Engineering and Technology\\nsetexchange@ait.asia (mailto:setexchange@ait.asia)\\nPractical Information\\nAcademic Advisor' metadata={'source': 'data/Exchange.pdf', 'file_path': 'data/Exchange.pdf', 'page': 4, 'total_pages': 10, 'format': 'PDF 1.4', 'title': '', 'author': '', 'subject': '', 'keywords': '', 'creator': 'Mozilla/5.0 (Windows NT 10.0; Win64; x64) AppleWebKit/537.36 (KHTML, like Gecko) Chrome/122.0.0.0 Safari/537.36', 'producer': 'Skia/PDF m122', 'creationDate': \"D:20240318053500+00'00'\", 'modDate': \"D:20240318053500+00'00'\", 'trapped': ''}\n",
      "page_content='setexchange@ait.asia (mailto:setexchange@ait.asia)\\nPractical Information\\nAcademic Advisor\\nBefore registering for courses at the host university, you are advised to seek your Academic Advisor’s feedback to ensure credit\\ntransfer.\\n (https://ait.ac.th/)\\nWe use cookies on our website to give you the most relevant experience by remembering your preferences and repeat visits. By clicking “Accept\\nAll”, you consent to the use of ALL the cookies. However, you may visit \"Cookie Settings\" to provide a controlled consent.\\nCookie Settings\\nAccept All' metadata={'source': 'data/Exchange.pdf', 'file_path': 'data/Exchange.pdf', 'page': 4, 'total_pages': 10, 'format': 'PDF 1.4', 'title': '', 'author': '', 'subject': '', 'keywords': '', 'creator': 'Mozilla/5.0 (Windows NT 10.0; Win64; x64) AppleWebKit/537.36 (KHTML, like Gecko) Chrome/122.0.0.0 Safari/537.36', 'producer': 'Skia/PDF m122', 'creationDate': \"D:20240318053500+00'00'\", 'modDate': \"D:20240318053500+00'00'\", 'trapped': ''}\n",
      "page_content='3/18/24, 12:35 PM\\nStudent International Exchange - Asian Institute of Technology\\nfile:///C:/Users/LEGION/Downloads/Student International Exchange - Asian Institute of Technology.html\\n6/10\\nAccommodation Unit\\nIf you are residing on campus, you may inform the Accommodation Unit of your room arrangement during your exchange period\\nbefore you leave the campus. accommodaon@ait.ac.th\\nGovernment Relations Unit\\nYou are advised to discuss the visa issues with the Government Relations Unit (GRU)\\ngru@ait.ac.th (mailto:gru@ait.ac.th)\\nOffice of Advancement and Alumni Affairs (OAAA)\\nThe OAAA takes care of all exchange scholarship matters.\\noaaa@ait.ac.th (mailto:oaaa@ait.ac.th)\\nTuition Fees' metadata={'source': 'data/Exchange.pdf', 'file_path': 'data/Exchange.pdf', 'page': 5, 'total_pages': 10, 'format': 'PDF 1.4', 'title': '', 'author': '', 'subject': '', 'keywords': '', 'creator': 'Mozilla/5.0 (Windows NT 10.0; Win64; x64) AppleWebKit/537.36 (KHTML, like Gecko) Chrome/122.0.0.0 Safari/537.36', 'producer': 'Skia/PDF m122', 'creationDate': \"D:20240318053500+00'00'\", 'modDate': \"D:20240318053500+00'00'\", 'trapped': ''}\n",
      "page_content='oaaa@ait.ac.th (mailto:oaaa@ait.ac.th)\\nTuition Fees\\nIt is advisable for you to discuss your tuition fee arrangement before you leave the campus.\\naso@ait.ac.th (mailto:aso@ait.ac.th)\\nOffice of International Affairs (OIA)\\nFor details of partner universities, please contact OIA.\\noia@ait.ac.th (mailto:oia@ait.ac.th)\\n (https://ait.ac.th/)\\nWe use cookies on our website to give you the most relevant experience by remembering your preferences and repeat visits. By clicking “Accept\\nAll”, you consent to the use of ALL the cookies. However, you may visit \"Cookie Settings\" to provide a controlled consent.\\nCookie Settings\\nAccept All' metadata={'source': 'data/Exchange.pdf', 'file_path': 'data/Exchange.pdf', 'page': 5, 'total_pages': 10, 'format': 'PDF 1.4', 'title': '', 'author': '', 'subject': '', 'keywords': '', 'creator': 'Mozilla/5.0 (Windows NT 10.0; Win64; x64) AppleWebKit/537.36 (KHTML, like Gecko) Chrome/122.0.0.0 Safari/537.36', 'producer': 'Skia/PDF m122', 'creationDate': \"D:20240318053500+00'00'\", 'modDate': \"D:20240318053500+00'00'\", 'trapped': ''}\n",
      "page_content='3/18/24, 12:35 PM\\nStudent International Exchange - Asian Institute of Technology\\nfile:///C:/Users/LEGION/Downloads/Student International Exchange - Asian Institute of Technology.html\\n7/10\\n (https://ait.ac.th/)\\nP.O. Box 4, 58 Moo 9, Km. 42, Paholyothin Highway, Klong Luang, Pathum Thani 12120 Thailand\\n(+66) 25245000, (+66) 25160110-44\\nAbout\\nAcademics\\nApply to AIT\\n (https://ait.ac.th/)\\nWe use cookies on our website to give you the most relevant experience by remembering your preferences and repeat visits. By clicking “Accept\\nAll”, you consent to the use of ALL the cookies. However, you may visit \"Cookie Settings\" to provide a controlled consent.\\nCookie Settings\\nAccept All' metadata={'source': 'data/Exchange.pdf', 'file_path': 'data/Exchange.pdf', 'page': 6, 'total_pages': 10, 'format': 'PDF 1.4', 'title': '', 'author': '', 'subject': '', 'keywords': '', 'creator': 'Mozilla/5.0 (Windows NT 10.0; Win64; x64) AppleWebKit/537.36 (KHTML, like Gecko) Chrome/122.0.0.0 Safari/537.36', 'producer': 'Skia/PDF m122', 'creationDate': \"D:20240318053500+00'00'\", 'modDate': \"D:20240318053500+00'00'\", 'trapped': ''}\n",
      "page_content='3/18/24, 12:35 PM\\nStudent International Exchange - Asian Institute of Technology\\nfile:///C:/Users/LEGION/Downloads/Student International Exchange - Asian Institute of Technology.html\\n8/10\\nAbout AIT (https://ait.ac.th/about/)\\nFacts and figures\\n(https://ait.ac.th/about/facts-and-\\nfigures/)\\nRankings\\n(https://ait.ac.th/about/rankings/)\\nLeadership\\n(https://ait.ac.th/about/leadership/)\\nPeople (https://ait.ac.th/about/meet-\\nour-faculty/)\\nMeet our faculty\\n(https://ait.ac.th/about/meet-our-\\nfaculty/)\\nMeet our staff\\n(https://ait.ac.th/about/meet-our-staff/)\\nLocation\\n(https://ait.ac.th/about/location/)\\nCenters\\n(https://ait.ac.th/about/centers/)\\nAcademic calendar\\n(https://ait.ac.th/academics/calendar/)' metadata={'source': 'data/Exchange.pdf', 'file_path': 'data/Exchange.pdf', 'page': 7, 'total_pages': 10, 'format': 'PDF 1.4', 'title': '', 'author': '', 'subject': '', 'keywords': '', 'creator': 'Mozilla/5.0 (Windows NT 10.0; Win64; x64) AppleWebKit/537.36 (KHTML, like Gecko) Chrome/122.0.0.0 Safari/537.36', 'producer': 'Skia/PDF m122', 'creationDate': \"D:20240318053500+00'00'\", 'modDate': \"D:20240318053500+00'00'\", 'trapped': ''}\n",
      "page_content='(https://ait.ac.th/about/centers/)\\nAcademic calendar\\n(https://ait.ac.th/academics/calendar/)\\nAcademic Programs\\n(https://ait.ac.th/academics/programs/)\\nStudy options\\n(https://ait.ac.th/academics/study-\\noptions/)\\nStudent opportunities\\n(https://ait.ac.th/academics/student-\\nopportunities/)\\nSchools\\n(https://ait.ac.th/academics/schools/)\\nAdmissions\\n(https://ait.ac.th/admissions/)\\nFinancial aid\\n(https://ait.ac.th/financial-aid/)\\nTuition and fees\\n(https://ait.ac.th/tuition-and-fees/)\\nStudent housing\\n(https://ait.ac.th/student-housing/)\\nApply online (https://ait.ac.th/apply-\\nonline/)\\nResearch\\nResearch Centers\\n(https://ait.ac.th/research-centers/)\\nCampus life\\nHousing (https://ait.ac.th/housing/)' metadata={'source': 'data/Exchange.pdf', 'file_path': 'data/Exchange.pdf', 'page': 7, 'total_pages': 10, 'format': 'PDF 1.4', 'title': '', 'author': '', 'subject': '', 'keywords': '', 'creator': 'Mozilla/5.0 (Windows NT 10.0; Win64; x64) AppleWebKit/537.36 (KHTML, like Gecko) Chrome/122.0.0.0 Safari/537.36', 'producer': 'Skia/PDF m122', 'creationDate': \"D:20240318053500+00'00'\", 'modDate': \"D:20240318053500+00'00'\", 'trapped': ''}\n",
      "page_content='(https://ait.ac.th/research-centers/)\\nCampus life\\nHousing (https://ait.ac.th/housing/)\\nDining (https://ait.ac.th/dining/)\\nPartners\\n(https://ait.ac.th/partners/)\\n (https://ait.ac.th/)\\nWe use cookies on our website to give you the most relevant experience by remembering your preferences and repeat visits. By clicking “Accept\\nAll”, you consent to the use of ALL the cookies. However, you may visit \"Cookie Settings\" to provide a controlled consent.\\nCookie Settings\\nAccept All' metadata={'source': 'data/Exchange.pdf', 'file_path': 'data/Exchange.pdf', 'page': 7, 'total_pages': 10, 'format': 'PDF 1.4', 'title': '', 'author': '', 'subject': '', 'keywords': '', 'creator': 'Mozilla/5.0 (Windows NT 10.0; Win64; x64) AppleWebKit/537.36 (KHTML, like Gecko) Chrome/122.0.0.0 Safari/537.36', 'producer': 'Skia/PDF m122', 'creationDate': \"D:20240318053500+00'00'\", 'modDate': \"D:20240318053500+00'00'\", 'trapped': ''}\n",
      "page_content='3/18/24, 12:35 PM\\nStudent International Exchange - Asian Institute of Technology\\nfile:///C:/Users/LEGION/Downloads/Student International Exchange - Asian Institute of Technology.html\\n9/10\\nResearch Themes\\n(https://ait.ac.th/research-themes/)\\nResearch Projects\\n(https://ait.ac.th/research-projects/)\\nResearch Publications\\n(https://ait.ac.th/research-and-\\npublication/)\\nHealth & Wellness\\n(https://ait.ac.th/health-wellness/)\\nCultural diversity\\n(https://ait.ac.th/cultural-diversity/)\\nAthletics (https://ait.ac.th/athletcis/)\\nCareer development\\n(https://ait.ac.th/career-\\ndevelopment/)\\nFacilities (https://ait.ac.th/facilities/)\\nVirtual tour (https://ait.ac.th/virtual-\\ntour/)\\nNews' metadata={'source': 'data/Exchange.pdf', 'file_path': 'data/Exchange.pdf', 'page': 8, 'total_pages': 10, 'format': 'PDF 1.4', 'title': '', 'author': '', 'subject': '', 'keywords': '', 'creator': 'Mozilla/5.0 (Windows NT 10.0; Win64; x64) AppleWebKit/537.36 (KHTML, like Gecko) Chrome/122.0.0.0 Safari/537.36', 'producer': 'Skia/PDF m122', 'creationDate': \"D:20240318053500+00'00'\", 'modDate': \"D:20240318053500+00'00'\", 'trapped': ''}\n",
      "page_content='Facilities (https://ait.ac.th/facilities/)\\nVirtual tour (https://ait.ac.th/virtual-\\ntour/)\\nNews\\n(https://ait.ac.th/news/)\\nEvents\\n(https://ait.ac.th/events/)\\nKey thematic areas\\n(https://ait.ac.th/climate-\\nchange/)\\nWork at AIT\\n(https://ait.ac.th/opportunities/\\nBranding\\n(https://ait.ac.th/branding/)\\nContact\\n(https://ait.ac.th/contact/)\\nA-Z Units\\n(https://ait.ac.th/a-z-units/)\\nTerms and conditions (https://ait.ac.th/terms-conditions/)\\nPrivacy Policy (https://ait.ac.th/privacy-policy/)\\n (https://ait.ac.th/)\\nWe use cookies on our website to give you the most relevant experience by remembering your preferences and repeat visits. By clicking “Accept' metadata={'source': 'data/Exchange.pdf', 'file_path': 'data/Exchange.pdf', 'page': 8, 'total_pages': 10, 'format': 'PDF 1.4', 'title': '', 'author': '', 'subject': '', 'keywords': '', 'creator': 'Mozilla/5.0 (Windows NT 10.0; Win64; x64) AppleWebKit/537.36 (KHTML, like Gecko) Chrome/122.0.0.0 Safari/537.36', 'producer': 'Skia/PDF m122', 'creationDate': \"D:20240318053500+00'00'\", 'modDate': \"D:20240318053500+00'00'\", 'trapped': ''}\n",
      "page_content='All”, you consent to the use of ALL the cookies. However, you may visit \"Cookie Settings\" to provide a controlled consent.\\nCookie Settings\\nAccept All' metadata={'source': 'data/Exchange.pdf', 'file_path': 'data/Exchange.pdf', 'page': 8, 'total_pages': 10, 'format': 'PDF 1.4', 'title': '', 'author': '', 'subject': '', 'keywords': '', 'creator': 'Mozilla/5.0 (Windows NT 10.0; Win64; x64) AppleWebKit/537.36 (KHTML, like Gecko) Chrome/122.0.0.0 Safari/537.36', 'producer': 'Skia/PDF m122', 'creationDate': \"D:20240318053500+00'00'\", 'modDate': \"D:20240318053500+00'00'\", 'trapped': ''}\n",
      "page_content='3/18/24, 12:35 PM\\nStudent International Exchange - Asian Institute of Technology\\nfile:///C:/Users/LEGION/Downloads/Student International Exchange - Asian Institute of Technology.html\\n10/10\\n©2022 Asian Institute of Technology. All Rights Reserved. - Designed by Outsourcify (https://outsourcify.net/)\\n (https://ait.ac.th/)\\nWe use cookies on our website to give you the most relevant experience by remembering your preferences and repeat visits. By clicking “Accept\\nAll”, you consent to the use of ALL the cookies. However, you may visit \"Cookie Settings\" to provide a controlled consent.\\nCookie Settings\\nAccept All' metadata={'source': 'data/Exchange.pdf', 'file_path': 'data/Exchange.pdf', 'page': 9, 'total_pages': 10, 'format': 'PDF 1.4', 'title': '', 'author': '', 'subject': '', 'keywords': '', 'creator': 'Mozilla/5.0 (Windows NT 10.0; Win64; x64) AppleWebKit/537.36 (KHTML, like Gecko) Chrome/122.0.0.0 Safari/537.36', 'producer': 'Skia/PDF m122', 'creationDate': \"D:20240318053500+00'00'\", 'modDate': \"D:20240318053500+00'00'\", 'trapped': ''}\n",
      "page_content='3/18/24, 12:38 PM\\nResearch Overview - Asian Institute of Technology\\nfile:///D:/AIT/Sem2/NLP/NLP_Assignments/Jupyter Files/data/Research Overview - Asian Institute of Technology.html\\n1/6\\nHome (https://ait.ac.th/) > Research Overview\\nResearch Overview\\nRecognized as one of the leading academic institutes in the field of sustainability in Asia, AIT through its research projects, thrives\\nto take-on new research frontiers to build a better knowledge base and facilitate actions towards the sustainable development of\\nthe region. With an aim to make a significant and lasting difference to the communities, AIT’s research projects are designed to' metadata={'source': 'data/Research.pdf', 'file_path': 'data/Research.pdf', 'page': 0, 'total_pages': 6, 'format': 'PDF 1.4', 'title': '', 'author': '', 'subject': '', 'keywords': '', 'creator': 'Mozilla/5.0 (Windows NT 10.0; Win64; x64) AppleWebKit/537.36 (KHTML, like Gecko) Chrome/122.0.0.0 Safari/537.36', 'producer': 'Skia/PDF m122', 'creationDate': \"D:20240318053806+00'00'\", 'modDate': \"D:20240318053806+00'00'\", 'trapped': ''}\n",
      "page_content='bolster technology development and application, environmental conservation, policy innovation thus promoting sustainability and\\nsustainable development around Asia and beyond.\\nIn this section\\n (https://ait.ac.th/)\\nWe use cookies on our website to give you the most relevant experience by remembering your preferences and repeat visits. By clicking “Accept\\nAll”, you consent to the use of ALL the cookies. However, you may visit \"Cookie Settings\" to provide a controlled consent.\\nCookie Settings\\nAccept All' metadata={'source': 'data/Research.pdf', 'file_path': 'data/Research.pdf', 'page': 0, 'total_pages': 6, 'format': 'PDF 1.4', 'title': '', 'author': '', 'subject': '', 'keywords': '', 'creator': 'Mozilla/5.0 (Windows NT 10.0; Win64; x64) AppleWebKit/537.36 (KHTML, like Gecko) Chrome/122.0.0.0 Safari/537.36', 'producer': 'Skia/PDF m122', 'creationDate': \"D:20240318053806+00'00'\", 'modDate': \"D:20240318053806+00'00'\", 'trapped': ''}\n",
      "page_content='3/18/24, 12:38 PM\\nResearch Overview - Asian Institute of Technology\\nfile:///D:/AIT/Sem2/NLP/NLP_Assignments/Jupyter Files/data/Research Overview - Asian Institute of Technology.html\\n2/6\\nAIT equipped with over six-decade-long research and academic experience has effectively built and strengthened regional and\\ninternational partnerships, bridged interdisciplinary teams through its partnerships to address regional and global challenges\\xa0AIT\\nresearch is importantly aligned to all 17 SDG’s, contributing to the sustainable development of the region, strengthening the\\nknowledge development and business capacity, and supporting communities with their economic development and integration' metadata={'source': 'data/Research.pdf', 'file_path': 'data/Research.pdf', 'page': 1, 'total_pages': 6, 'format': 'PDF 1.4', 'title': '', 'author': '', 'subject': '', 'keywords': '', 'creator': 'Mozilla/5.0 (Windows NT 10.0; Win64; x64) AppleWebKit/537.36 (KHTML, like Gecko) Chrome/122.0.0.0 Safari/537.36', 'producer': 'Skia/PDF m122', 'creationDate': \"D:20240318053806+00'00'\", 'modDate': \"D:20240318053806+00'00'\", 'trapped': ''}\n",
      "page_content='into the global economy. AIT focuses on assisting stakeholders build their capacity to promote sustainability through appropriate\\ntechnology, relevant and applied research, sustainable frameworks for development and planning, informed policy making and\\npractice applications in the region.\\xa0AIT’s five thematic areas of research are, namely, Climate Change; Smart Communities;\\nInfrastructure; Technology, Policy, Society and Water-Energy-Food.\\xa0\\n (https://ait.ac.th/)\\nWe use cookies on our website to give you the most relevant experience by remembering your preferences and repeat visits. By clicking “Accept' metadata={'source': 'data/Research.pdf', 'file_path': 'data/Research.pdf', 'page': 1, 'total_pages': 6, 'format': 'PDF 1.4', 'title': '', 'author': '', 'subject': '', 'keywords': '', 'creator': 'Mozilla/5.0 (Windows NT 10.0; Win64; x64) AppleWebKit/537.36 (KHTML, like Gecko) Chrome/122.0.0.0 Safari/537.36', 'producer': 'Skia/PDF m122', 'creationDate': \"D:20240318053806+00'00'\", 'modDate': \"D:20240318053806+00'00'\", 'trapped': ''}\n",
      "page_content='All”, you consent to the use of ALL the cookies. However, you may visit \"Cookie Settings\" to provide a controlled consent.\\nCookie Settings\\nAccept All' metadata={'source': 'data/Research.pdf', 'file_path': 'data/Research.pdf', 'page': 1, 'total_pages': 6, 'format': 'PDF 1.4', 'title': '', 'author': '', 'subject': '', 'keywords': '', 'creator': 'Mozilla/5.0 (Windows NT 10.0; Win64; x64) AppleWebKit/537.36 (KHTML, like Gecko) Chrome/122.0.0.0 Safari/537.36', 'producer': 'Skia/PDF m122', 'creationDate': \"D:20240318053806+00'00'\", 'modDate': \"D:20240318053806+00'00'\", 'trapped': ''}\n",
      "page_content='3/18/24, 12:38 PM\\nResearch Overview - Asian Institute of Technology\\nfile:///D:/AIT/Sem2/NLP/NLP_Assignments/Jupyter Files/data/Research Overview - Asian Institute of Technology.html\\n3/6\\nFlipbook byFlipbook created with\\n1 /\\n29\\nSubscribe to our newsletter\\nYour email*\\nSubmit\\n (https://ait.ac.th/)\\nWe use cookies on our website to give you the most relevant experience by remembering your preferences and repeat visits. By clicking “Accept\\nAll”, you consent to the use of ALL the cookies. However, you may visit \"Cookie Settings\" to provide a controlled consent.\\nCookie Settings\\nAccept All' metadata={'source': 'data/Research.pdf', 'file_path': 'data/Research.pdf', 'page': 2, 'total_pages': 6, 'format': 'PDF 1.4', 'title': '', 'author': '', 'subject': '', 'keywords': '', 'creator': 'Mozilla/5.0 (Windows NT 10.0; Win64; x64) AppleWebKit/537.36 (KHTML, like Gecko) Chrome/122.0.0.0 Safari/537.36', 'producer': 'Skia/PDF m122', 'creationDate': \"D:20240318053806+00'00'\", 'modDate': \"D:20240318053806+00'00'\", 'trapped': ''}\n",
      "page_content='3/18/24, 12:38 PM\\nResearch Overview - Asian Institute of Technology\\nfile:///D:/AIT/Sem2/NLP/NLP_Assignments/Jupyter Files/data/Research Overview - Asian Institute of Technology.html\\n4/6\\n (https://ait.ac.th/)\\nP.O. Box 4, 58 Moo 9, Km. 42, Paholyothin Highway, Klong Luang, Pathum Thani 12120 Thailand\\n(+66) 25245000, (+66) 25160110-44\\nAbout\\nAbout AIT (https://ait.ac.th/about/)\\nFacts and figures\\n(https://ait.ac.th/about/facts-and-\\nfigures/)\\nRankings\\n(https://ait.ac.th/about/rankings/)\\nAcademics\\nAcademic calendar\\n(https://ait.ac.th/academics/calendar/)\\nAcademic Programs\\n(https://ait.ac.th/academics/programs/)\\nStudy options\\n(https://ait.ac.th/academics/study-\\nApply to AIT\\nAdmissions' metadata={'source': 'data/Research.pdf', 'file_path': 'data/Research.pdf', 'page': 3, 'total_pages': 6, 'format': 'PDF 1.4', 'title': '', 'author': '', 'subject': '', 'keywords': '', 'creator': 'Mozilla/5.0 (Windows NT 10.0; Win64; x64) AppleWebKit/537.36 (KHTML, like Gecko) Chrome/122.0.0.0 Safari/537.36', 'producer': 'Skia/PDF m122', 'creationDate': \"D:20240318053806+00'00'\", 'modDate': \"D:20240318053806+00'00'\", 'trapped': ''}\n",
      "page_content='Study options\\n(https://ait.ac.th/academics/study-\\nApply to AIT\\nAdmissions\\n(https://ait.ac.th/admissions/)\\nFinancial aid\\n(https://ait.ac.th/financial-aid/)\\nTuition and fees\\n(https://ait.ac.th/tuition-and-fees/)\\nFollow us on social media\\nwww.facebook.com/AITasia/)\\nps://www.youtube.com/user/aitasia)\\n(https://twitter.com/aitasia)\\n(https://www.linkedin.com/school/ait-\\nasia/)\\n(https://www.instagram.com/aitasia/)\\n(https://ait.ac.th/wp-\\ncontent/uploads/2022/01/AIT-\\nLINE-QR.png)\\n(https://ait.ac.th/wp-\\ncontent/uploads/2022/01/WECHAT-\\nACCOUNT-AIT-OFFICAL-QR-\\nCODE.jpeg)\\n (https://ait.ac.th/)' metadata={'source': 'data/Research.pdf', 'file_path': 'data/Research.pdf', 'page': 3, 'total_pages': 6, 'format': 'PDF 1.4', 'title': '', 'author': '', 'subject': '', 'keywords': '', 'creator': 'Mozilla/5.0 (Windows NT 10.0; Win64; x64) AppleWebKit/537.36 (KHTML, like Gecko) Chrome/122.0.0.0 Safari/537.36', 'producer': 'Skia/PDF m122', 'creationDate': \"D:20240318053806+00'00'\", 'modDate': \"D:20240318053806+00'00'\", 'trapped': ''}\n",
      "page_content='content/uploads/2022/01/WECHAT-\\nACCOUNT-AIT-OFFICAL-QR-\\nCODE.jpeg)\\n (https://ait.ac.th/)\\nWe use cookies on our website to give you the most relevant experience by remembering your preferences and repeat visits. By clicking “Accept\\nAll”, you consent to the use of ALL the cookies. However, you may visit \"Cookie Settings\" to provide a controlled consent.\\nCookie Settings\\nAccept All' metadata={'source': 'data/Research.pdf', 'file_path': 'data/Research.pdf', 'page': 3, 'total_pages': 6, 'format': 'PDF 1.4', 'title': '', 'author': '', 'subject': '', 'keywords': '', 'creator': 'Mozilla/5.0 (Windows NT 10.0; Win64; x64) AppleWebKit/537.36 (KHTML, like Gecko) Chrome/122.0.0.0 Safari/537.36', 'producer': 'Skia/PDF m122', 'creationDate': \"D:20240318053806+00'00'\", 'modDate': \"D:20240318053806+00'00'\", 'trapped': ''}\n",
      "page_content='3/18/24, 12:38 PM\\nResearch Overview - Asian Institute of Technology\\nfile:///D:/AIT/Sem2/NLP/NLP_Assignments/Jupyter Files/data/Research Overview - Asian Institute of Technology.html\\n5/6\\nLeadership\\n(https://ait.ac.th/about/leadership/)\\nPeople (https://ait.ac.th/about/meet-\\nour-faculty/)\\nMeet our faculty\\n(https://ait.ac.th/about/meet-our-\\nfaculty/)\\nMeet our staff\\n(https://ait.ac.th/about/meet-our-staff/)\\nLocation\\n(https://ait.ac.th/about/location/)\\nCenters\\n(https://ait.ac.th/about/centers/)\\noptions/)\\nStudent opportunities\\n(https://ait.ac.th/academics/student-\\nopportunities/)\\nSchools\\n(https://ait.ac.th/academics/schools/)\\nStudent housing\\n(https://ait.ac.th/student-housing/)' metadata={'source': 'data/Research.pdf', 'file_path': 'data/Research.pdf', 'page': 4, 'total_pages': 6, 'format': 'PDF 1.4', 'title': '', 'author': '', 'subject': '', 'keywords': '', 'creator': 'Mozilla/5.0 (Windows NT 10.0; Win64; x64) AppleWebKit/537.36 (KHTML, like Gecko) Chrome/122.0.0.0 Safari/537.36', 'producer': 'Skia/PDF m122', 'creationDate': \"D:20240318053806+00'00'\", 'modDate': \"D:20240318053806+00'00'\", 'trapped': ''}\n",
      "page_content='Schools\\n(https://ait.ac.th/academics/schools/)\\nStudent housing\\n(https://ait.ac.th/student-housing/)\\nApply online (https://ait.ac.th/apply-\\nonline/)\\nResearch\\nResearch Centers\\n(https://ait.ac.th/research-centers/)\\nResearch Themes\\n(https://ait.ac.th/research-themes/)\\nResearch Projects\\n(https://ait.ac.th/research-projects/)\\nResearch Publications\\n(https://ait.ac.th/research-and-\\nCampus life\\nHousing (https://ait.ac.th/housing/)\\nDining (https://ait.ac.th/dining/)\\nHealth & Wellness\\n(https://ait.ac.th/health-wellness/)\\nCultural diversity\\n(https://ait.ac.th/cultural-diversity/)\\nAthletics (https://ait.ac.th/athletcis/)\\nPartners\\n(https://ait.ac.th/partners/)\\nNews\\n(https://ait.ac.th/news/)\\nEvents' metadata={'source': 'data/Research.pdf', 'file_path': 'data/Research.pdf', 'page': 4, 'total_pages': 6, 'format': 'PDF 1.4', 'title': '', 'author': '', 'subject': '', 'keywords': '', 'creator': 'Mozilla/5.0 (Windows NT 10.0; Win64; x64) AppleWebKit/537.36 (KHTML, like Gecko) Chrome/122.0.0.0 Safari/537.36', 'producer': 'Skia/PDF m122', 'creationDate': \"D:20240318053806+00'00'\", 'modDate': \"D:20240318053806+00'00'\", 'trapped': ''}\n",
      "page_content='Partners\\n(https://ait.ac.th/partners/)\\nNews\\n(https://ait.ac.th/news/)\\nEvents\\n(https://ait.ac.th/events/)\\nKey thematic areas\\n(https://ait.ac.th/climate-\\n (https://ait.ac.th/)\\nWe use cookies on our website to give you the most relevant experience by remembering your preferences and repeat visits. By clicking “Accept\\nAll”, you consent to the use of ALL the cookies. However, you may visit \"Cookie Settings\" to provide a controlled consent.\\nCookie Settings\\nAccept All' metadata={'source': 'data/Research.pdf', 'file_path': 'data/Research.pdf', 'page': 4, 'total_pages': 6, 'format': 'PDF 1.4', 'title': '', 'author': '', 'subject': '', 'keywords': '', 'creator': 'Mozilla/5.0 (Windows NT 10.0; Win64; x64) AppleWebKit/537.36 (KHTML, like Gecko) Chrome/122.0.0.0 Safari/537.36', 'producer': 'Skia/PDF m122', 'creationDate': \"D:20240318053806+00'00'\", 'modDate': \"D:20240318053806+00'00'\", 'trapped': ''}\n",
      "page_content='3/18/24, 12:38 PM\\nResearch Overview - Asian Institute of Technology\\nfile:///D:/AIT/Sem2/NLP/NLP_Assignments/Jupyter Files/data/Research Overview - Asian Institute of Technology.html\\n6/6\\npublication/)\\nCareer development\\n(https://ait.ac.th/career-\\ndevelopment/)\\nFacilities (https://ait.ac.th/facilities/)\\nVirtual tour (https://ait.ac.th/virtual-\\ntour/)\\nchange/)\\nWork at AIT\\n(https://ait.ac.th/opportunities/\\nBranding\\n(https://ait.ac.th/branding/)\\nContact\\n(https://ait.ac.th/contact/)\\nA-Z Units\\n(https://ait.ac.th/a-z-units/)\\nTerms and conditions (https://ait.ac.th/terms-conditions/)\\nPrivacy Policy (https://ait.ac.th/privacy-policy/)' metadata={'source': 'data/Research.pdf', 'file_path': 'data/Research.pdf', 'page': 5, 'total_pages': 6, 'format': 'PDF 1.4', 'title': '', 'author': '', 'subject': '', 'keywords': '', 'creator': 'Mozilla/5.0 (Windows NT 10.0; Win64; x64) AppleWebKit/537.36 (KHTML, like Gecko) Chrome/122.0.0.0 Safari/537.36', 'producer': 'Skia/PDF m122', 'creationDate': \"D:20240318053806+00'00'\", 'modDate': \"D:20240318053806+00'00'\", 'trapped': ''}\n",
      "page_content='Privacy Policy (https://ait.ac.th/privacy-policy/)\\n©2022 Asian Institute of Technology. All Rights Reserved. - Designed by Outsourcify (https://outsourcify.net/)\\n (https://ait.ac.th/)\\nWe use cookies on our website to give you the most relevant experience by remembering your preferences and repeat visits. By clicking “Accept\\nAll”, you consent to the use of ALL the cookies. However, you may visit \"Cookie Settings\" to provide a controlled consent.\\nCookie Settings\\nAccept All' metadata={'source': 'data/Research.pdf', 'file_path': 'data/Research.pdf', 'page': 5, 'total_pages': 6, 'format': 'PDF 1.4', 'title': '', 'author': '', 'subject': '', 'keywords': '', 'creator': 'Mozilla/5.0 (Windows NT 10.0; Win64; x64) AppleWebKit/537.36 (KHTML, like Gecko) Chrome/122.0.0.0 Safari/537.36', 'producer': 'Skia/PDF m122', 'creationDate': \"D:20240318053806+00'00'\", 'modDate': \"D:20240318053806+00'00'\", 'trapped': ''}\n",
      "page_content='3/18/24, 12:40 PM\\nChaklam Silpasuwanchai - Asian Institute of Technology\\nfile:///D:/AIT/Sem2/NLP/NLP_Assignments/Jupyter Files/data/Chaklam Silpasuwanchai - Asian Institute of Technology.html\\n1/7\\nDr. Chaklam Silpasuwanchai\\nHome (https://ait.ac.th/) > Meet our faculty (https://a… > Chaklam Silpasuwanchai\\n (https://ait.ac.th/)\\nWe use cookies on our website to give you the most relevant experience by remembering your preferences and repeat visits. By clicking “Accept\\nAll”, you consent to the use of ALL the cookies. However, you may visit \"Cookie Settings\" to provide a controlled consent.\\nCookie Settings\\nAccept All' metadata={'source': 'data/Dr.Chaky.pdf', 'file_path': 'data/Dr.Chaky.pdf', 'page': 0, 'total_pages': 7, 'format': 'PDF 1.4', 'title': '', 'author': '', 'subject': '', 'keywords': '', 'creator': 'Mozilla/5.0 (Windows NT 10.0; Win64; x64) AppleWebKit/537.36 (KHTML, like Gecko) Chrome/122.0.0.0 Safari/537.36', 'producer': 'Skia/PDF m122', 'creationDate': \"D:20240318054022+00'00'\", 'modDate': \"D:20240318054022+00'00'\", 'trapped': ''}\n",
      "page_content='3/18/24, 12:40 PM\\nChaklam Silpasuwanchai - Asian Institute of Technology\\nfile:///D:/AIT/Sem2/NLP/NLP_Assignments/Jupyter Files/data/Chaklam Silpasuwanchai - Asian Institute of Technology.html\\n2/7\\nPosition\\nAssistant Professor\\nUnit\\nComputer Science and Information Management\\nContact Info\\n +66-63-310-9191 (tel:+66-63-310-9191)\\n chaklam@ait.asia (mailto:chaklam@ait.asia)\\nDownload full CV (https://ait.ac.th/wp-content/uploads/2021/12/My_resume_long-3.pdf)\\nMedia Links\\n Personal website (http://chaklam.com/)\\n (https://www.linkedin.com/in/chaklam-silpasuwanchai-702132219/)\\nPROFILE\\nEDUCATIONAL\\nBACKGROUND\\nRESEARCH\\nINTERESTS\\nTEACHING\\nSELECTED\\nPUBLICATIONS\\nONGOING\\nAND\\nCOMPLETED\\nPROJECTS\\nAWARDS\\nAND' metadata={'source': 'data/Dr.Chaky.pdf', 'file_path': 'data/Dr.Chaky.pdf', 'page': 1, 'total_pages': 7, 'format': 'PDF 1.4', 'title': '', 'author': '', 'subject': '', 'keywords': '', 'creator': 'Mozilla/5.0 (Windows NT 10.0; Win64; x64) AppleWebKit/537.36 (KHTML, like Gecko) Chrome/122.0.0.0 Safari/537.36', 'producer': 'Skia/PDF m122', 'creationDate': \"D:20240318054022+00'00'\", 'modDate': \"D:20240318054022+00'00'\", 'trapped': ''}\n",
      "page_content='RESEARCH\\nINTERESTS\\nTEACHING\\nSELECTED\\nPUBLICATIONS\\nONGOING\\nAND\\nCOMPLETED\\nPROJECTS\\nAWARDS\\nAND\\nHONORS\\nRESEARCH\\nKEYWORDS\\n1. EEG BCI Speller: Develop a real-time speller using EEG for locked-in patients.\\n2. Large Language Models: Develop conversational AI for legal question answering, corporate chatbots,\\nsummarization, etc. using large language models.\\n (https://ait.ac.th/)\\nWe use cookies on our website to give you the most relevant experience by remembering your preferences and repeat visits. By clicking “Accept\\nAll”, you consent to the use of ALL the cookies. However, you may visit \"Cookie Settings\" to provide a controlled consent.\\nCookie Settings\\nAccept All' metadata={'source': 'data/Dr.Chaky.pdf', 'file_path': 'data/Dr.Chaky.pdf', 'page': 1, 'total_pages': 7, 'format': 'PDF 1.4', 'title': '', 'author': '', 'subject': '', 'keywords': '', 'creator': 'Mozilla/5.0 (Windows NT 10.0; Win64; x64) AppleWebKit/537.36 (KHTML, like Gecko) Chrome/122.0.0.0 Safari/537.36', 'producer': 'Skia/PDF m122', 'creationDate': \"D:20240318054022+00'00'\", 'modDate': \"D:20240318054022+00'00'\", 'trapped': ''}\n",
      "page_content='3/18/24, 12:40 PM\\nChaklam Silpasuwanchai - Asian Institute of Technology\\nfile:///D:/AIT/Sem2/NLP/NLP_Assignments/Jupyter Files/data/Chaklam Silpasuwanchai - Asian Institute of Technology.html\\n3/7\\n3. Non-Invasive Blood Glucose Measuring Using Raman Spectroscopy: Utilize Raman Spectroscopy to non-\\ninvasively measure blood glucose through fingernails.\\n4. Medical Imaging: Utilize deep learning and language models for medical image analysis and explanations.\\n (https://ait.ac.th/)\\nP.O. Box 4, 58 Moo 9, Km. 42, Paholyothin Highway, Klong Luang, Pathum Thani 12120 Thailand\\nSubscribe to our newsletter\\nFollow us on social media\\nwww.facebook.com/AITasia/)\\nps://www.youtube.com/user/aitasia)' metadata={'source': 'data/Dr.Chaky.pdf', 'file_path': 'data/Dr.Chaky.pdf', 'page': 2, 'total_pages': 7, 'format': 'PDF 1.4', 'title': '', 'author': '', 'subject': '', 'keywords': '', 'creator': 'Mozilla/5.0 (Windows NT 10.0; Win64; x64) AppleWebKit/537.36 (KHTML, like Gecko) Chrome/122.0.0.0 Safari/537.36', 'producer': 'Skia/PDF m122', 'creationDate': \"D:20240318054022+00'00'\", 'modDate': \"D:20240318054022+00'00'\", 'trapped': ''}\n",
      "page_content='Follow us on social media\\nwww.facebook.com/AITasia/)\\nps://www.youtube.com/user/aitasia)\\n(https://twitter.com/aitasia)\\n(https://www.linkedin.com/school/ait-\\nasia/)\\n(https://www.instagram.com/aitasia/)\\n(https://ait.ac.th/wp-\\ncontent/uploads/2022/01/AIT-\\nLINE-QR.png)\\n(https://ait.ac.th/wp-\\ncontent/uploads/2022/01/WECHAT-\\nACCOUNT-AIT-OFFICAL-QR-\\nCODE.jpeg)\\nYour email*\\nSubmit\\n (https://ait.ac.th/)\\nWe use cookies on our website to give you the most relevant experience by remembering your preferences and repeat visits. By clicking “Accept\\nAll”, you consent to the use of ALL the cookies. However, you may visit \"Cookie Settings\" to provide a controlled consent.\\nCookie Settings\\nAccept All' metadata={'source': 'data/Dr.Chaky.pdf', 'file_path': 'data/Dr.Chaky.pdf', 'page': 2, 'total_pages': 7, 'format': 'PDF 1.4', 'title': '', 'author': '', 'subject': '', 'keywords': '', 'creator': 'Mozilla/5.0 (Windows NT 10.0; Win64; x64) AppleWebKit/537.36 (KHTML, like Gecko) Chrome/122.0.0.0 Safari/537.36', 'producer': 'Skia/PDF m122', 'creationDate': \"D:20240318054022+00'00'\", 'modDate': \"D:20240318054022+00'00'\", 'trapped': ''}\n",
      "page_content='3/18/24, 12:40 PM\\nChaklam Silpasuwanchai - Asian Institute of Technology\\nfile:///D:/AIT/Sem2/NLP/NLP_Assignments/Jupyter Files/data/Chaklam Silpasuwanchai - Asian Institute of Technology.html\\n4/7\\n(+66) 25245000, (+66) 25160110-44\\n (https://ait.ac.th/)\\nWe use cookies on our website to give you the most relevant experience by remembering your preferences and repeat visits. By clicking “Accept\\nAll”, you consent to the use of ALL the cookies. However, you may visit \"Cookie Settings\" to provide a controlled consent.\\nCookie Settings\\nAccept All' metadata={'source': 'data/Dr.Chaky.pdf', 'file_path': 'data/Dr.Chaky.pdf', 'page': 3, 'total_pages': 7, 'format': 'PDF 1.4', 'title': '', 'author': '', 'subject': '', 'keywords': '', 'creator': 'Mozilla/5.0 (Windows NT 10.0; Win64; x64) AppleWebKit/537.36 (KHTML, like Gecko) Chrome/122.0.0.0 Safari/537.36', 'producer': 'Skia/PDF m122', 'creationDate': \"D:20240318054022+00'00'\", 'modDate': \"D:20240318054022+00'00'\", 'trapped': ''}\n",
      "page_content='3/18/24, 12:40 PM\\nChaklam Silpasuwanchai - Asian Institute of Technology\\nfile:///D:/AIT/Sem2/NLP/NLP_Assignments/Jupyter Files/data/Chaklam Silpasuwanchai - Asian Institute of Technology.html\\n5/7\\nAbout\\nAbout AIT (https://ait.ac.th/about/)\\nFacts and figures\\n(https://ait.ac.th/about/facts-and-\\nfigures/)\\nRankings\\n(https://ait.ac.th/about/rankings/)\\nLeadership\\n(https://ait.ac.th/about/leadership/)\\nPeople (https://ait.ac.th/about/meet-\\nour-faculty/)\\nMeet our faculty\\n(https://ait.ac.th/about/meet-our-\\nfaculty/)\\nMeet our staff\\n(https://ait.ac.th/about/meet-our-staff/)\\nLocation\\n(https://ait.ac.th/about/location/)\\nCenters\\n(https://ait.ac.th/about/centers/)\\nAcademics\\nAcademic calendar' metadata={'source': 'data/Dr.Chaky.pdf', 'file_path': 'data/Dr.Chaky.pdf', 'page': 4, 'total_pages': 7, 'format': 'PDF 1.4', 'title': '', 'author': '', 'subject': '', 'keywords': '', 'creator': 'Mozilla/5.0 (Windows NT 10.0; Win64; x64) AppleWebKit/537.36 (KHTML, like Gecko) Chrome/122.0.0.0 Safari/537.36', 'producer': 'Skia/PDF m122', 'creationDate': \"D:20240318054022+00'00'\", 'modDate': \"D:20240318054022+00'00'\", 'trapped': ''}\n",
      "page_content='Centers\\n(https://ait.ac.th/about/centers/)\\nAcademics\\nAcademic calendar\\n(https://ait.ac.th/academics/calendar/)\\nAcademic Programs\\n(https://ait.ac.th/academics/programs/)\\nStudy options\\n(https://ait.ac.th/academics/study-\\noptions/)\\nStudent opportunities\\n(https://ait.ac.th/academics/student-\\nopportunities/)\\nSchools\\n(https://ait.ac.th/academics/schools/)\\nApply to AIT\\nAdmissions\\n(https://ait.ac.th/admissions/)\\nFinancial aid\\n(https://ait.ac.th/financial-aid/)\\nTuition and fees\\n(https://ait.ac.th/tuition-and-fees/)\\nStudent housing\\n(https://ait.ac.th/student-housing/)\\nApply online (https://ait.ac.th/apply-\\nonline/)\\nResearch\\nCampus life\\nPartners\\n(https://ait.ac.th/partners/)\\n (https://ait.ac.th/)' metadata={'source': 'data/Dr.Chaky.pdf', 'file_path': 'data/Dr.Chaky.pdf', 'page': 4, 'total_pages': 7, 'format': 'PDF 1.4', 'title': '', 'author': '', 'subject': '', 'keywords': '', 'creator': 'Mozilla/5.0 (Windows NT 10.0; Win64; x64) AppleWebKit/537.36 (KHTML, like Gecko) Chrome/122.0.0.0 Safari/537.36', 'producer': 'Skia/PDF m122', 'creationDate': \"D:20240318054022+00'00'\", 'modDate': \"D:20240318054022+00'00'\", 'trapped': ''}\n",
      "page_content='online/)\\nResearch\\nCampus life\\nPartners\\n(https://ait.ac.th/partners/)\\n (https://ait.ac.th/)\\nWe use cookies on our website to give you the most relevant experience by remembering your preferences and repeat visits. By clicking “Accept\\nAll”, you consent to the use of ALL the cookies. However, you may visit \"Cookie Settings\" to provide a controlled consent.\\nCookie Settings\\nAccept All' metadata={'source': 'data/Dr.Chaky.pdf', 'file_path': 'data/Dr.Chaky.pdf', 'page': 4, 'total_pages': 7, 'format': 'PDF 1.4', 'title': '', 'author': '', 'subject': '', 'keywords': '', 'creator': 'Mozilla/5.0 (Windows NT 10.0; Win64; x64) AppleWebKit/537.36 (KHTML, like Gecko) Chrome/122.0.0.0 Safari/537.36', 'producer': 'Skia/PDF m122', 'creationDate': \"D:20240318054022+00'00'\", 'modDate': \"D:20240318054022+00'00'\", 'trapped': ''}\n",
      "page_content='3/18/24, 12:40 PM\\nChaklam Silpasuwanchai - Asian Institute of Technology\\nfile:///D:/AIT/Sem2/NLP/NLP_Assignments/Jupyter Files/data/Chaklam Silpasuwanchai - Asian Institute of Technology.html\\n6/7\\nResearch Centers\\n(https://ait.ac.th/research-centers/)\\nResearch Themes\\n(https://ait.ac.th/research-themes/)\\nResearch Projects\\n(https://ait.ac.th/research-projects/)\\nResearch Publications\\n(https://ait.ac.th/research-and-\\npublication/)\\nHousing (https://ait.ac.th/housing/)\\nDining (https://ait.ac.th/dining/)\\nHealth & Wellness\\n(https://ait.ac.th/health-wellness/)\\nCultural diversity\\n(https://ait.ac.th/cultural-diversity/)\\nAthletics (https://ait.ac.th/athletcis/)\\nCareer development' metadata={'source': 'data/Dr.Chaky.pdf', 'file_path': 'data/Dr.Chaky.pdf', 'page': 5, 'total_pages': 7, 'format': 'PDF 1.4', 'title': '', 'author': '', 'subject': '', 'keywords': '', 'creator': 'Mozilla/5.0 (Windows NT 10.0; Win64; x64) AppleWebKit/537.36 (KHTML, like Gecko) Chrome/122.0.0.0 Safari/537.36', 'producer': 'Skia/PDF m122', 'creationDate': \"D:20240318054022+00'00'\", 'modDate': \"D:20240318054022+00'00'\", 'trapped': ''}\n",
      "page_content='(https://ait.ac.th/cultural-diversity/)\\nAthletics (https://ait.ac.th/athletcis/)\\nCareer development\\n(https://ait.ac.th/career-\\ndevelopment/)\\nFacilities (https://ait.ac.th/facilities/)\\nVirtual tour (https://ait.ac.th/virtual-\\ntour/)\\nNews\\n(https://ait.ac.th/news/)\\nEvents\\n(https://ait.ac.th/events/)\\nKey thematic areas\\n(https://ait.ac.th/climate-\\nchange/)\\nWork at AIT\\n(https://ait.ac.th/opportunities/\\nBranding\\n(https://ait.ac.th/branding/)\\nContact\\n(https://ait.ac.th/contact/)\\nA-Z Units\\n(https://ait.ac.th/a-z-units/)\\nTerms and conditions (https://ait.ac.th/terms-conditions/)\\nPrivacy Policy (https://ait.ac.th/privacy-policy/)\\n (https://ait.ac.th/)' metadata={'source': 'data/Dr.Chaky.pdf', 'file_path': 'data/Dr.Chaky.pdf', 'page': 5, 'total_pages': 7, 'format': 'PDF 1.4', 'title': '', 'author': '', 'subject': '', 'keywords': '', 'creator': 'Mozilla/5.0 (Windows NT 10.0; Win64; x64) AppleWebKit/537.36 (KHTML, like Gecko) Chrome/122.0.0.0 Safari/537.36', 'producer': 'Skia/PDF m122', 'creationDate': \"D:20240318054022+00'00'\", 'modDate': \"D:20240318054022+00'00'\", 'trapped': ''}\n",
      "page_content='Privacy Policy (https://ait.ac.th/privacy-policy/)\\n (https://ait.ac.th/)\\nWe use cookies on our website to give you the most relevant experience by remembering your preferences and repeat visits. By clicking “Accept\\nAll”, you consent to the use of ALL the cookies. However, you may visit \"Cookie Settings\" to provide a controlled consent.\\nCookie Settings\\nAccept All' metadata={'source': 'data/Dr.Chaky.pdf', 'file_path': 'data/Dr.Chaky.pdf', 'page': 5, 'total_pages': 7, 'format': 'PDF 1.4', 'title': '', 'author': '', 'subject': '', 'keywords': '', 'creator': 'Mozilla/5.0 (Windows NT 10.0; Win64; x64) AppleWebKit/537.36 (KHTML, like Gecko) Chrome/122.0.0.0 Safari/537.36', 'producer': 'Skia/PDF m122', 'creationDate': \"D:20240318054022+00'00'\", 'modDate': \"D:20240318054022+00'00'\", 'trapped': ''}\n",
      "page_content='3/18/24, 12:40 PM\\nChaklam Silpasuwanchai - Asian Institute of Technology\\nfile:///D:/AIT/Sem2/NLP/NLP_Assignments/Jupyter Files/data/Chaklam Silpasuwanchai - Asian Institute of Technology.html\\n7/7\\n©2022 Asian Institute of Technology. All Rights Reserved. - Designed by Outsourcify (https://outsourcify.net/)\\n (https://ait.ac.th/)\\nWe use cookies on our website to give you the most relevant experience by remembering your preferences and repeat visits. By clicking “Accept\\nAll”, you consent to the use of ALL the cookies. However, you may visit \"Cookie Settings\" to provide a controlled consent.\\nCookie Settings\\nAccept All' metadata={'source': 'data/Dr.Chaky.pdf', 'file_path': 'data/Dr.Chaky.pdf', 'page': 6, 'total_pages': 7, 'format': 'PDF 1.4', 'title': '', 'author': '', 'subject': '', 'keywords': '', 'creator': 'Mozilla/5.0 (Windows NT 10.0; Win64; x64) AppleWebKit/537.36 (KHTML, like Gecko) Chrome/122.0.0.0 Safari/537.36', 'producer': 'Skia/PDF m122', 'creationDate': \"D:20240318054022+00'00'\", 'modDate': \"D:20240318054022+00'00'\", 'trapped': ''}\n"
     ]
    }
   ],
   "source": [
    "from langchain.text_splitter import RecursiveCharacterTextSplitter\n",
    "from langchain.document_loaders import PyMuPDFLoader\n",
    "\n",
    "def process_multiple_pdfs(pdf_files):\n",
    "    # Initialize the RecursiveCharacterTextSplitter\n",
    "    text_splitter = RecursiveCharacterTextSplitter(\n",
    "        chunk_size=700,\n",
    "        chunk_overlap=100\n",
    "    )\n",
    "\n",
    "    # Create a list to store all loaded documents\n",
    "    all_documents = []\n",
    "\n",
    "    # Iterate over each PDF file\n",
    "    for pdf_file in pdf_files:\n",
    "        # Load the document using PyMuPDFLoader\n",
    "        loader = PyMuPDFLoader(pdf_file)\n",
    "        documents = loader.load()\n",
    "\n",
    "        # Append the documents to the list of all documents\n",
    "        all_documents.extend(documents)\n",
    "\n",
    "    # Process each document if needed\n",
    "    for document in all_documents:\n",
    "        # Split the document into chunks\n",
    "        chunks = text_splitter.split_documents([document])\n",
    "\n",
    "        # Process each chunk if needed\n",
    "        for chunk in chunks:\n",
    "            print(chunk)\n",
    "    return all_documents\n",
    "# List of PDF files to process\n",
    "pdf_files = ['data/About.pdf', 'data/Athletics.pdf', 'data/Housing.pdf', 'data/DSAI.pdf','data/Exchange.pdf','data/Research.pdf','data/Dr.Chaky.pdf']\n",
    "\n",
    "# Call the function to process multiple PDFs\n",
    "documents = process_multiple_pdfs(pdf_files)\n"
   ]
  },
  {
   "cell_type": "code",
   "execution_count": 8,
   "metadata": {},
   "outputs": [],
   "source": [
    "# documents = clean_text"
   ]
  },
  {
   "cell_type": "code",
   "execution_count": 9,
   "metadata": {},
   "outputs": [
    {
     "data": {
      "text/plain": [
       "42"
      ]
     },
     "execution_count": 9,
     "metadata": {},
     "output_type": "execute_result"
    }
   ],
   "source": [
    "len(documents)"
   ]
  },
  {
   "cell_type": "code",
   "execution_count": 10,
   "metadata": {},
   "outputs": [
    {
     "data": {
      "text/plain": [
       "Document(page_content='3/18/24, 10:07 AM\\nAbout - Asian Institute of Technology\\nfile:///D:/AIT/Sem2/NLP/NLP_Assignments/Jupyter Files/data/About - Asian Institute of Technology.html\\n3/7\\nMasters degrees\\nMBA, MEng, MSc\\nExecutive Master Degree Programs\\nDoctoral Degrees\\nDEng, DTechSc, PhD, DBA\\nCertificate and Special Program\\nIntensive English & academic bridging program\\nNon-degree continuing education courses\\n (https://ait.ac.th/)\\nWe use cookies on our website to give you the most relevant experience by remembering your preferences and repeat visits. By clicking “Accept All”, you consent to\\nthe use of ALL the cookies. However, you may visit \"Cookie Settings\" to provide a controlled consent.\\nCookie Settings\\nAccept All\\n', metadata={'source': 'data/About.pdf', 'file_path': 'data/About.pdf', 'page': 2, 'total_pages': 7, 'format': 'PDF 1.4', 'title': '', 'author': '', 'subject': '', 'keywords': '', 'creator': 'Mozilla/5.0 (Windows NT 10.0; Win64; x64) AppleWebKit/537.36 (KHTML, like Gecko) Chrome/122.0.0.0 Safari/537.36', 'producer': 'Skia/PDF m122', 'creationDate': \"D:20240318030720+00'00'\", 'modDate': \"D:20240318030720+00'00'\", 'trapped': ''})"
      ]
     },
     "execution_count": 10,
     "metadata": {},
     "output_type": "execute_result"
    }
   ],
   "source": [
    "documents[2]"
   ]
  },
  {
   "attachments": {},
   "cell_type": "markdown",
   "metadata": {},
   "source": [
    "### 2.2 Document Transformers\n",
    "\n",
    "This text splitter is the recommended one for generic text. It is parameterized by a list of characters. It tries to split on them in order until the chunks are small enough"
   ]
  },
  {
   "cell_type": "code",
   "execution_count": 11,
   "metadata": {},
   "outputs": [],
   "source": [
    "from langchain.text_splitter import RecursiveCharacterTextSplitter\n",
    "\n",
    "text_splitter = RecursiveCharacterTextSplitter(\n",
    "    chunk_size = 700,\n",
    "    chunk_overlap = 100\n",
    ")\n",
    "\n",
    "doc = text_splitter.split_documents(documents)"
   ]
  },
  {
   "cell_type": "code",
   "execution_count": 12,
   "metadata": {},
   "outputs": [
    {
     "data": {
      "text/plain": [
       "Document(page_content='leadership roles in Asia and beyond.\\nFounded in 1959, AIT offers the opportunity to study at an institution in Asia which possesses a global reputation. Going forward, AIT will be\\nstressing its global connections, injection of innovation into research and teaching, its relevance to industry, and its nurturing of entrepreneurship,\\nwhile continuing to fulfill its social impact and capacity building role. Sitting on a beautiful green campus located just north of Bangkok, Thailand,\\nAIT operates as a multicultural community where a cosmopolitan approach to living and learning is the rule. You will meet and study with people\\nfrom all around the world.', metadata={'source': 'data/About.pdf', 'file_path': 'data/About.pdf', 'page': 0, 'total_pages': 7, 'format': 'PDF 1.4', 'title': '', 'author': '', 'subject': '', 'keywords': '', 'creator': 'Mozilla/5.0 (Windows NT 10.0; Win64; x64) AppleWebKit/537.36 (KHTML, like Gecko) Chrome/122.0.0.0 Safari/537.36', 'producer': 'Skia/PDF m122', 'creationDate': \"D:20240318030720+00'00'\", 'modDate': \"D:20240318030720+00'00'\", 'trapped': ''})"
      ]
     },
     "execution_count": 12,
     "metadata": {},
     "output_type": "execute_result"
    }
   ],
   "source": [
    "doc[1]"
   ]
  },
  {
   "cell_type": "code",
   "execution_count": 13,
   "metadata": {},
   "outputs": [
    {
     "data": {
      "text/plain": [
       "104"
      ]
     },
     "execution_count": 13,
     "metadata": {},
     "output_type": "execute_result"
    }
   ],
   "source": [
    "len(doc)"
   ]
  },
  {
   "attachments": {},
   "cell_type": "markdown",
   "metadata": {},
   "source": [
    "### 2.3 Text Embedding Models\n",
    "Embeddings create a vector representation of a piece of text. This is useful because it means we can think about text in the vector space, and do things like semantic search where we look for pieces of text that are most similar in the vector space.\n",
    "\n",
    "*Note* Instructor Model : [Huggingface](gingface.co/hkunlp/instructor-base) | [Paper](https://arxiv.org/abs/2212.09741)"
   ]
  },
  {
   "cell_type": "code",
   "execution_count": 14,
   "metadata": {},
   "outputs": [
    {
     "name": "stderr",
     "output_type": "stream",
     "text": [
      "d:\\AIT\\Sem2\\NLP\\NLP_Assignments\\nlp\\Lib\\site-packages\\InstructorEmbedding\\instructor.py:7: TqdmWarning: IProgress not found. Please update jupyter and ipywidgets. See https://ipywidgets.readthedocs.io/en/stable/user_install.html\n",
      "  from tqdm.autonotebook import trange\n",
      "d:\\AIT\\Sem2\\NLP\\NLP_Assignments\\nlp\\Lib\\site-packages\\transformers\\utils\\generic.py:441: UserWarning: torch.utils._pytree._register_pytree_node is deprecated. Please use torch.utils._pytree.register_pytree_node instead.\n",
      "  _torch_pytree._register_pytree_node(\n"
     ]
    },
    {
     "name": "stdout",
     "output_type": "stream",
     "text": [
      "load INSTRUCTOR_Transformer\n"
     ]
    },
    {
     "name": "stderr",
     "output_type": "stream",
     "text": [
      "d:\\AIT\\Sem2\\NLP\\NLP_Assignments\\nlp\\Lib\\site-packages\\transformers\\utils\\generic.py:309: UserWarning: torch.utils._pytree._register_pytree_node is deprecated. Please use torch.utils._pytree.register_pytree_node instead.\n",
      "  _torch_pytree._register_pytree_node(\n",
      "d:\\AIT\\Sem2\\NLP\\NLP_Assignments\\nlp\\Lib\\site-packages\\transformers\\utils\\generic.py:309: UserWarning: torch.utils._pytree._register_pytree_node is deprecated. Please use torch.utils._pytree.register_pytree_node instead.\n",
      "  _torch_pytree._register_pytree_node(\n"
     ]
    },
    {
     "name": "stdout",
     "output_type": "stream",
     "text": [
      "max_seq_length  512\n"
     ]
    }
   ],
   "source": [
    "import torch\n",
    "from langchain.embeddings import HuggingFaceInstructEmbeddings\n",
    "\n",
    "model_name = 'hkunlp/instructor-base'\n",
    "\n",
    "embedding_model = HuggingFaceInstructEmbeddings(\n",
    "    model_name = model_name,\n",
    "    model_kwargs = {\"device\" : device}\n",
    ")"
   ]
  },
  {
   "attachments": {},
   "cell_type": "markdown",
   "metadata": {},
   "source": [
    "### 2.4 Vector Stores\n",
    "\n",
    "One of the most common ways to store and search over unstructured data is to embed it and store the resulting embedding vectors, and then at query time to embed the unstructured query and retrieve the embedding vectors that are 'most similar' to the embedded query. A vector store takes care of storing embedded data and performing vector search for you."
   ]
  },
  {
   "cell_type": "code",
   "execution_count": 15,
   "metadata": {},
   "outputs": [],
   "source": [
    "#locate vectorstore\n",
    "vector_path = '../vector-store'\n",
    "if not os.path.exists(vector_path):\n",
    "    os.makedirs(vector_path)\n",
    "    print('create path done')"
   ]
  },
  {
   "cell_type": "code",
   "execution_count": 16,
   "metadata": {},
   "outputs": [],
   "source": [
    "#save vector locally\n",
    "from langchain.vectorstores import FAISS\n",
    "\n",
    "vectordb = FAISS.from_documents(\n",
    "    documents = doc,\n",
    "    embedding = embedding_model\n",
    ")\n",
    "\n",
    "db_file_name = 'nlp_stanford'\n",
    "\n",
    "vectordb.save_local(\n",
    "    folder_path = os.path.join(vector_path, db_file_name),\n",
    "    index_name = 'nlp' #default index\n",
    ")"
   ]
  },
  {
   "attachments": {},
   "cell_type": "markdown",
   "metadata": {},
   "source": [
    "### 2.5 retrievers\n",
    "A retriever is an interface that returns documents given an unstructured query. It is more general than a vector store. A retriever does not need to be able to store documents, only to return (or retrieve) them. Vector stores can be used as the backbone of a retriever, but there are other types of retrievers as well."
   ]
  },
  {
   "cell_type": "code",
   "execution_count": 17,
   "metadata": {},
   "outputs": [],
   "source": [
    "#calling vector from local\n",
    "vector_path = '../vector-store'\n",
    "db_file_name = 'nlp_stanford'\n",
    "\n",
    "from langchain.vectorstores import FAISS\n",
    "\n",
    "vectordb = FAISS.load_local(\n",
    "    folder_path = os.path.join(vector_path, db_file_name),\n",
    "    embeddings = embedding_model,\n",
    "    index_name = 'nlp' #default index\n",
    ")   "
   ]
  },
  {
   "cell_type": "code",
   "execution_count": 18,
   "metadata": {},
   "outputs": [],
   "source": [
    "#ready to use\n",
    "retriever = vectordb.as_retriever()"
   ]
  },
  {
   "cell_type": "code",
   "execution_count": 19,
   "metadata": {},
   "outputs": [
    {
     "data": {
      "text/plain": [
       "[Document(page_content='3/18/24, 10:07 AM\\nAbout - Asian Institute of Technology\\nfile:///D:/AIT/Sem2/NLP/NLP_Assignments/Jupyter Files/data/About - Asian Institute of Technology.html\\n1/7\\nHome (https://ait.ac.th/) > About\\nAbout AIT\\nAIT is an international English-speaking postgraduate institution, focusing\\non engineering, environment, and management studies.\\nWelcome to AIT\\nThe Asian Institute of Technology (AIT) is an international English-speaking postgraduate institution, focusing on engineering, environment, and\\nmanagement studies. AIT’s rigorous academic, research, and experiential outreach programs prepare graduates for professional success and\\nleadership roles in Asia and beyond.', metadata={'source': 'data/About.pdf', 'file_path': 'data/About.pdf', 'page': 0, 'total_pages': 7, 'format': 'PDF 1.4', 'title': '', 'author': '', 'subject': '', 'keywords': '', 'creator': 'Mozilla/5.0 (Windows NT 10.0; Win64; x64) AppleWebKit/537.36 (KHTML, like Gecko) Chrome/122.0.0.0 Safari/537.36', 'producer': 'Skia/PDF m122', 'creationDate': \"D:20240318030720+00'00'\", 'modDate': \"D:20240318030720+00'00'\", 'trapped': ''}),\n",
       " Document(page_content='into the global economy. AIT focuses on assisting stakeholders build their capacity to promote sustainability through appropriate\\ntechnology, relevant and applied research, sustainable frameworks for development and planning, informed policy making and\\npractice applications in the region.\\xa0AIT’s five thematic areas of research are, namely, Climate Change; Smart Communities;\\nInfrastructure; Technology, Policy, Society and Water-Energy-Food.\\xa0\\n (https://ait.ac.th/)\\nWe use cookies on our website to give you the most relevant experience by remembering your preferences and repeat visits. By clicking “Accept', metadata={'source': 'data/Research.pdf', 'file_path': 'data/Research.pdf', 'page': 1, 'total_pages': 6, 'format': 'PDF 1.4', 'title': '', 'author': '', 'subject': '', 'keywords': '', 'creator': 'Mozilla/5.0 (Windows NT 10.0; Win64; x64) AppleWebKit/537.36 (KHTML, like Gecko) Chrome/122.0.0.0 Safari/537.36', 'producer': 'Skia/PDF m122', 'creationDate': \"D:20240318053806+00'00'\", 'modDate': \"D:20240318053806+00'00'\", 'trapped': ''}),\n",
       " Document(page_content='from all around the world.\\nToday, AIT’s internationally recognized engineering, environment, and management graduates are highly sought after by employers in their home\\ncountryand elsewhere. Across many walks of life in Asia, AIT alumni have distinguished themselves as CEO’s of private and state enterprises, as\\nbusiness owners, as well-respected researchers and faculty, and as senior university and government officials.\\nIn this section\\n (https://ait.ac.th/)\\nWe use cookies on our website to give you the most relevant experience by remembering your preferences and repeat visits. By clicking “Accept All”, you consent to', metadata={'source': 'data/About.pdf', 'file_path': 'data/About.pdf', 'page': 0, 'total_pages': 7, 'format': 'PDF 1.4', 'title': '', 'author': '', 'subject': '', 'keywords': '', 'creator': 'Mozilla/5.0 (Windows NT 10.0; Win64; x64) AppleWebKit/537.36 (KHTML, like Gecko) Chrome/122.0.0.0 Safari/537.36', 'producer': 'Skia/PDF m122', 'creationDate': \"D:20240318030720+00'00'\", 'modDate': \"D:20240318030720+00'00'\", 'trapped': ''}),\n",
       " Document(page_content='leadership roles in Asia and beyond.\\nFounded in 1959, AIT offers the opportunity to study at an institution in Asia which possesses a global reputation. Going forward, AIT will be\\nstressing its global connections, injection of innovation into research and teaching, its relevance to industry, and its nurturing of entrepreneurship,\\nwhile continuing to fulfill its social impact and capacity building role. Sitting on a beautiful green campus located just north of Bangkok, Thailand,\\nAIT operates as a multicultural community where a cosmopolitan approach to living and learning is the rule. You will meet and study with people\\nfrom all around the world.', metadata={'source': 'data/About.pdf', 'file_path': 'data/About.pdf', 'page': 0, 'total_pages': 7, 'format': 'PDF 1.4', 'title': '', 'author': '', 'subject': '', 'keywords': '', 'creator': 'Mozilla/5.0 (Windows NT 10.0; Win64; x64) AppleWebKit/537.36 (KHTML, like Gecko) Chrome/122.0.0.0 Safari/537.36', 'producer': 'Skia/PDF m122', 'creationDate': \"D:20240318030720+00'00'\", 'modDate': \"D:20240318030720+00'00'\", 'trapped': ''})]"
      ]
     },
     "execution_count": 19,
     "metadata": {},
     "output_type": "execute_result"
    }
   ],
   "source": [
    "retriever.get_relevant_documents(\"What is AIT\")"
   ]
  },
  {
   "cell_type": "code",
   "execution_count": 20,
   "metadata": {},
   "outputs": [
    {
     "data": {
      "text/plain": [
       "[Document(page_content='coursework completed on a pass-fail or satisfactory/unsatisfactory basis can only be transferred through ‘credit by\\nexamination.’);\\n3. The courses are equivalent to graduate courses at AIT;\\n4. The courses were completed within the last 5 years;\\n5. The courses are stipulated in the relevant Memorandum of Understanding or Agreement of our partner universities;\\n6. Only elective courses can be transferred;\\n7. Students transferring course credits should not have been dismissed from the previous institution/university; and\\n8. For collaborative programs, the number of credits that may be transferred will be as approved by the Academic Senate.', metadata={'source': 'data/Exchange.pdf', 'file_path': 'data/Exchange.pdf', 'page': 3, 'total_pages': 10, 'format': 'PDF 1.4', 'title': '', 'author': '', 'subject': '', 'keywords': '', 'creator': 'Mozilla/5.0 (Windows NT 10.0; Win64; x64) AppleWebKit/537.36 (KHTML, like Gecko) Chrome/122.0.0.0 Safari/537.36', 'producer': 'Skia/PDF m122', 'creationDate': \"D:20240318053500+00'00'\", 'modDate': \"D:20240318053500+00'00'\", 'trapped': ''}),\n",
       " Document(page_content='3/18/24, 10:07 AM\\nAbout - Asian Institute of Technology\\nfile:///D:/AIT/Sem2/NLP/NLP_Assignments/Jupyter Files/data/About - Asian Institute of Technology.html\\n3/7\\nMasters degrees\\nMBA, MEng, MSc\\nExecutive Master Degree Programs\\nDoctoral Degrees\\nDEng, DTechSc, PhD, DBA\\nCertificate and Special Program\\nIntensive English & academic bridging program\\nNon-degree continuing education courses\\n (https://ait.ac.th/)\\nWe use cookies on our website to give you the most relevant experience by remembering your preferences and repeat visits. By clicking “Accept All”, you consent to\\nthe use of ALL the cookies. However, you may visit \"Cookie Settings\" to provide a controlled consent.\\nCookie Settings\\nAccept All', metadata={'source': 'data/About.pdf', 'file_path': 'data/About.pdf', 'page': 2, 'total_pages': 7, 'format': 'PDF 1.4', 'title': '', 'author': '', 'subject': '', 'keywords': '', 'creator': 'Mozilla/5.0 (Windows NT 10.0; Win64; x64) AppleWebKit/537.36 (KHTML, like Gecko) Chrome/122.0.0.0 Safari/537.36', 'producer': 'Skia/PDF m122', 'creationDate': \"D:20240318030720+00'00'\", 'modDate': \"D:20240318030720+00'00'\", 'trapped': ''}),\n",
       " Document(page_content='networking with other academic and research institutions in the region and the world\\nA model international citizen\\nA collaborator and partner of national postgraduate institutions\\nA financially viable, self-sustaining institution, able to draw support from donors the private sector and individuals, with good governance and\\nstrong leadership\\nA strong partner to its alumni, who are principal stakeholders through the AIT Alumni Association (AITAA)\\n1957\\n1958\\n1959\\n1961\\n1967\\n1968\\n1973\\n1979\\n1984\\n1993\\n1999\\n2009\\n1957\\nThe Southeast Asia Treaty Organization (SEATO), initiate establishment of a regional graduate school of', metadata={'source': 'data/About.pdf', 'file_path': 'data/About.pdf', 'page': 4, 'total_pages': 7, 'format': 'PDF 1.4', 'title': '', 'author': '', 'subject': '', 'keywords': '', 'creator': 'Mozilla/5.0 (Windows NT 10.0; Win64; x64) AppleWebKit/537.36 (KHTML, like Gecko) Chrome/122.0.0.0 Safari/537.36', 'producer': 'Skia/PDF m122', 'creationDate': \"D:20240318030720+00'00'\", 'modDate': \"D:20240318030720+00'00'\", 'trapped': ''}),\n",
       " Document(page_content='3/18/24, 12:38 PM\\nResearch Overview - Asian Institute of Technology\\nfile:///D:/AIT/Sem2/NLP/NLP_Assignments/Jupyter Files/data/Research Overview - Asian Institute of Technology.html\\n2/6\\nAIT equipped with over six-decade-long research and academic experience has effectively built and strengthened regional and\\ninternational partnerships, bridged interdisciplinary teams through its partnerships to address regional and global challenges\\xa0AIT\\nresearch is importantly aligned to all 17 SDG’s, contributing to the sustainable development of the region, strengthening the\\nknowledge development and business capacity, and supporting communities with their economic development and integration', metadata={'source': 'data/Research.pdf', 'file_path': 'data/Research.pdf', 'page': 1, 'total_pages': 6, 'format': 'PDF 1.4', 'title': '', 'author': '', 'subject': '', 'keywords': '', 'creator': 'Mozilla/5.0 (Windows NT 10.0; Win64; x64) AppleWebKit/537.36 (KHTML, like Gecko) Chrome/122.0.0.0 Safari/537.36', 'producer': 'Skia/PDF m122', 'creationDate': \"D:20240318053806+00'00'\", 'modDate': \"D:20240318053806+00'00'\", 'trapped': ''})]"
      ]
     },
     "execution_count": 20,
     "metadata": {},
     "output_type": "execute_result"
    }
   ],
   "source": [
    "retriever.get_relevant_documents(\"What are the graduate programs\")"
   ]
  },
  {
   "attachments": {},
   "cell_type": "markdown",
   "metadata": {},
   "source": [
    "## 3. Memory\n",
    "\n",
    "One of the core utility classes underpinning most (if not all) memory modules is the ChatMessageHistory class. This is a super lightweight wrapper that provides convenience methods for saving HumanMessages, AIMessages, and then fetching them all.\n",
    "\n",
    "You may want to use this class directly if you are managing memory outside of a chain.\n"
   ]
  },
  {
   "cell_type": "code",
   "execution_count": 21,
   "metadata": {},
   "outputs": [
    {
     "data": {
      "text/plain": [
       "ChatMessageHistory(messages=[])"
      ]
     },
     "execution_count": 21,
     "metadata": {},
     "output_type": "execute_result"
    }
   ],
   "source": [
    "from langchain.memory import ChatMessageHistory\n",
    "\n",
    "history = ChatMessageHistory()\n",
    "history"
   ]
  },
  {
   "cell_type": "code",
   "execution_count": 22,
   "metadata": {},
   "outputs": [],
   "source": [
    "history.add_user_message('hi')\n",
    "history.add_ai_message('Whats up?')\n",
    "history.add_user_message('How are you')\n",
    "history.add_ai_message('I\\'m quite good. How about you?')"
   ]
  },
  {
   "cell_type": "code",
   "execution_count": 23,
   "metadata": {},
   "outputs": [
    {
     "data": {
      "text/plain": [
       "ChatMessageHistory(messages=[HumanMessage(content='hi'), AIMessage(content='Whats up?'), HumanMessage(content='How are you'), AIMessage(content=\"I'm quite good. How about you?\")])"
      ]
     },
     "execution_count": 23,
     "metadata": {},
     "output_type": "execute_result"
    }
   ],
   "source": [
    "history"
   ]
  },
  {
   "attachments": {},
   "cell_type": "markdown",
   "metadata": {},
   "source": [
    "### 3.1 Memory types\n",
    "\n",
    "There are many different types of memory. Each has their own parameters, their own return types, and is useful in different scenarios. \n",
    "- Converstaion Buffer\n",
    "- Converstaion Buffer Window"
   ]
  },
  {
   "attachments": {},
   "cell_type": "markdown",
   "metadata": {},
   "source": [
    "What variables get returned from memory\n",
    "\n",
    "Before going into the chain, various variables are read from memory. These have specific names which need to align with the variables the chain expects. You can see what these variables are by calling memory.load_memory_variables({}). Note that the empty dictionary that we pass in is just a placeholder for real variables. If the memory type you are using is dependent upon the input variables, you may need to pass some in."
   ]
  },
  {
   "attachments": {},
   "cell_type": "markdown",
   "metadata": {},
   "source": [
    "In this case, you can see that load_memory_variables returns a single key, history. This means that your chain (and likely your prompt) should expect an input named history. You can usually control this variable through parameters on the memory class. For example, if you want the memory variables to be returned in the key chat_history you can do:"
   ]
  },
  {
   "attachments": {},
   "cell_type": "markdown",
   "metadata": {},
   "source": [
    "#### Converstaion Buffer\n",
    "This memory allows for storing messages and then extracts the messages in a variable."
   ]
  },
  {
   "cell_type": "code",
   "execution_count": 24,
   "metadata": {},
   "outputs": [
    {
     "data": {
      "text/plain": [
       "{'history': \"Human: hi\\nAI: What's up?\\nHuman: How are you?\\nAI: I'm quite good. How about you?\"}"
      ]
     },
     "execution_count": 24,
     "metadata": {},
     "output_type": "execute_result"
    }
   ],
   "source": [
    "from langchain.memory import ConversationBufferMemory\n",
    "\n",
    "memory = ConversationBufferMemory()\n",
    "memory.save_context({'input':'hi'}, {'output':'What\\'s up?'})\n",
    "memory.save_context({\"input\":'How are you?'},{'output': 'I\\'m quite good. How about you?'})\n",
    "memory.load_memory_variables({})"
   ]
  },
  {
   "cell_type": "code",
   "execution_count": 25,
   "metadata": {},
   "outputs": [
    {
     "data": {
      "text/plain": [
       "{'history': [HumanMessage(content='hi'),\n",
       "  AIMessage(content=\"What's up?\"),\n",
       "  HumanMessage(content='How are you?'),\n",
       "  AIMessage(content=\"I'm quite good. How about you?\")]}"
      ]
     },
     "execution_count": 25,
     "metadata": {},
     "output_type": "execute_result"
    }
   ],
   "source": [
    "from langchain.memory import ConversationBufferMemory\n",
    "\n",
    "memory = ConversationBufferMemory(return_messages = True)\n",
    "memory.save_context({'input':'hi'}, {'output':'What\\'s up?'})\n",
    "memory.save_context({\"input\":'How are you?'},{'output': 'I\\'m quite good. How about you?'})\n",
    "memory.load_memory_variables({})"
   ]
  },
  {
   "attachments": {},
   "cell_type": "markdown",
   "metadata": {},
   "source": [
    "#### Conversation Buffer Window\n",
    "- it keeps a list of the interactions of the conversation over time. \n",
    "- it only uses the last K interactions. \n",
    "- it can be useful for keeping a sliding window of the most recent interactions, so the buffer does not get too large."
   ]
  },
  {
   "cell_type": "code",
   "execution_count": 26,
   "metadata": {},
   "outputs": [
    {
     "data": {
      "text/plain": [
       "{'history': \"Human: How are you?\\nAI: I'm quite good. How about you?\"}"
      ]
     },
     "execution_count": 26,
     "metadata": {},
     "output_type": "execute_result"
    }
   ],
   "source": [
    "from langchain.memory import ConversationBufferWindowMemory\n",
    "\n",
    "memory = ConversationBufferWindowMemory(k=1)\n",
    "memory.save_context({'input':'hi'}, {'output':'What\\'s up?'})\n",
    "memory.save_context({\"input\":'How are you?'},{'output': 'I\\'m quite good. How about you?'})\n",
    "memory.load_memory_variables({})"
   ]
  },
  {
   "attachments": {},
   "cell_type": "markdown",
   "metadata": {},
   "source": [
    "## 4. Chain\n",
    "\n",
    "Using an LLM in isolation is fine for simple applications, but more complex applications require chaining LLMs - either with each other or with other components.\n",
    "\n",
    "An `LLMChain` is a simple chain that adds some functionality around language models.\n",
    "- it consists of a `PromptTemplate` and a `LM` (either an LLM or chat model).\n",
    "- it formats the prompt template using the input key values provided (and also memory key values, if available), \n",
    "- it passes the formatted string to LLM and returns the LLM output.\n",
    "\n",
    "Note : [Download Fastchat Model Here](https://huggingface.co/lmsys/fastchat-t5-3b-v1.0)"
   ]
  },
  {
   "cell_type": "code",
   "execution_count": 27,
   "metadata": {},
   "outputs": [],
   "source": [
    "# %cd ./models\n",
    "# !git clone https://huggingface.co/lmsys/fastchat-t5-3b-v1.0"
   ]
  },
  {
   "cell_type": "code",
   "execution_count": 28,
   "metadata": {},
   "outputs": [],
   "source": [
    "# git clone https://github.com/TimDettmers/bitsandbytes.git && cd bitsandbytes/\n",
    "# pip install -r requirements-dev.txt\n",
    "# cmake -DCOMPUTE_BACKEND=cuda -S .\n",
    "# cmake --build . --config Release\n",
    "# python -m build --wheel"
   ]
  },
  {
   "cell_type": "code",
   "execution_count": 29,
   "metadata": {},
   "outputs": [
    {
     "name": "stderr",
     "output_type": "stream",
     "text": [
      "You are using the default legacy behaviour of the <class 'transformers.models.t5.tokenization_t5.T5Tokenizer'>. This is expected, and simply means that the `legacy` (previous) behavior will be used so nothing changes for you. If you want to use the new behaviour, set `legacy=False`. This should only be set if you understand what it means, and thouroughly read the reason why this was added as explained in https://github.com/huggingface/transformers/pull/24565\n",
      "Special tokens have been added in the vocabulary, make sure the associated word embeddings are fine-tuned or trained.\n",
      "Special tokens have been added in the vocabulary, make sure the associated word embeddings are fine-tuned or trained.\n",
      "WARNING:root:Some parameters are on the meta device device because they were offloaded to the cpu.\n"
     ]
    }
   ],
   "source": [
    "from transformers import AutoTokenizer, pipeline, AutoModelForSeq2SeqLM\n",
    "from transformers import BitsAndBytesConfig\n",
    "from langchain import HuggingFacePipeline\n",
    "import torch\n",
    "\n",
    "model_id = 'D:/AIT/Sem2/NLP/NLP_Assignments/Jupyter Files/models_fast_chat/fastchat-t5-3b-v1.0'\n",
    "\n",
    "tokenizer = AutoTokenizer.from_pretrained(\n",
    "    model_id)\n",
    "\n",
    "tokenizer.pad_token_id = tokenizer.eos_token_id\n",
    "\n",
    "# bitsandbyte_config = BitsAndBytesConfig(\n",
    "#     load_in_4bit = True,\n",
    "#     bnb_4bit_quant_type = \"nf4\",\n",
    "#     load_in_8bit_fp32_cpu_offload=True,\n",
    "#     bnb_4bit_compute_dtype = torch.float16,\n",
    "#     bnb_4bit_use_double_quant = True\n",
    "# )\n",
    "\n",
    "model = AutoModelForSeq2SeqLM.from_pretrained(\n",
    "    model_id,\n",
    "    device_map = 'auto'\n",
    ")\n",
    "\n",
    "pipe = pipeline(\n",
    "    task=\"text2text-generation\",\n",
    "    model=model,\n",
    "    tokenizer=tokenizer,\n",
    "    max_new_tokens = 256,\n",
    "    model_kwargs = {\n",
    "        \"temperature\" : 0,\n",
    "        \"repetition_penalty\": 1.5\n",
    "    }\n",
    ")\n",
    "\n",
    "llm = HuggingFacePipeline(pipeline = pipe)"
   ]
  },
  {
   "attachments": {},
   "cell_type": "markdown",
   "metadata": {},
   "source": [
    "### [Class ConversationalRetrievalChain](https://api.python.langchain.com/en/latest/_modules/langchain/chains/conversational_retrieval/base.html#ConversationalRetrievalChain)\n",
    "\n",
    "- `retriever` : Retriever to use to fetch documents.\n",
    "\n",
    "- `combine_docs_chain` : The chain used to combine any retrieved documents.\n",
    "\n",
    "- `question_generator`: The chain used to generate a new question for the sake of retrieval. This chain will take in the current question (with variable question) and any chat history (with variable chat_history) and will produce a new standalone question to be used later on.\n",
    "\n",
    "- `return_source_documents` : Return the retrieved source documents as part of the final result.\n",
    "\n",
    "- `get_chat_history` : An optional function to get a string of the chat history. If None is provided, will use a default.\n",
    "\n",
    "- `return_generated_question` : Return the generated question as part of the final result.\n",
    "\n",
    "- `response_if_no_docs_found` : If specified, the chain will return a fixed response if no docs are found for the question.\n"
   ]
  },
  {
   "attachments": {},
   "cell_type": "markdown",
   "metadata": {},
   "source": [
    "`question_generator`"
   ]
  },
  {
   "cell_type": "code",
   "execution_count": 30,
   "metadata": {},
   "outputs": [],
   "source": [
    "from langchain.chains import LLMChain\n",
    "from langchain.chains.conversational_retrieval.prompts import CONDENSE_QUESTION_PROMPT\n",
    "from langchain.memory import ConversationBufferWindowMemory\n",
    "from langchain.chains.question_answering import load_qa_chain\n",
    "from langchain.chains import ConversationalRetrievalChain"
   ]
  },
  {
   "cell_type": "code",
   "execution_count": 31,
   "metadata": {},
   "outputs": [
    {
     "data": {
      "text/plain": [
       "PromptTemplate(input_variables=['chat_history', 'question'], template='Given the following conversation and a follow up question, rephrase the follow up question to be a standalone question, in its original language.\\n\\nChat History:\\n{chat_history}\\nFollow Up Input: {question}\\nStandalone question:')"
      ]
     },
     "execution_count": 31,
     "metadata": {},
     "output_type": "execute_result"
    }
   ],
   "source": [
    "CONDENSE_QUESTION_PROMPT"
   ]
  },
  {
   "cell_type": "code",
   "execution_count": 32,
   "metadata": {},
   "outputs": [],
   "source": [
    "question_generator = LLMChain(\n",
    "    llm = llm,\n",
    "    prompt = CONDENSE_QUESTION_PROMPT,\n",
    "    verbose = True\n",
    ")"
   ]
  },
  {
   "cell_type": "code",
   "execution_count": 33,
   "metadata": {},
   "outputs": [
    {
     "name": "stderr",
     "output_type": "stream",
     "text": [
      "d:\\AIT\\Sem2\\NLP\\NLP_Assignments\\nlp\\Lib\\site-packages\\langchain_core\\_api\\deprecation.py:117: LangChainDeprecationWarning: The function `__call__` was deprecated in LangChain 0.1.0 and will be removed in 0.2.0. Use invoke instead.\n",
      "  warn_deprecated(\n"
     ]
    },
    {
     "name": "stdout",
     "output_type": "stream",
     "text": [
      "\n",
      "\n",
      "\u001b[1m> Entering new LLMChain chain...\u001b[0m\n",
      "Prompt after formatting:\n",
      "\u001b[32;1m\u001b[1;3mGiven the following conversation and a follow up question, rephrase the follow up question to be a standalone question, in its original language.\n",
      "\n",
      "Chat History:\n",
      "Human:What is AIT\n",
      "AI:\n",
      "Human:What are programs in AIT\n",
      "AI:\n",
      "Follow Up Input: Comparing both of them\n",
      "Standalone question:\u001b[0m\n",
      "\n",
      "\u001b[1m> Finished chain.\u001b[0m\n"
     ]
    },
    {
     "data": {
      "text/plain": [
       "{'chat_history': 'Human:What is AIT\\nAI:\\nHuman:What are programs in AIT\\nAI:',\n",
       " 'question': 'Comparing both of them',\n",
       " 'text': '<pad> What  are  the  main  differences  between  AIT  AI  and  traditional  AI?\\n'}"
      ]
     },
     "execution_count": 33,
     "metadata": {},
     "output_type": "execute_result"
    }
   ],
   "source": [
    "query = 'Comparing both of them'\n",
    "chat_history = \"Human:What is AIT\\nAI:\\nHuman:What are programs in AIT\\nAI:\"\n",
    "\n",
    "question_generator({'chat_history' : chat_history, \"question\" : query})"
   ]
  },
  {
   "attachments": {},
   "cell_type": "markdown",
   "metadata": {},
   "source": [
    "`combine_docs_chain`"
   ]
  },
  {
   "cell_type": "code",
   "execution_count": 34,
   "metadata": {},
   "outputs": [
    {
     "data": {
      "text/plain": [
       "StuffDocumentsChain(verbose=True, llm_chain=LLMChain(verbose=True, prompt=PromptTemplate(input_variables=['context', 'question'], template=\"I'm your friendly AIT chatbot named ChakyBot, here to assist Chaky and Gun with any questions they have about AIT. \\n    If you're curious about anything about AIT, feel free to ask any questions you may have. \\n    Whether it's about general, or specific topics. \\n    I'm here to help break down complex concepts into easy-to-understand explanations.\\n    Just let me know what you're wondering about, and I'll do my best to guide you through it!\\n    {context}\\n    Question: {question}\\n    Answer:\"), llm=HuggingFacePipeline(pipeline=<transformers.pipelines.text2text_generation.Text2TextGenerationPipeline object at 0x000002C33D98CC90>)), document_variable_name='context')"
      ]
     },
     "execution_count": 34,
     "metadata": {},
     "output_type": "execute_result"
    }
   ],
   "source": [
    "doc_chain = load_qa_chain(\n",
    "    llm = llm,\n",
    "    chain_type = 'stuff',\n",
    "    prompt = PROMPT,\n",
    "    verbose = True\n",
    ")\n",
    "doc_chain"
   ]
  },
  {
   "cell_type": "code",
   "execution_count": 35,
   "metadata": {
    "scrolled": true
   },
   "outputs": [
    {
     "name": "stdout",
     "output_type": "stream",
     "text": [
      "\n",
      "\n",
      "\u001b[1m> Entering new StuffDocumentsChain chain...\u001b[0m\n",
      "\n",
      "\n",
      "\u001b[1m> Entering new LLMChain chain...\u001b[0m\n",
      "Prompt after formatting:\n",
      "\u001b[32;1m\u001b[1;3mI'm your friendly AIT chatbot named ChakyBot, here to assist Chaky and Gun with any questions they have about AIT. \n",
      "    If you're curious about anything about AIT, feel free to ask any questions you may have. \n",
      "    Whether it's about general, or specific topics. \n",
      "    I'm here to help break down complex concepts into easy-to-understand explanations.\n",
      "    Just let me know what you're wondering about, and I'll do my best to guide you through it!\n",
      "    3/18/24, 10:07 AM\n",
      "About - Asian Institute of Technology\n",
      "file:///D:/AIT/Sem2/NLP/NLP_Assignments/Jupyter Files/data/About - Asian Institute of Technology.html\n",
      "1/7\n",
      "Home (https://ait.ac.th/) > About\n",
      "About AIT\n",
      "AIT is an international English-speaking postgraduate institution, focusing\n",
      "on engineering, environment, and management studies.\n",
      "Welcome to AIT\n",
      "The Asian Institute of Technology (AIT) is an international English-speaking postgraduate institution, focusing on engineering, environment, and\n",
      "management studies. AIT’s rigorous academic, research, and experiential outreach programs prepare graduates for professional success and\n",
      "leadership roles in Asia and beyond.\n",
      "\n",
      "into the global economy. AIT focuses on assisting stakeholders build their capacity to promote sustainability through appropriate\n",
      "technology, relevant and applied research, sustainable frameworks for development and planning, informed policy making and\n",
      "practice applications in the region. AIT’s five thematic areas of research are, namely, Climate Change; Smart Communities;\n",
      "Infrastructure; Technology, Policy, Society and Water-Energy-Food. \n",
      " (https://ait.ac.th/)\n",
      "We use cookies on our website to give you the most relevant experience by remembering your preferences and repeat visits. By clicking “Accept\n",
      "\n",
      "from all around the world.\n",
      "Today, AIT’s internationally recognized engineering, environment, and management graduates are highly sought after by employers in their home\n",
      "countryand elsewhere. Across many walks of life in Asia, AIT alumni have distinguished themselves as CEO’s of private and state enterprises, as\n",
      "business owners, as well-respected researchers and faculty, and as senior university and government officials.\n",
      "In this section\n",
      " (https://ait.ac.th/)\n",
      "We use cookies on our website to give you the most relevant experience by remembering your preferences and repeat visits. By clicking “Accept All”, you consent to\n",
      "\n",
      "leadership roles in Asia and beyond.\n",
      "Founded in 1959, AIT offers the opportunity to study at an institution in Asia which possesses a global reputation. Going forward, AIT will be\n",
      "stressing its global connections, injection of innovation into research and teaching, its relevance to industry, and its nurturing of entrepreneurship,\n",
      "while continuing to fulfill its social impact and capacity building role. Sitting on a beautiful green campus located just north of Bangkok, Thailand,\n",
      "AIT operates as a multicultural community where a cosmopolitan approach to living and learning is the rule. You will meet and study with people\n",
      "from all around the world.\n",
      "    Question: What is AIT?\n",
      "    Answer:\u001b[0m\n",
      "\n",
      "\u001b[1m> Finished chain.\u001b[0m\n",
      "\n",
      "\u001b[1m> Finished chain.\u001b[0m\n"
     ]
    },
    {
     "data": {
      "text/plain": [
       "{'input_documents': [Document(page_content='3/18/24, 10:07 AM\\nAbout - Asian Institute of Technology\\nfile:///D:/AIT/Sem2/NLP/NLP_Assignments/Jupyter Files/data/About - Asian Institute of Technology.html\\n1/7\\nHome (https://ait.ac.th/) > About\\nAbout AIT\\nAIT is an international English-speaking postgraduate institution, focusing\\non engineering, environment, and management studies.\\nWelcome to AIT\\nThe Asian Institute of Technology (AIT) is an international English-speaking postgraduate institution, focusing on engineering, environment, and\\nmanagement studies. AIT’s rigorous academic, research, and experiential outreach programs prepare graduates for professional success and\\nleadership roles in Asia and beyond.', metadata={'source': 'data/About.pdf', 'file_path': 'data/About.pdf', 'page': 0, 'total_pages': 7, 'format': 'PDF 1.4', 'title': '', 'author': '', 'subject': '', 'keywords': '', 'creator': 'Mozilla/5.0 (Windows NT 10.0; Win64; x64) AppleWebKit/537.36 (KHTML, like Gecko) Chrome/122.0.0.0 Safari/537.36', 'producer': 'Skia/PDF m122', 'creationDate': \"D:20240318030720+00'00'\", 'modDate': \"D:20240318030720+00'00'\", 'trapped': ''}),\n",
       "  Document(page_content='into the global economy. AIT focuses on assisting stakeholders build their capacity to promote sustainability through appropriate\\ntechnology, relevant and applied research, sustainable frameworks for development and planning, informed policy making and\\npractice applications in the region.\\xa0AIT’s five thematic areas of research are, namely, Climate Change; Smart Communities;\\nInfrastructure; Technology, Policy, Society and Water-Energy-Food.\\xa0\\n (https://ait.ac.th/)\\nWe use cookies on our website to give you the most relevant experience by remembering your preferences and repeat visits. By clicking “Accept', metadata={'source': 'data/Research.pdf', 'file_path': 'data/Research.pdf', 'page': 1, 'total_pages': 6, 'format': 'PDF 1.4', 'title': '', 'author': '', 'subject': '', 'keywords': '', 'creator': 'Mozilla/5.0 (Windows NT 10.0; Win64; x64) AppleWebKit/537.36 (KHTML, like Gecko) Chrome/122.0.0.0 Safari/537.36', 'producer': 'Skia/PDF m122', 'creationDate': \"D:20240318053806+00'00'\", 'modDate': \"D:20240318053806+00'00'\", 'trapped': ''}),\n",
       "  Document(page_content='from all around the world.\\nToday, AIT’s internationally recognized engineering, environment, and management graduates are highly sought after by employers in their home\\ncountryand elsewhere. Across many walks of life in Asia, AIT alumni have distinguished themselves as CEO’s of private and state enterprises, as\\nbusiness owners, as well-respected researchers and faculty, and as senior university and government officials.\\nIn this section\\n (https://ait.ac.th/)\\nWe use cookies on our website to give you the most relevant experience by remembering your preferences and repeat visits. By clicking “Accept All”, you consent to', metadata={'source': 'data/About.pdf', 'file_path': 'data/About.pdf', 'page': 0, 'total_pages': 7, 'format': 'PDF 1.4', 'title': '', 'author': '', 'subject': '', 'keywords': '', 'creator': 'Mozilla/5.0 (Windows NT 10.0; Win64; x64) AppleWebKit/537.36 (KHTML, like Gecko) Chrome/122.0.0.0 Safari/537.36', 'producer': 'Skia/PDF m122', 'creationDate': \"D:20240318030720+00'00'\", 'modDate': \"D:20240318030720+00'00'\", 'trapped': ''}),\n",
       "  Document(page_content='leadership roles in Asia and beyond.\\nFounded in 1959, AIT offers the opportunity to study at an institution in Asia which possesses a global reputation. Going forward, AIT will be\\nstressing its global connections, injection of innovation into research and teaching, its relevance to industry, and its nurturing of entrepreneurship,\\nwhile continuing to fulfill its social impact and capacity building role. Sitting on a beautiful green campus located just north of Bangkok, Thailand,\\nAIT operates as a multicultural community where a cosmopolitan approach to living and learning is the rule. You will meet and study with people\\nfrom all around the world.', metadata={'source': 'data/About.pdf', 'file_path': 'data/About.pdf', 'page': 0, 'total_pages': 7, 'format': 'PDF 1.4', 'title': '', 'author': '', 'subject': '', 'keywords': '', 'creator': 'Mozilla/5.0 (Windows NT 10.0; Win64; x64) AppleWebKit/537.36 (KHTML, like Gecko) Chrome/122.0.0.0 Safari/537.36', 'producer': 'Skia/PDF m122', 'creationDate': \"D:20240318030720+00'00'\", 'modDate': \"D:20240318030720+00'00'\", 'trapped': ''})],\n",
       " 'question': 'What is AIT?',\n",
       " 'output_text': '<pad>  The  Asian  Institute  of  Technology  (AIT)  is  an  international  English-speaking  postgraduate  institution  focusing  on  engineering,  environment,  and  management  studies.\\n'}"
      ]
     },
     "execution_count": 35,
     "metadata": {},
     "output_type": "execute_result"
    }
   ],
   "source": [
    "query = \"What is AIT?\"\n",
    "input_document = retriever.get_relevant_documents(query)\n",
    "\n",
    "doc_chain({'input_documents':input_document, 'question':query})"
   ]
  },
  {
   "cell_type": "code",
   "execution_count": 36,
   "metadata": {},
   "outputs": [
    {
     "data": {
      "text/plain": [
       "ConversationalRetrievalChain(memory=ConversationBufferWindowMemory(output_key='answer', return_messages=True, memory_key='chat_history', k=3), verbose=True, combine_docs_chain=StuffDocumentsChain(verbose=True, llm_chain=LLMChain(verbose=True, prompt=PromptTemplate(input_variables=['context', 'question'], template=\"I'm your friendly AIT chatbot named ChakyBot, here to assist Chaky and Gun with any questions they have about AIT. \\n    If you're curious about anything about AIT, feel free to ask any questions you may have. \\n    Whether it's about general, or specific topics. \\n    I'm here to help break down complex concepts into easy-to-understand explanations.\\n    Just let me know what you're wondering about, and I'll do my best to guide you through it!\\n    {context}\\n    Question: {question}\\n    Answer:\"), llm=HuggingFacePipeline(pipeline=<transformers.pipelines.text2text_generation.Text2TextGenerationPipeline object at 0x000002C33D98CC90>)), document_variable_name='context'), question_generator=LLMChain(verbose=True, prompt=PromptTemplate(input_variables=['chat_history', 'question'], template='Given the following conversation and a follow up question, rephrase the follow up question to be a standalone question, in its original language.\\n\\nChat History:\\n{chat_history}\\nFollow Up Input: {question}\\nStandalone question:'), llm=HuggingFacePipeline(pipeline=<transformers.pipelines.text2text_generation.Text2TextGenerationPipeline object at 0x000002C33D98CC90>)), return_source_documents=True, get_chat_history=<function <lambda> at 0x000002C284516FC0>, retriever=VectorStoreRetriever(tags=['FAISS', 'HuggingFaceInstructEmbeddings'], vectorstore=<langchain_community.vectorstores.faiss.FAISS object at 0x000002C282DF0A50>))"
      ]
     },
     "execution_count": 36,
     "metadata": {},
     "output_type": "execute_result"
    }
   ],
   "source": [
    "memory = ConversationBufferWindowMemory(\n",
    "    k=3, \n",
    "    memory_key = \"chat_history\",\n",
    "    return_messages = True,\n",
    "    output_key = 'answer'\n",
    ")\n",
    "\n",
    "chain = ConversationalRetrievalChain(\n",
    "    retriever=retriever,\n",
    "    question_generator=question_generator,\n",
    "    combine_docs_chain=doc_chain,\n",
    "    return_source_documents=True,\n",
    "    memory=memory,\n",
    "    verbose=True,\n",
    "    get_chat_history=lambda h : h\n",
    ")\n",
    "chain"
   ]
  },
  {
   "attachments": {},
   "cell_type": "markdown",
   "metadata": {},
   "source": [
    "## 5. Chatbot"
   ]
  },
  {
   "cell_type": "code",
   "execution_count": 37,
   "metadata": {},
   "outputs": [
    {
     "name": "stdout",
     "output_type": "stream",
     "text": [
      "\n",
      "\n",
      "\u001b[1m> Entering new ConversationalRetrievalChain chain...\u001b[0m\n",
      "\n",
      "\n",
      "\u001b[1m> Entering new StuffDocumentsChain chain...\u001b[0m\n",
      "\n",
      "\n",
      "\u001b[1m> Entering new LLMChain chain...\u001b[0m\n",
      "Prompt after formatting:\n",
      "\u001b[32;1m\u001b[1;3mI'm your friendly AIT chatbot named ChakyBot, here to assist Chaky and Gun with any questions they have about AIT. \n",
      "    If you're curious about anything about AIT, feel free to ask any questions you may have. \n",
      "    Whether it's about general, or specific topics. \n",
      "    I'm here to help break down complex concepts into easy-to-understand explanations.\n",
      "    Just let me know what you're wondering about, and I'll do my best to guide you through it!\n",
      "    Privacy Policy (https://ait.ac.th/privacy-policy/)\n",
      "©2022 Asian Institute of Technology. All Rights Reserved. - Designed by Outsourcify (https://outsourcify.net/)\n",
      " (https://ait.ac.th/)\n",
      "We use cookies on our website to give you the most relevant experience by remembering your preferences and repeat visits. By clicking “Accept\n",
      "All”, you consent to the use of ALL the cookies. However, you may visit \"Cookie Settings\" to provide a controlled consent.\n",
      "Cookie Settings\n",
      "Accept All\n",
      "\n",
      "(https://ait.ac.th/wp-\n",
      "content/ ploads/2022/01/WECHAT\n",
      "Your email*\n",
      "Submit\n",
      " (https://ait.ac.th/)\n",
      "We use cookies on our website to give you the most relevant experience by remembering your preferences and repeat visits. By clicking “Accept All”, you consent to\n",
      "the use of ALL the cookies. However, you may visit \"Cookie Settings\" to provide a controlled consent.\n",
      "Cookie Settings\n",
      "Accept All\n",
      "\n",
      "Contact (https://ait.ac.th/contact/)\n",
      "A-Z Units (https://ait.ac.th/a-z-units/)\n",
      "Terms and conditions (https://ait.ac.th/terms-conditions/)\n",
      "Privacy Policy (https://ait.ac.th/privacy-policy/)\n",
      "©2022 Asian Institute of Technology. All Rights Reserved. - Designed by Outsourcify\n",
      "(https://outsourcify.net/)\n",
      " (https://ait.ac.th/)\n",
      "We use cookies on our website to give you the most relevant experience by remembering your preferences\n",
      "and repeat visits. By clicking “Accept All”, you consent to the use of ALL the cookies. However, you may\n",
      "visit \"Cookie Settings\" to provide a controlled consent.\n",
      "Cookie Settings\n",
      "Accept All\n",
      "\n",
      "Privacy Policy (https://ait.ac.th/privacy-policy/)\n",
      " (https://ait.ac.th/)\n",
      "We use cookies on our website to give you the most relevant experience by remembering your preferences and repeat visits. By clicking “Accept\n",
      "All”, you consent to the use of ALL the cookies. However, you may visit \"Cookie Settings\" to provide a controlled consent.\n",
      "Cookie Settings\n",
      "Accept All\n",
      "    Question: Who are you by the way?\n",
      "    Answer:\u001b[0m\n",
      "\n",
      "\u001b[1m> Finished chain.\u001b[0m\n",
      "\n",
      "\u001b[1m> Finished chain.\u001b[0m\n",
      "\n",
      "\u001b[1m> Finished chain.\u001b[0m\n"
     ]
    },
    {
     "data": {
      "text/plain": [
       "{'question': 'Who are you by the way?',\n",
       " 'chat_history': [],\n",
       " 'answer': \"<pad>  I'm  ChakyBot,  a  chatbot  designed  to  assist  Chaky  and  Gun  with  any  questions  they  have  about  AIT.  I'm  here  to  help  break  down  complex  concepts  into  easy-to-understand  explanations,  and  answer  any  questions  you  may  have  about  AIT.  I'm  here  to  help  you  with  any  questions  you  may  have  about  AIT,  so  feel  free  to  ask  me  anything  you  may  have!\\n\",\n",
       " 'source_documents': [Document(page_content='Privacy Policy (https://ait.ac.th/privacy-policy/)\\n©2022 Asian Institute of Technology. All Rights Reserved. - Designed by Outsourcify (https://outsourcify.net/)\\n (https://ait.ac.th/)\\nWe use cookies on our website to give you the most relevant experience by remembering your preferences and repeat visits. By clicking “Accept\\nAll”, you consent to the use of ALL the cookies. However, you may visit \"Cookie Settings\" to provide a controlled consent.\\nCookie Settings\\nAccept All', metadata={'source': 'data/Research.pdf', 'file_path': 'data/Research.pdf', 'page': 5, 'total_pages': 6, 'format': 'PDF 1.4', 'title': '', 'author': '', 'subject': '', 'keywords': '', 'creator': 'Mozilla/5.0 (Windows NT 10.0; Win64; x64) AppleWebKit/537.36 (KHTML, like Gecko) Chrome/122.0.0.0 Safari/537.36', 'producer': 'Skia/PDF m122', 'creationDate': \"D:20240318053806+00'00'\", 'modDate': \"D:20240318053806+00'00'\", 'trapped': ''}),\n",
       "  Document(page_content='(https://ait.ac.th/wp-\\ncontent/ ploads/2022/01/WECHAT\\nYour email*\\nSubmit\\n (https://ait.ac.th/)\\nWe use cookies on our website to give you the most relevant experience by remembering your preferences and repeat visits. By clicking “Accept All”, you consent to\\nthe use of ALL the cookies. However, you may visit \"Cookie Settings\" to provide a controlled consent.\\nCookie Settings\\nAccept All', metadata={'source': 'data/About.pdf', 'file_path': 'data/About.pdf', 'page': 4, 'total_pages': 7, 'format': 'PDF 1.4', 'title': '', 'author': '', 'subject': '', 'keywords': '', 'creator': 'Mozilla/5.0 (Windows NT 10.0; Win64; x64) AppleWebKit/537.36 (KHTML, like Gecko) Chrome/122.0.0.0 Safari/537.36', 'producer': 'Skia/PDF m122', 'creationDate': \"D:20240318030720+00'00'\", 'modDate': \"D:20240318030720+00'00'\", 'trapped': ''}),\n",
       "  Document(page_content='Contact (https://ait.ac.th/contact/)\\nA-Z Units (https://ait.ac.th/a-z-units/)\\nTerms and conditions (https://ait.ac.th/terms-conditions/)\\nPrivacy Policy (https://ait.ac.th/privacy-policy/)\\n©2022 Asian Institute of Technology. All Rights Reserved. - Designed by Outsourcify\\n(https://outsourcify.net/)\\n (https://ait.ac.th/)\\nWe use cookies on our website to give you the most relevant experience by remembering your preferences\\nand repeat visits. By clicking “Accept All”, you consent to the use of ALL the cookies. However, you may\\nvisit \"Cookie Settings\" to provide a controlled consent.\\nCookie Settings\\nAccept All', metadata={'source': 'data/Athletics.pdf', 'file_path': 'data/Athletics.pdf', 'page': 5, 'total_pages': 6, 'format': 'PDF 1.4', 'title': '', 'author': '', 'subject': '', 'keywords': '', 'creator': 'Mozilla/5.0 (Windows NT 10.0; Win64; x64) AppleWebKit/537.36 (KHTML, like Gecko) Chrome/122.0.0.0 Safari/537.36', 'producer': 'Skia/PDF m122', 'creationDate': \"D:20240318031103+00'00'\", 'modDate': \"D:20240318031103+00'00'\", 'trapped': ''}),\n",
       "  Document(page_content='Privacy Policy (https://ait.ac.th/privacy-policy/)\\n (https://ait.ac.th/)\\nWe use cookies on our website to give you the most relevant experience by remembering your preferences and repeat visits. By clicking “Accept\\nAll”, you consent to the use of ALL the cookies. However, you may visit \"Cookie Settings\" to provide a controlled consent.\\nCookie Settings\\nAccept All', metadata={'source': 'data/Dr.Chaky.pdf', 'file_path': 'data/Dr.Chaky.pdf', 'page': 5, 'total_pages': 7, 'format': 'PDF 1.4', 'title': '', 'author': '', 'subject': '', 'keywords': '', 'creator': 'Mozilla/5.0 (Windows NT 10.0; Win64; x64) AppleWebKit/537.36 (KHTML, like Gecko) Chrome/122.0.0.0 Safari/537.36', 'producer': 'Skia/PDF m122', 'creationDate': \"D:20240318054022+00'00'\", 'modDate': \"D:20240318054022+00'00'\", 'trapped': ''})]}"
      ]
     },
     "execution_count": 37,
     "metadata": {},
     "output_type": "execute_result"
    }
   ],
   "source": [
    "prompt_question = \"Who are you by the way?\"\n",
    "answer = chain({\"question\":prompt_question})\n",
    "answer"
   ]
  },
  {
   "cell_type": "code",
   "execution_count": 38,
   "metadata": {},
   "outputs": [
    {
     "name": "stdout",
     "output_type": "stream",
     "text": [
      "\n",
      "\n",
      "\u001b[1m> Entering new ConversationalRetrievalChain chain...\u001b[0m\n",
      "\n",
      "\n",
      "\u001b[1m> Entering new LLMChain chain...\u001b[0m\n",
      "Prompt after formatting:\n",
      "\u001b[32;1m\u001b[1;3mGiven the following conversation and a follow up question, rephrase the follow up question to be a standalone question, in its original language.\n",
      "\n",
      "Chat History:\n",
      "[HumanMessage(content='Who are you by the way?'), AIMessage(content=\"<pad>  I'm  ChakyBot,  a  chatbot  designed  to  assist  Chaky  and  Gun  with  any  questions  they  have  about  AIT.  I'm  here  to  help  break  down  complex  concepts  into  easy-to-understand  explanations,  and  answer  any  questions  you  may  have  about  AIT.  I'm  here  to  help  you  with  any  questions  you  may  have  about  AIT,  so  feel  free  to  ask  me  anything  you  may  have!\\n\")]\n",
      "Follow Up Input: What is AIT?\n",
      "Standalone question:\u001b[0m\n"
     ]
    }
   ],
   "source": [
    "prompt_question = \"What is AIT?\"\n",
    "answer = chain({\"question\":prompt_question})\n",
    "answer"
   ]
  },
  {
   "cell_type": "code",
   "execution_count": null,
   "metadata": {},
   "outputs": [
    {
     "name": "stdout",
     "output_type": "stream",
     "text": [
      "\n",
      "\n",
      "\u001b[1m> Entering new ConversationalRetrievalChain chain...\u001b[0m\n",
      "\n",
      "\n",
      "\u001b[1m> Entering new LLMChain chain...\u001b[0m\n",
      "Prompt after formatting:\n",
      "\u001b[32;1m\u001b[1;3mGiven the following conversation and a follow up question, rephrase the follow up question to be a standalone question, in its original language.\n",
      "\n",
      "Chat History:\n",
      "[HumanMessage(content='Who are you by the way?'), AIMessage(content=\"<pad>  I'm  ChakyBot,  a  chatbot  created  by  Asian  Institute  of  Technology  (AIT)  to  assist  Chaky  and  Gun  with  any  questions  they  have  about  AIT.  I'm  here  to  help  break  down  complex  concepts  into  easy-to-understand  explanations  and  answer  any  questions  you  may  have  about  AIT.\\n\"), HumanMessage(content='What is AIT?'), AIMessage(content='<pad> < div>\\n AIT  is  an  international  English-speaking  postgraduate  institution,  focusing  on  engineering,  environment,  and  management  studies.\\n')]\n",
      "Follow Up Input: Is AIT only for Masters?\n",
      "Standalone question:\u001b[0m\n",
      "\n",
      "\u001b[1m> Finished chain.\u001b[0m\n",
      "\n",
      "\n",
      "\u001b[1m> Entering new StuffDocumentsChain chain...\u001b[0m\n",
      "\n",
      "\n",
      "\u001b[1m> Entering new LLMChain chain...\u001b[0m\n",
      "Prompt after formatting:\n",
      "\u001b[32;1m\u001b[1;3mI'm your friendly AIT chatbot named ChakyBot, here to assist Chaky and Gun with any questions they have about AIT. \n",
      "    If you're curious about anything about AIT, feel free to ask any questions you may have. \n",
      "    Whether it's about general, or specific topics. \n",
      "    I'm here to help break down complex concepts into easy-to-understand explanations.\n",
      "    Just let me know what you're wondering about, and I'll do my best to guide you through it!\n",
      "    from all around the world.\n",
      "Today, AIT’s internationally recognized engineering, environment, and management graduates are highly sought after by employers in their home\n",
      "countryand elsewhere. Across many walks of life in Asia, AIT alumni have distinguished themselves as CEO’s of private and state enterprises, as\n",
      "business owners, as well-respected researchers and faculty, and as senior university and government officials.\n",
      "In this section\n",
      " (https://ait.ac.th/)\n",
      "We use cookies on our website to give you the most relevant experience by remembering your preferences and repeat visits. By clicking “Accept All”, you consent to\n",
      "\n",
      "3/18/24, 10:07 AM\n",
      "About - Asian Institute of Technology\n",
      "file:///D:/AIT/Sem2/NLP/NLP_Assignments/Jupyter Files/data/About - Asian Institute of Technology.html\n",
      "1/7\n",
      "Home (https://ait.ac.th/) > About\n",
      "About AIT\n",
      "AIT is an international English-speaking postgraduate institution, focusing\n",
      "on engineering, environment, and management studies.\n",
      "Welcome to AIT\n",
      "The Asian Institute of Technology (AIT) is an international English-speaking postgraduate institution, focusing on engineering, environment, and\n",
      "management studies. AIT’s rigorous academic, research, and experiential outreach programs prepare graduates for professional success and\n",
      "leadership roles in Asia and beyond.\n",
      "\n",
      "leadership roles in Asia and beyond.\n",
      "Founded in 1959, AIT offers the opportunity to study at an institution in Asia which possesses a global reputation. Going forward, AIT will be\n",
      "stressing its global connections, injection of innovation into research and teaching, its relevance to industry, and its nurturing of entrepreneurship,\n",
      "while continuing to fulfill its social impact and capacity building role. Sitting on a beautiful green campus located just north of Bangkok, Thailand,\n",
      "AIT operates as a multicultural community where a cosmopolitan approach to living and learning is the rule. You will meet and study with people\n",
      "from all around the world.\n",
      "\n",
      "3/18/24, 10:10 AM\n",
      "Housing - Asian Institute of Technology\n",
      "file:///D:/AIT/Sem2/NLP/NLP_Assignments/Jupyter Files/data/Housing - Asian Institute of Technology.html\n",
      "1/4\n",
      "Home (https://ait.ac.th/) > Housing\n",
      "Housing\n",
      "AIT campus offers many opportunities for sports activities.\n",
      "On-campus living at AIT\n",
      "High-quality on campus accommodations are available in different types, such as air-conditioned or non air-conditioned; cooking or non cooking,\n",
      "and single or double occupancy — all rooms are fully furnished with regular maintenance services. Weekly cleaning service is also available.\n",
      "Accommodation facilities & service\n",
      "Special accommodation facility for disabled\n",
      "Regulations\n",
      "How to apply?\n",
      "    Question: <pad>  Is  AIT  only  for  postgraduate  studies?\n",
      "\n",
      "    Answer:\u001b[0m\n",
      "\n",
      "\u001b[1m> Finished chain.\u001b[0m\n",
      "\n",
      "\u001b[1m> Finished chain.\u001b[0m\n",
      "\n",
      "\u001b[1m> Finished chain.\u001b[0m\n"
     ]
    },
    {
     "data": {
      "text/plain": [
       "{'question': 'Is AIT only for Masters?',\n",
       " 'chat_history': [HumanMessage(content='Who are you by the way?'),\n",
       "  AIMessage(content=\"<pad>  I'm  ChakyBot,  a  chatbot  created  by  Asian  Institute  of  Technology  (AIT)  to  assist  Chaky  and  Gun  with  any  questions  they  have  about  AIT.  I'm  here  to  help  break  down  complex  concepts  into  easy-to-understand  explanations  and  answer  any  questions  you  may  have  about  AIT.\\n\"),\n",
       "  HumanMessage(content='What is AIT?'),\n",
       "  AIMessage(content='<pad> < div>\\n AIT  is  an  international  English-speaking  postgraduate  institution,  focusing  on  engineering,  environment,  and  management  studies.\\n')],\n",
       " 'answer': '<pad> < pad>\\n Yes,  AIT  is  only  for  postgraduate  studies.  It  offers  a  wide  range  of  programs  in  engineering,  environment,  and  management.  It  also  offers  undergraduate  programs  in  these  same  fields.\\n',\n",
       " 'source_documents': [Document(page_content='from all around the world.\\nToday, AIT’s internationally recognized engineering, environment, and management graduates are highly sought after by employers in their home\\ncountryand elsewhere. Across many walks of life in Asia, AIT alumni have distinguished themselves as CEO’s of private and state enterprises, as\\nbusiness owners, as well-respected researchers and faculty, and as senior university and government officials.\\nIn this section\\n (https://ait.ac.th/)\\nWe use cookies on our website to give you the most relevant experience by remembering your preferences and repeat visits. By clicking “Accept All”, you consent to', metadata={'source': 'data/About.pdf', 'file_path': 'data/About.pdf', 'page': 0, 'total_pages': 7, 'format': 'PDF 1.4', 'title': '', 'author': '', 'subject': '', 'keywords': '', 'creator': 'Mozilla/5.0 (Windows NT 10.0; Win64; x64) AppleWebKit/537.36 (KHTML, like Gecko) Chrome/122.0.0.0 Safari/537.36', 'producer': 'Skia/PDF m122', 'creationDate': \"D:20240318030720+00'00'\", 'modDate': \"D:20240318030720+00'00'\", 'trapped': ''}),\n",
       "  Document(page_content='3/18/24, 10:07 AM\\nAbout - Asian Institute of Technology\\nfile:///D:/AIT/Sem2/NLP/NLP_Assignments/Jupyter Files/data/About - Asian Institute of Technology.html\\n1/7\\nHome (https://ait.ac.th/) > About\\nAbout AIT\\nAIT is an international English-speaking postgraduate institution, focusing\\non engineering, environment, and management studies.\\nWelcome to AIT\\nThe Asian Institute of Technology (AIT) is an international English-speaking postgraduate institution, focusing on engineering, environment, and\\nmanagement studies. AIT’s rigorous academic, research, and experiential outreach programs prepare graduates for professional success and\\nleadership roles in Asia and beyond.', metadata={'source': 'data/About.pdf', 'file_path': 'data/About.pdf', 'page': 0, 'total_pages': 7, 'format': 'PDF 1.4', 'title': '', 'author': '', 'subject': '', 'keywords': '', 'creator': 'Mozilla/5.0 (Windows NT 10.0; Win64; x64) AppleWebKit/537.36 (KHTML, like Gecko) Chrome/122.0.0.0 Safari/537.36', 'producer': 'Skia/PDF m122', 'creationDate': \"D:20240318030720+00'00'\", 'modDate': \"D:20240318030720+00'00'\", 'trapped': ''}),\n",
       "  Document(page_content='leadership roles in Asia and beyond.\\nFounded in 1959, AIT offers the opportunity to study at an institution in Asia which possesses a global reputation. Going forward, AIT will be\\nstressing its global connections, injection of innovation into research and teaching, its relevance to industry, and its nurturing of entrepreneurship,\\nwhile continuing to fulfill its social impact and capacity building role. Sitting on a beautiful green campus located just north of Bangkok, Thailand,\\nAIT operates as a multicultural community where a cosmopolitan approach to living and learning is the rule. You will meet and study with people\\nfrom all around the world.', metadata={'source': 'data/About.pdf', 'file_path': 'data/About.pdf', 'page': 0, 'total_pages': 7, 'format': 'PDF 1.4', 'title': '', 'author': '', 'subject': '', 'keywords': '', 'creator': 'Mozilla/5.0 (Windows NT 10.0; Win64; x64) AppleWebKit/537.36 (KHTML, like Gecko) Chrome/122.0.0.0 Safari/537.36', 'producer': 'Skia/PDF m122', 'creationDate': \"D:20240318030720+00'00'\", 'modDate': \"D:20240318030720+00'00'\", 'trapped': ''}),\n",
       "  Document(page_content='3/18/24, 10:10 AM\\nHousing - Asian Institute of Technology\\nfile:///D:/AIT/Sem2/NLP/NLP_Assignments/Jupyter Files/data/Housing - Asian Institute of Technology.html\\n1/4\\nHome (https://ait.ac.th/) > Housing\\nHousing\\nAIT campus offers many opportunities for sports activities.\\nOn-campus living at AIT\\nHigh-quality on campus accommodations are available in different types, such as air-conditioned or non air-conditioned; cooking or non cooking,\\nand single or double occupancy — all rooms are fully furnished with regular maintenance services. Weekly cleaning service is also available.\\nAccommodation facilities & service\\nSpecial accommodation facility for disabled\\nRegulations\\nHow to apply?', metadata={'source': 'data/Housing.pdf', 'file_path': 'data/Housing.pdf', 'page': 0, 'total_pages': 4, 'format': 'PDF 1.4', 'title': '', 'author': '', 'subject': '', 'keywords': '', 'creator': 'Mozilla/5.0 (Windows NT 10.0; Win64; x64) AppleWebKit/537.36 (KHTML, like Gecko) Chrome/122.0.0.0 Safari/537.36', 'producer': 'Skia/PDF m122', 'creationDate': \"D:20240318031017+00'00'\", 'modDate': \"D:20240318031017+00'00'\", 'trapped': ''})]}"
      ]
     },
     "execution_count": 47,
     "metadata": {},
     "output_type": "execute_result"
    }
   ],
   "source": [
    "prompt_question = \"Is AIT only for Masters?\"\n",
    "answer = chain({\"question\":prompt_question})\n",
    "answer"
   ]
  }
 ],
 "metadata": {
  "kernelspec": {
   "display_name": "Python 3 (ipykernel)",
   "language": "python",
   "name": "python3"
  },
  "language_info": {
   "codemirror_mode": {
    "name": "ipython",
    "version": 3
   },
   "file_extension": ".py",
   "mimetype": "text/x-python",
   "name": "python",
   "nbconvert_exporter": "python",
   "pygments_lexer": "ipython3",
   "version": "3.11.8"
  }
 },
 "nbformat": 4,
 "nbformat_minor": 4
}
