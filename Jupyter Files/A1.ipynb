{
 "cells": [
  {
   "cell_type": "markdown",
   "metadata": {},
   "source": [
    "## Importing the libraries"
   ]
  },
  {
   "cell_type": "code",
   "execution_count": 1,
   "metadata": {},
   "outputs": [
    {
     "name": "stderr",
     "output_type": "stream",
     "text": [
      "[nltk_data] Downloading package brown to\n",
      "[nltk_data]     C:\\Users\\LEGION\\AppData\\Roaming\\nltk_data...\n",
      "[nltk_data]   Package brown is already up-to-date!\n"
     ]
    },
    {
     "data": {
      "text/plain": [
       "True"
      ]
     },
     "execution_count": 1,
     "metadata": {},
     "output_type": "execute_result"
    }
   ],
   "source": [
    "import numpy as np\n",
    "import torch\n",
    "import torch.nn as nn\n",
    "import torch.optim as optim\n",
    "import matplotlib.pyplot as plt\n",
    "import time\n",
    "import nltk\n",
    "nltk.download('brown')"
   ]
  },
  {
   "cell_type": "code",
   "execution_count": 2,
   "metadata": {},
   "outputs": [
    {
     "data": {
      "text/plain": [
       "('1.24.4', '2.1.2+cpu')"
      ]
     },
     "execution_count": 2,
     "metadata": {},
     "output_type": "execute_result"
    }
   ],
   "source": [
    "np.__version__, torch.__version__"
   ]
  },
  {
   "cell_type": "code",
   "execution_count": 3,
   "metadata": {},
   "outputs": [
    {
     "data": {
      "text/plain": [
       "'3.7.2'"
      ]
     },
     "execution_count": 3,
     "metadata": {},
     "output_type": "execute_result"
    }
   ],
   "source": [
    "import matplotlib\n",
    "matplotlib.__version__"
   ]
  },
  {
   "cell_type": "markdown",
   "metadata": {},
   "source": [
    "## 1. Load Data"
   ]
  },
  {
   "cell_type": "code",
   "execution_count": 4,
   "metadata": {},
   "outputs": [],
   "source": [
    "from nltk.corpus import brown\n",
    "\n",
    "# Create a corpus containing only documents from the 'earn' category\n",
    "corpus = brown.sents()\n",
    "\n",
    "# Limit the corpus to the first 1000 sentences for demonstration purposes\n",
    "corpus = [[word.lower() for word in sentence] for sentence in corpus]\n",
    "corpus = corpus[:1000]\n"
   ]
  },
  {
   "cell_type": "code",
   "execution_count": 87,
   "metadata": {},
   "outputs": [],
   "source": [
    "#get word sequences and unique words\n",
    "flatten = lambda l: [item for sublist in l for item in sublist]\n",
    "vocab = list(set(flatten(corpus)))"
   ]
  },
  {
   "cell_type": "code",
   "execution_count": 6,
   "metadata": {},
   "outputs": [
    {
     "data": {
      "text/plain": [
       "4272"
      ]
     },
     "execution_count": 6,
     "metadata": {},
     "output_type": "execute_result"
    }
   ],
   "source": [
    "len(vocab)"
   ]
  },
  {
   "cell_type": "code",
   "execution_count": 7,
   "metadata": {},
   "outputs": [
    {
     "name": "stdout",
     "output_type": "stream",
     "text": [
      "{'concerned': 0, 'hoped': 1, 'private-school': 2, 'huffman': 3, 'left': 4, 'probably': 5, 'hurdle': 6, 'example': 7, 'tripping': 8, 'banks': 9, 'repaired': 10, 'optimistic': 11, 'siding': 12, 'cox': 13, 'cruelty': 14, '12,000': 15, 'financed': 16, 'indemnity': 17, 'supt.': 18, 'county': 19, 'exclusive': 20, 'under': 21, 'engaged': 22, 're-enactment': 23, 'temporarily': 24, 'size': 25, 'color': 26, 'ankles': 27, 'nine': 28, 'taking': 29, 'friction': 30, 'saba': 31, 'assisted': 32, '60': 33, 'safety': 34, 'hoover': 35, 'rebound': 36, 'representation': 37, 'reconsideration': 38, 'proposals': 39, '100,000': 40, 'highway': 41, 'gainesville': 42, 'steady': 43, 'relieve': 44, 'dispute': 45, 'college': 46, 'southeast': 47, 'bexar': 48, 'clean': 49, 'retained': 50, 'death': 51, 'forestry': 52, 'clarification': 53, 'everyone': 54, 'maplecrest': 55, 'couve': 56, 'assigned': 57, 'disproportionate': 58, 'trusting': 59, 'parsons': 60, 'considerably': 61, 'fifteen': 62, '100': 63, 'el': 64, 'jesting': 65, 'famous': 66, 'own': 67, 'funds': 68, 'thinks': 69, 'modifications': 70, 'amending': 71, '$1,000,000,000': 72, 'effect': 73, 'disable': 74, 'keeps': 75, 'rank': 76, 'terminate': 77, 'approval': 78, 'happen': 79, 'being': 80, 'report': 81, 'valuable': 82, 'latest': 83, 'reports': 84, 'strange': 85, 'aided': 86, 'w.m.': 87, 'campaign': 88, 'national': 89, 'satisfied': 90, 'outmoded': 91, 'haltingly': 92, 'startled': 93, 'penalty': 94, 'doubling': 95, 'reading': 96, 'bond': 97, 'prepayment': 98, 'follow': 99, \"rayburn's\": 100, 'explained': 101, 'congressmen': 102, 'jesus': 103, 'possibility': 104, 'ethical': 105, 'watered': 106, 'premier': 107, 'meet': 108, 'east': 109, 'leave': 110, 'partner': 111, 'accept': 112, 'anyway': 113, 'automatically': 114, 'truck': 115, 'credited': 116, 'governmental': 117, 'municipalities': 118, 'testament': 119, 'donations': 120, 'he': 121, 'mainly': 122, 'assistant': 123, 'moderate-income': 124, 'firemen': 125, 'repair': 126, 'tims': 127, 'announced': 128, 'reprimanded': 129, 'construction': 130, 'intelligent': 131, 'arkansas': 132, 'project': 133, 'agenda': 134, 'crump': 135, 'salem': 136, 'older': 137, 'basic': 138, 'relatively': 139, 'outlets': 140, 'then': 141, 'led': 142, 'wagner': 143, 'alternative': 144, 'profound': 145, 'stood': 146, 'unity': 147, 'harry': 148, 'organize': 149, 'p.': 150, 'r.': 151, 'repay': 152, '7.5': 153, 'springboard': 154, 'most': 155, '10': 156, 'revive': 157, 'notion': 158, 'churchmen': 159, 'if': 160, 'conservative': 161, 'conservatives': 162, 'distasteful': 163, 'emerald': 164, 'clubs': 165, 'agitating': 166, 'alan': 167, 'pleaded': 168, 'court': 169, 'air': 170, 'souphanouvong': 171, 'william': 172, 'issuance': 173, 'attracted': 174, 'clouded': 175, 'knocked': 176, 'discredit': 177, 'courageous': 178, 'house-cleaning': 179, 'joblessness': 180, '1920s': 181, 'highly': 182, 'purchase': 183, 'defeated': 184, '520-acre': 185, 'employes': 186, 'test': 187, 'course': 188, 'placing': 189, 'recognized': 190, 'december': 191, 'empire': 192, 'marked': 193, 'organization': 194, 'programs': 195, 'orleans': 196, 'description': 197, 'form': 198, 'complained': 199, 'expenses': 200, 'rural': 201, 'two-thirds': 202, 'colonialist': 203, 'fire-fighting': 204, 'raymondville': 205, \"portland's\": 206, 'talks': 207, 'reasonable': 208, 'decrease': 209, 'squeeze': 210, 'wesley': 211, 'parents': 212, 'interim': 213, 'off': 214, 'accepting': 215, 'waters': 216, '114': 217, 'more': 218, 'decision': 219, 'pay': 220, 'scholastics': 221, 'same': 222, 'helm': 223, 'five-year': 224, '$22.50': 225, 'beach': 226, 'found': 227, 'costs': 228, 'tax': 229, 'put': 230, 'victim': 231, 'ruled': 232, \"years'\": 233, \"lowe's\": 234, 'sharply': 235, 'let': 236, 'curious': 237, 'samuel': 238, 'directions': 239, 'bids': 240, 'construed': 241, 'himself': 242, 'section': 243, 'method': 244, 'malcolm': 245, 'impossibly': 246, 'integration': 247, 'nam': 248, 'explain': 249, 'eight-year': 250, 'communist': 251, 'july': 252, 'bites': 253, 'breakthrough': 254, 'prospect': 255, 'relative': 256, 'canal': 257, 'effort': 258, 'those': 259, 'customary': 260, 'efforts': 261, 'plainfield': 262, 'dormitories': 263, 'tangible': 264, 'begins': 265, 'him': 266, 'coming': 267, 'legislature': 268, 'explosion': 269, '5000': 270, 'commitments': 271, 'consolidated': 272, 'solemnly': 273, 'industries': 274, '$50': 275, 'man': 276, 'freeze': 277, 'role': 278, 'been': 279, 'premium': 280, 'helped': 281, 'wanted': 282, \"another's\": 283, 'schools': 284, 'sense': 285, 'non-partisan': 286, 'boonton': 287, 'bronx': 288, 'indorsed': 289, 'sought': 290, 'aspects': 291, 'piersee': 292, 'goodis': 293, 'gubernatorial': 294, 'laboratory': 295, 'border': 296, 'reasons': 297, 'western': 298, 'slowed': 299, 'overhauling': 300, '169': 301, 'issues': 302, 'drafts': 303, 'april': 304, 'sheet': 305, 'information': 306, 'sen.': 307, 'd.': 308, 'present': 309, 'conventional': 310, 'abe': 311, '$300,000,000': 312, 'welcomed': 313, 'square': 314, '1,119': 315, 'speak': 316, 'cash': 317, 'somebody': 318, 'petition': 319, 'overcrowding': 320, 'copy': 321, 'transit': 322, 'knecht': 323, 'issue': 324, 'builders': 325, 'massachusetts': 326, 'solution': 327, '50': 328, 'convey': 329, 'lost': 330, 'years': 331, 'neighbors': 332, 'increases': 333, 'qualified': 334, 'authoritative': 335, 'income': 336, 'lt.': 337, \"city's\": 338, 'souvanna': 339, 'taxes': 340, 'determination': 341, 'land': 342, 'full': 343, 'capacity': 344, 'client': 345, 'plains': 346, 'counseling': 347, '300,000': 348, 'face': 349, 'nightmare': 350, 'tentative': 351, 'blaine': 352, '1920': 353, 'dec.': 354, 'jan.': 355, 'beyond': 356, 'illness': 357, 'narragansett': 358, 'conciliatory': 359, 'orderly': 360, 'policeman': 361, 'draft': 362, 'efficiency': 363, 'underwrite': 364, 'negative': 365, 'corporations': 366, 'successor': 367, 'kingdom': 368, 'landscaped': 369, 'manager': 370, 'rooms': 371, 'reported': 372, 'truth': 373, 'penalized': 374, 'adding': 375, 'staff': 376, 'weaver': 377, 'dissent': 378, \"mississippi's\": 379, 'soule': 380, 'crossroads': 381, 'went': 382, 'east-west': 383, 'washington-oregon': 384, 'extra': 385, 'allowed': 386, 'torn': 387, 'vehicles': 388, 'attachment': 389, 'ritiuality': 390, 'communities': 391, 'summerdale': 392, 'recovery': 393, 'services': 394, 'operates': 395, 'legislation': 396, 'other': 397, 'offered': 398, 'race': 399, 'r-bergen': 400, 'edwin': 401, 'out': 402, 'larceny': 403, 'countries': 404, 'rapidly': 405, 'unlikely': 406, 'industrial': 407, \"union's\": 408, 'contention': 409, 'cope': 410, 'montgomery': 411, '16': 412, 'blueprints': 413, 'ex-gambler': 414, 'stage': 415, 'learn': 416, 'promised': 417, 'subpenas': 418, 'few': 419, 'commission': 420, 'experts': 421, 'charter': 422, 'individual': 423, 'cod': 424, 'ever': 425, 'presidential': 426, 'did': 427, 'troubles': 428, 'hospitals': 429, 'alliance': 430, '.': 431, 'fractures': 432, 'so': 433, \"canada's\": 434, 'companies': 435, 'worker': 436, 'escheat': 437, 'aggression': 438, '$200,000': 439, 'officials': 440, 'railroad': 441, '15': 442, 'american': 443, 'housing': 444, 'within': 445, 'advice': 446, 'pathet': 447, 'revisions': 448, 'balking': 449, 'referendum': 450, 'minutes': 451, 'script': 452, 'churches': 453, 'teaches': 454, 'retailers': 455, 'visiting': 456, 'available': 457, 'question': 458, 'likely': 459, 'pace': 460, 'prosecutor': 461, 'headline': 462, 'crowd': 463, 'colleges': 464, 'we': 465, 'hazards': 466, 'deeper': 467, 'al': 468, 'granted': 469, 'passed': 470, 'mass.': 471, 'maximum': 472, 'develop': 473, 'population': 474, 'royal': 475, 'road': 476, 'sandman': 477, 'mayoral': 478, 'appeared': 479, 'theodore': 480, 'work': 481, 'explanation': 482, 'validated': 483, 'boun': 484, 'generally': 485, 'eliminate': 486, 'fulbright': 487, 'discussion': 488, \"members'\": 489, 'calendar': 490, 'illegal': 491, \"'\": 492, 'consonance': 493, 'claims': 494, 'track': 495, 'subjected': 496, 'reserve': 497, 'rigging': 498, 'greeted': 499, 'nevertheless': 500, 'favor': 501, 'newly': 502, 'strongly': 503, 'usually': 504, '750': 505, 'independent': 506, 'upon': 507, 'politicos': 508, 'fear': 509, 'level': 510, 'apparently': 511, 'extended': 512, 'fail': 513, 'president': 514, 'long': 515, 'incorporated': 516, 'wide': 517, 'designated': 518, 'master': 519, 'mac': 520, 'directly': 521, 'congressional': 522, 'emergency': 523, 'candidate': 524, 'njust': 525, '1942': 526, 'plunder': 527, 'observers': 528, 'undue': 529, 'nurse': 530, 'either': 531, 'circulation': 532, 'sagging': 533, 'variety': 534, 'clinic': 535, 'wider': 536, 'iron': 537, 'taken': 538, 'daily': 539, 'advised': 540, 'pirie': 541, 'brady': 542, 'designed': 543, 'earlier': 544, 'brokers': 545, 'fires': 546, 'economy': 547, 'learning': 548, 'abatuno': 549, 'oppose': 550, 'heavy': 551, 'jockeying': 552, 'involving': 553, 'complementary': 554, \"town's\": 555, 'stake': 556, 'academies': 557, 'aid-to-education': 558, 'origin': 559, 'emphasizes': 560, 'draw': 561, 'speed': 562, \"russia's\": 563, 'irish': 564, 'understood': 565, 'innocence': 566, 'suited': 567, '$6,100,000,000': 568, 'speaking': 569, 'statewide': 570, 'absent': 571, 'declared': 572, 'program': 573, 'hardly': 574, 'doxiadis': 575, 'administrators': 576, 'management': 577, 'development': 578, 'immediate': 579, 'stays': 580, 'conspicuous': 581, 'free-for-all': 582, 'use': 583, 'address': 584, 'identical': 585, 'true': 586, 'terms': 587, 'constructive': 588, 'ivory': 589, 'succeed': 590, 'pretenses': 591, 'expect': 592, 'quest': 593, 'scandals': 594, 'peanut': 595, 'utilities': 596, 'formby': 597, 'behalf': 598, 'regents': 599, 'remarks': 600, 'establishment': 601, 'means': 602, 'chemistry': 603, 'placed': 604, 'graduate': 605, 'very': 606, 'immigrant': 607, 'estimated': 608, 'main': 609, 'determined': 610, 'ceremonies': 611, 'past': 612, 'sufficient': 613, 'started': 614, 'series': 615, 'defense': 616, '677': 617, 'stolen': 618, 'little': 619, 'planned': 620, 'plainview': 621, 'hearings': 622, 'lee': 623, 'together': 624, 'socialized': 625, 'far': 626, 'concentrate': 627, 'prosecution': 628, 'pressure': 629, 'bible': 630, 'decries': 631, 'attacks': 632, 'already': 633, 'but': 634, 'week-end': 635, 'federation': 636, '$37,500': 637, 'hugh': 638, 'surrounded': 639, 'testifies': 640, 'huge': 641, 'angeles': 642, 'neutralized': 643, 'karns': 644, '$500': 645, 'memorial': 646, 'all-out': 647, 'necessary': 648, 'north': 649, 'looking': 650, 'obligations': 651, 'insurgent': 652, 'hopes': 653, 'disapprove': 654, 'thing': 655, 'failed': 656, 'witnessed': 657, 'objected': 658, 'doctor': 659, 'shirking': 660, '58th': 661, 'fourteen-nation': 662, 'khrushchev': 663, 'locate': 664, 'improve': 665, 'babies': 666, 'hopper': 667, 'providing': 668, 'toward': 669, 'issued': 670, 'hyannis': 671, 'grand': 672, 'enter': 673, 'vice': 674, 'ground': 675, 'tract': 676, 'part-time': 677, 'march': 678, 'seen': 679, 'still': 680, 'dorsey': 681, 'matter': 682, 'native': 683, 'remainder': 684, 'want': 685, 'gift': 686, 'cent': 687, 'causes': 688, 'roosevelt': 689, 'were': 690, '$4': 691, 'virgil': 692, 'errors': 693, 'rep.': 694, 'doubled': 695, 'token': 696, 'enlarge': 697, 'underground': 698, 'weatherford': 699, 'dean': 700, 'cease-fire': 701, 'costly': 702, 'bellwood': 703, 'spectators': 704, 'married': 705, 'existing': 706, 'manufacturers': 707, 'tom': 708, 'product': 709, 'municipal': 710, 'gay': 711, 'bill': 712, 'outpatient': 713, 'vice-president': 714, 'stark': 715, 'provide': 716, 'overthrow': 717, 'nov.': 718, 'white': 719, 'telephone': 720, 'who': 721, 'willing': 722, 'influences': 723, 'calmest': 724, 'asking': 725, 'tell': 726, 'vehicle': 727, 'slogans': 728, 'dwight': 729, 'argued': 730, 'purpose': 731, 'until': 732, 'posts': 733, 'boyce': 734, '42': 735, 'plus': 736, 'critic': 737, 'con': 738, 'barber': 739, 'delegates': 740, 'public': 741, '1958': 742, 'ptc': 743, 'audience': 744, 'here': 745, 'conclusion': 746, '$20': 747, 'kika': 748, 'requirement': 749, 'mrs.': 750, 'intervention': 751, 'sharkey': 752, 'elevated': 753, 'factory': 754, 'panel': 755, 'understanding': 756, 'leonard': 757, 'conduct': 758, 'frame': 759, 'leadership': 760, 'european': 761, 'howard': 762, 'laos': 763, 'least': 764, '24th': 765, 'reduced': 766, 'alternatives': 767, 'handful': 768, 'base': 769, 'gross': 770, 'sherman': 771, 'depends': 772, '$115,000': 773, 'observing': 774, 'growth': 775, 'persons': 776, 'proportionate': 777, 'farms': 778, 'initial': 779, 'limit': 780, 'attended': 781, 'supermarkets': 782, 'labor-management': 783, 'coordinating': 784, '2d': 785, 'representations': 786, 'retirements': 787, 'an': 788, 'deny': 789, 'raymond': 790, 'proper': 791, 'sees': 792, 'force': 793, 'mining': 794, 'rooming': 795, 'greenfield': 796, '&': 797, 'managers': 798, 'assist': 799, 'lives': 800, \"fall's\": 801, '150,000,000': 802, 'range': 803, 'assertion': 804, 'commercial': 805, 'knauer': 806, 'notarized': 807, 'san': 808, 'inflate': 809, 'rise': 810, 'ahead': 811, 'weeks': 812, 'neutralists': 813, 'eugene': 814, 'transportation': 815, 'beaming': 816, 'scientist': 817, 'noticeable': 818, 'shipped': 819, 'ward': 820, 'thousands': 821, 'verbally': 822, 'v.': 823, 'admitted': 824, 'sanantonio': 825, 'end': 826, 're-set': 827, 'half': 828, 'guards': 829, 'responsibility': 830, 'constituted': 831, 'abuse': 832, 'toolmaker': 833, 'elaborate': 834, 'reservoirs': 835, 'requirements': 836, \"case's\": 837, 'both': 838, 'piracy': 839, 'way': 840, 'trade': 841, 'norm': 842, 'jurors': 843, \"states'\": 844, 'desire': 845, 'rival': 846, 'effectively': 847, 'a.': 848, 'greatest': 849, 'julian': 850, 'honest': 851, 'continental': 852, 'reelection': 853, 'port': 854, '31st': 855, 'protests': 856, 'century': 857, 'disposal': 858, 'cooperating': 859, 'rejection': 860, 'odds': 861, 'administrator': 862, 'direct': 863, 'protected': 864, 'compensation': 865, 'stepping': 866, 'ride': 867, 'ignored': 868, 'shouting': 869, 'strength': 870, '18': 871, 'serious': 872, 'scheduled': 873, \"authority's\": 874, '75': 875, 'resolve': 876, 'teacher': 877, 'old': 878, 'hundred': 879, \"yesterday's\": 880, 'rouge': 881, 'apartments': 882, 'belief': 883, 'win': 884, 'decided': 885, 'encouragement': 886, 'recommends': 887, 'contact': 888, 'interview': 889, 'republicans': 890, '6.5': 891, 'merchandise': 892, 'contested': 893, 'doctors': 894, 'disagreement': 895, 'juvenile': 896, 'setbacks': 897, 'overly': 898, 'conference': 899, 'seemed': 900, 'fair': 901, 'surprises': 902, 'big': 903, 'division': 904, 'bounded': 905, 'cordial': 906, 'fewer': 907, '1960': 908, 'acknowledge': 909, 'simplest': 910, 'possible': 911, 'committee': 912, 'johnston': 913, 's.': 914, 'site': 915, 'suggestion': 916, 'inhabitants': 917, 'call': 918, \"gerosa's\": 919, 'midnight': 920, 'halleck': 921, 'sheeran': 922, 'prevention': 923, 'clifford': 924, '182': 925, 'operated': 926, 'closeness': 927, 'met': 928, 'charles': 929, 'developed': 930, 'calls': 931, 'twenty': 932, 'harriman': 933, 'correctness': 934, 'bleacher-type': 935, 'why': 936, 'treated': 937, 'filed': 938, 'inspections': 939, 'god': 940, 'changed': 941, 'build-up': 942, 'teamsters': 943, 'victories': 944, 'cedvet': 945, 'griffin': 946, 'what': 947, 'thomas': 948, 'knowing': 949, 'chief': 950, 'centralized': 951, 'precipitated': 952, 'cut': 953, 'spokesmen': 954, 'its': 955, '$1,000': 956, 'superior': 957, 'combine': 958, 'cape': 959, 'permitting': 960, 'cd': 961, 'losses': 962, 'steeves': 963, 'there': 964, 'neil': 965, 'loyalist': 966, 'revolt': 967, 'stennis': 968, 'consultation': 969, 'political': 970, 'miracles': 971, 'franker': 972, 'upwards': 973, 'nationalism': 974, 'desmond': 975, 'jackson': 976, 'controversial': 977, 'prison': 978, 'should': 979, 'general': 980, 'retire': 981, 'pfaff': 982, 'divorce': 983, 'adopt': 984, 'guard': 985, 'mathematics': 986, 'order': 987, 'insurance': 988, 'resources': 989, 'reference': 990, 'flying': 991, '47': 992, 'jones': 993, 'sargent': 994, 'tex.': 995, 'contingency': 996, 'able': 997, 'hope': 998, 'hastened': 999, 'signers': 1000, 'appoint': 1001, 'adminstration': 1002, 'aside': 1003, 'depositors': 1004, 'pledge': 1005, 'conserve': 1006, 'dollar': 1007, 'others': 1008, 'released': 1009, 'center': 1010, 'matters': 1011, 'privately': 1012, 'families': 1013, \"doesn't\": 1014, 'oct.': 1015, 'bid': 1016, 'external': 1017, 'altho': 1018, 'couple': 1019, 'hatfield': 1020, 'aug.': 1021, 'recommended': 1022, 'hospital-care': 1023, 'pointing': 1024, 'speakers': 1025, 'printed': 1026, 'unless': 1027, 'agriculture': 1028, 'begin': 1029, 'gesture': 1030, 'congress': 1031, 'sharp': 1032, 'itself': 1033, \"commissioner's\": 1034, \"body's\": 1035, '$5,000,000': 1036, 'accounts': 1037, 'wind': 1038, 'stopped': 1039, 'occupying': 1040, 'was': 1041, 'bargaining': 1042, 'police': 1043, 'family': 1044, 'politics': 1045, 'final': 1046, 'session': 1047, 'son': 1048, 'deeply': 1049, 'obtained': 1050, 'tardiness': 1051, 'danger': 1052, 's.p.c.a.': 1053, 'association': 1054, 'research': 1055, 'twelve': 1056, '4911': 1057, 'could': 1058, '$457,000': 1059, 'rico': 1060, 'covered': 1061, 'effected': 1062, 'weakness': 1063, 'trends': 1064, 'statutes': 1065, 'often': 1066, 'reconvenes': 1067, 'disclosures': 1068, 'rescind': 1069, 'senior': 1070, 'lacking': 1071, 'special-interest': 1072, 'twice': 1073, 'notice': 1074, 'drain': 1075, 'parade': 1076, '6-3-3': 1077, 'current': 1078, 'authorizing': 1079, 'deserves': 1080, 'case': 1081, 'tenor': 1082, 'appears': 1083, 'hundreds': 1084, 'another': 1085, 'agencies': 1086, 'members': 1087, 'chain': 1088, 'dewey': 1089, 'vitality': 1090, \"caldwell's\": 1091, 'equal': 1092, 'simultaneously': 1093, 'portions': 1094, 'composed': 1095, 'districts': 1096, 'sets': 1097, 'working': 1098, 'something': 1099, 'technology': 1100, 'prop': 1101, 'low': 1102, 'residential': 1103, 'soldiers': 1104, 'admission': 1105, 'since': 1106, '1937': 1107, 'acre': 1108, 'avoided': 1109, 'tremendous': 1110, 'clearing': 1111, 'hooked': 1112, 'monthly': 1113, 'expert': 1114, 'wisdom': 1115, 'starting': 1116, 'feis': 1117, 'forswears': 1118, 'payment': 1119, 'no': 1120, 'absorb': 1121, 'because': 1122, 'houses': 1123, 'repealed': 1124, 'need': 1125, 'grooming': 1126, 'petitions': 1127, 'insult': 1128, 'territories': 1129, 'opening': 1130, 'tougher': 1131, 'hotel': 1132, 'appointments': 1133, 'yearly': 1134, 'prelude': 1135, 'capitol': 1136, 'books': 1137, 'contractor': 1138, '$15,000': 1139, 'purchasing': 1140, 'georgia': 1141, 'gallup': 1142, 'examined': 1143, \"saturday's\": 1144, 'multiply': 1145, 'servants': 1146, 'mediocre': 1147, 'circumstances': 1148, 'projects': 1149, 'signature': 1150, 'adjournment': 1151, 'elected': 1152, '$4,800': 1153, 'june': 1154, 'taxi': 1155, 'letterman': 1156, 'perform': 1157, 'largest': 1158, 'covering': 1159, '$2400': 1160, 'temple': 1161, 'sites': 1162, 'gulf': 1163, 'urban': 1164, 'themselves': 1165, '21': 1166, 'applause': 1167, 'asks': 1168, 'eminent': 1169, 'acquire': 1170, 'roberts': 1171, 'ranks': 1172, 'sort': 1173, 'donald': 1174, 'fundamentally': 1175, \"controller's\": 1176, 'joints': 1177, \"i'm\": 1178, 'steered': 1179, 'springfield': 1180, 'handled': 1181, 'wife': 1182, 'examine': 1183, 'town': 1184, 'accomodations': 1185, 'witnessing': 1186, 'legislator': 1187, 'currently': 1188, '95': 1189, 'ago': 1190, 'shrugged': 1191, 'might': 1192, 'supervisor': 1193, 'rights': 1194, 'definite': 1195, 'choose': 1196, 'anticipated': 1197, 'earned': 1198, 'unanimously': 1199, 'discussions': 1200, 'estate': 1201, 'attempt': 1202, 'credits': 1203, 'cooperate': 1204, 'ledford': 1205, 'fiscal': 1206, 'junior-senior': 1207, 'unspecified': 1208, 'throw': 1209, 'government': 1210, 'texan': 1211, 'carson': 1212, 'ratified': 1213, 'reorganization': 1214, 'great': 1215, 'war': 1216, 'tried': 1217, 'acres': 1218, 'writes': 1219, '400,000,000': 1220, 'harmony': 1221, 'history': 1222, 'molvar': 1223, 'attack': 1224, 'absolutely': 1225, 'dinner': 1226, 'wrong': 1227, 'admitting': 1228, 'contracts': 1229, 'offense': 1230, 'representing': 1231, 'buckley': 1232, 'encourage': 1233, 'visitor': 1234, 'females': 1235, 'desperate': 1236, 'faster': 1237, 'technicians': 1238, 'proposes': 1239, 'summer': 1240, 'indispensable': 1241, 'overwhelmingly': 1242, 'daniel': 1243, 'containing': 1244, 'agreeing': 1245, 'barbara': 1246, 'germany': 1247, 'closer': 1248, 'sp.': 1249, 'kas.': 1250, 'portland': 1251, 'her': 1252, 'bad': 1253, 'normal': 1254, 'ineffectual': 1255, 'difference': 1256, 'stimulatory': 1257, 'fee': 1258, 'resignation': 1259, 'merchandising': 1260, 'relatives': 1261, 'marching': 1262, 'do': 1263, 'professors': 1264, 'desertion': 1265, 'delta': 1266, 'text': 1267, 'mammoth': 1268, 'wording': 1269, 'file': 1270, 'publicly': 1271, 'legal': 1272, 'vandiver': 1273, 'care': 1274, 'run': 1275, 'disappointment': 1276, 'emphasizing': 1277, 'correct': 1278, 'prevent': 1279, 'appearing': 1280, 'welfare': 1281, 'banker': 1282, 'firmly': 1283, 'taunted': 1284, 'preoccupied': 1285, 'salvatore': 1286, 'real': 1287, 'date': 1288, 'pushed': 1289, 'not': 1290, 'option': 1291, 'remove': 1292, 'administrative': 1293, 'kaplan': 1294, '31': 1295, 'operating': 1296, 'heavily': 1297, 'events': 1298, 'graduation': 1299, 'ministers': 1300, 'gradually': 1301, 'widow': 1302, 'life': 1303, 'knew': 1304, '?': 1305, 'priority': 1306, 'encounter': 1307, 'pooling': 1308, '63': 1309, 'everything': 1310, 'name': 1311, 'representative': 1312, 'willamette': 1313, 'confrontations': 1314, 'attention': 1315, '500': 1316, 'latin': 1317, 'cover': 1318, 'barnard': 1319, 'allied': 1320, 'enthusiastic': 1321, 'intervals': 1322, 'meetings': 1323, 'inconsistencies': 1324, 'sent': 1325, 'important': 1326, 'ask': 1327, 'managing': 1328, 'visited': 1329, 'so-called': 1330, 'experimental': 1331, 'resumption': 1332, 'fiasco': 1333, 'avenue': 1334, 'job-seekers': 1335, ';': 1336, 'moscow': 1337, '$600': 1338, 'eliminates': 1339, 'hamlet': 1340, 'popular': 1341, 'finally': 1342, 'delinquency': 1343, '41': 1344, '$3.5': 1345, \"phouma's\": 1346, 'maintenance': 1347, 'vocational': 1348, 'previously': 1349, 'each': 1350, 'praise': 1351, 'opelika': 1352, 'annual': 1353, 'direction': 1354, 'monuments': 1355, 'delay': 1356, 'search': 1357, 'compelled': 1358, 'emphasis': 1359, '$3,500': 1360, 'patient': 1361, 'stands': 1362, 'contributing': 1363, 'awarding': 1364, 'weekend': 1365, 'workers': 1366, \"nation's\": 1367, 'battle': 1368, ':': 1369, 'unlike': 1370, 'loans': 1371, 'responsible': 1372, 'continuous': 1373, 'centralization': 1374, '1946': 1375, \"master's\": 1376, 'hilt': 1377, 'everybody': 1378, 'middle': 1379, 'rejected': 1380, 'felt': 1381, 'discharge': 1382, 'affixed': 1383, 'machines': 1384, 'resentment': 1385, 'methods': 1386, 'males': 1387, 'labor': 1388, 'legislatures': 1389, '3.25': 1390, '9th': 1391, 'handed': 1392, 'picture': 1393, 'systems': 1394, 'surprised': 1395, 'dead': 1396, 'spearhead': 1397, 'intention': 1398, 'per': 1399, '1940s': 1400, 'opponents': 1401, 'loyal': 1402, 'grovers': 1403, 'wexler': 1404, '29th': 1405, 'determining': 1406, 'arose': 1407, 'worked': 1408, 'durwood': 1409, 'item': 1410, 'scott': 1411, 'comment': 1412, 'figure': 1413, 'exact': 1414, 'infallible': 1415, 'essex': 1416, 'early': 1417, 'keynote': 1418, 'thru': 1419, 'congenial': 1420, 'exile': 1421, 'p.m.': 1422, 'over': 1423, 'word': 1424, 'puddingstone': 1425, 'blocked': 1426, 'edith': 1427, 'light': 1428, 'disclosed': 1429, 'majorities': 1430, 'arises': 1431, 'forest': 1432, 'sales': 1433, 'guessing': 1434, '1,000': 1435, 'goldberg': 1436, 'outlays': 1437, 'la.': 1438, 'horace': 1439, 'stocks': 1440, 'every': 1441, 'football': 1442, 'investigate': 1443, 'stop': 1444, 'experience': 1445, 'candor': 1446, 'realization': 1447, 'fine': 1448, 'chairman': 1449, 'women': 1450, 'bush': 1451, 'from': 1452, 'yes': 1453, 'detriment': 1454, \"daniel's\": 1455, 'manslaughter': 1456, 'yesterday': 1457, 'outside': 1458, 'slate': 1459, '1311': 1460, 'pertained': 1461, 'indecisive': 1462, 'core': 1463, 'november': 1464, 'technical': 1465, '$43,000': 1466, 'africa': 1467, 'subpoenas': 1468, 'source': 1469, 'phouma': 1470, 'regrouping': 1471, 'austin': 1472, 'advertising': 1473, 'k.': 1474, 'list': 1475, 'days': 1476, 'including': 1477, \"''\": 1478, 'going': 1479, 'rigged': 1480, 'defenders': 1481, '$15': 1482, 'councilwoman': 1483, 'pedigreed': 1484, 'by-passing': 1485, 'legislative': 1486, 'ore.': 1487, 'ran': 1488, 'colonial': 1489, 'sell': 1490, 'princess': 1491, 'discussed': 1492, 'effectiveness': 1493, 'harvard': 1494, 'public-school': 1495, '1600': 1496, 'contributions': 1497, 'excuses': 1498, 'castro': 1499, 'think': 1500, 'so-far': 1501, 'advance': 1502, 'galveston': 1503, 'controller': 1504, 'lieberman': 1505, 'separation': 1506, 'four-year': 1507, 'widespread': 1508, 'publishing': 1509, 'acts': 1510, 'sure': 1511, 'dentistry': 1512, 'reached': 1513, 'repairs': 1514, 'similar': 1515, 'john': 1516, 'well': 1517, 'sessions': 1518, '!': 1519, 'formative': 1520, 'any': 1521, '1.5': 1522, 'urgency': 1523, 'gop': 1524, 'dwellings': 1525, 'served': 1526, 'immediately': 1527, 'voting': 1528, 'demand': 1529, 'decent': 1530, 'f.': 1531, 'leaned': 1532, 'shrines': 1533, 'situation': 1534, 'men': 1535, 'usual': 1536, 'insure': 1537, 'record': 1538, 'genuine': 1539, 'your': 1540, 'repeatedly': 1541, 'born': 1542, 'foreign': 1543, 'areas': 1544, 'rush': 1545, 'starts': 1546, 'react': 1547, 'misconstrued': 1548, 'mears': 1549, 'send': 1550, 'legislators': 1551, 'red': 1552, 'subcommittee': 1553, 'bomb': 1554, 'holds': 1555, 'trim': 1556, 'fruitful': 1557, 'will': 1558, 'highways': 1559, 'relations': 1560, 'clarence': 1561, 'suffered': 1562, 'hand': 1563, 'shopping': 1564, 'wrote': 1565, 'interlude': 1566, '17': 1567, 'global': 1568, 'position': 1569, 'laotians': 1570, 'combat': 1571, 'such': 1572, 'virgin': 1573, 'revenue': 1574, 'james': 1575, \"boy's\": 1576, 'superintendent': 1577, 'small': 1578, 'cars': 1579, 'park': 1580, 'copeland': 1581, 'billion': 1582, 'merit': 1583, 'touch': 1584, 'tonight': 1585, 'tarrant': 1586, 'forum': 1587, 'queens': 1588, 'aroused': 1589, 'freeholder': 1590, 'unemployment': 1591, '5.1': 1592, 'fortier': 1593, 'beginning': 1594, 'arrests': 1595, 'morning': 1596, 'conflict': 1597, 'measure': 1598, 'payroll': 1599, 'purposes': 1600, 'deal': 1601, 'estimates': 1602, 'world': 1603, 'suit': 1604, 'hire': 1605, 'princes': 1606, 'candidates': 1607, 'constitutional': 1608, 'elements': 1609, 'movement': 1610, 'savannah': 1611, 'appropriation': 1612, 'coping': 1613, 'loyalists': 1614, 'languages': 1615, 'plan': 1616, 'animated': 1617, 'remains': 1618, 'spirit': 1619, 'arthur': 1620, 'fundamentalism': 1621, 'oregon': 1622, 'key': 1623, \"secretary's\": 1624, 'filing': 1625, 'severely': 1626, 'specific': 1627, 'gaining': 1628, 'reviewing': 1629, 'elementary': 1630, 'passing': 1631, 'respected': 1632, 'resigned': 1633, 'senator': 1634, 'west': 1635, 'mind': 1636, 'atlantic': 1637, 'diplomats': 1638, 'recommendation': 1639, 'luncheon': 1640, '1921': 1641, \"denomination's\": 1642, 'novel': 1643, 'unmeritorious': 1644, 'composition': 1645, 'minor': 1646, 'springs': 1647, 'unpredictability': 1648, 'gave': 1649, 'medical': 1650, \"organization's\": 1651, 'menderes': 1652, 'regarding': 1653, 'ticket': 1654, 'corp.': 1655, '$67,000': 1656, 'confessing': 1657, 'sponsor': 1658, '125,000': 1659, '13': 1660, 'all-woman': 1661, 'over-all': 1662, '$1': 1663, 'nations': 1664, '$60': 1665, '1-1/2': 1666, 'reduction': 1667, 'separate': 1668, 'approach': 1669, 'setting': 1670, 'six': 1671, 'back': 1672, 'st.': 1673, 'fines': 1674, 'islands': 1675, 'house': 1676, '$172,000': 1677, 'feet': 1678, 'wednesday': 1679, 'obtain': 1680, 'inn': 1681, 'succeeded': 1682, 'specifications': 1683, 'allocated': 1684, '14.2': 1685, 'henry': 1686, 'h.': 1687, 'pedestrian': 1688, 'dependency': 1689, 'across': 1690, 'university': 1691, 'preliminary': 1692, 'consecutive': 1693, 'live': 1694, \"children's\": 1695, 'pro-communist': 1696, 'ill.': 1697, 'parks': 1698, 'received': 1699, 'traveled': 1700, 'close': 1701, 'demands': 1702, 'r-cape': 1703, 'signs': 1704, 'sensitive': 1705, 'redistricting': 1706, 'assumed': 1707, 'expanded': 1708, 'boos': 1709, 'involved': 1710, 'receiving': 1711, '150': 1712, 'laws': 1713, 'advisement': 1714, 'squeezed': 1715, 'george': 1716, 'leary': 1717, 'requests': 1718, 'saving': 1719, 'pronounced': 1720, 'bankrupt': 1721, 'organized': 1722, 'oklahoma': 1723, 'detroit': 1724, 'formula': 1725, 'canvassers': 1726, 'connection': 1727, 'terry': 1728, 'administration': 1729, 'scholarship': 1730, 'hands': 1731, 'believes': 1732, 'object': 1733, 'withstand': 1734, '17,000': 1735, 'pipeline': 1736, 'reader': 1737, 'temporary': 1738, 'sheraton-biltmore': 1739, 'publicized': 1740, 'action': 1741, 'feeling': 1742, 'absolute': 1743, 'father': 1744, 'enacted': 1745, 'facilities': 1746, 'berry': 1747, 'apart': 1748, 'worry': 1749, 'church-state': 1750, 'vacancy': 1751, 'deficit': 1752, 'consider': 1753, 'opened': 1754, 'when': 1755, 'morris': 1756, 'percent': 1757, '61st': 1758, 'presented': 1759, 'replaced': 1760, 'shiflett': 1761, 'strictly': 1762, 'jimmie': 1763, 'average': 1764, 'forming': 1765, 'rather': 1766, 'burden': 1767, 'different': 1768, 'easy': 1769, 'christ': 1770, 'notte': 1771, '$5': 1772, 'adnan': 1773, 'seven-stories': 1774, 'event': 1775, 'yet': 1776, 'hughes': 1777, 'atlanta': 1778, 'sue': 1779, 'worth': 1780, 'beaumont': 1781, 'hastily': 1782, 'law': 1783, 'keep': 1784, 'small-town': 1785, 'profit': 1786, 'bordering': 1787, 'erred': 1788, '$12': 1789, 'calling': 1790, 'miscellaneous': 1791, 'task': 1792, 'surveyed': 1793, 'majority': 1794, 'get': 1795, '7,000': 1796, 'contend': 1797, 'infiltrating': 1798, 'blunders': 1799, 'subsistence': 1800, 'allegations': 1801, 'allowing': 1802, 'that': 1803, 'executive': 1804, 'andrew': 1805, 'honeymoon': 1806, 'rule': 1807, 'which': 1808, 'lines': 1809, 'favoring': 1810, 'insist': 1811, 'training': 1812, 'divided': 1813, 'campaigning': 1814, 'related': 1815, 'caldwell': 1816, 'like': 1817, 'alpharetta': 1818, 'statements': 1819, 'grocery': 1820, 'crumlish': 1821, 'walkways': 1822, 'essential': 1823, \"court's\": 1824, 'coliseum': 1825, 'gladden': 1826, 'licensing': 1827, 'shall': 1828, 'fits': 1829, 'pockets': 1830, 'looked': 1831, 'violence': 1832, 'stripped': 1833, 'surveillance': 1834, 'sectors': 1835, 'corporation': 1836, 'hard': 1837, 'replied': 1838, 'goes': 1839, 'shown': 1840, 'stressed': 1841, 'manhattan': 1842, 'enforce': 1843, 'resolution': 1844, 'oak': 1845, 'clears': 1846, 'answer': 1847, 'sanitary': 1848, 'spend': 1849, 'running': 1850, '$344,000': 1851, 'contracted': 1852, 'semipublic': 1853, 'evacuate': 1854, 'entirely': 1855, '25': 1856, 'unnoticed': 1857, 'official': 1858, 'emotionally': 1859, 'tractor': 1860, \"taxpayers'\": 1861, '92': 1862, 'rotary': 1863, 'requesting': 1864, 'w.': 1865, 'newark': 1866, 'semester': 1867, 'day': 1868, 'gursel': 1869, 'michigan': 1870, 'petty': 1871, 'ready': 1872, 'open': 1873, 'whose': 1874, '$37': 1875, 'month': 1876, 'animal': 1877, 'norway': 1878, '$740,000': 1879, 'green': 1880, 'performance': 1881, 'uncertain': 1882, 'warned': 1883, 'debate': 1884, 'shops': 1885, 'opposition': 1886, 'consultations': 1887, 'woodland': 1888, 'grants': 1889, 'fees': 1890, 'anti-organization': 1891, 'security': 1892, 'mates': 1893, 'standpoint': 1894, 'dog': 1895, 'two-year': 1896, 'have': 1897, 'principals': 1898, 'charged': 1899, 'they': 1900, 'essence': 1901, 'timetable': 1902, 'wreck': 1903, 'away': 1904, 'millions': 1905, 'regarded': 1906, 'testimony': 1907, 'oslo': 1908, 'apparent': 1909, 'followed': 1910, 'finances': 1911, 'described': 1912, 'retiring': 1913, 'named': 1914, '$451,500': 1915, 'modest': 1916, 'mitchell': 1917, 'chorus': 1918, 'sukarno': 1919, 'burke': 1920, 'beating': 1921, 'aj': 1922, 'puts': 1923, 'merger': 1924, 'associate': 1925, '300': 1926, 'towel': 1927, 'gazing': 1928, 'affairs': 1929, 'physics': 1930, 'practices': 1931, 'multiple': 1932, 'freer': 1933, 'reforms': 1934, 'replies': 1935, 'intern': 1936, 'gov.': 1937, 'mission': 1938, 'island': 1939, 'joint': 1940, 'muster': 1941, 'younger': 1942, 'compensated': 1943, 'equally': 1944, 'collects': 1945, 'stand': 1946, 'filled': 1947, 'moves': 1948, 'keeping': 1949, 'play': 1950, 'fulton': 1951, 'originally': 1952, 'using': 1953, 'row': 1954, 'intervenes': 1955, 'corner': 1956, 'now': 1957, 'levy': 1958, 'view': 1959, 'scholastic': 1960, 'obtaining': 1961, 'athletic': 1962, 'sold': 1963, 'onrush': 1964, 'fired': 1965, 'league': 1966, 'somewhat': 1967, \"nato's\": 1968, 'belleville': 1969, 'sons': 1970, 'chapman': 1971, 'tea': 1972, \"wouldn't\": 1973, 'block': 1974, 'rayburn': 1975, 'carcass': 1976, 'has': 1977, 'plans': 1978, 'zurich': 1979, 'questioning': 1980, 'deductible': 1981, 'hot': 1982, 'detach': 1983, 'automobile': 1984, 'mutual': 1985, 'praised': 1986, '1925': 1987, 'constantly': 1988, 'circuit': 1989, 'criminal': 1990, 'weldon': 1991, 'favorable': 1992, 'new': 1993, 'among': 1994, '70': 1995, \"ordinary's\": 1996, 'removal': 1997, 'protested': 1998, 'varani': 1999, 'cambridge': 2000, 'expansive': 2001, 'affected': 2002, 'as': 2003, 'brod': 2004, 'correspondent': 2005, 'viewpoint': 2006, 'six-point': 2007, 'illegitimacy': 2008, 'steamed': 2009, 'persuade': 2010, 'seems': 2011, 'outcome': 2012, 'peace-loving': 2013, 'bank': 2014, 'establishing': 2015, 'mississippi': 2016, 'misuse': 2017, '20': 2018, 'boston': 2019, 'jobs': 2020, 'cheshire': 2021, 'roos': 2022, 'structure': 2023, 'ierulli': 2024, 'reduce': 2025, '2': 2026, 'episode': 2027, 'parimutuels': 2028, 'taxpayers': 2029, \"kennedy's\": 2030, 'ad': 2031, 'gives': 2032, 'pleads': 2033, \"georgia's\": 2034, 'showing': 2035, 'contracting': 2036, 'continuance': 2037, \"you're\": 2038, 'levitt': 2039, \"d'etat\": 2040, 'cuba': 2041, 'shriver': 2042, 'unanimous': 2043, 'liquor': 2044, 'confusion': 2045, 'believing': 2046, 'played': 2047, 'coordination': 2048, 'inspection': 2049, 'points': 2050, 'dependence': 2051, 'super': 2052, 'absorbed': 2053, 'waged': 2054, '4:30': 2055, 'transferred': 2056, 'nominating': 2057, 'hearing': 2058, 'irregularities': 2059, 'followers': 2060, 'employed': 2061, 'game': 2062, 'cost': 2063, 'distribute': 2064, 'reply': 2065, 'vital': 2066, 'make': 2067, 'macdonald': 2068, 'sw': 2069, 'pending': 2070, 'responding': 2071, 'economist': 2072, 'good': 2073, 'proud': 2074, 'almost': 2075, 'primary': 2076, 'turned': 2077, 'district': 2078, 'explosive': 2079, 'student': 2080, \"france's\": 2081, 'jersey': 2082, 'used': 2083, 'judgment': 2084, 'drop': 2085, 'mayor': 2086, 'handle': 2087, \"berger's\": 2088, 'introduced': 2089, 'grasp': 2090, 'whipple': 2091, 'room': 2092, 'fill': 2093, 'employment': 2094, 'rough': 2095, 'length': 2096, 'dicks': 2097, 'salter': 2098, 'agreement': 2099, 'imposed': 2100, 'interesting': 2101, 'kept': 2102, 'change': 2103, 'legitimate': 2104, 'weary': 2105, 'meyner': 2106, 'to': 2107, '18th': 2108, 'you': 2109, 'attraction': 2110, 'visit': 2111, 'insisted': 2112, 'instructor': 2113, 'threatening': 2114, 'bearing': 2115, 'loses': 2116, 'spring': 2117, 'views': 2118, '--': 2119, 'passenger': 2120, 'negro': 2121, 'utility': 2122, 'walk': 2123, 'proven': 2124, 'loan': 2125, 'rising': 2126, 'attorney': 2127, 'asia': 2128, 'units': 2129, 'slums': 2130, 'a': 2131, 'it': 2132, 'institute': 2133, 'total': 2134, 'appointing': 2135, 'commerce': 2136, 'reiterating': 2137, 'especially': 2138, 'inject': 2139, 'gordon': 2140, 'optimism': 2141, 'ullman': 2142, 'assemblies': 2143, 'fleet': 2144, 'car': 2145, 'editing': 2146, 'dramatic': 2147, '30': 2148, 'elect': 2149, 'contrasting': 2150, 'channels': 2151, '1955': 2152, 'helping': 2153, 'patience': 2154, 'higher': 2155, 'policemen': 2156, 'youth': 2157, 'missionary': 2158, 'objection': 2159, 'agreed': 2160, 'tusks': 2161, 'hesitated': 2162, 'nothing': 2163, 'commented': 2164, 'soviet': 2165, 'substitutionary': 2166, 'mothers': 2167, 'useless': 2168, 'wall': 2169, 'escape': 2170, 'retired': 2171, 'saved': 2172, 'kiwanis': 2173, 'bit': 2174, '$2,000': 2175, \"texas'\": 2176, 'encouraging': 2177, 'contract-negotiation': 2178, 'inquired': 2179, 'neighborhood': 2180, 'noted': 2181, 'politicians': 2182, 'say': 2183, 'bureau': 2184, 'drew': 2185, 'firms': 2186, 'won': 2187, 'undermine': 2188, 'eight': 2189, 'certifying': 2190, 'top': 2191, 'directed': 2192, 'facto': 2193, 'suggested': 2194, 'needs': 2195, 'changing': 2196, 'treasurer': 2197, 'basis': 2198, \"don't\": 2199, 'bench': 2200, 'observer': 2201, '10-year': 2202, 'erection': 2203, 'shortcuts': 2204, 'cannot': 2205, 'rhode': 2206, \"panel's\": 2207, 'courteous': 2208, 'disturbing': 2209, 'co-operative': 2210, 'a.m.': 2211, 'forces': 2212, 'paradise': 2213, 'stab': 2214, 'fund-raising': 2215, 'during': 2216, 'bellows': 2217, 'reviewed': 2218, 'deliver': 2219, 'afford': 2220, 'candidacy': 2221, 'presides': 2222, \"mayor's\": 2223, 'hemphill': 2224, 'arms': 2225, 'where': 2226, 'douglas': 2227, 'personnel': 2228, 'achieve': 2229, '200': 2230, 'rapid': 2231, 'works': 2232, 'poll': 2233, 'reestablish': 2234, 'greeting': 2235, 'critics': 2236, 'five': 2237, 'crisis': 2238, 'moving': 2239, 'conspiracy': 2240, 'urged': 2241, 'courtroom': 2242, 'traffic': 2243, 'ala.': 2244, 'ambitious': 2245, 'studied': 2246, 'trimble': 2247, 'review': 2248, 'officer': 2249, 'techniques': 2250, 'water': 2251, 'grounds': 2252, 'radios': 2253, 'major': 2254, 'paid-for': 2255, 'sentence': 2256, 'conditioned': 2257, 'study': 2258, 'warren': 2259, 'cutting': 2260, 'solicitor': 2261, 'can': 2262, 'soon': 2263, 'horse': 2264, 'none': 2265, 'peoples': 2266, 'halfway': 2267, 'formally': 2268, 'engineering': 2269, 'destroy': 2270, 'd': 2271, 'guam': 2272, 'miles': 2273, 'certain': 2274, 'pearl': 2275, 'prepared': 2276, 'pays': 2277, 'veteran': 2278, 'parkhouse': 2279, 'facing': 2280, 'international': 2281, 'portion': 2282, '330': 2283, 'civil': 2284, 'seat': 2285, 'captain': 2286, 'add': 2287, 'inspired': 2288, 'foster': 2289, 'amounts': 2290, 'gen.': 2291, 'details': 2292, 'spent': 2293, 'absence': 2294, 'mean': 2295, 'discrimination': 2296, 'zone': 2297, 'bowed': 2298, 'vehicular': 2299, 'propose': 2300, 'concluded': 2301, 'ill': 2302, 'fighters': 2303, '$157,460': 2304, 'see': 2305, 'disclosure': 2306, 'expected': 2307, 'quite': 2308, 'even': 2309, 'preserve': 2310, 'welled': 2311, 'davis': 2312, 'tension': 2313, 'universities': 2314, 'budgetary': 2315, 'outspoken': 2316, 'ambiguous': 2317, 'schwartz': 2318, 'seato': 2319, 'basically': 2320, 'exacerbated': 2321, 'about': 2322, 'sign': 2323, '35': 2324, 'cut-off': 2325, 'hike': 2326, 'application': 2327, 'sum': 2328, 'sam': 2329, 'october': 2330, 'freedom': 2331, 'with': 2332, 'extending': 2333, 'comes': 2334, 'recommendations': 2335, 'struggle': 2336, 'groups': 2337, 'violations': 2338, 'does': 2339, 'inc.': 2340, 'kentucky': 2341, 'head': 2342, 'daughter': 2343, 'diem': 2344, 'viewing': 2345, '71': 2346, 'travelers': 2347, 'math': 2348, 'raiser': 2349, 'raise': 2350, 'vantage': 2351, 'endorse': 2352, 'enactment': 2353, 'okla.': 2354, 'headquarters': 2355, 'hess': 2356, 'assent': 2357, 'tnt': 2358, 'trouble': 2359, 'susceptible': 2360, 'americans': 2361, 'alleged': 2362, 'side': 2363, 'sailing': 2364, 'handling': 2365, 'vindication': 2366, 'machinist': 2367, 'sunday': 2368, 'aids': 2369, 'records': 2370, 'congressman': 2371, 'knowledge': 2372, 'city': 2373, 'became': 2374, 'several': 2375, 'returned': 2376, 'professional': 2377, 'give': 2378, ')': 2379, 'doing': 2380, 'appraisers': 2381, 'foes': 2382, 'senators': 2383, 'formed': 2384, 'deadline': 2385, 'armed': 2386, 'offenses': 2387, 'livelihood': 2388, 'mo.': 2389, 'totalitarian': 2390, 'dissents': 2391, '$3': 2392, 'club': 2393, 'acting': 2394, 'y.': 2395, 'gain': 2396, 'join': 2397, 'perhaps': 2398, 'i': 2399, 'interest': 2400, 'ratcliff': 2401, 'accused': 2402, 'extension': 2403, 'cornerstone': 2404, 'defray': 2405, 'hollowell': 2406, 'mostly': 2407, 'exposed': 2408, 'inspiring': 2409, 'settlement': 2410, 'chambers': 2411, 'cook': 2412, 'feel': 2413, 'provided': 2414, 'positive': 2415, 'evacuation': 2416, 'bridges': 2417, 'thruston': 2418, 'phone': 2419, 'pro-western': 2420, 'succession': 2421, 'through': 2422, 'stream': 2423, 'builder': 2424, '4-year': 2425, 'statues': 2426, 'got': 2427, 'times-picayune': 2428, 'landed': 2429, 'dedicated': 2430, 'miller': 2431, 'aged': 2432, 'compete': 2433, 'grady': 2434, 'kill': 2435, 'anyone': 2436, 'explicit': 2437, 'volume': 2438, '$100': 2439, 'prices': 2440, 'by': 2441, 'rates': 2442, '1910': 2443, '1000': 2444, 'emphasize': 2445, 'opinion': 2446, 'gillis': 2447, 'deputy': 2448, 'drifts': 2449, \"eisenhower's\": 2450, 'deterrent': 2451, 'walter': 2452, 'expansion': 2453, 'coup': 2454, 'strategy': 2455, 'lying': 2456, 'lawrence': 2457, 'sinless': 2458, 'confirmed': 2459, 'types': 2460, '4': 2461, 'recipients': 2462, 'presentation': 2463, \"government's\": 2464, 'acceptable': 2465, 'reducing': 2466, 'lamar': 2467, 'came': 2468, 'republican': 2469, 'done': 2470, 'balance': 2471, 'folks': 2472, 'identified': 2473, 'and': 2474, 'matching': 2475, 'peace': 2476, '6': 2477, 'arrest': 2478, 'type': 2479, 'investigations': 2480, 'resent': 2481, 'first': 2482, 'cities': 2483, '81': 2484, 'ceremonial': 2485, 'ridge': 2486, 'plowing': 2487, 'murville': 2488, 'hoodlums': 2489, 'brief': 2490, 'following': 2491, 'apartment': 2492, 'scholarships': 2493, 'tossed': 2494, 'blast': 2495, 'unconstitutional': 2496, 'noes': 2497, 'opinions': 2498, 'extremely': 2499, 'beame': 2500, 'needy': 2501, 'wish': 2502, 'additional': 2503, 'chester': 2504, 'analysis': 2505, 'losing': 2506, 'preferably': 2507, 'sometime': 2508, 'moune': 2509, 'hold': 2510, 'extraordinary': 2511, 'trend': 2512, 'parties': 2513, 'plead': 2514, 'country': 2515, 'credit': 2516, 're-elected': 2517, 'teaching': 2518, 'child': 2519, 'takes': 2520, 'too': 2521, 'c.': 2522, 'lack': 2523, 'assailed': 2524, 'announcement': 2525, 'suffrage': 2526, 'become': 2527, 'september': 2528, 'procedure': 2529, 'guilt': 2530, 'cooperation': 2531, 'texas': 2532, 'provision': 2533, 'amendment': 2534, 'violation': 2535, 'domination': 2536, '$12,192,865': 2537, 'discredited': 2538, 'predict': 2539, 'democracy': 2540, 'newspapers': 2541, 'nineteenth': 2542, 'writing': 2543, 'procurement': 2544, 'verification': 2545, 'bring': 2546, 'contractual': 2547, 'two-hour': 2548, 'them': 2549, 'according': 2550, 'former': 2551, 'sunay': 2552, 'williams': 2553, 'quickie': 2554, '1,700': 2555, 'j.': 2556, 'counsel': 2557, 'lawyer': 2558, 'corps': 2559, 'behind': 2560, 'miss.': 2561, '1961': 2562, 'bonding': 2563, 'disagreed': 2564, 'ap': 2565, 'intimidation': 2566, 'devote': 2567, 'denton': 2568, 'n.': 2569, 'ranged': 2570, 'hero': 2571, 'adverse': 2572, '39': 2573, 'nilsen': 2574, 'enlarging': 2575, 'bloodstream': 2576, 'clements': 2577, 'take': 2578, 'recipient': 2579, 'up': 2580, 'having': 2581, '$8,555': 2582, 'surplus': 2583, 'confronting': 2584, 'individuals': 2585, '700': 2586, 'union': 2587, 'mack': 2588, 'lawmakers': 2589, 'impair': 2590, 'directors': 2591, '$2': 2592, 'leading': 2593, 'involve': 2594, 'rules': 2595, '1': 2596, 'council': 2597, 'trenton': 2598, 'federal': 2599, 'delegation': 2600, 'birth': 2601, '1964': 2602, 'norristown': 2603, 'clerical': 2604, 'providence': 2605, 'my': 2606, \"barnard's\": 2607, 'post': 2608, 'advisers': 2609, 'significance': 2610, 'gone': 2611, 'alienated': 2612, 'choice': 2613, 'appeals': 2614, 'realize': 2615, 'certainly': 2616, 'investigation': 2617, 'washington': 2618, 'one': 2619, 'deaf': 2620, '1944': 2621, 'bonds': 2622, 'second': 2623, 'heard': 2624, 'established': 2625, 'salinger': 2626, '(': 2627, 'table': 2628, 'masonic': 2629, 'assure': 2630, 'flows': 2631, 'lodge': 2632, 'denied': 2633, 'move': 2634, 'contended': 2635, 'hit-run': 2636, 'jury': 2637, 'truths': 2638, 'vote': 2639, 'callan': 2640, 'vagueness': 2641, \"republicans'\": 2642, 'honored': 2643, 'says': 2644, 'certificate': 2645, 'requiring': 2646, 'much': 2647, 'leaders': 2648, 'portugal': 2649, 'eastland': 2650, 'limited': 2651, 'fare': 2652, 'joined': 2653, 'nomination': 2654, 'abraham': 2655, 'avoid': 2656, 'exert': 2657, 'battalion': 2658, 'dissension': 2659, 'fbi': 2660, 'coolest': 2661, 'entering': 2662, 'modernized': 2663, 'signal': 2664, 'include': 2665, 'courts': 2666, 'four': 2667, 'reps.': 2668, 'displayed': 2669, 'coordinate': 2670, '637': 2671, 'republican-controlled': 2672, 'nuclear': 2673, '240': 2674, 'stores': 2675, 'scheduling': 2676, 'tragedies': 2677, 'love': 2678, 'gun': 2679, 'multi-family': 2680, 'lord': 2681, 'swipe': 2682, 'believed': 2683, 'severe': 2684, '1923': 2685, 'edgar': 2686, 'inaugural': 2687, 'title': 2688, 'unable': 2689, 'gathering': 2690, 'parts': 2691, 'brooklyn': 2692, 'instructed': 2693, 'boy': 2694, 'down-payments': 2695, 'boosting': 2696, \"meyner's\": 2697, 'previous': 2698, 'barnes': 2699, 'elections': 2700, 'dealing': 2701, 'places': 2702, 'fined': 2703, 'inclination': 2704, 'eastwick': 2705, 'watch': 2706, 'cocktail': 2707, 'decisions': 2708, 'bed': 2709, 'confirm': 2710, 'assured': 2711, 'mark': 2712, 'strengthening': 2713, 'attorneys': 2714, 'relinquish': 2715, 'school': 2716, 'conducted': 2717, 'speaker': 2718, 'widely': 2719, 'norman': 2720, 'regard': 2721, 'for': 2722, 'home': 2723, 'sitting': 2724, 'expects': 2725, 'criticized': 2726, 'adequately': 2727, 'tactics': 2728, 'afternoon': 2729, 'paying': 2730, 'stresses': 2731, 'sirens': 2732, 'collins': 2733, 'how': 2734, '23d': 2735, '1953': 2736, 'defends': 2737, \"state's\": 2738, 'response': 2739, 'platform': 2740, 'attending': 2741, 'drafted': 2742, 'reaction': 2743, 'saw': 2744, 'newton': 2745, 'changes': 2746, 'risk': 2747, 'dirksen': 2748, 'headache': 2749, 'scattered': 2750, 'graft': 2751, 'compare': 2752, 'atomic': 2753, 'believe': 2754, 'storage': 2755, 'local': 2756, 'dogs': 2757, 'operation': 2758, 'b.': 2759, \"governor's\": 2760, \"rusk's\": 2761, 'always': 2762, 'interested': 2763, 'process': 2764, 'adjustments': 2765, 'team': 2766, 'pricking': 2767, 'allies': 2768, 'under-developed': 2769, 'due': 2770, 'depending': 2771, 'tracks': 2772, 'benefits': 2773, 'buildings': 2774, 'agency': 2775, 'seven': 2776, 'extern': 2777, 'reiterated': 2778, 'getting': 2779, 'greece': 2780, 'seekonk': 2781, 'alloted': 2782, 'educators': 2783, 'negotiations': 2784, 'ike': 2785, 'nature': 2786, 'claim': 2787, 'fifty-three': 2788, 'hunter': 2789, 'flat': 2790, 'citizens': 2791, 'developing': 2792, '350': 2793, 'nation': 2794, 'talking': 2795, 'aid': 2796, 'schedule': 2797, 'pistol': 2798, 'leaving': 2799, 'turkey': 2800, 'strenuous': 2801, 'acceptance': 2802, 'populous': 2803, 'receive': 2804, 'hill': 2805, 'harsh': 2806, 'ross': 2807, 'rebel': 2808, '12': 2809, 'actions': 2810, 'eligible': 2811, 'responses': 2812, 'firmer': 2813, 'regular': 2814, 'full-time': 2815, 'proselytizing': 2816, 'vexing': 2817, 'classical': 2818, 'year': 2819, 'illinois': 2820, 'prefer': 2821, 'kan.': 2822, 'increase': 2823, 'nursing': 2824, 'unnecessary': 2825, 'hour': 2826, 'diplomat': 2827, 'overseas': 2828, 'assuming': 2829, 'strengthen': 2830, 'warning': 2831, 'indonesia': 2832, 'dismissed': 2833, 'regime': 2834, 'hotels': 2835, 'violated': 2836, 'enterprise': 2837, 'driving': 2838, 'reads': 2839, 'sixth': 2840, 'number': 2841, 'licenses': 2842, 'confronts': 2843, 'ordinance': 2844, 'culminating': 2845, 'just': 2846, 'protocol': 2847, 'authorities': 2848, 'reason': 2849, 'baptist': 2850, 'voiced': 2851, 'allowances': 2852, 'last-minute': 2853, 'backs': 2854, 'afraid': 2855, 'undoubtedly': 2856, 'reama': 2857, 'increased': 2858, 'internal': 2859, 'quickly': 2860, 'or': 2861, 'state': 2862, 'less': 2863, 'feature': 2864, 'next': 2865, 'hood': 2866, 'against': 2867, 'northern': 2868, 'approved': 2869, 'india': 2870, 'shortage': 2871, 'results': 2872, 'allow': 2873, 'place': 2874, 'malingering': 2875, 'scotch': 2876, 'topics': 2877, 'talk': 2878, '$28': 2879, 'steel': 2880, 'speech': 2881, 'authorize': 2882, 'joe': 2883, '6,000': 2884, 'acute': 2885, 'feeble': 2886, 'precincts': 2887, 'lafayette': 2888, 'extraordinarily': 2889, 'aikin': 2890, 'really': 2891, 'army': 2892, 'front': 2893, 'snodgrass': 2894, 'serving': 2895, 'defeat': 2896, 'third': 2897, 'effective': 2898, 'problems': 2899, 'lieutenant': 2900, 'exception': 2901, 'noting': 2902, 'brandt': 2903, 'depend': 2904, \"we'll\": 2905, 'announce': 2906, 'forty-year': 2907, 'largely': 2908, 'gaynor': 2909, 'educational': 2910, 'gerosa': 2911, 'revised': 2912, 'ave.': 2913, 'preserving': 2914, 'pelham': 2915, 'corrupt': 2916, 'veiled': 2917, 'floor': 2918, 'dollars': 2919, 'consent': 2920, 'taste': 2921, 'image': 2922, 'roads': 2923, 'reception': 2924, 'specifically': 2925, 'clearly': 2926, 'enunciate': 2927, 'amount': 2928, 'amended': 2929, 'trucks': 2930, \"o'connor's\": 2931, 'affiliations': 2932, 'redevelopers': 2933, 'intellectually': 2934, 'mortgages': 2935, 'down': 2936, 'viewed': 2937, 'unfair': 2938, 'factors': 2939, \"alliance's\": 2940, 'nato': 2941, 'democrats': 2942, 'may': 2943, 'approve': 2944, 'debut': 2945, 'these': 2946, 'america': 2947, 'criticisms': 2948, '48': 2949, 'decide': 2950, 'chapters': 2951, 'casualty': 2952, 'without': 2953, 'january': 2954, 'establish': 2955, 'mandatory': 2956, 'rob': 2957, 'steps': 2958, 'socialist': 2959, \"department's\": 2960, '$25-a-plate': 2961, 'declined': 2962, 'guide': 2963, 'regrets': 2964, '$3100': 2965, 'justice': 2966, 'near': 2967, 'later': 2968, 'los': 2969, 'rumored': 2970, 'heitschmidt': 2971, 'revelation': 2972, 'plenary': 2973, 'personally': 2974, 'tyler': 2975, 'fully': 2976, 'society': 2977, \"you'll\": 2978, 'inure': 2979, 'brought': 2980, 'further': 2981, 'church': 2982, 'fate': 2983, 'bloc': 2984, 'hopeful': 2985, 'introduction': 2986, 'manner': 2987, 'combating': 2988, 'correspondents': 2989, 'goal': 2990, 'merely': 2991, 'miss': 2992, 'outgoing': 2993, 'outline': 2994, 'spending': 2995, 'figures': 2996, 'offer': 2997, \"won't\": 2998, 'voters': 2999, 'residents': 3000, 'nitroglycerine': 3001, 'revulsion': 3002, 'coercion': 3003, 'periodic': 3004, 'barnett': 3005, 'patrolman': 3006, 'seminole': 3007, \"princes'\": 3008, 'message': 3009, \"couldn't\": 3010, 'nobody': 3011, 'procedures': 3012, 'thus': 3013, 'station': 3014, '250': 3015, 'pension': 3016, '$1,500': 3017, 'protect': 3018, \"karns'\": 3019, 'look': 3020, 'stay': 3021, 'supported': 3022, \"nugent's\": 3023, '8': 3024, \"president's\": 3025, 'mass': 3026, 'selections': 3027, 'defendants': 3028, '$15,000,000': 3029, '$45': 3030, 'pass': 3031, 'financial': 3032, 'go': 3033, 'are': 3034, 'gas': 3035, 'step': 3036, 'congealed': 3037, 'communists': 3038, 'wardens': 3039, 'sympathetic': 3040, '7': 3041, 'monday': 3042, 'model': 3043, 'produced': 3044, 'scriptures': 3045, 'amateurish': 3046, 'private': 3047, 'distribution': 3048, \"wasn't\": 3049, 'doubt': 3050, 'enough': 3051, 'tactical': 3052, 'dumont': 3053, ',': 3054, 'eventually': 3055, 'atmosphere': 3056, 'liberal': 3057, 'whether': 3058, 'particularly': 3059, 'account': 3060, 'skills': 3061, 'philosophy': 3062, 'connall': 3063, 'affirmation': 3064, 'experienced': 3065, 'ally': 3066, 'unit': 3067, 'picking': 3068, 'ankara': 3069, 'load': 3070, 'radio': 3071, 'street': 3072, 'sens.': 3073, 'jail': 3074, 'injured': 3075, 'license': 3076, 'grant-in-aid': 3077, 'is': 3078, 'tuesday': 3079, 'carried': 3080, 'greater': 3081, 'garland': 3082, 'best': 3083, 'karol': 3084, 'located': 3085, 'serve': 3086, 'stansbery': 3087, 'this': 3088, 'fighting': 3089, 'sued': 3090, 'spokesman': 3091, \"can't\": 3092, 'independents': 3093, 'specified': 3094, 'come': 3095, 'opportunity': 3096, 'governor': 3097, 'company': 3098, 'ordinary': 3099, 'million': 3100, 'stated': 3101, 'invasion': 3102, 'function': 3103, 'impression': 3104, 'also': 3105, 'mouth': 3106, 'above': 3107, 'e.': 3108, \"atlanta's\": 3109, 'tracts': 3110, 'underlying': 3111, 'democratic': 3112, \"we're\": 3113, 'mary': 3114, 'registration': 3115, 'am': 3116, 'principles': 3117, 'sept.': 3118, '16,000': 3119, 'multnomah': 3120, 'equitable': 3121, 'segregation': 3122, 'powers': 3123, 'supreme': 3124, 'clusters': 3125, 'diety': 3126, 'favors': 3127, 'accepted': 3128, 'office': 3129, 'influence': 3130, 'raising': 3131, 'one-fourth': 3132, 'appointment': 3133, 'restrain': 3134, 'spoke': 3135, 'bodily': 3136, 'laid': 3137, 'harold': 3138, \"country's\": 3139, 'wooden': 3140, 'audrey': 3141, 'appointed': 3142, 'friday': 3143, 'robert': 3144, 'things': 3145, '24': 3146, '4th': 3147, 'maurice': 3148, 'help': 3149, 'assistance': 3150, 'worse': 3151, 'bar': 3152, 'choices': 3153, 'bypass': 3154, '1961-62': 3155, 'term': 3156, 'ruling': 3157, 'conditions': 3158, 'crime': 3159, 'mclemore': 3160, 'central': 3161, 'biggest': 3162, '180': 3163, 'chosen': 3164, 'campus': 3165, 'relaxation': 3166, 'virginia': 3167, 'crises': 3168, 'lived': 3169, 'impetus': 3170, 'strong': 3171, 'had': 3172, 'm.': 3173, 'held': 3174, 'dependent': 3175, 'clear': 3176, 'thailand': 3177, 'guilty': 3178, 'frustrated': 3179, 'critical': 3180, 'blue': 3181, 'oum': 3182, 'two-and-a-half-mile': 3183, 'boost': 3184, 'artist': 3185, 'ballot': 3186, 'us': 3187, \"administration's\": 3188, 'transition': 3189, 'subject': 3190, 'forced': 3191, 'enemy': 3192, 'glow': 3193, 'element': 3194, 'exported': 3195, 'enforced': 3196, 'u.s.': 3197, 'assign': 3198, 'exaltation': 3199, 'authorized': 3200, 'paul': 3201, 'drive': 3202, 'indicated': 3203, 'along': 3204, 'retirement': 3205, 'riverside': 3206, 'medicine': 3207, 'result': 3208, \"party's\": 3209, 'making': 3210, 'apply': 3211, 'harris': 3212, 'schooling': 3213, 'nationally': 3214, \"hughes'\": 3215, 'competing': 3216, 'prejudicial': 3217, 'never': 3218, '1950': 3219, 'mental': 3220, 'bitter': 3221, '$10': 3222, 'intervened': 3223, 'breakups': 3224, 'timely': 3225, 'puerto': 3226, '10,000,000': 3227, 'revamped': 3228, 'revision': 3229, 'edges': 3230, 'english': 3231, 'submarines': 3232, 'advantage': 3233, 'statement': 3234, 'detente': 3235, 'bachelor': 3236, 'lao': 3237, 'belanger': 3238, 'melvin': 3239, 'workshop': 3240, 'television': 3241, 'complete': 3242, '3': 3243, 'succeeds': 3244, 'privilege': 3245, 'aiding': 3246, 'hospital': 3247, 'all': 3248, '1865': 3249, 'thousand': 3250, 'completely': 3251, 'positions': 3252, 'act': 3253, 'needed': 3254, 'addition': 3255, 'no.': 3256, 'totaling': 3257, 'inadequate': 3258, 'polls': 3259, 'frankford': 3260, 'bryson': 3261, 'staggered': 3262, 'bay': 3263, 'again': 3264, 'orange': 3265, 'backed': 3266, 'mood': 3267, 'badly': 3268, 'impinging': 3269, 'chicanery': 3270, 'seeking': 3271, 'motor': 3272, 'expand': 3273, 'proceedings': 3274, 'arouse': 3275, 'hard-fought': 3276, 'explains': 3277, 'repeated': 3278, 'kansas': 3279, 'junta': 3280, 'wards': 3281, 'week': 3282, 'demonstrate': 3283, 'dr.': 3284, 'spots': 3285, 'motorists': 3286, 'stanton': 3287, 'focused': 3288, 'free': 3289, 'classes': 3290, 'bontempo': 3291, 'scramble': 3292, 'patronage': 3293, 'enforcing': 3294, 'estimate': 3295, 'excise': 3296, 'harriet': 3297, '1945': 3298, 'frequently': 3299, 'capital': 3300, 'vacated': 3301, \"leader's\": 3302, 'said': 3303, 'interviews': 3304, 'professor': 3305, 'fit': 3306, 'improving': 3307, 'northernmost': 3308, 'pin': 3309, 'savings': 3310, 'though': 3311, 'eisenhower': 3312, \"cotten's\": 3313, 'discharging': 3314, 'than': 3315, 'jr.': 3316, 'referred': 3317, 'waterfront': 3318, \"bill's\": 3319, 'societies': 3320, 'reportedly': 3321, 'samoa': 3322, 'probation': 3323, 'plea': 3324, 'driveway': 3325, 'gifts': 3326, 'delaney': 3327, 'challenge': 3328, 'averell': 3329, 'meaning': 3330, 'whereby': 3331, 'round': 3332, 'factor': 3333, 'items': 3334, 'investigating': 3335, 'columbia': 3336, 'weather': 3337, 'planning': 3338, 'advocacy': 3339, 'part': 3340, 'opposes': 3341, 'schrunk': 3342, 'business': 3343, 'added': 3344, 'group': 3345, 'better': 3346, 'hawksley': 3347, 'erected': 3348, 'troublesome': 3349, 'deputies': 3350, 'hartsfield': 3351, 'barred': 3352, 'subjects': 3353, 'bowden': 3354, \"jersey's\": 3355, 'indicating': 3356, 'fact': 3357, 'setback': 3358, 'secretariat': 3359, 'friendly': 3360, 'diplomatic': 3361, 'outright': 3362, 'mayer': 3363, 'honor': 3364, '$30': 3365, 'foods': 3366, 'cross': 3367, 'york': 3368, 'press': 3369, 'offenders': 3370, 'replace': 3371, 'rally': 3372, 'listed': 3373, 'fulfilled': 3374, 'erase': 3375, 'owen': 3376, \"women's\": 3377, 'westfield': 3378, 'lip': 3379, 'took': 3380, 'precinct': 3381, 'mcconnell': 3382, 'disaster': 3383, 'finance': 3384, 'wage': 3385, 'diagnostic': 3386, 'sheets': 3387, 'ninety-nine': 3388, 'forbids': 3389, 'antonio': 3390, 'sulphur': 3391, 'power': 3392, 'schley': 3393, 'tabb': 3394, 'ideas': 3395, 'required': 3396, 'geneva': 3397, 'teachers': 3398, 'laughlin': 3399, 'locomotive': 3400, 'rev.': 3401, 'alone': 3402, 'pedestrians': 3403, 'three': 3404, 'precedent': 3405, 'rehabilitation': 3406, 'whom': 3407, 'occupancy': 3408, 'grove': 3409, 'thanks': 3410, 'navy': 3411, 'customers': 3412, 'intentions': 3413, 'betting': 3414, 'ended': 3415, 'houston': 3416, 'military': 3417, 'friends': 3418, 'denomination': 3419, 'neighboring': 3420, 'thoroughfare': 3421, 'continue': 3422, 'killed': 3423, 'instances': 3424, 'lumber': 3425, '``': 3426, 'byrd': 3427, 'probable': 3428, 'receptive': 3429, 'taxation': 3430, 'functionary': 3431, 'democrat': 3432, 'ways': 3433, 'berger': 3434, 'permit': 3435, 'county-wide': 3436, 'recent': 3437, 'names': 3438, 'nixon': 3439, 'allen': 3440, 'officers': 3441, 'products': 3442, 'beliefs': 3443, 'try': 3444, 'adopted': 3445, 'informed': 3446, 'indicate': 3447, 'hear': 3448, 'drive-in': 3449, 'nearly': 3450, 'adc': 3451, 'night': 3452, 'induce': 3453, 'subpenaed': 3454, 'secretary': 3455, 'texans': 3456, 'wherever': 3457, 'some': 3458, 'sledding': 3459, 'forward': 3460, 'modern': 3461, 'check': 3462, 'social': 3463, 'geraldine': 3464, 'told': 3465, 'seek': 3466, 'times': 3467, 'impressive': 3468, 'eye': 3469, 'consequently': 3470, 'burglary': 3471, 'restrained': 3472, '8-4': 3473, 'viet': 3474, 'fall': 3475, 'spark': 3476, 'enlarged': 3477, 'enforcement': 3478, 'attractive': 3479, 'underdeveloped': 3480, '29-5': 3481, 'proposing': 3482, 'appreciation': 3483, 'renewal': 3484, 'hudson': 3485, 'declares': 3486, 'marshall': 3487, 'except': 3488, 'domain': 3489, 'aged-care': 3490, 'driver': 3491, 'joseph': 3492, 'louis': 3493, 'guardians': 3494, 'pointed': 3495, 're-arguing': 3496, 'oath-taking': 3497, 'smith': 3498, 'grant': 3499, 'tore': 3500, 'jack': 3501, 'selected': 3502, 'economic': 3503, 'disposition': 3504, 'builtin': 3505, 'confidence': 3506, 'traditional': 3507, 'ponies': 3508, 'ribbon': 3509, 'locally': 3510, 'grover': 3511, 'saturday': 3512, 'threat': 3513, 'questioned': 3514, 'pull': 3515, 'reelected': 3516, 'branches': 3517, 'while': 3518, 'split': 3519, 'fears': 3520, '1963': 3521, 'erupts': 3522, 'forthcoming': 3523, 'between': 3524, 'proposal': 3525, 'navigation': 3526, 'richard': 3527, 'constructing': 3528, 'restless': 3529, 'modernizing': 3530, 'must': 3531, 'expires': 3532, 'poor': 3533, 'start': 3534, 'increasing': 3535, 'demanded': 3536, 'students': 3537, 'annually': 3538, 'period': 3539, 'false': 3540, 'ind.': 3541, '11': 3542, 'meeting': 3543, 'operate': 3544, 'plant': 3545, 'learned': 3546, 'appointee': 3547, 'dynamic': 3548, 'philadelphia': 3549, 'evidence': 3550, 'morton': 3551, \"o'neill\": 3552, 'johnson': 3553, 'expended': 3554, 'meantime': 3555, 'money': 3556, 'despite': 3557, 'count': 3558, 'l.': 3559, 'trying': 3560, 'dannehower': 3561, 'upi': 3562, '40': 3563, 'normalcy': 3564, 'feels': 3565, 'realistic': 3566, 'thursday': 3567, 'neutralist': 3568, 'dumas': 3569, 'selfish': 3570, 'young': 3571, 'building': 3572, 'returning': 3573, 'r': 3574, 'children': 3575, 'long-term': 3576, 'system': 3577, 'minute': 3578, 'contract': 3579, 'reward': 3580, 'area': 3581, 'appear': 3582, '$581,000': 3583, '$172,400': 3584, 'me': 3585, 'employer': 3586, 'their': 3587, 'o.': 3588, 'accident': 3589, 'enthusiasm': 3590, 'contempt': 3591, 'waiting': 3592, 'solidarity': 3593, 'whole': 3594, 'wave': 3595, 'talked': 3596, 'in': 3597, 'health': 3598, 'considering': 3599, 'co-operation': 3600, 'organizing': 3601, 'bulwark': 3602, 'based': 3603, 'judges': 3604, \"car's\": 3605, 'around': 3606, 'published': 3607, 'given': 3608, 'locale': 3609, 'republic': 3610, 'owner': 3611, 'treaty': 3612, 'months': 3613, 'entail': 3614, 'reconstruction': 3615, 'remark': 3616, 'citation': 3617, 'bigger': 3618, 'pick': 3619, 'department': 3620, 'u.': 3621, 'equipment': 3622, 'saying': 3623, 'sending': 3624, 'completed': 3625, 'archives': 3626, 'culbertson': 3627, 'entire': 3628, 'support': 3629, 'recommend': 3630, 'pennsylvania': 3631, '10,000': 3632, 'cotten': 3633, 'stature': 3634, 'recorded': 3635, '74': 3636, 'dilemma': 3637, 'monumental': 3638, 'seeks': 3639, 'special': 3640, 'r-warren': 3641, 'wise': 3642, 'clark': 3643, 'build': 3644, 'amid': 3645, 'reside': 3646, 'expedient': 3647, 'rescue': 3648, 'garza': 3649, 'value': 3650, 'glad': 3651, 'falls': 3652, 'large': 3653, 'eyes': 3654, 'faith': 3655, 'religious': 3656, \"year's\": 3657, 'rekindling': 3658, 'victory': 3659, 'fortin': 3660, 'enjoy': 3661, 'wait': 3662, 'before': 3663, 'conceded': 3664, 'airport': 3665, 'completes': 3666, 'carved': 3667, 'require': 3668, 'wrongful': 3669, 'permits': 3670, 'settle': 3671, 'enabling': 3672, 'dating': 3673, 'witnesses': 3674, '22': 3675, 'difficulties': 3676, 'opposed': 3677, 'community': 3678, 'marvin': 3679, 'known': 3680, 'minister': 3681, 'of': 3682, 'martinelli': 3683, 'she': 3684, 'agreements': 3685, 'however': 3686, 'mighty': 3687, 'economize': 3688, \"i'll\": 3689, \"association's\": 3690, 'canada': 3691, 'signatures': 3692, 'salary': 3693, 'personal': 3694, 'prince': 3695, 'stems': 3696, 'threatened': 3697, 'urges': 3698, 'imprudently': 3699, 'votes': 3700, 'outlay': 3701, 'perfect': 3702, 'flow': 3703, 'barnet': 3704, 'states': 3705, 'remained': 3706, 'pro': 3707, 'cemal': 3708, 'dallas': 3709, 'sway': 3710, 'towards': 3711, 'whatever': 3712, 'ivan': 3713, 'pertinent': 3714, 'addressing': 3715, 'hays': 3716, 'historic': 3717, 'formerly': 3718, 'firm': 3719, 'duty': 3720, 'director': 3721, 'trust': 3722, 'discovered': 3723, 'remarked': 3724, '1954': 3725, 'fort': 3726, 'constant': 3727, 'companionship': 3728, 'sewer': 3729, 'space': 3730, 'latter': 3731, 'suspect': 3732, '13th': 3733, 'insuring': 3734, 'know': 3735, 'violating': 3736, 'would': 3737, 'theme': 3738, 'revolving': 3739, 'hailed': 3740, '1409': 3741, 'meanwhile': 3742, 'leader': 3743, 'hurrah': 3744, 'whipped': 3745, 'proceed': 3746, 'ignition': 3747, 'junior': 3748, 'juries': 3749, 'carry': 3750, 'consistently': 3751, 'reporters': 3752, 'high': 3753, 'creation': 3754, 'vicious': 3755, 'sponsored': 3756, 'benefit': 3757, '540': 3758, 'return': 3759, 'fails': 3760, 'nominee': 3761, 'request': 3762, 'bankers': 3763, 'smell': 3764, 'shot': 3765, 'garden': 3766, 'prove': 3767, 'condemning': 3768, 'anonymous': 3769, 'guaranteed': 3770, 'seats': 3771, 'consulting': 3772, 'davenport': 3773, 'concessionaires': 3774, 'faced': 3775, 'registered': 3776, 'assembly': 3777, 'attend': 3778, 'morse': 3779, 'property': 3780, 'midmorning': 3781, 'dominated': 3782, 'awareness': 3783, 'asked': 3784, 'faces': 3785, 'line': 3786, 'longstanding': 3787, 'expense': 3788, 'multi-million-dollar': 3789, '$88,000': 3790, 'stalled': 3791, 'climate': 3792, 'visits': 3793, 'transfer': 3794, 'harlingen': 3795, 'called': 3796, \"formby's\": 3797, 'bankruptcy': 3798, 'clerk': 3799, 'paper': 3800, 'stout': 3801, 'feared': 3802, 'tomorrow': 3803, 'fire': 3804, 'delegations': 3805, 'judge': 3806, 'hoc': 3807, 'enact': 3808, 'solve': 3809, 'failure': 3810, 'missing': 3811, '42d': 3812, 'wholesale': 3813, 'planner': 3814, 'britain': 3815, 'discourage': 3816, 'economically': 3817, 'provides': 3818, 'accredited': 3819, '402': 3820, 'co.': 3821, 'committees': 3822, 'inconclusive': 3823, 'transcended': 3824, 'boosts': 3825, 'thompson': 3826, 'although': 3827, 'paris': 3828, 'ballots': 3829, 'geographical': 3830, 'filling': 3831, 'pierre': 3832, 'starter': 3833, 'de': 3834, 'lever': 3835, 'speeches': 3836, 'scale': 3837, 'stronger': 3838, 'adamant': 3839, 'toss': 3840, '9': 3841, 'cabinet': 3842, 'listen': 3843, 'tendency': 3844, 'voluntarily': 3845, 'common': 3846, 'ease': 3847, 'symbol': 3848, 'problem': 3849, 'tolerated': 3850, 'northwestern': 3851, 'inside': 3852, 'governs': 3853, 'flash': 3854, 'provocation': 3855, 'sheriff': 3856, 'tangle': 3857, 'mayor-nominate': 3858, 'member': 3859, 'idea': 3860, 'misunderstanding': 3861, 'blame': 3862, 'incumbent': 3863, 'coordinator': 3864, 'concern': 3865, 'represents': 3866, 'regulate': 3867, 'distance': 3868, '1959': 3869, 'constitution': 3870, 'compulsory': 3871, \"gladden's\": 3872, 'spends': 3873, 'felix': 3874, '$2,330,000': 3875, 'basketball': 3876, 'completion': 3877, 'supervision': 3878, 'term-end': 3879, 'prediction': 3880, 'read': 3881, 'considered': 3882, 'sr.': 3883, 'letters': 3884, 'earliest': 3885, 'vacancies': 3886, 'cuban': 3887, 'senate': 3888, 'kennedy': 3889, 'fellow': 3890, 'control': 3891, 'dental': 3892, 'energy': 3893, 'people': 3894, 'duffy': 3895, 'began': 3896, 'passage': 3897, 'respective': 3898, 'elephants': 3899, 'rd.': 3900, 'after': 3901, 'feb.': 3902, 'paths': 3903, 'zimmerman': 3904, 'united': 3905, 'feeds': 3906, 'michael': 3907, 'severly': 3908, 'headed': 3909, 'regulating': 3910, 'barbs': 3911, 'representatives': 3912, 'decried': 3913, 'strickland': 3914, 'uses': 3915, 'ones': 3916, 't.': 3917, 'achievement': 3918, 'eligio': 3919, 'successful': 3920, 'reynolds': 3921, 'carey': 3922, 're-election': 3923, 'principal': 3924, 'please': 3925, 'committeewoman': 3926, 'pye': 3927, 'coast': 3928, 'thought': 3929, 'liberals': 3930, 'tower': 3931, '90': 3932, 'emerge': 3933, 'chance': 3934, 'charge': 3935, 'proposed': 3936, 'powered': 3937, 'revenues': 3938, 'sexton': 3939, '900-student': 3940, 'termed': 3941, 'board': 3942, 'continued': 3943, 'remedy': 3944, \"it's\": 3945, '33d': 3946, 'territory': 3947, 'swearing': 3948, 'fight': 3949, 'letter': 3950, 'election': 3951, \"wife's\": 3952, 'mr.': 3953, 'excess': 3954, 'normally': 3955, 'voice': 3956, 'set': 3957, 'various': 3958, 'noon': 3959, '29': 3960, 'eliminating': 3961, 'titular': 3962, 'pratt': 3963, 'actually': 3964, 'kremlin': 3965, 'voted': 3966, 'featured': 3967, 'right': 3968, 'martin': 3969, 'gotten': 3970, 'bourcier': 3971, 'opposite': 3972, 'south': 3973, 'time': 3974, 'expressed': 3975, 'eighteen': 3976, 'active': 3977, 'lifeblood': 3978, 'nugent': 3979, 'angola': 3980, 'our': 3981, 'last': 3982, 'quarrel': 3983, 'raises': 3984, 'looks': 3985, 'carries': 3986, 'indeed': 3987, 'offices': 3988, 'breakdown': 3989, 'trims': 3990, 'created': 3991, 'ban': 3992, 'performing': 3993, 'industry': 3994, 'bet': 3995, 'docile': 3996, 'asian': 3997, '65': 3998, 'globe': 3999, 'pricing': 4000, 'included': 4001, 'his': 4002, 'adoption': 4003, 'esplanade': 4004, 'once': 4005, 'theater': 4006, 'quiet': 4007, 'person': 4008, 'decade': 4009, 'counties': 4010, 'contractors': 4011, 'only': 4012, \"i'd\": 4013, 'authority': 4014, 'justices': 4015, 'surveys': 4016, 'co-signers': 4017, 'education': 4018, 'modified': 4019, 'missions': 4020, 'fund': 4021, \"council's\": 4022, '102': 4023, '4.4': 4024, 'original': 4025, 'owners': 4026, 'flies': 4027, 'quick': 4028, '1962': 4029, 'field': 4030, 'camps': 4031, 'threshold': 4032, 'presentments': 4033, 'implementation': 4034, 'exploratory': 4035, 'governments': 4036, 'un': 4037, 'reform': 4038, '30,000,000': 4039, 'heart': 4040, 'mention': 4041, '$40,000,000': 4042, 'trial': 4043, 'sapio': 4044, 'blended': 4045, 'metal': 4046, 'today': 4047, 'architecture': 4048, 'popularity': 4049, 'complication': 4050, 'setup': 4051, 'submitted': 4052, 'promotion': 4053, 'screw': 4054, 'caused': 4055, 'secretary-treasurer': 4056, 'budget': 4057, 'neither': 4058, 'ayes': 4059, 'atty.': 4060, 'constantinos': 4061, 'suffragettes': 4062, '133': 4063, 'regretted': 4064, 'natural': 4065, 'pardoned': 4066, 'career': 4067, 'wheel': 4068, 'detailed': 4069, 'la': 4070, 'single': 4071, 'fixed': 4072, 'briefing': 4073, 'advisory': 4074, 'buchanan': 4075, '$5000': 4076, 'degree': 4077, 'southwestern': 4078, 'rate': 4079, 'policies': 4080, 'david': 4081, 'pleas': 4082, 'impossible': 4083, 'brandeis': 4084, 'teach': 4085, 'warden': 4086, 'seidel': 4087, 'dropping': 4088, 'breathes': 4089, 'commissioner': 4090, 'affair': 4091, 'intensified': 4092, 'half-brothers': 4093, 'lots': 4094, 'remarkably': 4095, 'controversy': 4096, 'progress': 4097, 'participating': 4098, 'paid': 4099, 'determine': 4100, 'produce': 4101, 'september-october': 4102, 'sound': 4103, 'hackett': 4104, 'living': 4105, 'baton': 4106, 'roof': 4107, 'scene': 4108, 'clash': 4109, 'occupation': 4110, 'two': 4111, '1913': 4112, 'marines': 4113, 'party': 4114, 'consulted': 4115, 'respond': 4116, 'rumford': 4117, 'show': 4118, 'dividing': 4119, 'pulled': 4120, 'remember': 4121, '3646': 4122, 'developments': 4123, 'share': 4124, 'ralph': 4125, 'assemble': 4126, 'sounded': 4127, 'target': 4128, 'validity': 4129, 'amicable': 4130, 'into': 4131, 'future': 4132, 'charges': 4133, 'happens': 4134, 'job': 4135, 'bombing': 4136, 'carmine': 4137, 'screvane': 4138, \"byrd's\": 4139, 'score': 4140, 'on': 4141, 'shortly': 4142, 'berlin': 4143, 'unchanged': 4144, 'naval': 4145, 'colleagues': 4146, 'expire': 4147, 'soaring': 4148, 'expanding': 4149, 'g.': 4150, 'made': 4151, 'spotlight': 4152, 'price': 4153, 'plows': 4154, 'neutral': 4155, 'sabbath': 4156, 'parochial': 4157, 'beaverton': 4158, 'policy': 4159, 'voter': 4160, 'find': 4161, 'caught': 4162, 'southern': 4163, '28th': 4164, 'difficult': 4165, 'at': 4166, 'processes': 4167, 'vouchers': 4168, 'departments': 4169, 'compromise': 4170, 'tattered': 4171, 'device': 4172, 'loss': 4173, 'be': 4174, '87-31': 4175, 'hours': 4176, 'understates': 4177, '1948': 4178, 'instead': 4179, 'permitted': 4180, 'route': 4181, 'launched': 4182, 'combined': 4183, '36': 4184, 'activity': 4185, 'cases': 4186, 'forecasts': 4187, 'status': 4188, 'meager': 4189, 'homes': 4190, 'prosecute': 4191, 'southern-republican': 4192, \"monday's\": 4193, 'service': 4194, 'goods': 4195, 'moreover': 4196, 'practicing': 4197, 'unhappy': 4198, 'intends': 4199, 'wayne': 4200, 'bills': 4201, 'allotted': 4202, 'pledges': 4203, 'conservation': 4204, 'goals': 4205, 'conquer': 4206, 'ghana': 4207, 'tied': 4208, 'redevelopment': 4209, 'financing': 4210, 'science': 4211, 'loyalty': 4212, 'violate': 4213, 'dedication': 4214, 'coalition': 4215, 'paso': 4216, 'acclaimed': 4217, 'smooth': 4218, 'understand': 4219, 'abandoned': 4220, 'mentally': 4221, 'age': 4222, 'point': 4223, 'honoring': 4224, 'frank': 4225, 'war-ridden': 4226, 'the': 4227, 'unpleasant': 4228, '1966': 4229, 'bubenik': 4230, \"he's\": 4231, 'manifestations': 4232, 'dismiss': 4233, 'kind': 4234, 'catchers': 4235, 'many': 4236, 'unite': 4237, 'nationwide': 4238, 'cited': 4239, 'doors': 4240, '21st': 4241, 'turkish': 4242, \"didn't\": 4243, 'else': 4244, 'vincent': 4245, \"school's\": 4246, 'racial': 4247, 'raised': 4248, '$5,000': 4249, 'edward': 4250, 'secret': 4251, 'retarded': 4252, 'giveaway': 4253, \"berry's\": 4254, 'colquitt': 4255, '$26,000,000': 4256, 'ours': 4257, 'voluntary': 4258, 'alexander': 4259, 'questions': 4260, 'uncommitted': 4261, 'courses': 4262, 'promise': 4263, 'corruption': 4264, 'miscount': 4265, 'resurrection': 4266, 'receives': 4267, 'republicanism': 4268, 'decency': 4269, 'jim': 4270, 'threats': 4271}\n"
     ]
    }
   ],
   "source": [
    "#numericalization\n",
    "word2index = {w: i for i, w in enumerate(vocab)}"
   ]
  },
  {
   "cell_type": "code",
   "execution_count": 8,
   "metadata": {},
   "outputs": [
    {
     "name": "stdout",
     "output_type": "stream",
     "text": [
      "4272\n"
     ]
    }
   ],
   "source": [
    "#vocab size\n",
    "voc_size = len(vocab)\n",
    "print(voc_size)"
   ]
  },
  {
   "cell_type": "code",
   "execution_count": 9,
   "metadata": {},
   "outputs": [],
   "source": [
    "#append UNK\n",
    "vocab.append('<UNK>')"
   ]
  },
  {
   "cell_type": "code",
   "execution_count": 11,
   "metadata": {},
   "outputs": [],
   "source": [
    "word2index['<UNK>'] = 0"
   ]
  },
  {
   "cell_type": "code",
   "execution_count": 13,
   "metadata": {},
   "outputs": [],
   "source": [
    "#just in case we need to use\n",
    "index2word = {v:k for k, v in word2index.items()} "
   ]
  },
  {
   "cell_type": "markdown",
   "metadata": {},
   "source": [
    "## 2. Build Co-occurence Matrix X"
   ]
  },
  {
   "cell_type": "code",
   "execution_count": 88,
   "metadata": {},
   "outputs": [],
   "source": [
    "from collections import Counter\n",
    "# index the corpus\n",
    "X_i = Counter(flatten(corpus))"
   ]
  },
  {
   "cell_type": "code",
   "execution_count": 89,
   "metadata": {},
   "outputs": [],
   "source": [
    "skip_grams = []\n",
    "# Prepare the skipgram\n",
    "\n",
    "for doc in corpus:\n",
    "    # The skipgram has a window size of 2\n",
    "    for i in range(2, len(doc)-2):\n",
    "        center = doc[i]\n",
    "        outside = [doc[i-1], doc[i+1],doc[i+2],doc[i-2]]\n",
    "        for each_out in outside:\n",
    "            skip_grams.append((center, each_out))"
   ]
  },
  {
   "cell_type": "code",
   "execution_count": 90,
   "metadata": {},
   "outputs": [],
   "source": [
    "X_ik_skipgrams = Counter(skip_grams)\n"
   ]
  },
  {
   "cell_type": "code",
   "execution_count": 17,
   "metadata": {},
   "outputs": [],
   "source": [
    "def weighting(w_i, w_j, X_ik):\n",
    "    \n",
    "    #check whether the co-occurences between w_i and w_j is available\n",
    "    try:\n",
    "        x_ij = X_ik[(w_i, w_j)]\n",
    "        #if not exist, then set to 1 \"laplace smoothing\"\n",
    "    except:\n",
    "        x_ij = 1\n",
    "        \n",
    "    #set xmax\n",
    "    x_max = 100\n",
    "    #set alpha\n",
    "    alpha = 0.75\n",
    "    \n",
    "    #if co-ocurrence does not exceeed xmax, then just multiply with some alpha\n",
    "    if x_ij < x_max:\n",
    "        result = (x_ij / x_max)**alpha\n",
    "    #otherwise, set to 1\n",
    "    else:\n",
    "        result = 1\n",
    "    \n",
    "    return result"
   ]
  },
  {
   "cell_type": "code",
   "execution_count": 18,
   "metadata": {},
   "outputs": [],
   "source": [
    "from itertools import combinations_with_replacement\n",
    "\n",
    "X_ik = {}  # for keeping the co-occurrences\n",
    "weighting_dic = {}  # scaling the percentage of sampling\n",
    "\n",
    "for bigram in combinations_with_replacement(vocab, 2):\n",
    "    if X_ik_skipgrams.get(bigram) is not None:  # matches\n",
    "        co_occer = X_ik_skipgrams[bigram]  # get the count from what we already counted\n",
    "        X_ik[bigram] = co_occer + 1  # + 1 for stability issue\n",
    "        X_ik[(bigram[1], bigram[0])] = co_occer + 1  # count also for the opposite\n",
    "        # print(X_ik[(bigram[1], bigram[0])])  # count also for the opposite\n",
    "    else:\n",
    "        pass\n",
    "\n",
    "    weighting_dic[bigram] = weighting(bigram[0], bigram[1], X_ik)\n",
    "    weighting_dic[(bigram[1], bigram[0])] = weighting(bigram[1], bigram[0], X_ik)"
   ]
  },
  {
   "cell_type": "markdown",
   "metadata": {},
   "source": [
    "## 3. Prepare train data"
   ]
  },
  {
   "cell_type": "code",
   "execution_count": 19,
   "metadata": {},
   "outputs": [],
   "source": [
    "#create pairs of center word, and outside word\n",
    "\n",
    "def random_batch(batch_size, corpus):\n",
    "\n",
    "    skipgrams = []\n",
    "\n",
    "    #loop each corpus\n",
    "    for doc in corpus:\n",
    "        #look from the 2nd word until second last word\n",
    "        for i in range(2, len(doc)-2):\n",
    "            #center word\n",
    "            center = word2index[doc[i]]\n",
    "            #outside words = 4 words\n",
    "            outside = (word2index[doc[i-1]], word2index[doc[i+1]], word2index[doc[i+2]], word2index[doc[i-2]])\n",
    "            #for each of these two outside words, we gonna append to a list\n",
    "            for each_out in outside:\n",
    "                skipgrams.append([center, each_out])\n",
    "                \n",
    "                #center, outside1;   center, outside2\n",
    "                \n",
    "    random_index = np.random.choice(range(len(skipgrams)), batch_size, replace=False)\n",
    "    \n",
    "    inputs, labels = [], []\n",
    "    for index in random_index:\n",
    "        inputs.append([skipgrams[index][0]])\n",
    "        labels.append([skipgrams[index][1]])\n",
    "        \n",
    "    return np.array(inputs), np.array(labels)\n",
    "            \n",
    "x, y = random_batch(2, corpus)\n"
   ]
  },
  {
   "cell_type": "code",
   "execution_count": 20,
   "metadata": {},
   "outputs": [],
   "source": [
    "import math\n",
    "\n",
    "def random_batch_glove(batch_size, word_sequence, skip_grams, X_ik, weighting_dic):\n",
    "    \n",
    "    #convert to id since our skip_grams is word, not yet id\n",
    "    skip_grams_id = [(word2index[skip_gram[0]], word2index[skip_gram[1]]) for skip_gram in skip_grams]\n",
    "    \n",
    "    random_inputs = []\n",
    "    random_labels = []\n",
    "    random_coocs  = []\n",
    "    random_weightings = []\n",
    "    random_index = np.random.choice(range(len(skip_grams_id)), batch_size, replace=False) #randomly pick without replacement\n",
    "        \n",
    "    for i in random_index:\n",
    "        random_inputs.append([skip_grams_id[i][0]])  # target, e.g., 2\n",
    "        random_labels.append([skip_grams_id[i][1]])  # context word, e.g., 3\n",
    "        \n",
    "        #get cooc\n",
    "        pair = skip_grams[i]\n",
    "        try:\n",
    "            cooc = X_ik[pair]\n",
    "        except:\n",
    "            cooc = 1\n",
    "        random_coocs.append([math.log(cooc)])\n",
    "        \n",
    "        #get weighting\n",
    "        weighting = weighting_dic[pair]\n",
    "        random_weightings.append([weighting])\n",
    "                    \n",
    "    return np.array(random_inputs), np.array(random_labels), np.array(random_coocs), np.array(random_weightings)"
   ]
  },
  {
   "cell_type": "code",
   "execution_count": 21,
   "metadata": {},
   "outputs": [
    {
     "data": {
      "text/plain": [
       "(2, 1)"
      ]
     },
     "execution_count": 21,
     "metadata": {},
     "output_type": "execute_result"
    }
   ],
   "source": [
    "x.shape  #batch_size, 1"
   ]
  },
  {
   "cell_type": "code",
   "execution_count": 22,
   "metadata": {},
   "outputs": [
    {
     "data": {
      "text/plain": [
       "array([[ 268],\n",
       "       [3682]])"
      ]
     },
     "execution_count": 22,
     "metadata": {},
     "output_type": "execute_result"
    }
   ],
   "source": [
    "x"
   ]
  },
  {
   "cell_type": "code",
   "execution_count": 23,
   "metadata": {},
   "outputs": [
    {
     "data": {
      "text/plain": [
       "(2, 1)"
      ]
     },
     "execution_count": 23,
     "metadata": {},
     "output_type": "execute_result"
    }
   ],
   "source": [
    "y.shape"
   ]
  },
  {
   "cell_type": "markdown",
   "metadata": {},
   "source": [
    "## 4. Model"
   ]
  },
  {
   "cell_type": "code",
   "execution_count": 24,
   "metadata": {},
   "outputs": [
    {
     "data": {
      "text/plain": [
       "4273"
      ]
     },
     "execution_count": 24,
     "metadata": {},
     "output_type": "execute_result"
    }
   ],
   "source": [
    "len(vocab)"
   ]
  },
  {
   "cell_type": "code",
   "execution_count": 25,
   "metadata": {},
   "outputs": [],
   "source": [
    "embedding = nn.Embedding(63314, 2)"
   ]
  },
  {
   "cell_type": "code",
   "execution_count": 26,
   "metadata": {},
   "outputs": [
    {
     "data": {
      "text/plain": [
       "torch.Size([2, 1, 2])"
      ]
     },
     "execution_count": 26,
     "metadata": {},
     "output_type": "execute_result"
    }
   ],
   "source": [
    "x_tensor = torch.LongTensor(x)\n",
    "embedding(x_tensor).shape  #(batch_size, 1, emb_size)"
   ]
  },
  {
   "cell_type": "markdown",
   "metadata": {},
   "source": [
    "### 4.1 Skipgram with positive sampling\n",
    "$$J(\\theta) = -\\frac{1}{T}\\sum_{t=1}^{T}\\sum_{\\substack{-m \\leq j \\leq m \\\\ j \\neq 0}}\\log P(w_{t+j} | w_t; \\theta)$$\n",
    "\n",
    "where $P(w_{t+j} | w_t; \\theta) = $\n",
    "\n",
    "$$P(o|c)=\\frac{\\exp(\\mathbf{u_o^{\\top}v_c})}{\\sum_{w=1}^V\\exp(\\mathbf{u_w^{\\top}v_c})}$$\n",
    "\n",
    "where $o$ is the outside words and $c$ is the center word"
   ]
  },
  {
   "cell_type": "code",
   "execution_count": 27,
   "metadata": {},
   "outputs": [],
   "source": [
    "class Skipgram(nn.Module):\n",
    "    \n",
    "    def __init__(self, voc_size, emb_size):\n",
    "        super(Skipgram, self).__init__()\n",
    "        self.embedding_center  = nn.Embedding(voc_size, emb_size)\n",
    "        self.embedding_outside = nn.Embedding(voc_size, emb_size)\n",
    "    \n",
    "    def forward(self, center, outside, all_vocabs):\n",
    "        center_embedding     = self.embedding_center(center)  #(batch_size, 1, emb_size)\n",
    "        outside_embedding    = self.embedding_center(outside) #(batch_size, 1, emb_size)\n",
    "        all_vocabs_embedding = self.embedding_center(all_vocabs) #(batch_size, voc_size, emb_size)\n",
    "        \n",
    "        top_term = torch.exp(outside_embedding.bmm(center_embedding.transpose(1, 2)).squeeze(2))\n",
    "        #batch_size, 1, emb_size) @ (batch_size, emb_size, 1) = (batch_size, 1, 1) = (batch_size, 1) \n",
    "\n",
    "        lower_term = all_vocabs_embedding.bmm(center_embedding.transpose(1, 2)).squeeze(2)\n",
    "        #batch_size, voc_size, emb_size) @ (batch_size, emb_size, 1) = (batch_size, voc_size, 1) = (batch_size, voc_size) \n",
    "        \n",
    "        lower_term_sum = torch.sum(torch.exp(lower_term), 1)  #(batch_size, 1)\n",
    "        \n",
    "        loss = -torch.mean(torch.log(top_term / lower_term_sum))  #scalar\n",
    "        \n",
    "        return loss\n",
    "        "
   ]
  },
  {
   "cell_type": "markdown",
   "metadata": {},
   "source": [
    "### 4.2 Skipgram with negative sampling\n",
    "\n",
    "$$\\mathbf{J}_{\\text{neg-sample}}(\\mathbf{v}_c,o,\\mathbf{U})=-\\log(\\sigma(\\mathbf{u}_o^T\\mathbf{v}_c))-\\sum_{k=1}^K\\log(\\sigma(-\\mathbf{u}_k^T\\mathbf{v}_c))$$"
   ]
  },
  {
   "cell_type": "code",
   "execution_count": 28,
   "metadata": {},
   "outputs": [],
   "source": [
    "class SkipgramNegSampling(nn.Module):\n",
    "    \n",
    "    def __init__(self, vocab_size, emb_size):\n",
    "        super(SkipgramNegSampling, self).__init__()\n",
    "        self.embedding_center = nn.Embedding(vocab_size, emb_size) # center embedding\n",
    "        self.embedding_outside = nn.Embedding(vocab_size, emb_size) # out embedding\n",
    "        self.logsigmoid = nn.LogSigmoid()\n",
    "                    \n",
    "    def forward(self, center_words, target_words, negative_words):\n",
    "        center_embeds = self.embedding_center(center_words) # [batch_size, 1, emb_size]\n",
    "        target_embeds = self.embedding_outside(target_words) # [batch_size, 1, emb_size]\n",
    "        neg_embeds    = -self.embedding_outside(negative_words) # [batch_size, num_neg, emb_size]\n",
    "        \n",
    "        positive_score = target_embeds.bmm(center_embeds.transpose(1, 2)).squeeze(2)\n",
    "        #[batch_size, 1, emb_size] @ [batch_size, emb_size, 1] = [batch_size, 1, 1] = [batch_size, 1]\n",
    "        \n",
    "        negative_score = neg_embeds.bmm(center_embeds.transpose(1, 2))\n",
    "        #[batch_size, k, emb_size] @ [batch_size, emb_size, 1] = [batch_size, k, 1]\n",
    "        \n",
    "        loss = self.logsigmoid(positive_score) + torch.sum(self.logsigmoid(negative_score), 1)\n",
    "                \n",
    "        return -torch.mean(loss)\n",
    "    \n",
    "    def prediction(self, inputs):\n",
    "        embeds = self.embedding_v(inputs)\n",
    "        \n",
    "        return embeds"
   ]
  },
  {
   "cell_type": "markdown",
   "metadata": {},
   "source": [
    "### 4.3 Glove"
   ]
  },
  {
   "cell_type": "code",
   "execution_count": 29,
   "metadata": {},
   "outputs": [],
   "source": [
    "class Glove(nn.Module):\n",
    "    \n",
    "    def __init__(self, voc_size, emb_size):\n",
    "        super(Glove, self).__init__()\n",
    "        self.embedding_center  = nn.Embedding(voc_size, emb_size)\n",
    "        self.embedding_outside = nn.Embedding(voc_size, emb_size)\n",
    "        \n",
    "        self.center_bias       = nn.Embedding(voc_size, 1) \n",
    "        self.outside_bias      = nn.Embedding(voc_size, 1)\n",
    "    \n",
    "    def forward(self, center, outside, coocs, weighting):\n",
    "        center_embeds  = self.embedding_center(center) #(batch_size, 1, emb_size)\n",
    "        outside_embeds = self.embedding_outside(outside) #(batch_size, 1, emb_size)\n",
    "        \n",
    "        center_bias    = self.center_bias(center).squeeze(1)\n",
    "        target_bias    = self.outside_bias(outside).squeeze(1)\n",
    "        \n",
    "        inner_product  = outside_embeds.bmm(center_embeds.transpose(1, 2)).squeeze(2)\n",
    "        #(batch_size, 1, emb_size) @ (batch_size, emb_size, 1) = (batch_size, 1, 1) = (batch_size, 1)\n",
    "        \n",
    "        loss = weighting * torch.pow(inner_product + center_bias + target_bias - coocs, 2)\n",
    "        \n",
    "        return torch.sum(loss)"
   ]
  },
  {
   "cell_type": "markdown",
   "metadata": {},
   "source": [
    "### 4.4 Gensim Model"
   ]
  },
  {
   "cell_type": "code",
   "execution_count": 30,
   "metadata": {},
   "outputs": [],
   "source": [
    "from gensim.test.utils import datapath\n",
    "from gensim.models import KeyedVectors\n",
    "from gensim.scripts.glove2word2vec import glove2word2vec\n",
    "\n",
    "# setting the dataset\n",
    "glove_file = datapath('D:/AIT/Sem2/NLP/NLP_Assignments/glove.6B.100d.txt')\n",
    "model_gensim = KeyedVectors.load_word2vec_format(glove_file, binary=False, no_header=True)"
   ]
  },
  {
   "cell_type": "markdown",
   "metadata": {},
   "source": [
    "## 5.Training"
   ]
  },
  {
   "cell_type": "code",
   "execution_count": 32,
   "metadata": {},
   "outputs": [
    {
     "data": {
      "text/plain": [
       "tensor([[   0,    1,    2,  ..., 4270, 4271,    0],\n",
       "        [   0,    1,    2,  ..., 4270, 4271,    0]])"
      ]
     },
     "execution_count": 32,
     "metadata": {},
     "output_type": "execute_result"
    }
   ],
   "source": [
    "#prepare all vocab of batch - 2 , vocab - 2 and embed - 2\n",
    "\n",
    "batch_size = 2\n",
    "voc_size   = len(vocab)\n",
    "emb_size = 2\n",
    "\n",
    "def prepare_sequence(seq, word2index):\n",
    "    idxs = list(map(lambda w: word2index[w] if word2index.get(w) is not None else word2index[\"<UNK>\"], seq))\n",
    "    return torch.LongTensor(idxs)\n",
    "\n",
    "all_vocabs = prepare_sequence(list(vocab), word2index).expand(batch_size, voc_size)\n",
    "all_vocabs"
   ]
  },
  {
   "cell_type": "markdown",
   "metadata": {},
   "source": [
    "### Preparing all the models"
   ]
  },
  {
   "cell_type": "code",
   "execution_count": 33,
   "metadata": {},
   "outputs": [
    {
     "data": {
      "text/plain": [
       "Skipgram(\n",
       "  (embedding_center): Embedding(4273, 2)\n",
       "  (embedding_outside): Embedding(4273, 2)\n",
       ")"
      ]
     },
     "execution_count": 33,
     "metadata": {},
     "output_type": "execute_result"
    }
   ],
   "source": [
    "model_skipgram_positive = Skipgram(voc_size, emb_size)\n",
    "model_skipgram_positive"
   ]
  },
  {
   "cell_type": "code",
   "execution_count": 34,
   "metadata": {},
   "outputs": [
    {
     "data": {
      "text/plain": [
       "Glove(\n",
       "  (embedding_center): Embedding(4273, 2)\n",
       "  (embedding_outside): Embedding(4273, 2)\n",
       "  (center_bias): Embedding(4273, 1)\n",
       "  (outside_bias): Embedding(4273, 1)\n",
       ")"
      ]
     },
     "execution_count": 34,
     "metadata": {},
     "output_type": "execute_result"
    }
   ],
   "source": [
    "model_glove = Glove(voc_size, emb_size)\n",
    "model_glove"
   ]
  },
  {
   "cell_type": "code",
   "execution_count": 35,
   "metadata": {},
   "outputs": [
    {
     "data": {
      "text/plain": [
       "Skipgram(\n",
       "  (embedding_center): Embedding(4273, 2)\n",
       "  (embedding_outside): Embedding(4273, 2)\n",
       ")"
      ]
     },
     "execution_count": 35,
     "metadata": {},
     "output_type": "execute_result"
    }
   ],
   "source": [
    "model_skipgram_negative = Skipgram(voc_size, emb_size)\n",
    "model_skipgram_negative"
   ]
  },
  {
   "cell_type": "code",
   "execution_count": 36,
   "metadata": {},
   "outputs": [],
   "source": [
    "input_tensor = torch.LongTensor(x)\n",
    "label_tensor = torch.LongTensor(y)"
   ]
  },
  {
   "cell_type": "code",
   "execution_count": 37,
   "metadata": {},
   "outputs": [],
   "source": [
    "loss_skipgram_positive = model_skipgram_positive(input_tensor, label_tensor, all_vocabs)\n",
    "loss_skipgram_negative = model_skipgram_negative(input_tensor, label_tensor, all_vocabs)\n",
    "# x, y, cooc, weighting = random_batch_glove(batch_size, corpus, skip_grams, X_ik, weighting_dic)\n",
    "\n",
    "# loss_glove = model_glove(torch.LongTensor(x), torch.LongTensor(y), torch.LongTensor(cooc), torch.LongTensor(weighting))"
   ]
  },
  {
   "cell_type": "code",
   "execution_count": 38,
   "metadata": {},
   "outputs": [],
   "source": [
    "batch_size = 2\n",
    "emb_size   = 2\n",
    "model_skipgram_positive      = Skipgram(voc_size, emb_size)\n",
    "optimizer_skipgram_positive  = optim.Adam(model_skipgram_positive.parameters(), lr=0.001)\n",
    "optimizer_skipgram_negative  = optim.Adam(model_skipgram_negative.parameters(), lr=0.001)\n",
    "\n",
    "criterion = nn.CrossEntropyLoss()\n",
    "optimizer_glove = optim.Adam(model_glove.parameters(), lr=0.001)"
   ]
  },
  {
   "cell_type": "markdown",
   "metadata": {},
   "source": [
    "### Training the models"
   ]
  },
  {
   "cell_type": "code",
   "execution_count": 39,
   "metadata": {},
   "outputs": [],
   "source": [
    "def epoch_time(start_time, end_time):\n",
    "    elapsed_time = end_time - start_time\n",
    "    elapsed_mins = int(elapsed_time / 60)\n",
    "    elapsed_secs = int(elapsed_time - (elapsed_mins * 60))\n",
    "    return elapsed_mins, elapsed_secs"
   ]
  },
  {
   "cell_type": "code",
   "execution_count": 40,
   "metadata": {},
   "outputs": [
    {
     "name": "stdout",
     "output_type": "stream",
     "text": [
      "Positive Skigram\n",
      "Epoch      1 | Loss: 9.450300| time: 0m 0s\n",
      "Positive Skigram\n",
      "Epoch      2 | Loss: 10.412741| time: 0m 0s\n",
      "Positive Skigram\n",
      "Epoch      3 | Loss: 7.812970| time: 0m 0s\n",
      "Positive Skigram\n",
      "Epoch      4 | Loss: 10.702510| time: 0m 0s\n",
      "Positive Skigram\n",
      "Epoch      5 | Loss: 8.898797| time: 0m 0s\n",
      "Positive Skigram\n",
      "Epoch      6 | Loss: 9.200410| time: 0m 0s\n",
      "Positive Skigram\n",
      "Epoch      7 | Loss: 8.337086| time: 0m 0s\n",
      "Positive Skigram\n",
      "Epoch      8 | Loss: 10.390896| time: 0m 0s\n",
      "Positive Skigram\n",
      "Epoch      9 | Loss: 9.237535| time: 0m 0s\n",
      "Positive Skigram\n",
      "Epoch     10 | Loss: 12.773212| time: 0m 0s\n",
      "Total runtime: 1.87 seconds\n"
     ]
    }
   ],
   "source": [
    "num_epochs = 10\n",
    "total_start = time.time()\n",
    "\n",
    "for epoch in range(num_epochs):\n",
    "    start = time.time()\n",
    "    \n",
    "    #get batch\n",
    "    input_batch, label_batch = random_batch(batch_size, corpus)\n",
    "    \n",
    "    input_tensor = torch.LongTensor(input_batch)\n",
    "    label_tensor = torch.LongTensor(label_batch)\n",
    "    \n",
    "    #predict\n",
    "    loss_skipgram_positive = model_skipgram_positive(input_tensor, label_tensor, all_vocabs)\n",
    "    \n",
    "    #backprogate\n",
    "    optimizer_skipgram_positive.zero_grad()\n",
    "    loss_skipgram_positive.backward()\n",
    "\n",
    "    #update alpha\n",
    "    optimizer_skipgram_positive.step()\n",
    "    end = time.time()\n",
    "    \n",
    "    epoch_mins, epoch_secs = epoch_time(start, end)\n",
    "    \n",
    "    #print the loss_skipgram_positive\n",
    "    # if (epoch + 1) % 1000 == 0:\n",
    "    print(\"Positive Skigram\")\n",
    "    print(f\"Epoch {epoch+1:6.0f} | Loss: {loss_skipgram_positive:2.6f}| time: {epoch_mins}m {epoch_secs}s\")\n",
    "# Record the ending time\n",
    "total_end = time.time()\n",
    "\n",
    "# Calculate and print the total runtime\n",
    "total_runtime = total_end - total_start\n",
    "print(f\"Total runtime: {total_runtime:.2f} seconds\")"
   ]
  },
  {
   "cell_type": "code",
   "execution_count": 41,
   "metadata": {},
   "outputs": [
    {
     "name": "stdout",
     "output_type": "stream",
     "text": [
      "Negative Skigram\n",
      "Epoch      1 | Loss: 9.800464 | time: 0m 0s\n",
      "Negative Skigram\n",
      "Epoch      2 | Loss: 7.853164 | time: 0m 0s\n",
      "Negative Skigram\n",
      "Epoch      3 | Loss: 9.314707 | time: 0m 0s\n",
      "Negative Skigram\n",
      "Epoch      4 | Loss: 7.424520 | time: 0m 0s\n",
      "Negative Skigram\n",
      "Epoch      5 | Loss: 9.622099 | time: 0m 0s\n",
      "Negative Skigram\n",
      "Epoch      6 | Loss: 8.495985 | time: 0m 0s\n",
      "Negative Skigram\n",
      "Epoch      7 | Loss: 9.595748 | time: 0m 0s\n",
      "Negative Skigram\n",
      "Epoch      8 | Loss: 8.537954 | time: 0m 0s\n",
      "Negative Skigram\n",
      "Epoch      9 | Loss: 8.436984 | time: 0m 0s\n",
      "Negative Skigram\n",
      "Epoch     10 | Loss: 8.785051 | time: 0m 0s\n",
      "Total runtime: 1.81 seconds\n"
     ]
    }
   ],
   "source": [
    "num_epochs = 10\n",
    "\n",
    "\n",
    "total_start = time.time()\n",
    "for epoch in range(num_epochs):\n",
    "    start = time.time()\n",
    "    \n",
    "    #get batch\n",
    "    input_batch, label_batch = random_batch(batch_size, corpus)\n",
    "    \n",
    "    input_tensor = torch.LongTensor(input_batch)\n",
    "    label_tensor = torch.LongTensor(label_batch)\n",
    "    \n",
    "    #predict\n",
    "    loss_skipgram_negative = model_skipgram_negative(input_tensor, label_tensor, all_vocabs)\n",
    "    \n",
    "    #backprogate\n",
    "    optimizer_skipgram_negative.zero_grad()\n",
    "    loss_skipgram_negative.backward()\n",
    "    \n",
    "    #update alpha\n",
    "    optimizer_skipgram_negative.step()\n",
    "\n",
    "    end = time.time()\n",
    "    \n",
    "    epoch_mins, epoch_secs = epoch_time(start, end)\n",
    "    \n",
    "    #print the loss_skipgram_positive\n",
    "    # if (epoch + 1) % 1000 == 0:\n",
    "    print(\"Negative Skigram\")\n",
    "    print(f\"Epoch {epoch+1:6.0f} | Loss: {loss_skipgram_negative:2.6f} | time: {epoch_mins}m {epoch_secs}s\")\n",
    "# Record the ending time\n",
    "total_end = time.time()\n",
    "\n",
    "# Calculate and print the total runtime\n",
    "total_runtime = total_end - total_start\n",
    "print(f\"Total runtime: {total_runtime:.2f} seconds\")\n"
   ]
  },
  {
   "cell_type": "code",
   "execution_count": 42,
   "metadata": {},
   "outputs": [
    {
     "name": "stdout",
     "output_type": "stream",
     "text": [
      "Glove\n",
      "Epoch      1 | Loss: 1.703771 | time: 0m 0s\n",
      "Glove\n",
      "Epoch      2 | Loss: 0.171729 | time: 0m 0s\n",
      "Glove\n",
      "Epoch      3 | Loss: 28.697340 | time: 0m 0s\n",
      "Glove\n",
      "Epoch      4 | Loss: 0.024538 | time: 0m 0s\n",
      "Glove\n",
      "Epoch      5 | Loss: 0.586223 | time: 0m 0s\n",
      "Glove\n",
      "Epoch      6 | Loss: 0.025614 | time: 0m 0s\n",
      "Glove\n",
      "Epoch      7 | Loss: 25.135370 | time: 0m 0s\n",
      "Glove\n",
      "Epoch      8 | Loss: 1.015011 | time: 0m 0s\n",
      "Glove\n",
      "Epoch      9 | Loss: 3.492422 | time: 0m 0s\n",
      "Glove\n",
      "Epoch     10 | Loss: 0.226656 | time: 0m 0s\n",
      "Total runtime: 1.81 seconds\n"
     ]
    }
   ],
   "source": [
    "num_epochs = 10\n",
    "\n",
    "for epoch in range(num_epochs):\n",
    "    start = time.time()\n",
    "    \n",
    "    #get batch\n",
    "    input_batch, label_batch = random_batch(batch_size, corpus)\n",
    "    \n",
    "    input_batch, target_batch, cooc_batch, weighting_batch = random_batch_glove(batch_size, corpus, skip_grams, X_ik, weighting_dic)\n",
    "    input_batch  = torch.LongTensor(input_batch)         #[batch_size, 1]\n",
    "    target_batch = torch.LongTensor(target_batch)        #[batch_size, 1]\n",
    "    cooc_batch   = torch.FloatTensor(cooc_batch)         #[batch_size, 1]\n",
    "    weighting_batch = torch.FloatTensor(weighting_batch)\n",
    "    \n",
    "    #predict   \n",
    "    loss_glove = model_glove(input_batch, target_batch, cooc_batch, weighting_batch)\n",
    "    \n",
    "    #backprogate\n",
    "    optimizer_glove.zero_grad()\n",
    "    loss_glove.backward()\n",
    "    \n",
    "    #update alpha\n",
    "    optimizer_glove.step()\n",
    "\n",
    "    end = time.time()\n",
    "    \n",
    "    epoch_mins, epoch_secs = epoch_time(start, end)\n",
    "    \n",
    "    #print the loss_skipgram_positive\n",
    "    # if (epoch + 1) % 1000 == 0:\n",
    "    print(\"Glove\")\n",
    "    print(f\"Epoch {epoch+1:6.0f} | Loss: {loss_glove:2.6f} | time: {epoch_mins}m {epoch_secs}s\")\n",
    "total_runtime = total_end - total_start\n",
    "print(f\"Total runtime: {total_runtime:.2f} seconds\")"
   ]
  },
  {
   "cell_type": "markdown",
   "metadata": {},
   "source": [
    "| Model           | Window Size  | Training Loss | Training Time (sec) |\n",
    "|------------------|-------------|---------------|---------------------|\n",
    "| Skipgram         |      2      |    9.4        |     2.6             |\n",
    "| Skipgram (NEG)   |      2      |    9.3981     |     1.23            |\n",
    "| Glove            |      2      |    0.8        |     1.23            |\n",
    "| Glove (Gensim)   |      -      |    -          |      -              |\n"
   ]
  },
  {
   "cell_type": "markdown",
   "metadata": {},
   "source": [
    "## 6. Embeddings"
   ]
  },
  {
   "cell_type": "code",
   "execution_count": 43,
   "metadata": {},
   "outputs": [],
   "source": [
    "def get_embed(model, word):\n",
    "    try:\n",
    "        # Find the index\n",
    "        index = word2index[word]\n",
    "    except:\n",
    "        # if not found give the index of unknown token\n",
    "        index = word2index['<UNK>']\n",
    "    \n",
    "    # get the word in terms of tensor\n",
    "    word = torch.LongTensor([word2index[word]])\n",
    "     # embed the center and the outside word and then find the final embed\n",
    "    embed_c = model.embedding_center(word)\n",
    "    embed_o = model.embedding_outside(word)\n",
    "    embed   = (embed_c + embed_o) / 2\n",
    "    \n",
    "    \n",
    "    return embed[0][0].item(), embed[0][1].item()"
   ]
  },
  {
   "cell_type": "code",
   "execution_count": 44,
   "metadata": {},
   "outputs": [],
   "source": [
    "import torch\n",
    "import numpy as np\n",
    "\n",
    "def get_embed_for_corpus(model, words):\n",
    "    embeddings = {}\n",
    "\n",
    "    for word in words:\n",
    "        try:\n",
    "            index = word2index[word]\n",
    "        except KeyError:\n",
    "            index = word2index['<UNK>']\n",
    "\n",
    "        word_tensor = torch.LongTensor([index])\n",
    "\n",
    "        embed_c = model.embedding_center(word_tensor)\n",
    "        embed_o = model.embedding_outside(word_tensor)\n",
    "        embed = (embed_c + embed_o) / 2\n",
    "\n",
    "        # return as dictionary with key as the word and value as the array of its embedding\n",
    "        embeddings[word] = np.array([embed[0][0].item(), embed[0][1].item()])\n",
    "\n",
    "    return embeddings\n"
   ]
  },
  {
   "cell_type": "markdown",
   "metadata": {},
   "source": [
    "## 7. Cosine similarity"
   ]
  },
  {
   "cell_type": "code",
   "execution_count": 45,
   "metadata": {},
   "outputs": [],
   "source": [
    "#more formally is to divide by its norm\n",
    "def cosine_similarity(A, B):\n",
    "    dot_product = np.dot(A, B)\n",
    "    norm_a = np.linalg.norm(A)\n",
    "    norm_b = np.linalg.norm(B)\n",
    "    similarity = dot_product / (norm_a * norm_b)\n",
    "    return similarity"
   ]
  },
  {
   "cell_type": "code",
   "execution_count": 46,
   "metadata": {},
   "outputs": [],
   "source": [
    "def cosine_similarity_for_corpus(embeddings, target_word):\n",
    "    # List to store (word, cosine_similarity) pairs\n",
    "    similarities = []\n",
    "\n",
    "    # Get the index of the target word or use the index for '<UNK>' if not found\n",
    "    target_index = word2index.get(target_word, word2index['<UNK>'])\n",
    "    \n",
    "    # Get the vector for the target word\n",
    "    target_vector = embeddings[target_index]\n",
    "\n",
    "    # Iterate through all words in the embeddings dictionary\n",
    "    for word, vector in embeddings.items():\n",
    "        # Calculate the cosine similarity between the target word and the current word\n",
    "        similarity = cosine_similarity(target_vector, vector)\n",
    "        \n",
    "        # Append the (word, cosine_similarity) pair to the list\n",
    "        similarities.append((word, similarity))\n",
    "\n",
    "    return similarities\n"
   ]
  },
  {
   "cell_type": "markdown",
   "metadata": {},
   "source": [
    "## Finding the predicted y using the different models\n",
    "### Using Word analogies dataset  \n",
    "Dataset taken from [website](https://www.fit.vutbr.cz/~imikolov/rnnlm/word-test.v1.txt).\n"
   ]
  },
  {
   "cell_type": "code",
   "execution_count": 48,
   "metadata": {},
   "outputs": [],
   "source": [
    "# Specify the path to your .txt file\n",
    "file_path = 'D:/AIT/Sem2/NLP/NLP_Assignments/word-test.v1.txt'\n",
    "\n",
    "# Read the content of the file\n",
    "with open(file_path, 'r') as file:\n",
    "    # Skip the first line\n",
    "    file.readline()\n",
    "\n",
    "    # Read the remaining content of the file\n",
    "    file_content = file.readlines()\n",
    "\n",
    "# Initialize variables to store relevant lines\n",
    "total_corpus = []\n",
    "\n",
    "# Variable to keep track of the current heading\n",
    "current_heading = None\n",
    "\n",
    "# Iterate through each line in the file content\n",
    "for line in file_content:\n",
    "    # Check if the line is a heading\n",
    "    if line.startswith(':'):\n",
    "        current_heading = line.strip()\n",
    "    else:\n",
    "        # Split the line into individual words and convert to lowercase\n",
    "        words = [word.lower() for word in line.strip().split()]\n",
    "        total_corpus.append(words)\n"
   ]
  },
  {
   "cell_type": "code",
   "execution_count": 50,
   "metadata": {},
   "outputs": [],
   "source": [
    "file_path = 'D:/AIT/Sem2/NLP/NLP_Assignments/word-test.v1.txt'\n",
    "\n",
    "# Read the content of the file\n",
    "with open(file_path, 'r') as file:\n",
    "    file_content = file.readlines()\n",
    "\n",
    "# Initialize variables to store relevant lines\n",
    "capital_common_countries = []\n",
    "past_tense = []\n",
    "\n",
    "# Variable to keep track of the current heading\n",
    "current_heading = None\n",
    "\n",
    "# Iterate through each line in the file content\n",
    "for line in file_content:\n",
    "    # Check if the line is a heading\n",
    "    if line.startswith(':'):\n",
    "        current_heading = line.strip()\n",
    "    elif current_heading == ': capital-common-countries':\n",
    "        # Split the line into individual words and convert to lowercase\n",
    "        words = [word.lower() for word in line.strip().split()]\n",
    "        capital_common_countries.append(words)\n",
    "    elif current_heading == ': gram7-past-tense':\n",
    "        # Split the line into individual words and convert to lowercase\n",
    "        words = [word.lower() for word in line.strip().split()]\n",
    "        past_tense.append(words)\n"
   ]
  },
  {
   "cell_type": "code",
   "execution_count": 53,
   "metadata": {},
   "outputs": [],
   "source": [
    "# Flatten the 2D list into a list of lists\n",
    "flattened_list_of_country = [word for pair in capital_common_countries for word in pair]\n",
    "\n",
    "# Wrap the flattened list in another list\n",
    "resulting_capital_list = [flattened_list_of_country]\n",
    "\n",
    "# Flatten the 2D list into a list of lists\n",
    "flattened_list_of_past_tense = [word for pair in past_tense for word in pair]\n",
    "\n",
    "# Wrap the flattened list in another list\n",
    "resulting_capital_list = [flattened_list_of_country]\n",
    "resulting_past_tense_list = [flattened_list_of_past_tense]\n",
    "\n",
    "# Flatten the 2D list into a list of lists\n",
    "flattened_list_total_words = [word for pair in total_corpus for word in pair]\n",
    "# Wrap the flattened list in another list\n",
    "resulting_total_corpus = [flattened_list_total_words]\n",
    "\n",
    "\n",
    "flatten = lambda l: [item for sublist in l for item in sublist]\n",
    "capital_list = list(set(flatten(resulting_capital_list)))\n",
    "past_tense_list = list(set(flatten(resulting_past_tense_list)))\n",
    "whole_corpus = list(set(flatten(resulting_total_corpus)))"
   ]
  },
  {
   "cell_type": "code",
   "execution_count": 55,
   "metadata": {},
   "outputs": [],
   "source": [
    "# Store the embeddings\n",
    "embed_capital_glove = get_embed_for_corpus(model_glove, capital_list)\n",
    "embed_capital_skipgram_positive = get_embed_for_corpus(model_skipgram_positive, capital_list)\n",
    "embed_capital_skipgram_negative = get_embed_for_corpus(model_skipgram_negative, capital_list)\n",
    "\n",
    "embed_past_tense_glove = get_embed_for_corpus(model_glove, past_tense_list)\n",
    "embed_past_tense_skipgram_positive = get_embed_for_corpus(model_skipgram_positive, past_tense_list)\n",
    "embed_past_tense_skipgram_negative = get_embed_for_corpus(model_skipgram_negative, past_tense_list)\n",
    "\n",
    "embed_total_glove = get_embed_for_corpus(model_glove, whole_corpus)\n",
    "embed_whole_skipgram_positive = get_embed_for_corpus(model_skipgram_positive, whole_corpus)\n",
    "embed_whole_skipgram_negative = get_embed_for_corpus(model_skipgram_negative, whole_corpus)\n"
   ]
  },
  {
   "cell_type": "code",
   "execution_count": 56,
   "metadata": {},
   "outputs": [],
   "source": [
    "# y_pred for glove for the capital list\n",
    "y_pred_glove_country = []\n",
    "\n",
    "for i in capital_common_countries:  \n",
    "    y = embed_capital_glove[i[1]] - embed_capital_glove[i[0]] + embed_capital_glove[i[2]]\n",
    "    y_pred_glove_country.append(y)\n"
   ]
  },
  {
   "cell_type": "code",
   "execution_count": 57,
   "metadata": {},
   "outputs": [],
   "source": [
    "# y_pred for glove for the past tense list\n",
    "y_pred_glove_past = []\n",
    "\n",
    "for i in past_tense:  \n",
    "    y = embed_past_tense_glove[i[1]] - embed_past_tense_glove[i[0]] + embed_past_tense_glove[i[2]]\n",
    "    y_pred_glove_past.append(y)\n"
   ]
  },
  {
   "cell_type": "code",
   "execution_count": 58,
   "metadata": {},
   "outputs": [],
   "source": [
    "# y_pred for skipgram negative sampling for the capital list\n",
    "y_pred_neg_samp_country = []\n",
    "\n",
    "for i in capital_common_countries:  \n",
    "    y = embed_capital_skipgram_negative[i[1]] - embed_capital_skipgram_negative[i[0]] + embed_capital_skipgram_negative[i[2]]\n",
    "    y_pred_neg_samp_country.append(y)\n"
   ]
  },
  {
   "cell_type": "code",
   "execution_count": 59,
   "metadata": {},
   "outputs": [],
   "source": [
    "# y_pred for skipgram negative sampling for the past tense list\n",
    "y_pred_neg_samp_past = []\n",
    "\n",
    "for i in past_tense:  \n",
    "    y = embed_past_tense_skipgram_negative[i[0]] - embed_past_tense_skipgram_negative[i[0]] + embed_past_tense_skipgram_negative[i[2]]\n",
    "    y_pred_neg_samp_past.append(y)\n"
   ]
  },
  {
   "cell_type": "code",
   "execution_count": 60,
   "metadata": {},
   "outputs": [],
   "source": [
    "# y_pred for skipgram positive sampling for the country list\n",
    "y_pred_positive_samp_country = []\n",
    "\n",
    "for i in capital_common_countries: \n",
    "    y = embed_capital_skipgram_positive[i[1]] - embed_capital_skipgram_positive[i[0]] + embed_capital_skipgram_positive[i[2]]\n",
    "    y_pred_positive_samp_country.append(y)\n"
   ]
  },
  {
   "cell_type": "code",
   "execution_count": 61,
   "metadata": {},
   "outputs": [],
   "source": [
    "# y_pred for skipgram positive sampling for the past tense list\n",
    "y_pred_positive_past_tense = []\n",
    "\n",
    "for i in past_tense: \n",
    "    y = embed_past_tense_skipgram_positive[i[1]] - embed_past_tense_skipgram_positive[i[0]] + embed_past_tense_skipgram_positive[i[2]]\n",
    "    y_pred_positive_past_tense.append(y)\n"
   ]
  },
  {
   "cell_type": "code",
   "execution_count": 62,
   "metadata": {},
   "outputs": [],
   "source": [
    "# find the cosine similarity\n",
    "#more formally is to divide by its norm\n",
    "def cosine_similarity(A, B):\n",
    "    dot_product = np.dot(A, B)\n",
    "    norm_a = np.linalg.norm(A)\n",
    "    norm_b = np.linalg.norm(B)\n",
    "    similarity = dot_product / (norm_a * norm_b)\n",
    "    return similarity"
   ]
  },
  {
   "cell_type": "code",
   "execution_count": 63,
   "metadata": {},
   "outputs": [],
   "source": [
    "def find_max_cosine_words(y_pred, embeddings):\n",
    "    \"\"\"\n",
    "    Find the word with the maximum cosine similarity for each vector in y_pred.\n",
    "\n",
    "    Parameters:\n",
    "    - y_pred: List of vectors for which to find the max cosine similarity words.\n",
    "    - embeddings: Dictionary of word embeddings.\n",
    "\n",
    "    Returns:\n",
    "    - List of words with the maximum cosine similarity for each vector in y_pred.\n",
    "    \"\"\"\n",
    "    max_cosine_words = []\n",
    "\n",
    "    for j in range(len(y_pred)):\n",
    "        max_cosine = -1\n",
    "        max_cosine_word = \"\"\n",
    "\n",
    "        for i in embeddings.keys():\n",
    "            cosine_temp = cosine_similarity(y_pred[j], embeddings[i])\n",
    "\n",
    "            if cosine_temp > max_cosine:\n",
    "                max_cosine_word = i\n",
    "                max_cosine = cosine_temp\n",
    "\n",
    "        max_cosine_words.append(max_cosine_word)\n",
    "\n",
    "    return max_cosine_words\n",
    "\n",
    "#Usage\n",
    "cosine_neg_samp_syntatical = find_max_cosine_words(y_pred_neg_samp_country, embed_capital_skipgram_negative)\n",
    "cosine_positive_samp_syntatical = find_max_cosine_words(y_pred_positive_samp_country, embed_capital_skipgram_positive)\n",
    "cosine_glove_syntatical = find_max_cosine_words(y_pred_glove_country, embed_capital_glove)\n"
   ]
  },
  {
   "cell_type": "code",
   "execution_count": 64,
   "metadata": {},
   "outputs": [
    {
     "name": "stdout",
     "output_type": "stream",
     "text": [
      "Next 10 similar words for user-provided word 'greece': ['old', 'go', 'free', 'stronger', 'increased', 'child', 'samoa', 'older', 'looking', 'big']\n"
     ]
    }
   ],
   "source": [
    "from heapq import nlargest\n",
    "\n",
    "def find_next_10_cosine_words_for_word(target_word, embeddings, top_n=10):\n",
    "    \"\"\"\n",
    "    Find the next 10 words with the maximum cosine similarity for a user-provided specific word.\n",
    "\n",
    "    Parameters:\n",
    "    - target_word: The word for which to find the next 10 cosine similarity words.\n",
    "    - embeddings: Dictionary of word embeddings.\n",
    "    - top_n: Number of top words to retrieve for the target word (default is 10).\n",
    "\n",
    "    Returns:\n",
    "    - List of the next 10 words with the maximum cosine similarity for the target word or [\"Word not in Corpus\"].\n",
    "    \"\"\"\n",
    "    if target_word not in embeddings:\n",
    "        return [\"Word not in Corpus\"]\n",
    "\n",
    "    target_vector = embeddings[target_word]\n",
    "    cosine_similarities = [(word, cosine_similarity(target_vector, embeddings[word])) for word in embeddings.keys()]\n",
    "    top_n_words = nlargest(top_n + 1, cosine_similarities, key=lambda x: x[1])\n",
    "\n",
    "    # Exclude the target word itself\n",
    "    top_n_words = [word for word, _ in top_n_words if word != target_word]\n",
    "\n",
    "    return top_n_words[:10]\n",
    "\n",
    "# Usage:\n",
    "user_target_word = 'greece'\n",
    "next_10_cosine_for_user_word = find_next_10_cosine_words_for_word(user_target_word, embed_whole_skipgram_negative, top_n=10)\n",
    "\n",
    "# Print the results\n",
    "if next_10_cosine_for_user_word == [\"Word not in Corpus\"]:\n",
    "    print(\"Word not in Corpus\")\n",
    "else:\n",
    "    print(f\"Next 10 similar words for user-provided word '{user_target_word}': {next_10_cosine_for_user_word}\")\n"
   ]
  },
  {
   "cell_type": "markdown",
   "metadata": {},
   "source": [
    "## 9. Accuracy"
   ]
  },
  {
   "cell_type": "markdown",
   "metadata": {},
   "source": [
    "### 9.1 Semantic Accuracy\n",
    "(athens/greece/kathmandu --> Nepal)"
   ]
  },
  {
   "cell_type": "code",
   "execution_count": 65,
   "metadata": {},
   "outputs": [
    {
     "name": "stdout",
     "output_type": "stream",
     "text": [
      "Semantic Accuracy of Skipgram Negative: 14.6245059289%\n",
      "Semantic Accuracy of Skipgram Positive: 14.4268774704%\n",
      "Semantic Accuracy of Glove: 18.3794466403%\n"
     ]
    }
   ],
   "source": [
    "def calculate_accuracy(predictions, true_words):\n",
    "    \"\"\"\n",
    "    Calculate accuracy based on predictions and true words.\n",
    "\n",
    "    Parameters:\n",
    "    - predictions: List of predicted words.\n",
    "    - true_words: List of true words.\n",
    "\n",
    "    Returns:\n",
    "    - Accuracy as a percentage.\n",
    "    \"\"\"\n",
    "    total_trials = len(predictions)\n",
    "    total_correct = sum(1 for pred_word in predictions if pred_word in true_words)\n",
    "\n",
    "    accuracy = (total_correct / total_trials) * 100\n",
    "\n",
    "    return accuracy\n",
    "\n",
    "# Usage:\n",
    "semantic_accuracy_neg_samp = calculate_accuracy(find_max_cosine_words(y_pred_neg_samp_country, embed_whole_skipgram_negative), [true_word[3] for true_word in capital_common_countries])\n",
    "semantic_accuracy_pos_samp = calculate_accuracy(find_max_cosine_words(y_pred_positive_samp_country, embed_whole_skipgram_positive), [true_word[3] for true_word in capital_common_countries])\n",
    "semantic_accuracy_glove = calculate_accuracy(find_max_cosine_words(y_pred_glove_country, embed_total_glove), [true_word[3] for true_word in capital_common_countries])\n",
    "print(\"Semantic Accuracy of Skipgram Negative: {:.10f}%\".format(semantic_accuracy_neg_samp))\n",
    "print(\"Semantic Accuracy of Skipgram Positive: {:.10f}%\".format(semantic_accuracy_pos_samp))\n",
    "print(\"Semantic Accuracy of Glove: {:.10f}%\".format(semantic_accuracy_glove))\n"
   ]
  },
  {
   "cell_type": "code",
   "execution_count": 67,
   "metadata": {},
   "outputs": [
    {
     "name": "stdout",
     "output_type": "stream",
     "text": [
      "First line removed and content saved to: D:/AIT/Sem2/NLP/NLP_Assignments/word-test-without-first-line.txt\n"
     ]
    }
   ],
   "source": [
    "input_file_path = 'D:/AIT/Sem2/NLP/NLP_Assignments/word-test.v1.txt'\n",
    "output_file_path = 'D:/AIT/Sem2/NLP/NLP_Assignments/word-test-without-first-line.txt'\n",
    "\n",
    "# Open the input file for reading\n",
    "with open(input_file_path, 'r', encoding='utf-8') as input_file:\n",
    "    # Read all lines from the input file\n",
    "    lines = input_file.readlines()\n",
    "\n",
    "# Open the output file for writing\n",
    "with open(output_file_path, 'w', encoding='utf-8') as output_file:\n",
    "    # Write all lines except the first line to the output file\n",
    "    output_file.writelines(lines[1:])\n",
    "\n",
    "print(f\"First line removed and content saved to: {output_file_path}\")\n"
   ]
  },
  {
   "cell_type": "code",
   "execution_count": 68,
   "metadata": {},
   "outputs": [
    {
     "name": "stdout",
     "output_type": "stream",
     "text": [
      "Lines starting with ': capital-countries' saved to: D:/AIT/Sem2/NLP/NLP_Assignments/capital.txt\n"
     ]
    }
   ],
   "source": [
    "input_file_path = 'D:/AIT/Sem2/NLP/NLP_Assignments/word-test.v1.txt'\n",
    "output_file_path = 'D:/AIT/Sem2/NLP/NLP_Assignments/capital.txt'\n",
    "\n",
    "# Open the input file for reading\n",
    "with open(input_file_path, 'r', encoding='utf-8') as input_file:\n",
    "    # Read all lines from the input file\n",
    "    lines = input_file.readlines()\n",
    "\n",
    "# Open the output file for writing\n",
    "with open(output_file_path, 'w', encoding='utf-8') as output_file:\n",
    "    # Flag to indicate whether to start writing lines\n",
    "    start_writing = False\n",
    "\n",
    "    # Iterate through lines\n",
    "    for line in lines:\n",
    "        # Check if the line starts with ': gram7-past-tense'\n",
    "        if line.startswith(': capital-common-countries'):\n",
    "            # Set the flag to start writing\n",
    "            start_writing = True\n",
    "        elif line.startswith(':'):\n",
    "            # If a new section header is encountered, stop writing\n",
    "            start_writing = False\n",
    "\n",
    "        # Write lines to the output file if the flag is True\n",
    "        if start_writing:\n",
    "            output_file.write(line)\n",
    "\n",
    "print(f\"Lines starting with ': capital-countries' saved to: {output_file_path}\")\n"
   ]
  },
  {
   "cell_type": "code",
   "execution_count": 69,
   "metadata": {},
   "outputs": [
    {
     "name": "stdout",
     "output_type": "stream",
     "text": [
      "Semtatical Accuracy of Model Gensim: 0.9387351778656127\n"
     ]
    }
   ],
   "source": [
    "analogy_score_sem = model_gensim.evaluate_word_analogies(datapath('D:/AIT/Sem2/NLP/NLP_Assignments/capital.txt'))\n",
    "print(\"Semtatical Accuracy of Model Gensim:\", analogy_score_sem[0])"
   ]
  },
  {
   "cell_type": "markdown",
   "metadata": {},
   "source": [
    "### 9.2 Syntatical Accuracy\n",
    "run, runs, walk --> walks"
   ]
  },
  {
   "cell_type": "code",
   "execution_count": 70,
   "metadata": {},
   "outputs": [
    {
     "name": "stdout",
     "output_type": "stream",
     "text": [
      "Syntatical Accuracy of Skipgram Negative: 0.00%\n",
      "Syntatical Accuracy of Skipgram Positive: 15.19%\n",
      "Syntatical Accuracy of Glove: 10.90%\n"
     ]
    }
   ],
   "source": [
    "def calculate_accuracy(predictions, true_words):\n",
    "    \"\"\"\n",
    "    Calculate accuracy based on predictions and true words.\n",
    "\n",
    "    Parameters:\n",
    "    - predictions: List of predicted words.\n",
    "    - true_words: List of true words.\n",
    "\n",
    "    Returns:\n",
    "    - Accuracy as a percentage.\n",
    "    \"\"\"\n",
    "    total_trials = len(predictions)\n",
    "    total_correct = sum(1 for pred_word in predictions if pred_word in true_words)\n",
    "\n",
    "    accuracy = (total_correct / total_trials) * 100\n",
    "\n",
    "    return accuracy\n",
    "\n",
    "# Usage:\n",
    "syntatical_accuracy_neg_samp = calculate_accuracy(find_max_cosine_words(y_pred_neg_samp_past, embed_whole_skipgram_negative), [true_word[3] for true_word in past_tense])\n",
    "syntatical_accuracy_pos_samp = calculate_accuracy(find_max_cosine_words(y_pred_positive_past_tense, embed_whole_skipgram_positive), [true_word[3] for true_word in past_tense])\n",
    "syntatical_accuracy_glove = calculate_accuracy(find_max_cosine_words(y_pred_glove_past, embed_total_glove), [true_word[3] for true_word in past_tense])\n",
    "print(\"Syntatical Accuracy of Skipgram Negative: {:.2f}%\".format(syntatical_accuracy_neg_samp))\n",
    "print(\"Syntatical Accuracy of Skipgram Positive: {:.2f}%\".format(syntatical_accuracy_pos_samp))\n",
    "print(\"Syntatical Accuracy of Glove: {:.2f}%\".format(syntatical_accuracy_glove))\n"
   ]
  },
  {
   "cell_type": "code",
   "execution_count": 71,
   "metadata": {},
   "outputs": [
    {
     "name": "stdout",
     "output_type": "stream",
     "text": [
      "Lines starting with ': gram7-past-tense' saved to: D:/AIT/Sem2/NLP/NLP_Assignments/past_tense_lines.txt\n"
     ]
    }
   ],
   "source": [
    "input_file_path = 'D:/AIT/Sem2/NLP/NLP_Assignments/word-test.v1.txt'\n",
    "output_file_path = 'D:/AIT/Sem2/NLP/NLP_Assignments/past_tense_lines.txt'\n",
    "\n",
    "# Open the input file for reading\n",
    "with open(input_file_path, 'r', encoding='utf-8') as input_file:\n",
    "    # Read all lines from the input file\n",
    "    lines = input_file.readlines()\n",
    "\n",
    "# Open the output file for writing\n",
    "with open(output_file_path, 'w', encoding='utf-8') as output_file:\n",
    "    # Flag to indicate whether to start writing lines\n",
    "    start_writing = False\n",
    "\n",
    "    # Iterate through lines\n",
    "    for line in lines:\n",
    "        # Check if the line starts with ': gram7-past-tense'\n",
    "        if line.startswith(': gram7-past-tense'):\n",
    "            # Set the flag to start writing\n",
    "            start_writing = True\n",
    "        elif line.startswith(':'):\n",
    "            # If a new section header is encountered, stop writing\n",
    "            start_writing = False\n",
    "\n",
    "        # Write lines to the output file if the flag is True\n",
    "        if start_writing:\n",
    "            output_file.write(line)\n",
    "\n",
    "print(f\"Lines starting with ': gram7-past-tense' saved to: {output_file_path}\")\n"
   ]
  },
  {
   "cell_type": "code",
   "execution_count": 72,
   "metadata": {},
   "outputs": [
    {
     "name": "stdout",
     "output_type": "stream",
     "text": [
      "Syntatical Accuracy of Model Gensim: 0.5544871794871795\n"
     ]
    }
   ],
   "source": [
    "analogy_score_syn = model_gensim.evaluate_word_analogies(datapath('D:/AIT/Sem2/NLP/NLP_Assignments/past_tense_lines.txt'))\n",
    "print(\"Syntatical Accuracy of Model Gensim:\", analogy_score_syn[0])"
   ]
  },
  {
   "cell_type": "markdown",
   "metadata": {},
   "source": [
    "### Comparision between models\n",
    "\n",
    "\n",
    "| Model            | Window Size | Training Loss | Training Time(sec) | Syntactic Accuracy | Semantic Accuracy |\n",
    "|------------------|-------------|---------------|--------------------|--------------------|-------------------|\n",
    "| Skipgram         |      2      |      8.68     |      2.6           |        14.23%      |     16.35%        |\n",
    "| Skipgram (NEG)   |      2      |      8.56     |      1.23          |        14.23%      |     0.00%         |\n",
    "| Glove            |      2      |      0.8      |      1.23          |        14.82%      |     10.83%        |\n",
    "| Glove (Gensim)   |      -      |       -       |       -            |         93.8%      |     55%           |\n"
   ]
  },
  {
   "cell_type": "markdown",
   "metadata": {},
   "source": [
    "## 8. Spearman Coefficient\n",
    "Dataset taken from  [website](http://alfonseca.org/eng/research/wordsim353.html)."
   ]
  },
  {
   "cell_type": "code",
   "execution_count": 73,
   "metadata": {},
   "outputs": [
    {
     "data": {
      "text/html": [
       "<div>\n",
       "<style scoped>\n",
       "    .dataframe tbody tr th:only-of-type {\n",
       "        vertical-align: middle;\n",
       "    }\n",
       "\n",
       "    .dataframe tbody tr th {\n",
       "        vertical-align: top;\n",
       "    }\n",
       "\n",
       "    .dataframe thead th {\n",
       "        text-align: right;\n",
       "    }\n",
       "</style>\n",
       "<table border=\"1\" class=\"dataframe\">\n",
       "  <thead>\n",
       "    <tr style=\"text-align: right;\">\n",
       "      <th></th>\n",
       "      <th>word_1</th>\n",
       "      <th>word_2</th>\n",
       "      <th>similarity_index</th>\n",
       "    </tr>\n",
       "  </thead>\n",
       "  <tbody>\n",
       "    <tr>\n",
       "      <th>0</th>\n",
       "      <td>tiger</td>\n",
       "      <td>cat</td>\n",
       "      <td>7.35</td>\n",
       "    </tr>\n",
       "    <tr>\n",
       "      <th>1</th>\n",
       "      <td>tiger</td>\n",
       "      <td>tiger</td>\n",
       "      <td>10.00</td>\n",
       "    </tr>\n",
       "    <tr>\n",
       "      <th>2</th>\n",
       "      <td>plane</td>\n",
       "      <td>car</td>\n",
       "      <td>5.77</td>\n",
       "    </tr>\n",
       "    <tr>\n",
       "      <th>3</th>\n",
       "      <td>train</td>\n",
       "      <td>car</td>\n",
       "      <td>6.31</td>\n",
       "    </tr>\n",
       "    <tr>\n",
       "      <th>4</th>\n",
       "      <td>television</td>\n",
       "      <td>radio</td>\n",
       "      <td>6.77</td>\n",
       "    </tr>\n",
       "    <tr>\n",
       "      <th>...</th>\n",
       "      <td>...</td>\n",
       "      <td>...</td>\n",
       "      <td>...</td>\n",
       "    </tr>\n",
       "    <tr>\n",
       "      <th>198</th>\n",
       "      <td>rooster</td>\n",
       "      <td>voyage</td>\n",
       "      <td>0.62</td>\n",
       "    </tr>\n",
       "    <tr>\n",
       "      <th>199</th>\n",
       "      <td>noon</td>\n",
       "      <td>string</td>\n",
       "      <td>0.54</td>\n",
       "    </tr>\n",
       "    <tr>\n",
       "      <th>200</th>\n",
       "      <td>chord</td>\n",
       "      <td>smile</td>\n",
       "      <td>0.54</td>\n",
       "    </tr>\n",
       "    <tr>\n",
       "      <th>201</th>\n",
       "      <td>professor</td>\n",
       "      <td>cucumber</td>\n",
       "      <td>0.31</td>\n",
       "    </tr>\n",
       "    <tr>\n",
       "      <th>202</th>\n",
       "      <td>king</td>\n",
       "      <td>cabbage</td>\n",
       "      <td>0.23</td>\n",
       "    </tr>\n",
       "  </tbody>\n",
       "</table>\n",
       "<p>203 rows × 3 columns</p>\n",
       "</div>"
      ],
      "text/plain": [
       "         word_1    word_2  similarity_index\n",
       "0         tiger       cat              7.35\n",
       "1         tiger     tiger             10.00\n",
       "2         plane       car              5.77\n",
       "3         train       car              6.31\n",
       "4    television     radio              6.77\n",
       "..          ...       ...               ...\n",
       "198     rooster    voyage              0.62\n",
       "199        noon    string              0.54\n",
       "200       chord     smile              0.54\n",
       "201   professor  cucumber              0.31\n",
       "202        king   cabbage              0.23\n",
       "\n",
       "[203 rows x 3 columns]"
      ]
     },
     "execution_count": 73,
     "metadata": {},
     "output_type": "execute_result"
    }
   ],
   "source": [
    "import pandas as pd\n",
    "\n",
    "file_path = 'D:/AIT/Sem2/NLP/NLP_Assignments/wordsim353_sim_rel/wordsim_similarity_goldstandard.txt'\n",
    "\n",
    "# Define the column names\n",
    "columns = ['word_1', 'word_2', 'similarity_index']\n",
    "\n",
    "# Read the text file into a pandas DataFrame with specified column names\n",
    "df = pd.read_csv(file_path, sep='\\t', header=None, names=columns)\n",
    "\n",
    "df\n"
   ]
  },
  {
   "cell_type": "code",
   "execution_count": 74,
   "metadata": {},
   "outputs": [
    {
     "data": {
      "text/plain": [
       "(-1.0373988151550293, 0.3067092299461365)"
      ]
     },
     "execution_count": 74,
     "metadata": {},
     "output_type": "execute_result"
    }
   ],
   "source": [
    "get_embed(model_skipgram_negative,'<UNK>')"
   ]
  },
  {
   "cell_type": "code",
   "execution_count": 91,
   "metadata": {},
   "outputs": [
    {
     "data": {
      "text/html": [
       "<div>\n",
       "<style scoped>\n",
       "    .dataframe tbody tr th:only-of-type {\n",
       "        vertical-align: middle;\n",
       "    }\n",
       "\n",
       "    .dataframe tbody tr th {\n",
       "        vertical-align: top;\n",
       "    }\n",
       "\n",
       "    .dataframe thead th {\n",
       "        text-align: right;\n",
       "    }\n",
       "</style>\n",
       "<table border=\"1\" class=\"dataframe\">\n",
       "  <thead>\n",
       "    <tr style=\"text-align: right;\">\n",
       "      <th></th>\n",
       "      <th>word_1</th>\n",
       "      <th>word_2</th>\n",
       "      <th>similarity_index</th>\n",
       "      <th>dot_product_neg_samp</th>\n",
       "      <th>dot_product_pos_samp</th>\n",
       "      <th>dot_product_glove</th>\n",
       "    </tr>\n",
       "  </thead>\n",
       "  <tbody>\n",
       "    <tr>\n",
       "      <th>0</th>\n",
       "      <td>tiger</td>\n",
       "      <td>cat</td>\n",
       "      <td>7.35</td>\n",
       "      <td>0.305232</td>\n",
       "      <td>2.073911</td>\n",
       "      <td>1.849394</td>\n",
       "    </tr>\n",
       "    <tr>\n",
       "      <th>1</th>\n",
       "      <td>tiger</td>\n",
       "      <td>tiger</td>\n",
       "      <td>10.00</td>\n",
       "      <td>0.305232</td>\n",
       "      <td>2.073911</td>\n",
       "      <td>1.849394</td>\n",
       "    </tr>\n",
       "    <tr>\n",
       "      <th>2</th>\n",
       "      <td>plane</td>\n",
       "      <td>car</td>\n",
       "      <td>5.77</td>\n",
       "      <td>0.305232</td>\n",
       "      <td>2.073911</td>\n",
       "      <td>1.849394</td>\n",
       "    </tr>\n",
       "    <tr>\n",
       "      <th>3</th>\n",
       "      <td>train</td>\n",
       "      <td>car</td>\n",
       "      <td>6.31</td>\n",
       "      <td>0.305232</td>\n",
       "      <td>2.073911</td>\n",
       "      <td>1.849394</td>\n",
       "    </tr>\n",
       "    <tr>\n",
       "      <th>4</th>\n",
       "      <td>television</td>\n",
       "      <td>radio</td>\n",
       "      <td>6.77</td>\n",
       "      <td>-0.265244</td>\n",
       "      <td>-0.084458</td>\n",
       "      <td>-0.622820</td>\n",
       "    </tr>\n",
       "    <tr>\n",
       "      <th>5</th>\n",
       "      <td>media</td>\n",
       "      <td>radio</td>\n",
       "      <td>7.42</td>\n",
       "      <td>0.305232</td>\n",
       "      <td>2.073911</td>\n",
       "      <td>1.849394</td>\n",
       "    </tr>\n",
       "    <tr>\n",
       "      <th>6</th>\n",
       "      <td>bread</td>\n",
       "      <td>butter</td>\n",
       "      <td>6.19</td>\n",
       "      <td>0.305232</td>\n",
       "      <td>2.073911</td>\n",
       "      <td>1.849394</td>\n",
       "    </tr>\n",
       "    <tr>\n",
       "      <th>7</th>\n",
       "      <td>cucumber</td>\n",
       "      <td>potato</td>\n",
       "      <td>5.92</td>\n",
       "      <td>0.305232</td>\n",
       "      <td>2.073911</td>\n",
       "      <td>1.849394</td>\n",
       "    </tr>\n",
       "    <tr>\n",
       "      <th>8</th>\n",
       "      <td>doctor</td>\n",
       "      <td>nurse</td>\n",
       "      <td>7.00</td>\n",
       "      <td>0.220851</td>\n",
       "      <td>-0.120827</td>\n",
       "      <td>1.074796</td>\n",
       "    </tr>\n",
       "    <tr>\n",
       "      <th>9</th>\n",
       "      <td>professor</td>\n",
       "      <td>doctor</td>\n",
       "      <td>6.62</td>\n",
       "      <td>0.021121</td>\n",
       "      <td>-0.102049</td>\n",
       "      <td>-0.490062</td>\n",
       "    </tr>\n",
       "  </tbody>\n",
       "</table>\n",
       "</div>"
      ],
      "text/plain": [
       "       word_1  word_2  similarity_index  dot_product_neg_samp  \\\n",
       "0       tiger     cat              7.35              0.305232   \n",
       "1       tiger   tiger             10.00              0.305232   \n",
       "2       plane     car              5.77              0.305232   \n",
       "3       train     car              6.31              0.305232   \n",
       "4  television   radio              6.77             -0.265244   \n",
       "5       media   radio              7.42              0.305232   \n",
       "6       bread  butter              6.19              0.305232   \n",
       "7    cucumber  potato              5.92              0.305232   \n",
       "8      doctor   nurse              7.00              0.220851   \n",
       "9   professor  doctor              6.62              0.021121   \n",
       "\n",
       "   dot_product_pos_samp  dot_product_glove  \n",
       "0              2.073911           1.849394  \n",
       "1              2.073911           1.849394  \n",
       "2              2.073911           1.849394  \n",
       "3              2.073911           1.849394  \n",
       "4             -0.084458          -0.622820  \n",
       "5              2.073911           1.849394  \n",
       "6              2.073911           1.849394  \n",
       "7              2.073911           1.849394  \n",
       "8             -0.120827           1.074796  \n",
       "9             -0.102049          -0.490062  "
      ]
     },
     "execution_count": 91,
     "metadata": {},
     "output_type": "execute_result"
    }
   ],
   "source": [
    "# Iterate through each row in the DataFrame\n",
    "for index, row in df.iterrows():\n",
    "    word_1 = row['word_1']\n",
    "    word_2 = row['word_2']\n",
    "\n",
    "    try:\n",
    "        # Attempt to get embeddings and compute the dot product\n",
    "        embed_1_neg_samp = get_embed(model_skipgram_negative, word_1)\n",
    "        embed_2_neg_samp = get_embed(model_skipgram_negative, word_2)\n",
    "        embed_1_pos_samp = get_embed(model_skipgram_positive, word_1)\n",
    "        embed_2_pos_samp = get_embed(model_skipgram_positive, word_2)\n",
    "        embed_1_glove = get_embed(model_glove, word_1)\n",
    "        embed_2_glove = get_embed(model_glove, word_2)\n",
    "\n",
    "    except KeyError:\n",
    "        # Handle the case where one or both words are not present in the model\n",
    "        # Replace missing embeddings with the embedding of '<UNK>' or any other suitable value\n",
    "        embed_1_neg_samp = get_embed(model_skipgram_negative, '<UNK>')\n",
    "        embed_2_neg_samp = get_embed(model_skipgram_negative, '<UNK>')\n",
    "        embed_1_pos_samp = get_embed(model_skipgram_positive, '<UNK>')\n",
    "        embed_2_pos_samp = get_embed(model_skipgram_positive, '<UNK>')\n",
    "        embed_1_glove = get_embed(model_glove, '<UNK>')\n",
    "        embed_2_glove = get_embed(model_glove, '<UNK>')\n",
    "\n",
    "    # Compute the dot product and update the DataFrame\n",
    "    df.at[index, 'dot_product_neg_samp'] = np.dot(embed_1_neg_samp, embed_2_neg_samp)\n",
    "    df.at[index, 'dot_product_pos_samp'] = np.dot(embed_1_pos_samp, embed_2_pos_samp)\n",
    "    df.at[index, 'dot_product_glove'] = np.dot(embed_1_glove, embed_2_glove)\n",
    "\n",
    "df[:10]"
   ]
  },
  {
   "cell_type": "code",
   "execution_count": 76,
   "metadata": {},
   "outputs": [
    {
     "name": "stdout",
     "output_type": "stream",
     "text": [
      "Spearman Correlation Coefficient of Skipgram Negative: 0.0429\n",
      "Spearman Correlation Coefficient of Skipgram Positive: 0.0253\n",
      "Spearman Correlation Coefficient of Glove: -0.1017\n"
     ]
    }
   ],
   "source": [
    "from scipy.stats import spearmanr\n",
    "\n",
    "# Compute the Spearman correlation between the provided similarity scores and your models' dot products\n",
    "correlation_neg, _ = spearmanr(df['similarity_index'], df['dot_product_neg_samp'])\n",
    "correlation_pos, _ = spearmanr(df['similarity_index'], df['dot_product_pos_samp'])\n",
    "correlation_glove, _ = spearmanr(df['similarity_index'], df['dot_product_glove'])\n",
    "\n",
    "\n",
    "# Display the correlation coefficient\n",
    "print(f\"Spearman Correlation Coefficient of Skipgram Negative: {correlation_neg:.4f}\")\n",
    "print(f\"Spearman Correlation Coefficient of Skipgram Positive: {correlation_pos:.4f}\")\n",
    "print(f\"Spearman Correlation Coefficient of Glove: {correlation_glove:.4f}\")"
   ]
  },
  {
   "cell_type": "code",
   "execution_count": 77,
   "metadata": {},
   "outputs": [
    {
     "name": "stdout",
     "output_type": "stream",
     "text": [
      "y_true: 5.13\n"
     ]
    }
   ],
   "source": [
    "# Finding y_true based on the mean of similarity index in the df\n",
    "y_true = df['similarity_index'].mean()\n",
    "\n",
    "print(f\"y_true: {y_true:.2f}\")\n"
   ]
  },
  {
   "cell_type": "code",
   "execution_count": 78,
   "metadata": {},
   "outputs": [
    {
     "name": "stdout",
     "output_type": "stream",
     "text": [
      "Correlation coefficient: 0.60\n"
     ]
    }
   ],
   "source": [
    "# Using the correlation coeffiecient of the gensim model using the predefined function\n",
    "correlation_coefficient = model_gensim.evaluate_word_pairs(datapath('D:/AIT/Sem2/NLP/NLP_Assignments/wordsim353_sim_rel/wordsim_similarity_goldstandard.txt'))\n",
    "print(f\"Correlation coefficient: {correlation_coefficient[1][0]:.2f}\")"
   ]
  },
  {
   "cell_type": "markdown",
   "metadata": {},
   "source": [
    "| Model           | Skipgram (POS) | Skipgram (NEG)   | GloVe   | GloVe (gensim) | Y true     |\n",
    "|-----------------|----------------|------------------|---------|----------------|------------|\n",
    "| MSE             |     0.0325     |     0.0297       | 0.0494  | 0.60           | 5.13       |\n",
    "\n"
   ]
  },
  {
   "cell_type": "code",
   "execution_count": 82,
   "metadata": {},
   "outputs": [],
   "source": [
    "embed_whole_glove = get_embed_for_corpus(model_glove, vocab)\n",
    "embed_whole_neg_skg = get_embed_for_corpus(model_skipgram_negative, vocab)\n",
    "embed_whole_pos_skg = get_embed_for_corpus(model_skipgram_positive, vocab)"
   ]
  },
  {
   "cell_type": "markdown",
   "metadata": {},
   "source": [
    "## 9. Inference"
   ]
  },
  {
   "cell_type": "code",
   "execution_count": null,
   "metadata": {},
   "outputs": [
    {
     "name": "stdout",
     "output_type": "stream",
     "text": [
      "Gensim model saved to: model/model_gensim.pkl\n"
     ]
    }
   ],
   "source": [
    "import pickle\n",
    "\n",
    "# Assuming you have a Gensim Word2Vec model named 'model'\n",
    "# You can replace 'Word2Vec' with the specific Gensim model you are using\n",
    "\n",
    "# Save the Gensim model to a file using pickle\n",
    "gensim_model_path = 'model/model_gensim.pkl'\n",
    "\n",
    "with open(gensim_model_path, 'wb') as model_file:\n",
    "    pickle.dump(model_gensim, model_file)\n",
    "\n",
    "print(f\"Gensim model saved to: {gensim_model_path}\")\n"
   ]
  },
  {
   "cell_type": "code",
   "execution_count": null,
   "metadata": {},
   "outputs": [],
   "source": [
    "# Specify the path to your pickled Gensim model file\n",
    "gensim_model_path = 'model/model_gensim.pkl'\n",
    "\n",
    "# Load the Gensim model from the pickle file\n",
    "with open(gensim_model_path, 'rb') as model_file:\n",
    "    loaded_model = pickle.load(model_file)"
   ]
  },
  {
   "cell_type": "code",
   "execution_count": null,
   "metadata": {},
   "outputs": [
    {
     "name": "stdout",
     "output_type": "stream",
     "text": [
      "word\n",
      "spoken\n",
      "arabic\n",
      "english\n",
      "dialect\n",
      "vocabulary\n",
      "text\n",
      "translation\n",
      "words\n"
     ]
    }
   ],
   "source": [
    "for i in range (1,10):\n",
    "    print(loaded_model.most_similar('language')[i][0])\n"
   ]
  },
  {
   "cell_type": "code",
   "execution_count": 101,
   "metadata": {},
   "outputs": [
    {
     "name": "stdout",
     "output_type": "stream",
     "text": [
      "Embedding dictionary saved to: model/embed_skipgram_positive.pkl\n"
     ]
    }
   ],
   "source": [
    "import pickle\n",
    "\n",
    "# Assuming embed_capital_skipgram_negative is your embedding dictionary\n",
    "embedding_dict = embed_whole_pos_skg\n",
    "\n",
    "# Specify the file path to save the pickle file\n",
    "pickle_file_path = 'model/embed_skipgram_positive.pkl'\n",
    "\n",
    "# Open the file in binary write mode and dump the dictionary\n",
    "with open(pickle_file_path, 'wb') as pickle_file:\n",
    "    pickle.dump(embedding_dict, pickle_file)\n",
    "\n",
    "print(f\"Embedding dictionary saved to: {pickle_file_path}\")\n"
   ]
  },
  {
   "cell_type": "code",
   "execution_count": 102,
   "metadata": {},
   "outputs": [
    {
     "name": "stdout",
     "output_type": "stream",
     "text": [
      "Embedding dictionary saved to: model/embed_skipgram_negative.pkl\n"
     ]
    }
   ],
   "source": [
    "import pickle\n",
    "\n",
    "# Assuming embed_capital_skipgram_negative is your embedding dictionary\n",
    "embedding_dict = embed_whole_neg_skg\n",
    "\n",
    "# Specify the file path to save the pickle file\n",
    "pickle_file_path = 'model/embed_skipgram_negative.pkl'\n",
    "\n",
    "# Open the file in binary write mode and dump the dictionary\n",
    "with open(pickle_file_path, 'wb') as pickle_file:\n",
    "    pickle.dump(embedding_dict, pickle_file)\n",
    "\n",
    "print(f\"Embedding dictionary saved to: {pickle_file_path}\")\n"
   ]
  },
  {
   "cell_type": "code",
   "execution_count": 103,
   "metadata": {},
   "outputs": [
    {
     "name": "stdout",
     "output_type": "stream",
     "text": [
      "Embedding dictionary saved to: model/embed_glove.pkl\n"
     ]
    }
   ],
   "source": [
    "import pickle\n",
    "\n",
    "# Assuming embed_capital_skipgram_negative is your embedding dictionary\n",
    "embedding_dict = embed_whole_glove\n",
    "\n",
    "# Specify the file path to save the pickle file\n",
    "pickle_file_path = 'model/embed_glove.pkl'\n",
    "\n",
    "# Open the file in binary write mode and dump the dictionary\n",
    "with open(pickle_file_path, 'wb') as pickle_file:\n",
    "    pickle.dump(embedding_dict, pickle_file)\n",
    "\n",
    "print(f\"Embedding dictionary saved to: {pickle_file_path}\")\n"
   ]
  },
  {
   "cell_type": "code",
   "execution_count": 104,
   "metadata": {},
   "outputs": [],
   "source": [
    "import pickle\n",
    "\n",
    "# Specify the path to the pickled file on the server\n",
    "pickle_file_path = 'model/embed_skipgram_positive.pkl'\n",
    "\n",
    "# Load the embedding dictionary from the pickled file\n",
    "with open(pickle_file_path, 'rb') as pickle_file:\n",
    "    embedding_dict_neg = pickle.load(pickle_file)\n"
   ]
  },
  {
   "cell_type": "code",
   "execution_count": 105,
   "metadata": {},
   "outputs": [],
   "source": [
    "import pickle\n",
    "\n",
    "# Specify the path to the pickled file on the server\n",
    "pickle_file_path = 'model/embed_skipgram_negative.pkl'\n",
    "\n",
    "# Load the embedding dictionary from the pickled file\n",
    "with open(pickle_file_path, 'rb') as pickle_file:\n",
    "    embedding_dict_pos = pickle.load(pickle_file)\n"
   ]
  },
  {
   "cell_type": "code",
   "execution_count": 106,
   "metadata": {},
   "outputs": [],
   "source": [
    "import pickle\n",
    "\n",
    "# Specify the path to the pickled file on the server\n",
    "pickle_file_path = 'model/embed_glove.pkl'\n",
    "\n",
    "# Load the embedding dictionary from the pickled file\n",
    "with open(pickle_file_path, 'rb') as pickle_file:\n",
    "    embedding_dict_glove = pickle.load(pickle_file)\n"
   ]
  },
  {
   "cell_type": "code",
   "execution_count": 108,
   "metadata": {},
   "outputs": [
    {
     "name": "stdout",
     "output_type": "stream",
     "text": [
      "Next 10 similar words for user-provided word 'run': ['salary', 'foster', 'peace', '$740,000', 'known', 'spend', 'will', 'acute', 'legitimate', 'manner']\n"
     ]
    }
   ],
   "source": [
    "user_target_word = \"run\"\n",
    "next_10_cosine_for_user_word = find_next_10_cosine_words_for_word(user_target_word, embedding_dict_glove, top_n=10)\n",
    "\n",
    "# Print the results\n",
    "if next_10_cosine_for_user_word == [\"Word not in Corpus\"]:\n",
    "    print(\"Word not in Corpus\")\n",
    "else:\n",
    "    print(f\"Next 10 similar words for user-provided word '{user_target_word}': {next_10_cosine_for_user_word}\")"
   ]
  },
  {
   "cell_type": "markdown",
   "metadata": {},
   "source": [
    "## Observations\n",
    "\n",
    "The window size, length of corpus plays a very important hand in determining the accuracy of a model.\n",
    "\n",
    "The models from scratch (Skipgram (positive sampling, negative sampling), Glove) performed quite badly when compared to the Gensim model as they are trained with a low corpus size (1000) in a low epoch time of 10 and in a reduced window size of 2. \n",
    "\n",
    "Similarly, increasing the corpus size lead to issues in the glove model while finding the co-occurence size.\n",
    "\n",
    "The training loss of Glove is significantly lower in comparision to Skipgram and Skipgram (NEG) suggesting that the Glove has learned efficiently during the training which might be due to the fact it is a simple model.\n",
    "\n",
    "While Skipgram (NEG) has the shortest training time along with glove, which could be attributed to the negative sampling technique used in training.\n",
    "\n",
    "Whereas Skipgram Positive presented itself with better Semantic accuracy which help classify semantic identification as a task of positive sampling. \n",
    "\n",
    "Furthermore, the spearmans's correlation (which measures the monotonic relationship between two variables. A higher absolute value indicates a stronger monotonic relationship) shows GloVe (Gensim) has the highest absolute Spearman's correlation coefficient (0.0494), indicating a relatively stronger monotonic relationship between its predictions and the true values.\n"
   ]
  }
 ],
 "metadata": {
  "kernelspec": {
   "display_name": "Python 3",
   "language": "python",
   "name": "python3"
  },
  "language_info": {
   "codemirror_mode": {
    "name": "ipython",
    "version": 3
   },
   "file_extension": ".py",
   "mimetype": "text/x-python",
   "name": "python",
   "nbconvert_exporter": "python",
   "pygments_lexer": "ipython3",
   "version": "3.11.4"
  }
 },
 "nbformat": 4,
 "nbformat_minor": 2
}
