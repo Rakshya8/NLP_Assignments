{
 "cells": [
  {
   "attachments": {},
   "cell_type": "markdown",
   "metadata": {},
   "source": [
    "# [DistilBERT, a distilled version of BERT: smaller, faster, cheaper and lighter](https://arxiv.org/abs/1910.01108)\n",
    "\n",
    "In this lecture, we will explore the architecture of DistilBERT, its key components, and how it can be utilized for various natural language processing tasks. Additionally, we'll discuss its advantages, limitations, and provide hands-on examples to showcase its effectiveness.\n",
    "\n",
    "Reference : [The Theory](https://towardsdatascience.com/distillation-of-bert-like-models-the-code-73c31e8c2b0a) | [Code](https://towardsdatascience.com/distillation-of-bert-like-models-the-theory-32e19a02641f)"
   ]
  },
  {
   "cell_type": "code",
   "execution_count": 2,
   "metadata": {},
   "outputs": [],
   "source": [
    "import os"
   ]
  },
  {
   "cell_type": "code",
   "execution_count": 3,
   "metadata": {},
   "outputs": [
    {
     "data": {
      "text/plain": [
       "('2.17.1', '4.38.1', '2.0.1+cu117')"
      ]
     },
     "execution_count": 3,
     "metadata": {},
     "output_type": "execute_result"
    }
   ],
   "source": [
    "# !pip install datasets --upgrade\n",
    "import datasets\n",
    "import transformers\n",
    "import torch\n",
    "datasets.__version__, transformers.__version__, torch.__version__"
   ]
  },
  {
   "cell_type": "code",
   "execution_count": 4,
   "metadata": {},
   "outputs": [
    {
     "name": "stdout",
     "output_type": "stream",
     "text": [
      "cuda\n"
     ]
    }
   ],
   "source": [
    "import torch.nn as nn\n",
    "import torch\n",
    "from tqdm.auto import tqdm\n",
    "import random, math, time\n",
    "\n",
    "device = torch.device('cuda' if torch.cuda.is_available() else 'cpu')\n",
    "print(device)\n",
    "\n",
    "#make our work comparable if restarted the kernel\n",
    "SEED = 1234\n",
    "torch.manual_seed(SEED)\n",
    "torch.backends.cudnn.deterministic = True"
   ]
  },
  {
   "attachments": {},
   "cell_type": "markdown",
   "metadata": {},
   "source": [
    "## 1. Loading our MNLI part of the GLUE dataset"
   ]
  },
  {
   "cell_type": "code",
   "execution_count": 5,
   "metadata": {
    "scrolled": true
   },
   "outputs": [
    {
     "data": {
      "text/plain": [
       "DatasetDict({\n",
       "    train: Dataset({\n",
       "        features: ['premise', 'hypothesis', 'label', 'idx'],\n",
       "        num_rows: 392702\n",
       "    })\n",
       "    validation_matched: Dataset({\n",
       "        features: ['premise', 'hypothesis', 'label', 'idx'],\n",
       "        num_rows: 9815\n",
       "    })\n",
       "    validation_mismatched: Dataset({\n",
       "        features: ['premise', 'hypothesis', 'label', 'idx'],\n",
       "        num_rows: 9832\n",
       "    })\n",
       "    test_matched: Dataset({\n",
       "        features: ['premise', 'hypothesis', 'label', 'idx'],\n",
       "        num_rows: 9796\n",
       "    })\n",
       "    test_mismatched: Dataset({\n",
       "        features: ['premise', 'hypothesis', 'label', 'idx'],\n",
       "        num_rows: 9847\n",
       "    })\n",
       "})"
      ]
     },
     "execution_count": 5,
     "metadata": {},
     "output_type": "execute_result"
    }
   ],
   "source": [
    "import datasets\n",
    "\n",
    "###1. Load Dataset\n",
    "task_to_keys = {\n",
    "    \"cola\": (\"sentence\", None),\n",
    "    \"mnli\": (\"premise\", \"hypothesis\"),\n",
    "    \"mrpc\": (\"sentence1\", \"sentence2\"),\n",
    "    \"qnli\": (\"question\", \"sentence\"),\n",
    "    \"qqp\": (\"question1\", \"question2\"),\n",
    "    \"rte\": (\"sentence1\", \"sentence2\"),\n",
    "    \"sst2\": (\"sentence\", None),\n",
    "    \"stsb\": (\"sentence1\", \"sentence2\"),\n",
    "    \"wnli\": (\"sentence1\", \"sentence2\"),\n",
    "}\n",
    "\n",
    "task_name = \"mnli\"\n",
    "raw_datasets = datasets.load_dataset(\"glue\", task_name)\n",
    "raw_datasets"
   ]
  },
  {
   "cell_type": "code",
   "execution_count": 6,
   "metadata": {},
   "outputs": [
    {
     "data": {
      "text/plain": [
       "{'entailment': 0, 'neutral': 1, 'contradiction': 2}"
      ]
     },
     "execution_count": 6,
     "metadata": {},
     "output_type": "execute_result"
    }
   ],
   "source": [
    "label_list = raw_datasets['train'].features['label'].names\n",
    "label2id = {v: i for i, v in enumerate(label_list)}\n",
    "label2id"
   ]
  },
  {
   "cell_type": "code",
   "execution_count": 7,
   "metadata": {},
   "outputs": [
    {
     "data": {
      "text/plain": [
       "{0: 'entailment', 1: 'neutral', 2: 'contradiction'}"
      ]
     },
     "execution_count": 7,
     "metadata": {},
     "output_type": "execute_result"
    }
   ],
   "source": [
    "id2label = {i: v for v, i in label2id.items()}\n",
    "id2label"
   ]
  },
  {
   "attachments": {},
   "cell_type": "markdown",
   "metadata": {},
   "source": [
    "## 2. Model & Tokenization"
   ]
  },
  {
   "cell_type": "code",
   "execution_count": 8,
   "metadata": {},
   "outputs": [
    {
     "data": {
      "text/plain": [
       "3"
      ]
     },
     "execution_count": 8,
     "metadata": {},
     "output_type": "execute_result"
    }
   ],
   "source": [
    "import numpy as np \n",
    "num_labels = np.unique(raw_datasets['train']['label']).size\n",
    "num_labels"
   ]
  },
  {
   "cell_type": "code",
   "execution_count": 9,
   "metadata": {},
   "outputs": [
    {
     "name": "stderr",
     "output_type": "stream",
     "text": [
      "Some weights of BertForSequenceClassification were not initialized from the model checkpoint at bert-base-uncased and are newly initialized: ['classifier.bias', 'classifier.weight']\n",
      "You should probably TRAIN this model on a down-stream task to be able to use it for predictions and inference.\n"
     ]
    },
    {
     "data": {
      "text/plain": [
       "BertForSequenceClassification(\n",
       "  (bert): BertModel(\n",
       "    (embeddings): BertEmbeddings(\n",
       "      (word_embeddings): Embedding(30522, 768, padding_idx=0)\n",
       "      (position_embeddings): Embedding(512, 768)\n",
       "      (token_type_embeddings): Embedding(2, 768)\n",
       "      (LayerNorm): LayerNorm((768,), eps=1e-12, elementwise_affine=True)\n",
       "      (dropout): Dropout(p=0.1, inplace=False)\n",
       "    )\n",
       "    (encoder): BertEncoder(\n",
       "      (layer): ModuleList(\n",
       "        (0-11): 12 x BertLayer(\n",
       "          (attention): BertAttention(\n",
       "            (self): BertSelfAttention(\n",
       "              (query): Linear(in_features=768, out_features=768, bias=True)\n",
       "              (key): Linear(in_features=768, out_features=768, bias=True)\n",
       "              (value): Linear(in_features=768, out_features=768, bias=True)\n",
       "              (dropout): Dropout(p=0.1, inplace=False)\n",
       "            )\n",
       "            (output): BertSelfOutput(\n",
       "              (dense): Linear(in_features=768, out_features=768, bias=True)\n",
       "              (LayerNorm): LayerNorm((768,), eps=1e-12, elementwise_affine=True)\n",
       "              (dropout): Dropout(p=0.1, inplace=False)\n",
       "            )\n",
       "          )\n",
       "          (intermediate): BertIntermediate(\n",
       "            (dense): Linear(in_features=768, out_features=3072, bias=True)\n",
       "            (intermediate_act_fn): GELUActivation()\n",
       "          )\n",
       "          (output): BertOutput(\n",
       "            (dense): Linear(in_features=3072, out_features=768, bias=True)\n",
       "            (LayerNorm): LayerNorm((768,), eps=1e-12, elementwise_affine=True)\n",
       "            (dropout): Dropout(p=0.1, inplace=False)\n",
       "          )\n",
       "        )\n",
       "      )\n",
       "    )\n",
       "    (pooler): BertPooler(\n",
       "      (dense): Linear(in_features=768, out_features=768, bias=True)\n",
       "      (activation): Tanh()\n",
       "    )\n",
       "  )\n",
       "  (dropout): Dropout(p=0.1, inplace=False)\n",
       "  (classifier): Linear(in_features=768, out_features=3, bias=True)\n",
       ")"
      ]
     },
     "execution_count": 9,
     "metadata": {},
     "output_type": "execute_result"
    }
   ],
   "source": [
    "from transformers import AutoModelForSequenceClassification\n",
    "from transformers import AutoTokenizer\n",
    "\n",
    "teacher_id = \"bert-base-uncased\"\n",
    "tokenizer = AutoTokenizer.from_pretrained(teacher_id)\n",
    "\n",
    "teacher_model = AutoModelForSequenceClassification.from_pretrained(\n",
    "    teacher_id, \n",
    "    num_labels = num_labels,\n",
    "    id2label = id2label,\n",
    "    label2id = label2id,\n",
    ")\n",
    "\n",
    "teacher_model"
   ]
  },
  {
   "attachments": {},
   "cell_type": "markdown",
   "metadata": {},
   "source": [
    "## 3. Preprocessing "
   ]
  },
  {
   "cell_type": "code",
   "execution_count": 10,
   "metadata": {},
   "outputs": [],
   "source": [
    "def tokenize_function(examples):\n",
    "    sentence1_key, sentence2_key = task_to_keys[task_name]\n",
    "    args = (\n",
    "        (examples[sentence1_key],) if sentence2_key is None else (examples[sentence1_key], examples[sentence2_key])\n",
    "    )\n",
    "    result = tokenizer(*args, max_length=128, truncation=True)\n",
    "    return result"
   ]
  },
  {
   "cell_type": "code",
   "execution_count": 11,
   "metadata": {},
   "outputs": [
    {
     "name": "stderr",
     "output_type": "stream",
     "text": [
      "Map:  10%|█         | 1000/9815 [00:00<00:01, 5860.20 examples/s]"
     ]
    },
    {
     "name": "stderr",
     "output_type": "stream",
     "text": [
      "Map: 100%|██████████| 9815/9815 [00:01<00:00, 8478.42 examples/s]\n"
     ]
    },
    {
     "data": {
      "text/plain": [
       "DatasetDict({\n",
       "    train: Dataset({\n",
       "        features: ['premise', 'hypothesis', 'label', 'idx', 'input_ids', 'token_type_ids', 'attention_mask'],\n",
       "        num_rows: 392702\n",
       "    })\n",
       "    validation_matched: Dataset({\n",
       "        features: ['premise', 'hypothesis', 'label', 'idx', 'input_ids', 'token_type_ids', 'attention_mask'],\n",
       "        num_rows: 9815\n",
       "    })\n",
       "    validation_mismatched: Dataset({\n",
       "        features: ['premise', 'hypothesis', 'label', 'idx', 'input_ids', 'token_type_ids', 'attention_mask'],\n",
       "        num_rows: 9832\n",
       "    })\n",
       "    test_matched: Dataset({\n",
       "        features: ['premise', 'hypothesis', 'label', 'idx', 'input_ids', 'token_type_ids', 'attention_mask'],\n",
       "        num_rows: 9796\n",
       "    })\n",
       "    test_mismatched: Dataset({\n",
       "        features: ['premise', 'hypothesis', 'label', 'idx', 'input_ids', 'token_type_ids', 'attention_mask'],\n",
       "        num_rows: 9847\n",
       "    })\n",
       "})"
      ]
     },
     "execution_count": 11,
     "metadata": {},
     "output_type": "execute_result"
    }
   ],
   "source": [
    "tokenized_datasets = raw_datasets.map(tokenize_function, batched=True)\n",
    "tokenized_datasets"
   ]
  },
  {
   "cell_type": "code",
   "execution_count": 12,
   "metadata": {},
   "outputs": [
    {
     "data": {
      "text/plain": [
       "['premise', 'hypothesis']"
      ]
     },
     "execution_count": 12,
     "metadata": {},
     "output_type": "execute_result"
    }
   ],
   "source": [
    "# list(task_to_keys[task_name])\n",
    "column_dataset = [item for item in task_to_keys[task_name] if item is not None]\n",
    "column_dataset"
   ]
  },
  {
   "cell_type": "code",
   "execution_count": 13,
   "metadata": {},
   "outputs": [
    {
     "data": {
      "text/plain": [
       "DatasetDict({\n",
       "    train: Dataset({\n",
       "        features: ['labels', 'input_ids', 'token_type_ids', 'attention_mask'],\n",
       "        num_rows: 392702\n",
       "    })\n",
       "    validation_matched: Dataset({\n",
       "        features: ['labels', 'input_ids', 'token_type_ids', 'attention_mask'],\n",
       "        num_rows: 9815\n",
       "    })\n",
       "    validation_mismatched: Dataset({\n",
       "        features: ['labels', 'input_ids', 'token_type_ids', 'attention_mask'],\n",
       "        num_rows: 9832\n",
       "    })\n",
       "    test_matched: Dataset({\n",
       "        features: ['labels', 'input_ids', 'token_type_ids', 'attention_mask'],\n",
       "        num_rows: 9796\n",
       "    })\n",
       "    test_mismatched: Dataset({\n",
       "        features: ['labels', 'input_ids', 'token_type_ids', 'attention_mask'],\n",
       "        num_rows: 9847\n",
       "    })\n",
       "})"
      ]
     },
     "execution_count": 13,
     "metadata": {},
     "output_type": "execute_result"
    }
   ],
   "source": [
    "#remove column : 'premise', 'hypothesis', 'idx'\n",
    "tokenized_datasets = tokenized_datasets.remove_columns(column_dataset + [\"idx\"])\n",
    "#rename column : 'labels'\n",
    "tokenized_datasets = tokenized_datasets.rename_column(\"label\", \"labels\")\n",
    "tokenized_datasets.set_format(\"torch\")\n",
    "tokenized_datasets"
   ]
  },
  {
   "cell_type": "code",
   "execution_count": 14,
   "metadata": {},
   "outputs": [
    {
     "data": {
      "text/plain": [
       "tensor([  101, 17158,  2135,  6949,  8301, 25057,  2038,  2048,  3937,  9646,\n",
       "         1011,  4031,  1998, 10505,  1012,   102,  4031,  1998, 10505,  2024,\n",
       "         2054,  2191,  6949,  8301, 25057,  2147,  1012,   102])"
      ]
     },
     "execution_count": 14,
     "metadata": {},
     "output_type": "execute_result"
    }
   ],
   "source": [
    "tokenized_datasets['train'][0]['input_ids']"
   ]
  },
  {
   "cell_type": "code",
   "execution_count": 15,
   "metadata": {},
   "outputs": [
    {
     "data": {
      "text/plain": [
       "'[CLS] conceptually cream skimming has two basic dimensions - product and geography. [SEP] product and geography are what make cream skimming work. [SEP]'"
      ]
     },
     "execution_count": 15,
     "metadata": {},
     "output_type": "execute_result"
    }
   ],
   "source": [
    "tokenizer.decode(tokenized_datasets['train'][0]['input_ids'])"
   ]
  },
  {
   "attachments": {},
   "cell_type": "markdown",
   "metadata": {},
   "source": [
    "## 4. Preparing the dataloader"
   ]
  },
  {
   "cell_type": "code",
   "execution_count": 16,
   "metadata": {},
   "outputs": [],
   "source": [
    "from transformers import DataCollatorWithPadding\n",
    "data_collator = DataCollatorWithPadding(tokenizer=tokenizer)\n",
    "#Data collator that will dynamically pad the inputs received."
   ]
  },
  {
   "cell_type": "code",
   "execution_count": 17,
   "metadata": {},
   "outputs": [],
   "source": [
    "small_train_dataset = tokenized_datasets[\"train\"].shuffle(seed=1150).select(range(10000))\n",
    "small_eval_dataset = tokenized_datasets[\"validation_mismatched\"].shuffle(seed=1150).select(range(1000))\n",
    "small_test_dataset = tokenized_datasets[\"test_mismatched\"].shuffle(seed=1150).select(range(1000))"
   ]
  },
  {
   "cell_type": "code",
   "execution_count": 18,
   "metadata": {},
   "outputs": [],
   "source": [
    "from torch.utils.data import DataLoader\n",
    "train_dataloader = DataLoader(\n",
    "    small_train_dataset, shuffle=True, batch_size=32, collate_fn=data_collator)\n",
    "test_dataloader = DataLoader(\n",
    "    small_test_dataset, batch_size=32, collate_fn=data_collator)\n",
    "eval_dataloader = DataLoader(\n",
    "    small_eval_dataset, batch_size=32, collate_fn=data_collator)"
   ]
  },
  {
   "cell_type": "code",
   "execution_count": 19,
   "metadata": {},
   "outputs": [
    {
     "data": {
      "text/plain": [
       "(torch.Size([32]), torch.Size([32, 121]), torch.Size([32, 121]))"
      ]
     },
     "execution_count": 19,
     "metadata": {},
     "output_type": "execute_result"
    }
   ],
   "source": [
    "for batch in train_dataloader:\n",
    "    break\n",
    "    \n",
    "batch['labels'].shape, batch['input_ids'].shape, batch['attention_mask'].shape"
   ]
  },
  {
   "attachments": {},
   "cell_type": "markdown",
   "metadata": {},
   "source": [
    "## 5. Design the model and losses"
   ]
  },
  {
   "attachments": {},
   "cell_type": "markdown",
   "metadata": {},
   "source": [
    "### 5.1 Teacher Model & Student Model\n",
    "\n",
    "####  Architecture \n",
    "In the present work, the student - DistilBERT - has the same general architecture as BERT. \n",
    "- The `token-type embeddings` and the `pooler` are removed while `the number of layers` is reduced by a factor of 2. \n",
    "- Most of the operations used in the Transformer architecture `linear layer` and `layer normalisation` are highly optimized in modern linear algebra frameworks.\n",
    "- our investigations showed that variations on the last dimension of the tensor (hidden size dimension) have a smaller impact on computation efficiency (for a fixed parameters budget) than variations on other factors like the number of layers. \n",
    "- Thus we focus on reducing the number of layers.\n",
    "\n",
    "#### Initialize Student Model\n",
    "- To initialize a new model from an existing one, we need to access the weights of the old model (the teacher). \n",
    "- In order to get the weights, we first have to know how to access them. We’ll use BERT as our teacher model."
   ]
  },
  {
   "cell_type": "code",
   "execution_count": 20,
   "metadata": {},
   "outputs": [
    {
     "data": {
      "text/plain": [
       "BertConfig {\n",
       "  \"_name_or_path\": \"bert-base-uncased\",\n",
       "  \"architectures\": [\n",
       "    \"BertForMaskedLM\"\n",
       "  ],\n",
       "  \"attention_probs_dropout_prob\": 0.1,\n",
       "  \"classifier_dropout\": null,\n",
       "  \"gradient_checkpointing\": false,\n",
       "  \"hidden_act\": \"gelu\",\n",
       "  \"hidden_dropout_prob\": 0.1,\n",
       "  \"hidden_size\": 768,\n",
       "  \"id2label\": {\n",
       "    \"0\": \"entailment\",\n",
       "    \"1\": \"neutral\",\n",
       "    \"2\": \"contradiction\"\n",
       "  },\n",
       "  \"initializer_range\": 0.02,\n",
       "  \"intermediate_size\": 3072,\n",
       "  \"label2id\": {\n",
       "    \"contradiction\": 2,\n",
       "    \"entailment\": 0,\n",
       "    \"neutral\": 1\n",
       "  },\n",
       "  \"layer_norm_eps\": 1e-12,\n",
       "  \"max_position_embeddings\": 512,\n",
       "  \"model_type\": \"bert\",\n",
       "  \"num_attention_heads\": 12,\n",
       "  \"num_hidden_layers\": 12,\n",
       "  \"pad_token_id\": 0,\n",
       "  \"position_embedding_type\": \"absolute\",\n",
       "  \"transformers_version\": \"4.38.1\",\n",
       "  \"type_vocab_size\": 2,\n",
       "  \"use_cache\": true,\n",
       "  \"vocab_size\": 30522\n",
       "}"
      ]
     },
     "execution_count": 20,
     "metadata": {},
     "output_type": "execute_result"
    }
   ],
   "source": [
    "teacher_model.config"
   ]
  },
  {
   "attachments": {},
   "cell_type": "markdown",
   "metadata": {},
   "source": [
    "#### \n",
    "- The student model has the same configuration, except the number of layers is reduced by a factor of 2\n",
    "- The student layers are initilized by copying one out of two layers of the teacher, starting with layer 0.\n",
    "- The head of the teacher is also copied."
   ]
  },
  {
   "cell_type": "code",
   "execution_count": 21,
   "metadata": {},
   "outputs": [],
   "source": [
    "from transformers.models.bert.modeling_bert import BertPreTrainedModel, BertConfig\n",
    "# Get teacher configuration as a dictionnary\n",
    "configuration = teacher_model.config.to_dict()\n",
    "# configuration"
   ]
  },
  {
   "cell_type": "code",
   "execution_count": 22,
   "metadata": {},
   "outputs": [],
   "source": [
    "# Half the number of hidden layer\n",
    "configuration['num_hidden_layers'] //= 2\n",
    "# Convert the dictionnary to the student configuration\n",
    "configuration = BertConfig.from_dict(configuration)"
   ]
  },
  {
   "cell_type": "code",
   "execution_count": 23,
   "metadata": {
    "scrolled": true
   },
   "outputs": [
    {
     "data": {
      "text/plain": [
       "BertForSequenceClassification(\n",
       "  (bert): BertModel(\n",
       "    (embeddings): BertEmbeddings(\n",
       "      (word_embeddings): Embedding(30522, 768, padding_idx=0)\n",
       "      (position_embeddings): Embedding(512, 768)\n",
       "      (token_type_embeddings): Embedding(2, 768)\n",
       "      (LayerNorm): LayerNorm((768,), eps=1e-12, elementwise_affine=True)\n",
       "      (dropout): Dropout(p=0.1, inplace=False)\n",
       "    )\n",
       "    (encoder): BertEncoder(\n",
       "      (layer): ModuleList(\n",
       "        (0-5): 6 x BertLayer(\n",
       "          (attention): BertAttention(\n",
       "            (self): BertSelfAttention(\n",
       "              (query): Linear(in_features=768, out_features=768, bias=True)\n",
       "              (key): Linear(in_features=768, out_features=768, bias=True)\n",
       "              (value): Linear(in_features=768, out_features=768, bias=True)\n",
       "              (dropout): Dropout(p=0.1, inplace=False)\n",
       "            )\n",
       "            (output): BertSelfOutput(\n",
       "              (dense): Linear(in_features=768, out_features=768, bias=True)\n",
       "              (LayerNorm): LayerNorm((768,), eps=1e-12, elementwise_affine=True)\n",
       "              (dropout): Dropout(p=0.1, inplace=False)\n",
       "            )\n",
       "          )\n",
       "          (intermediate): BertIntermediate(\n",
       "            (dense): Linear(in_features=768, out_features=3072, bias=True)\n",
       "            (intermediate_act_fn): GELUActivation()\n",
       "          )\n",
       "          (output): BertOutput(\n",
       "            (dense): Linear(in_features=3072, out_features=768, bias=True)\n",
       "            (LayerNorm): LayerNorm((768,), eps=1e-12, elementwise_affine=True)\n",
       "            (dropout): Dropout(p=0.1, inplace=False)\n",
       "          )\n",
       "        )\n",
       "      )\n",
       "    )\n",
       "    (pooler): BertPooler(\n",
       "      (dense): Linear(in_features=768, out_features=768, bias=True)\n",
       "      (activation): Tanh()\n",
       "    )\n",
       "  )\n",
       "  (dropout): Dropout(p=0.1, inplace=False)\n",
       "  (classifier): Linear(in_features=768, out_features=3, bias=True)\n",
       ")"
      ]
     },
     "execution_count": 23,
     "metadata": {},
     "output_type": "execute_result"
    }
   ],
   "source": [
    "# Create uninitialized student model\n",
    "model = type(teacher_model)(configuration)\n",
    "model"
   ]
  },
  {
   "attachments": {},
   "cell_type": "markdown",
   "metadata": {},
   "source": [
    "- Recursively copies the weights of the (teacher) to the (student).\n",
    "- This function is meant to be first called on a BertFor... model, but is then called on every children of that model recursively.\n",
    "- The only part that's not fully copied is the encoder, of which only half is copied."
   ]
  },
  {
   "cell_type": "code",
   "execution_count": 24,
   "metadata": {},
   "outputs": [],
   "source": [
    "from transformers.models.bert.modeling_bert import BertEncoder, BertModel\n",
    "from torch.nn import Module\n",
    "\n",
    "def distill_bert_weights(\n",
    "    teacher : Module,\n",
    "    student : Module,\n",
    "    init_method = 'top'\n",
    ") -> None:\n",
    "    \"\"\"\n",
    "    Recursively copies the weights of the (teacher) to the (student).\n",
    "    This function is meant to be first called on a BertFor... model, but is then called on every children of that model recursively.\n",
    "    The only part that's not fully copied is the encoder, of which only half is copied.\n",
    "    \"\"\"\n",
    "    # If the part is an entire BERT model or a BERTFor..., unpack and iterate\n",
    "    if isinstance(teacher, BertModel) or type(teacher).__name__.startswith('BertFor'):\n",
    "        for teacher_part, student_part in zip(teacher.children(), student.children()):\n",
    "            distill_bert_weights(teacher_part, student_part)\n",
    "    # Else if the part is an encoder, copy one out of every layer\n",
    "    elif isinstance(teacher, BertEncoder):\n",
    "        teacher_encoding_layers = [layer for layer in next(teacher.children())] #12 layers\n",
    "        student_encoding_layers = [layer for layer in next(student.children())] #6 layers\n",
    "\n",
    "        if init_method == 'top':\n",
    "            for i in range(len(student_encoding_layers)):\n",
    "                student_encoding_layers[i].load_state_dict(teacher_encoding_layers[i].state_dict())\n",
    "\n",
    "        elif init_method == 'bottom':\n",
    "            for i in range(len(student_encoding_layers)):\n",
    "                student_encoding_layers[i].load_state_dict(teacher_encoding_layers[i+len(student_encoding_layers)].state_dict())\n",
    "\n",
    "        elif init_method == 'odd':\n",
    "            for i in range(len(student_encoding_layers)):\n",
    "                student_encoding_layers[i].load_state_dict(teacher_encoding_layers[i*2-1].state_dict())\n",
    "\n",
    "        elif init_method == 'even':\n",
    "            for i in range(len(student_encoding_layers)):\n",
    "                student_encoding_layers[i].load_state_dict(teacher_encoding_layers[i*2].state_dict())\n",
    "\n",
    "        else:\n",
    "            raise Exception(\"init_method is invalid. Select between 'top', 'bottom', 'odd', 'even'\")\n",
    "\n",
    "    # Else the part is a head or something else, copy the state_dict\n",
    "    else:\n",
    "        student.load_state_dict(teacher.state_dict())\n",
    "\n",
    "    return model"
   ]
  },
  {
   "cell_type": "code",
   "execution_count": 25,
   "metadata": {},
   "outputs": [],
   "source": [
    "models = {'Top-K Layer': distill_bert_weights(teacher=teacher_model, student=model, init_method='top'),\n",
    "          'Bottom-K Layer': distill_bert_weights(teacher=teacher_model, student=model, init_method='bottom'),\n",
    "          'Odd Layer': distill_bert_weights(teacher=teacher_model, student=model, init_method='odd'),\n",
    "          'Even Layer': distill_bert_weights(teacher=teacher_model, student=model, init_method='even')}"
   ]
  },
  {
   "cell_type": "code",
   "execution_count": 26,
   "metadata": {},
   "outputs": [
    {
     "name": "stdout",
     "output_type": "stream",
     "text": [
      "Teacher parameters : 109484547\n",
      "Student (Top-K Layer) parameters : 66957315\n",
      "Student (Bottom-K Layer) parameters : 66957315\n",
      "Student (Odd Layer) parameters : 66957315\n",
      "Student (Even Layer) parameters : 66957315\n"
     ]
    }
   ],
   "source": [
    "def count_parameters(model):\n",
    "    return sum(p.numel() for p in model.parameters() if p.requires_grad)\n",
    "\n",
    "print('Teacher parameters :', count_parameters(teacher_model))\n",
    "for model_name, model in models.items():\n",
    "    print(f'Student ({model_name}) parameters :', count_parameters(model))"
   ]
  },
  {
   "cell_type": "markdown",
   "metadata": {},
   "source": [
    "All student models have the same no. of parameters"
   ]
  },
  {
   "cell_type": "code",
   "execution_count": 27,
   "metadata": {},
   "outputs": [
    {
     "data": {
      "text/plain": [
       "61.15686353435797"
      ]
     },
     "execution_count": 27,
     "metadata": {},
     "output_type": "execute_result"
    }
   ],
   "source": [
    "count_parameters(models['Top-K Layer'])/count_parameters(teacher_model) * 100"
   ]
  },
  {
   "cell_type": "code",
   "execution_count": 28,
   "metadata": {},
   "outputs": [],
   "source": [
    "#It has 40% less parameters than bert-base-uncased"
   ]
  },
  {
   "attachments": {},
   "cell_type": "markdown",
   "metadata": {},
   "source": [
    "### 5.2 Loss function"
   ]
  },
  {
   "attachments": {},
   "cell_type": "markdown",
   "metadata": {},
   "source": [
    "#### Softmax\n",
    "\n",
    "$$\n",
    "P_i(\\mathbf{z}_i, T) = \\frac{\\exp(\\mathbf{z}_i / T)}{\\sum_{q=0}^k \\exp(\\mathbf{z}_q / T)}\n",
    "$$\n"
   ]
  },
  {
   "attachments": {},
   "cell_type": "markdown",
   "metadata": {},
   "source": [
    "#### Knowledge Distillation\n",
    "\n",
    "#### CE Loss\n",
    "$$\\mathcal{L}_\\text{CE} = -\\sum^N_{j=0}\\sum_{i=0}^k {y}_i^{(j)}\\log(P_i({v}_i^{(j)}, 1))$$\n",
    "\n",
    "#### KL Loss\n",
    "$$\\mathcal{L}_\\text{KD} = -\\sum^N_{j=0}\\sum_{i=0}^k P_i({z}_i^{(j)}, T) \\log (P_i({v}_i^{(j)}, T))$$\n",
    "\n",
    "#### Cosine Embedding Loss\n",
    "$$\\mathcal{L}_{\\text{cosine}}(x_1, x_2, y) = \\frac{1}{N} \\sum_{i=1}^{N} \\left(1 - y_i \\cdot \\cos(\\theta_i)\\right)$$\n",
    "\n",
    "<!-- $$\\mathcal{L} = \\lambda \\mathcal{L}_\\text{KD} + (1-\\lambda)\\mathcal{L}_\\text{CE}$$\n",
    " -->\n",
    "\n",
    "#### Total Loss\n",
    "$$\\mathcal{L} = \\mathcal{L}_\\text{KD} + \\mathcal{L}_\\text{CE} + \\mathcal{L}_{\\text{cosine}}$$"
   ]
  },
  {
   "cell_type": "code",
   "execution_count": 29,
   "metadata": {},
   "outputs": [],
   "source": [
    "import torch.nn.functional as F\n",
    "\n",
    "class DistillKL(nn.Module):\n",
    "    \"\"\"\n",
    "    Distilling the Knowledge in a Neural Network\n",
    "    Compute the knowledge-distillation (KD) loss given outputs, labels.\n",
    "    \"Hyperparameters\": temperature and alpha\n",
    "\n",
    "    NOTE: the KL Divergence for PyTorch comparing the softmaxs of teacher\n",
    "    and student expects the input tensor to be log probabilities! \n",
    "    \"\"\"\n",
    "\n",
    "    def __init__(self):\n",
    "        super(DistillKL, self).__init__()\n",
    "\n",
    "    def forward(self, output_student, output_teacher, temperature=1):\n",
    "        '''\n",
    "        Note: the output_student and output_teacher are logits \n",
    "        '''\n",
    "        T = temperature #.cuda()\n",
    "        \n",
    "        KD_loss = nn.KLDivLoss(reduction='batchmean')(\n",
    "            F.log_softmax(output_student/T, dim=-1),\n",
    "            F.softmax(output_teacher/T, dim=-1)\n",
    "        ) * T * T\n",
    "        \n",
    "        return KD_loss"
   ]
  },
  {
   "cell_type": "code",
   "execution_count": 30,
   "metadata": {},
   "outputs": [],
   "source": [
    "criterion_div = DistillKL()\n",
    "criterion_cos = nn.CosineEmbeddingLoss()"
   ]
  },
  {
   "attachments": {},
   "cell_type": "markdown",
   "metadata": {},
   "source": [
    "## 6. Optimizer"
   ]
  },
  {
   "cell_type": "code",
   "execution_count": 31,
   "metadata": {},
   "outputs": [],
   "source": [
    "import torch.optim as optim\n",
    "import torch.nn as nn\n",
    "\n",
    "lr = 5e-5\n",
    "\n",
    "#training hyperparameters\n",
    "optimizer = optim.Adam(params=model.parameters(), lr=lr)"
   ]
  },
  {
   "cell_type": "code",
   "execution_count": 32,
   "metadata": {},
   "outputs": [],
   "source": [
    "model = model.to(device)\n",
    "teacher_model = teacher_model.to(device)"
   ]
  },
  {
   "attachments": {},
   "cell_type": "markdown",
   "metadata": {},
   "source": [
    "## 7. Learning rate scheduler"
   ]
  },
  {
   "cell_type": "code",
   "execution_count": 33,
   "metadata": {},
   "outputs": [],
   "source": [
    "from transformers import get_scheduler\n",
    "\n",
    "num_epochs = 3\n",
    "num_update_steps_per_epoch = len(train_dataloader)\n",
    "num_training_steps = num_epochs * num_update_steps_per_epoch\n",
    "\n",
    "lr_scheduler = get_scheduler(\n",
    "    name=\"linear\", \n",
    "    optimizer=optimizer, \n",
    "    num_warmup_steps=0, \n",
    "    num_training_steps=num_training_steps\n",
    ")"
   ]
  },
  {
   "attachments": {},
   "cell_type": "markdown",
   "metadata": {},
   "source": [
    "## 8. Metric"
   ]
  },
  {
   "cell_type": "code",
   "execution_count": 34,
   "metadata": {},
   "outputs": [
    {
     "name": "stdout",
     "output_type": "stream",
     "text": [
      "Requirement already satisfied: evaluate in d:\\ait\\sem2\\nlp\\nlp_assignments\\.env\\lib\\site-packages (0.4.1)\n",
      "Requirement already satisfied: datasets>=2.0.0 in d:\\ait\\sem2\\nlp\\nlp_assignments\\.env\\lib\\site-packages (from evaluate) (2.17.1)\n",
      "Requirement already satisfied: numpy>=1.17 in d:\\ait\\sem2\\nlp\\nlp_assignments\\.env\\lib\\site-packages (from evaluate) (1.26.4)\n",
      "Requirement already satisfied: dill in d:\\ait\\sem2\\nlp\\nlp_assignments\\.env\\lib\\site-packages (from evaluate) (0.3.8)\n",
      "Requirement already satisfied: pandas in d:\\ait\\sem2\\nlp\\nlp_assignments\\.env\\lib\\site-packages (from evaluate) (2.2.1)\n",
      "Requirement already satisfied: requests>=2.19.0 in d:\\ait\\sem2\\nlp\\nlp_assignments\\.env\\lib\\site-packages (from evaluate) (2.31.0)\n",
      "Requirement already satisfied: tqdm>=4.62.1 in d:\\ait\\sem2\\nlp\\nlp_assignments\\.env\\lib\\site-packages (from evaluate) (4.66.2)\n",
      "Requirement already satisfied: xxhash in d:\\ait\\sem2\\nlp\\nlp_assignments\\.env\\lib\\site-packages (from evaluate) (3.4.1)\n",
      "Requirement already satisfied: multiprocess in d:\\ait\\sem2\\nlp\\nlp_assignments\\.env\\lib\\site-packages (from evaluate) (0.70.16)\n",
      "Requirement already satisfied: fsspec>=2021.05.0 in d:\\ait\\sem2\\nlp\\nlp_assignments\\.env\\lib\\site-packages (from fsspec[http]>=2021.05.0->evaluate) (2023.10.0)\n",
      "Requirement already satisfied: huggingface-hub>=0.7.0 in d:\\ait\\sem2\\nlp\\nlp_assignments\\.env\\lib\\site-packages (from evaluate) (0.20.3)\n",
      "Requirement already satisfied: packaging in d:\\ait\\sem2\\nlp\\nlp_assignments\\.env\\lib\\site-packages (from evaluate) (23.2)\n",
      "Requirement already satisfied: responses<0.19 in d:\\ait\\sem2\\nlp\\nlp_assignments\\.env\\lib\\site-packages (from evaluate) (0.18.0)\n",
      "Requirement already satisfied: filelock in d:\\ait\\sem2\\nlp\\nlp_assignments\\.env\\lib\\site-packages (from datasets>=2.0.0->evaluate) (3.13.1)\n",
      "Requirement already satisfied: pyarrow>=12.0.0 in d:\\ait\\sem2\\nlp\\nlp_assignments\\.env\\lib\\site-packages (from datasets>=2.0.0->evaluate) (15.0.0)\n",
      "Requirement already satisfied: pyarrow-hotfix in d:\\ait\\sem2\\nlp\\nlp_assignments\\.env\\lib\\site-packages (from datasets>=2.0.0->evaluate) (0.6)\n",
      "Requirement already satisfied: aiohttp in d:\\ait\\sem2\\nlp\\nlp_assignments\\.env\\lib\\site-packages (from datasets>=2.0.0->evaluate) (3.9.3)\n",
      "Requirement already satisfied: pyyaml>=5.1 in d:\\ait\\sem2\\nlp\\nlp_assignments\\.env\\lib\\site-packages (from datasets>=2.0.0->evaluate) (6.0.1)\n",
      "Requirement already satisfied: typing-extensions>=3.7.4.3 in d:\\ait\\sem2\\nlp\\nlp_assignments\\.env\\lib\\site-packages (from huggingface-hub>=0.7.0->evaluate) (4.10.0)\n",
      "Requirement already satisfied: charset-normalizer<4,>=2 in d:\\ait\\sem2\\nlp\\nlp_assignments\\.env\\lib\\site-packages (from requests>=2.19.0->evaluate) (3.3.2)\n",
      "Requirement already satisfied: idna<4,>=2.5 in d:\\ait\\sem2\\nlp\\nlp_assignments\\.env\\lib\\site-packages (from requests>=2.19.0->evaluate) (3.6)\n",
      "Requirement already satisfied: urllib3<3,>=1.21.1 in d:\\ait\\sem2\\nlp\\nlp_assignments\\.env\\lib\\site-packages (from requests>=2.19.0->evaluate) (2.2.1)\n",
      "Requirement already satisfied: certifi>=2017.4.17 in d:\\ait\\sem2\\nlp\\nlp_assignments\\.env\\lib\\site-packages (from requests>=2.19.0->evaluate) (2024.2.2)\n",
      "Requirement already satisfied: colorama in d:\\ait\\sem2\\nlp\\nlp_assignments\\.env\\lib\\site-packages (from tqdm>=4.62.1->evaluate) (0.4.6)\n",
      "Requirement already satisfied: python-dateutil>=2.8.2 in d:\\ait\\sem2\\nlp\\nlp_assignments\\.env\\lib\\site-packages (from pandas->evaluate) (2.8.2)\n",
      "Requirement already satisfied: pytz>=2020.1 in d:\\ait\\sem2\\nlp\\nlp_assignments\\.env\\lib\\site-packages (from pandas->evaluate) (2024.1)\n",
      "Requirement already satisfied: tzdata>=2022.7 in d:\\ait\\sem2\\nlp\\nlp_assignments\\.env\\lib\\site-packages (from pandas->evaluate) (2024.1)\n",
      "Requirement already satisfied: aiosignal>=1.1.2 in d:\\ait\\sem2\\nlp\\nlp_assignments\\.env\\lib\\site-packages (from aiohttp->datasets>=2.0.0->evaluate) (1.3.1)\n",
      "Requirement already satisfied: attrs>=17.3.0 in d:\\ait\\sem2\\nlp\\nlp_assignments\\.env\\lib\\site-packages (from aiohttp->datasets>=2.0.0->evaluate) (23.2.0)\n",
      "Requirement already satisfied: frozenlist>=1.1.1 in d:\\ait\\sem2\\nlp\\nlp_assignments\\.env\\lib\\site-packages (from aiohttp->datasets>=2.0.0->evaluate) (1.4.1)\n",
      "Requirement already satisfied: multidict<7.0,>=4.5 in d:\\ait\\sem2\\nlp\\nlp_assignments\\.env\\lib\\site-packages (from aiohttp->datasets>=2.0.0->evaluate) (6.0.5)\n",
      "Requirement already satisfied: yarl<2.0,>=1.0 in d:\\ait\\sem2\\nlp\\nlp_assignments\\.env\\lib\\site-packages (from aiohttp->datasets>=2.0.0->evaluate) (1.9.4)\n",
      "Requirement already satisfied: six>=1.5 in d:\\ait\\sem2\\nlp\\nlp_assignments\\.env\\lib\\site-packages (from python-dateutil>=2.8.2->pandas->evaluate) (1.16.0)\n"
     ]
    }
   ],
   "source": [
    "# !pip3 install evaluate"
   ]
  },
  {
   "cell_type": "code",
   "execution_count": 35,
   "metadata": {},
   "outputs": [],
   "source": [
    "import numpy as np\n",
    "import evaluate\n",
    "# Get the metric function\n",
    "if task_name is not None:\n",
    "    metric = evaluate.load(\"glue\", task_name)\n",
    "else:\n",
    "    metric = evaluate.load(\"accuracy\")"
   ]
  },
  {
   "attachments": {},
   "cell_type": "markdown",
   "metadata": {},
   "source": [
    "## 9. Train"
   ]
  },
  {
   "cell_type": "code",
   "execution_count": 36,
   "metadata": {
    "scrolled": true
   },
   "outputs": [
    {
     "name": "stdout",
     "output_type": "stream",
     "text": [
      "\n",
      "===== Top-K Layer =====\n"
     ]
    },
    {
     "name": "stderr",
     "output_type": "stream",
     "text": [
      " 33%|███▎      | 313/939 [01:36<02:31,  4.14it/s]"
     ]
    },
    {
     "name": "stdout",
     "output_type": "stream",
     "text": [
      "Epoch at 1: Train loss 0.3511:\n",
      "  - Loss_cls: 0.9531\n",
      "  - Loss_div: 0.0511\n",
      "  - Loss_cos: 0.0491\n"
     ]
    },
    {
     "name": "stderr",
     "output_type": "stream",
     "text": [
      " 33%|███▎      | 314/939 [01:38<09:01,  1.15it/s]"
     ]
    },
    {
     "name": "stdout",
     "output_type": "stream",
     "text": [
      "Epoch at 1: Test Acc 0.6500\n"
     ]
    },
    {
     "name": "stderr",
     "output_type": "stream",
     "text": [
      " 67%|██████▋   | 626/939 [03:06<01:13,  4.29it/s]"
     ]
    },
    {
     "name": "stdout",
     "output_type": "stream",
     "text": [
      "Epoch at 2: Train loss 0.3046:\n",
      "  - Loss_cls: 0.7519\n",
      "  - Loss_div: 0.1135\n",
      "  - Loss_cos: 0.0484\n",
      "Epoch at 2: Test Acc 0.6740\n"
     ]
    },
    {
     "name": "stderr",
     "output_type": "stream",
     "text": [
      "100%|██████████| 939/939 [04:38<00:00,  3.95it/s]"
     ]
    },
    {
     "name": "stdout",
     "output_type": "stream",
     "text": [
      "Epoch at 3: Train loss 0.2747:\n",
      "  - Loss_cls: 0.6195\n",
      "  - Loss_div: 0.1550\n",
      "  - Loss_cos: 0.0494\n"
     ]
    },
    {
     "name": "stderr",
     "output_type": "stream",
     "text": [
      "  0%|          | 0/939 [00:00<?, ?it/s]          "
     ]
    },
    {
     "name": "stdout",
     "output_type": "stream",
     "text": [
      "Epoch at 3: Test Acc 0.6650\n",
      "Avg Metric 0.663\n",
      "\n",
      "===== Bottom-K Layer =====\n"
     ]
    },
    {
     "name": "stderr",
     "output_type": "stream",
     "text": [
      "  0%|          | 0/939 [00:00<?, ?it/s]\n"
     ]
    },
    {
     "name": "stdout",
     "output_type": "stream",
     "text": [
      "Epoch at 1: Train loss 0.2650:\n",
      "  - Loss_cls: 0.5809\n",
      "  - Loss_div: 0.1646\n",
      "  - Loss_cos: 0.0495\n",
      "Epoch at 1: Test Acc 0.6650\n"
     ]
    },
    {
     "name": "stderr",
     "output_type": "stream",
     "text": []
    },
    {
     "name": "stdout",
     "output_type": "stream",
     "text": [
      "Epoch at 2: Train loss 0.2658:\n",
      "  - Loss_cls: 0.5833\n",
      "  - Loss_div: 0.1645\n",
      "  - Loss_cos: 0.0496\n"
     ]
    },
    {
     "name": "stderr",
     "output_type": "stream",
     "text": [
      "\n"
     ]
    },
    {
     "name": "stdout",
     "output_type": "stream",
     "text": [
      "Epoch at 2: Test Acc 0.6650\n"
     ]
    },
    {
     "name": "stderr",
     "output_type": "stream",
     "text": [
      " 67%|██████▋   | 627/939 [02:58<04:24,  1.18it/s]\u001b[A"
     ]
    },
    {
     "name": "stdout",
     "output_type": "stream",
     "text": [
      "Epoch at 3: Train loss 0.2653:\n",
      "  - Loss_cls: 0.5817\n",
      "  - Loss_div: 0.1648\n",
      "  - Loss_cos: 0.0495\n"
     ]
    },
    {
     "name": "stderr",
     "output_type": "stream",
     "text": []
    },
    {
     "name": "stdout",
     "output_type": "stream",
     "text": [
      "Epoch at 3: Test Acc 0.6650\n",
      "Avg Metric 0.665\n",
      "\n",
      "===== Odd Layer =====\n"
     ]
    },
    {
     "name": "stderr",
     "output_type": "stream",
     "text": [
      "  0%|          | 0/939 [00:00<?, ?it/s]\n",
      " 33%|███▎      | 312/939 [01:25<03:16,  3.19it/s]"
     ]
    },
    {
     "name": "stdout",
     "output_type": "stream",
     "text": [
      "Epoch at 1: Train loss 0.2652:\n",
      "  - Loss_cls: 0.5806\n",
      "  - Loss_div: 0.1653\n",
      "  - Loss_cos: 0.0498\n"
     ]
    },
    {
     "name": "stderr",
     "output_type": "stream",
     "text": [
      " 33%|███▎      | 314/939 [01:28<07:05,  1.47it/s]"
     ]
    },
    {
     "name": "stdout",
     "output_type": "stream",
     "text": [
      "Epoch at 1: Test Acc 0.6650\n"
     ]
    },
    {
     "name": "stderr",
     "output_type": "stream",
     "text": [
      " 67%|██████▋   | 626/939 [02:54<01:11,  4.35it/s]"
     ]
    },
    {
     "name": "stdout",
     "output_type": "stream",
     "text": [
      "Epoch at 2: Train loss 0.2650:\n",
      "  - Loss_cls: 0.5806\n",
      "  - Loss_div: 0.1648\n",
      "  - Loss_cos: 0.0497\n",
      "Epoch at 2: Test Acc 0.6650\n"
     ]
    },
    {
     "name": "stderr",
     "output_type": "stream",
     "text": [
      "100%|██████████| 939/939 [04:26<00:00,  3.06it/s]"
     ]
    },
    {
     "name": "stdout",
     "output_type": "stream",
     "text": [
      "Epoch at 3: Train loss 0.2657:\n",
      "  - Loss_cls: 0.5813\n",
      "  - Loss_div: 0.1658\n",
      "  - Loss_cos: 0.0500\n"
     ]
    },
    {
     "name": "stderr",
     "output_type": "stream",
     "text": [
      "  0%|          | 0/939 [00:00<?, ?it/s]          "
     ]
    },
    {
     "name": "stdout",
     "output_type": "stream",
     "text": [
      "Epoch at 3: Test Acc 0.6650\n",
      "Avg Metric 0.665\n",
      "\n",
      "===== Even Layer =====\n"
     ]
    },
    {
     "name": "stderr",
     "output_type": "stream",
     "text": [
      "  0%|          | 0/939 [00:00<?, ?it/s]\n"
     ]
    },
    {
     "name": "stdout",
     "output_type": "stream",
     "text": [
      "Epoch at 1: Train loss 0.2651:\n",
      "  - Loss_cls: 0.5794\n",
      "  - Loss_div: 0.1660\n",
      "  - Loss_cos: 0.0500\n",
      "Epoch at 1: Test Acc 0.6650\n"
     ]
    },
    {
     "name": "stderr",
     "output_type": "stream",
     "text": []
    },
    {
     "name": "stdout",
     "output_type": "stream",
     "text": [
      "Epoch at 2: Train loss 0.2652:\n",
      "  - Loss_cls: 0.5796\n",
      "  - Loss_div: 0.1663\n",
      "  - Loss_cos: 0.0498\n",
      "Epoch at 2: Test Acc 0.6650\n"
     ]
    },
    {
     "name": "stderr",
     "output_type": "stream",
     "text": []
    },
    {
     "name": "stdout",
     "output_type": "stream",
     "text": [
      "Epoch at 3: Train loss 0.2655:\n",
      "  - Loss_cls: 0.5820\n",
      "  - Loss_div: 0.1648\n",
      "  - Loss_cos: 0.0498\n"
     ]
    },
    {
     "name": "stderr",
     "output_type": "stream",
     "text": []
    },
    {
     "name": "stdout",
     "output_type": "stream",
     "text": [
      "Epoch at 3: Test Acc 0.6650\n",
      "Avg Metric 0.665\n"
     ]
    }
   ],
   "source": [
    "import torch\n",
    "from tqdm.auto import tqdm\n",
    "\n",
    "model_scores = {}\n",
    "\n",
    "for model_name, model in models.items():\n",
    "\n",
    "    print(f\"\\n===== {model_name} =====\")\n",
    "\n",
    "    progress_bar = tqdm(range(num_training_steps))\n",
    "    eval_metrics = 0\n",
    "\n",
    "    # Lists to store losses for each epoch\n",
    "    train_losses = []\n",
    "    train_losses_cls = []\n",
    "    train_losses_div = []\n",
    "    train_losses_cos = []\n",
    "    eval_losses = []\n",
    "    eval_accuracies = []  # Added list for storing evaluation accuracies\n",
    "\n",
    "    for epoch in range(num_epochs):\n",
    "        model.train()\n",
    "        teacher_model.eval()\n",
    "        train_loss = 0\n",
    "        train_loss_cls = 0\n",
    "        train_loss_div = 0\n",
    "        train_loss_cos = 0\n",
    "        \n",
    "        for batch in train_dataloader:\n",
    "            batch = {k: v.to(device) for k, v in batch.items()}\n",
    "            # compute student output\n",
    "            outputs = model(**batch) \n",
    "            # compute teacher output\n",
    "            with torch.no_grad():\n",
    "                output_teacher = teacher_model(**batch)\n",
    "\n",
    "            # assert size\n",
    "            assert outputs.logits.size() == output_teacher.logits.size()\n",
    "            \n",
    "            # cls loss \n",
    "            loss_cls  = outputs.loss\n",
    "            train_loss_cls += loss_cls.item()\n",
    "            # distillation loss\n",
    "            loss_div = criterion_div(outputs.logits, output_teacher.logits)\n",
    "            train_loss_div += loss_div.item()\n",
    "            # cosine loss\n",
    "            loss_cos = criterion_cos(output_teacher.logits, outputs.logits, torch.ones(output_teacher.logits.size()[0]).to(device))\n",
    "            train_loss_cos += loss_cos.item()\n",
    "            \n",
    "            # Average the loss and return it\n",
    "            loss = (loss_cls + loss_div + loss_cos) / 3\n",
    "            \n",
    "            train_loss += loss.item()\n",
    "            loss.backward()\n",
    "            # accelerator.backward(loss)\n",
    "            # Step with optimizer\n",
    "            optimizer.step()\n",
    "            lr_scheduler.step()\n",
    "            optimizer.zero_grad()\n",
    "            progress_bar.update(1)\n",
    "            \n",
    "        train_losses.append(train_loss / len(train_dataloader))\n",
    "        train_losses_cls.append(train_loss_cls / len(train_dataloader))\n",
    "        train_losses_div.append(train_loss_div / len(train_dataloader))\n",
    "        train_losses_cos.append(train_loss_cos / len(train_dataloader))\n",
    "\n",
    "        print(f'Epoch at {epoch+1}: Train loss {train_loss/len(train_dataloader):.4f}:')\n",
    "        print(f'  - Loss_cls: {train_loss_cls/len(train_dataloader):.4f}')\n",
    "        print(f'  - Loss_div: {train_loss_div/len(train_dataloader):.4f}')\n",
    "        print(f'  - Loss_cos: {train_loss_cos/len(train_dataloader):.4f}')\n",
    "        \n",
    "        model.eval()\n",
    "        eval_loss = 0\n",
    "        for batch in eval_dataloader:\n",
    "            batch = {k: v.to(device) for k, v in batch.items()}\n",
    "            with torch.no_grad():\n",
    "                outputs = model(**batch)\n",
    "                \n",
    "            loss_cls = outputs.loss\n",
    "            predictions = outputs.logits.argmax(dim=-1)\n",
    "\n",
    "            eval_loss += loss_cls.item()\n",
    "            metric.add_batch(\n",
    "                predictions=predictions, \n",
    "                references=batch[\"labels\"])\n",
    "            \n",
    "        eval_metric = metric.compute()\n",
    "        eval_metrics += eval_metric['accuracy'] \n",
    "        eval_losses.append(eval_loss / len(eval_dataloader))  # Save the evaluation loss for plotting\n",
    "        eval_accuracies.append(eval_metric['accuracy'])  # Save the evaluation accuracy\n",
    "\n",
    "        print(f\"Epoch at {epoch+1}: Test Acc {eval_metric['accuracy']:.4f}\")\n",
    "        \n",
    "    print('Avg Metric', eval_metrics/num_epochs)\n",
    "\n",
    "    model_scores[model_name] = {\n",
    "        'train_losses': train_losses,\n",
    "        'train_losses_cls': train_losses_cls,\n",
    "        'train_losses_div': train_losses_div,\n",
    "        'train_losses_cos': train_losses_cos,\n",
    "        'eval_losses': eval_losses,\n",
    "        'eval_accuracies': eval_accuracies  # Include evaluation accuracies in the dictionary\n",
    "    }\n",
    "    \n",
    "    progress_bar.reset()\n"
   ]
  },
  {
   "cell_type": "code",
   "execution_count": 40,
   "metadata": {},
   "outputs": [
    {
     "name": "stdout",
     "output_type": "stream",
     "text": [
      "\n",
      "Model: Top-K Layer\n",
      "Train Loss: 0.2747\n",
      "Eval Loss: 0.8079\n",
      "Eval Accuracy: 0.6650\n",
      "\n",
      "Model: Bottom-K Layer\n",
      "Train Loss: 0.2653\n",
      "Eval Loss: 0.8079\n",
      "Eval Accuracy: 0.6650\n",
      "\n",
      "Model: Odd Layer\n",
      "Train Loss: 0.2657\n",
      "Eval Loss: 0.8079\n",
      "Eval Accuracy: 0.6650\n",
      "\n",
      "Model: Even Layer\n",
      "Train Loss: 0.2655\n",
      "Eval Loss: 0.8079\n",
      "Eval Accuracy: 0.6650\n"
     ]
    }
   ],
   "source": [
    "for model_name, scores in model_scores.items():\n",
    "    print(f\"\\nModel: {model_name}\")\n",
    "    print(f\"Train Loss: {scores['train_losses'][-1]:.4f}\")\n",
    "    print(f\"Eval Loss: {scores['eval_losses'][-1]:.4f}\")\n",
    "    print(f\"Eval Accuracy: {scores['eval_accuracies'][-1]:.4f}\")\n"
   ]
  },
  {
   "cell_type": "code",
   "execution_count": 38,
   "metadata": {},
   "outputs": [
    {
     "data": {
      "image/png": "[encoded data removed]",
      "text/plain": [
       "<Figure size 1200x600 with 1 Axes>"
      ]
     },
     "metadata": {},
     "output_type": "display_data"
    },
    {
     "data": {
      "image/png": "[encoded data removed]",
      "text/plain": [
       "<Figure size 1200x600 with 1 Axes>"
      ]
     },
     "metadata": {},
     "output_type": "display_data"
    },
    {
     "data": {
      "image/png": "[encoded data removed]",
      "text/plain": [
       "<Figure size 1200x600 with 1 Axes>"
      ]
     },
     "metadata": {},
     "output_type": "display_data"
    },
    {
     "data": {
      "image/png": "[encoded data removed]",
      "text/plain": [
       "<Figure size 1200x600 with 1 Axes>"
      ]
     },
     "metadata": {},
     "output_type": "display_data"
    }
   ],
   "source": [
    "import matplotlib.pyplot as plt\n",
    "\n",
    "# Assuming you have a list of model names\n",
    "model_names = list(model_scores.keys())\n",
    "\n",
    "# Plotting separately for each model\n",
    "for model_name in model_names:\n",
    "    scores = model_scores[model_name]\n",
    "\n",
    "    # Extracting loss lists\n",
    "    train_losses = scores['train_losses']\n",
    "    train_losses_cls = scores['train_losses_cls']\n",
    "    train_losses_div = scores['train_losses_div']\n",
    "    train_losses_cos = scores['train_losses_cos']\n",
    "    eval_losses = scores['eval_losses']\n",
    "\n",
    "    # Plotting\n",
    "    epochs_list = range(1, num_epochs + 1)\n",
    "\n",
    "    plt.figure(figsize=(12, 6))\n",
    "    plt.plot(epochs_list, train_losses, label='Total Train Loss')\n",
    "    plt.plot(epochs_list, train_losses_cls, label='Train Loss_cls')\n",
    "    plt.plot(epochs_list, train_losses_div, label='Train Loss_div')\n",
    "    plt.plot(epochs_list, train_losses_cos, label='Train Loss_cos')\n",
    "    plt.plot(epochs_list, eval_losses, label='Validation Loss')\n",
    "\n",
    "    plt.title(f'Training and Validation Losses - {model_name}')\n",
    "    plt.xlabel('Epochs')\n",
    "    plt.ylabel('Loss')\n",
    "    plt.legend()\n",
    "    plt.show()\n"
   ]
  },
  {
   "attachments": {},
   "cell_type": "markdown",
   "metadata": {},
   "source": [
    "### Appendix (Teacher Model)"
   ]
  },
  {
   "cell_type": "code",
   "execution_count": 39,
   "metadata": {},
   "outputs": [],
   "source": [
    "# import torch\n",
    "# from tqdm.auto import tqdm\n",
    "# import torch.optim as optim\n",
    "# import torch.nn as nn\n",
    "\n",
    "# lr = 5e-5\n",
    "# #training hyperparameters\n",
    "# optimizer = optim.Adam(params=teacher_model.parameters(), lr=lr)\n",
    "\n",
    "# progress_bar = tqdm(range(num_training_steps))\n",
    "# eval_metrics = 0\n",
    "\n",
    "# for epoch in range(num_epochs):\n",
    "#     teacher_model.train()\n",
    "#     train_loss = 0\n",
    "#     for step, batch in enumerate(train_dataloader):\n",
    "#         batch = {k: v.to(device) for k, v in batch.items()}\n",
    "#         output_teacher = teacher_model(**batch)\n",
    "#         # cls loss \n",
    "#         loss = output_teacher.loss\n",
    "#         train_loss += loss.item()\n",
    "#         loss.backward()\n",
    "#         # accelerator.backward(loss)\n",
    "#         # Step with optimizer\n",
    "#         optimizer.step()\n",
    "#         lr_scheduler.step()\n",
    "#         optimizer.zero_grad()\n",
    "#         progress_bar.update(1)\n",
    "\n",
    "#     print(f'Epoch at {epoch+1}: Train loss {train_loss/len(train_dataloader):.4f}:')\n",
    "    \n",
    "#     teacher_model.eval()\n",
    "#     for step, batch in enumerate(eval_dataloader):\n",
    "#         batch = {k: v.to(device) for k, v in batch.items()}\n",
    "#         with torch.no_grad():\n",
    "#             outputs = teacher_model(**batch)\n",
    "    \n",
    "#         predictions = outputs.logits.argmax(dim=-1)\n",
    "#         # predictions, references = accelerator.gather((predictions, batch[\"labels\"]))\n",
    "#         metric.add_batch(\n",
    "#             predictions=predictions, \n",
    "#             references=batch[\"labels\"])\n",
    "        \n",
    "#     eval_metric = metric.compute()\n",
    "#     eval_metrics += eval_metric['accuracy'] \n",
    "#     print(f\"Epoch at {epoch+1}: Test Acc {eval_metric['accuracy']:.4f}\")\n",
    "    \n",
    "# print('Avg Metric', eval_metrics/num_epochs)"
   ]
  },
  {
   "cell_type": "markdown",
   "metadata": {},
   "source": [
    "# Documentation\n",
    "\n",
    "## Perform a detailed evaluation of your distilled student model, analyzing the impact of the initial\n",
    " layer selection (top K layers, bottom K layers, odd layers) on its performance.\n",
    "\n",
    "\n",
    "|Student Layer         | Training Loss | Validation Loss | Validation Accuracy |\n",
    "|---------------|---------------|------------------|----------------------|\n",
    "| Top-K  Layer | 0.274         | 0.808            | 0.665                 |\n",
    "| Bottom-K Layer| 0.265        | 0.808              | 0.665                  |\n",
    "| Odd Layer     | 0.266           | 0.808          | 0.665                  |\n",
    "| Even Layer    | 0.266           | 0.808              | 0.665                  |\n",
    "\n",
    "Training Loss: The training loss is consistent across the different layer selection strategies, indicating that the models converge similarly during the training process.\n",
    "\n",
    "Validation Loss: The validation loss values are identical for all layer selection methods, suggesting that the selected layers have similar generalization capabilities on the validation set.\n",
    "\n",
    "Validation Accuracy: The validation accuracy is also consistent, reinforcing the idea that the initial layer selection strategy does not significantly affect the model's ability to make accurate predictions on unseen data.\n",
    "\n",
    "Based on these results, it seems that the choice of initial layer selection does not lead to noticeable differences in the performance metrics of your distilled student model. This finding could be beneficial as it implies that the model is robust to variations in the initial layer selection strategy.\n",
    "\n",
    "## Discuss any limitations or challenges encountered during the implementation of student distillation, specifically focusing on the analysis of how the initial layer selection affects the overall performance. Propose potential improvements or modifications to address these challenges.\n",
    "\n",
    "### Limitations and Challenges:\n",
    "\n",
    "Layer Importance Dynamics: The approach assumes that the importance of layers is fixed, and the selected layers from the teacher model are directly transferred to the student. However, the importance of layers may vary during the training process, leading to suboptimal knowledge transfer.\n",
    "\n",
    "Model Sensitivity: The model might be sensitive to the choice of layers initially selected, especially if the selected layers do not capture crucial features for the given task. This sensitivity can result in similar performance across different layer selections.\n",
    "\n",
    "Overfitting to Specific Layers: Depending on the dataset and task, the model might overfit to specific layers selected during distillation. This overfitting could limit the model's ability to generalize to diverse inputs.\n",
    "\n",
    "Lack of Dynamic Adaptation: The initial layer selection is static throughout the training process, which may not adapt well to changes in the model's learning dynamics. The model might benefit from dynamically adjusting the selected layers during training.\n",
    "\n",
    "### Potential Improvements:\n",
    "\n",
    "Dynamic Layer Selection: Implement a mechanism for dynamically adjusting the selected layers during training. This could involve monitoring the performance of different layers and adapting the selection strategy based on the model's learning progress.\n",
    "\n",
    "Fine-Tuning Selected Layers: Allow for fine-tuning of the selected layers during the training process. This enables the model to refine its representation based on the task-specific information present in the dataset.\n",
    "\n",
    "Ensemble Learning: Train multiple student models with different layer selections and create an ensemble. This approach helps mitigate the risk of overfitting to specific layers and improves overall model robustness.\n",
    "\n",
    "Attention Mechanisms: Integrate attention mechanisms into the distillation process. This allows the model to dynamically focus on informative parts of the teacher's representation, enhancing the knowledge transfer process.\n",
    "\n",
    "Regularization Techniques: Apply regularization techniques to prevent overfitting to specific layers. Techniques such as dropout or layer-wise regularization can promote more diverse learning across layers.\n",
    "\n",
    "By addressing these potential improvements, you can enhance the flexibility and adaptability of the student distillation process, potentially leading to improved performance across various layer selection strategies. Experimenting with these modifications and monitoring their impact on the model's generalization would provide valuable insights into optimizing the distillation process."
   ]
  },
  {
   "cell_type": "markdown",
   "metadata": {},
   "source": []
  }
 ],
 "metadata": {
  "kernelspec": {
   "display_name": "Python 3 (ipykernel)",
   "language": "python",
   "name": "python3"
  },
  "language_info": {
   "codemirror_mode": {
    "name": "ipython",
    "version": 3
   },
   "file_extension": ".py",
   "mimetype": "text/x-python",
   "name": "python",
   "nbconvert_exporter": "python",
   "pygments_lexer": "ipython3",
   "version": "3.11.8"
  }
 },
 "nbformat": 4,
 "nbformat_minor": 4
}
